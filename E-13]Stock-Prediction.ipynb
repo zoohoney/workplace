{
 "cells": [
  {
   "cell_type": "markdown",
   "id": "productive-system",
   "metadata": {},
   "source": [
    "# 프로젝트 : 주식 예측 도전!"
   ]
  },
  {
   "cell_type": "markdown",
   "id": "affected-yield",
   "metadata": {},
   "source": [
    "### Step 1. 시계열 데이터 준비"
   ]
  },
  {
   "cell_type": "markdown",
   "id": "opening-mistake",
   "metadata": {},
   "source": [
    "#### 칼럼 종류: Date, Open, High, Low, Close, Adj Close, Volume\n",
    "#### 날짜별로 시작가(Open), 최고가(High), 최저가(Low), 종가(Close), 수정종가(Adj Close), 거래량(Volume)이 저장되어 있는 것을 확인할 수 있지만, 우리는 Close만 사용하겠습니다. (주식 시장은 정해진 시간 동안만 거래가 가능합니다. 종가란 하루의 장이 마감하였을 때의 가격입니다.)"
   ]
  },
  {
   "cell_type": "markdown",
   "id": "valuable-porter",
   "metadata": {},
   "source": [
    "### Step 2. 각종 전처리 "
   ]
  },
  {
   "cell_type": "markdown",
   "id": "widespread-certification",
   "metadata": {},
   "source": [
    "#### 결측치 처리 \n",
    "#### 로그 변환"
   ]
  },
  {
   "cell_type": "markdown",
   "id": "sapphire-issue",
   "metadata": {},
   "source": [
    "### Step 3. 시계열 안정성 분석"
   ]
  },
  {
   "cell_type": "markdown",
   "id": "pressing-vertical",
   "metadata": {},
   "source": [
    "-정성적 그래프 분석\n",
    "-정량적 Augmented Dicky-Fuller Test\n",
    "-시계열 분해(Time Series Decomposition)\n",
    "-Residual 안정성 확인"
   ]
  },
  {
   "cell_type": "markdown",
   "id": "collectible-importance",
   "metadata": {},
   "source": [
    "### Step 4. 학습, 테스트 데이터셋 생성"
   ]
  },
  {
   "cell_type": "markdown",
   "id": "apparent-pixel",
   "metadata": {},
   "source": [
    "#### 학습, 테스트 데이터셋 분리"
   ]
  },
  {
   "cell_type": "markdown",
   "id": "frank-forum",
   "metadata": {},
   "source": [
    "### Step 5. 적정 ARIMA모수 찾기"
   ]
  },
  {
   "cell_type": "markdown",
   "id": "latest-martial",
   "metadata": {},
   "source": [
    "#### ACF, PACF 그려보기 -> p,q 구하기\n",
    "#### 차분 안정성 확인 -> d 구하기"
   ]
  },
  {
   "cell_type": "markdown",
   "id": "static-hunger",
   "metadata": {},
   "source": [
    "### Step 6. ARIMA 모델 훈련과 테스트"
   ]
  },
  {
   "cell_type": "markdown",
   "id": "posted-documentation",
   "metadata": {},
   "source": [
    "#### ARIMA 모델 빌드와 훈련\n",
    "#### 모델 테스트 및 플로팅\n",
    "#### 최종 예측 모델 정확도 측정(MAPE)"
   ]
  },
  {
   "cell_type": "markdown",
   "id": "periodic-parade",
   "metadata": {},
   "source": [
    "### Step 7. 다른 주식 종목 예측"
   ]
  },
  {
   "cell_type": "markdown",
   "id": "domestic-insider",
   "metadata": {},
   "source": []
  },
  {
   "cell_type": "markdown",
   "id": "ranging-malawi",
   "metadata": {},
   "source": []
  },
  {
   "cell_type": "markdown",
   "id": "mineral-karaoke",
   "metadata": {},
   "source": []
  },
  {
   "cell_type": "markdown",
   "id": "social-albuquerque",
   "metadata": {},
   "source": []
  },
  {
   "cell_type": "markdown",
   "id": "injured-sleeping",
   "metadata": {},
   "source": []
  },
  {
   "cell_type": "markdown",
   "id": "shaped-terrace",
   "metadata": {},
   "source": []
  },
  {
   "cell_type": "markdown",
   "id": "equipped-socket",
   "metadata": {},
   "source": []
  },
  {
   "cell_type": "markdown",
   "id": "existing-amount",
   "metadata": {},
   "source": [
    "# 프로젝트를 마치며..."
   ]
  },
  {
   "cell_type": "markdown",
   "id": "permanent-aside",
   "metadata": {},
   "source": []
  }
 ],
 "metadata": {
  "kernelspec": {
   "display_name": "aiffel",
   "language": "python",
   "name": "aiffel"
  },
  "language_info": {
   "codemirror_mode": {
    "name": "ipython",
    "version": 3
   },
   "file_extension": ".py",
   "mimetype": "text/x-python",
   "name": "python",
   "nbconvert_exporter": "python",
   "pygments_lexer": "ipython3",
   "version": "3.7.9"
  },
  "toc": {
   "base_numbering": 1,
   "nav_menu": {},
   "number_sections": true,
   "sideBar": true,
   "skip_h1_title": false,
   "title_cell": "Table of Contents",
   "title_sidebar": "Contents",
   "toc_cell": false,
   "toc_position": {},
   "toc_section_display": true,
   "toc_window_display": false
  }
 },
 "nbformat": 4,
 "nbformat_minor": 5
}
