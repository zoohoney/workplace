{
 "cells": [
  {
   "cell_type": "markdown",
   "id": "seeing-arnold",
   "metadata": {},
   "source": [
    "# 프로젝트 : 한국어 챗봇 만들기"
   ]
  },
  {
   "cell_type": "markdown",
   "id": "precious-satellite",
   "metadata": {},
   "source": []
  },
  {
   "cell_type": "markdown",
   "id": "false-closer",
   "metadata": {},
   "source": []
  },
  {
   "cell_type": "markdown",
   "id": "fossil-chess",
   "metadata": {},
   "source": []
  },
  {
   "cell_type": "markdown",
   "id": "following-mixture",
   "metadata": {},
   "source": []
  },
  {
   "cell_type": "markdown",
   "id": "retained-pennsylvania",
   "metadata": {},
   "source": []
  },
  {
   "cell_type": "markdown",
   "id": "prerequisite-bride",
   "metadata": {},
   "source": []
  },
  {
   "cell_type": "markdown",
   "id": "impressed-safety",
   "metadata": {},
   "source": []
  },
  {
   "cell_type": "markdown",
   "id": "framed-modern",
   "metadata": {},
   "source": []
  },
  {
   "cell_type": "markdown",
   "id": "bibliographic-pollution",
   "metadata": {},
   "source": []
  },
  {
   "cell_type": "markdown",
   "id": "superb-sending",
   "metadata": {},
   "source": []
  },
  {
   "cell_type": "markdown",
   "id": "removable-firewall",
   "metadata": {},
   "source": []
  },
  {
   "cell_type": "markdown",
   "id": "individual-preparation",
   "metadata": {},
   "source": []
  },
  {
   "cell_type": "markdown",
   "id": "defined-breed",
   "metadata": {},
   "source": []
  }
 ],
 "metadata": {
  "kernelspec": {
   "display_name": "aiffel",
   "language": "python",
   "name": "aiffel"
  },
  "language_info": {
   "codemirror_mode": {
    "name": "ipython",
    "version": 3
   },
   "file_extension": ".py",
   "mimetype": "text/x-python",
   "name": "python",
   "nbconvert_exporter": "python",
   "pygments_lexer": "ipython3",
   "version": "3.7.9"
  },
  "toc": {
   "base_numbering": 1,
   "nav_menu": {},
   "number_sections": true,
   "sideBar": true,
   "skip_h1_title": false,
   "title_cell": "Table of Contents",
   "title_sidebar": "Contents",
   "toc_cell": false,
   "toc_position": {},
   "toc_section_display": true,
   "toc_window_display": false
  }
 },
 "nbformat": 4,
 "nbformat_minor": 5
}
