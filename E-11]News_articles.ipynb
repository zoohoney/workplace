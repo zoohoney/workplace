{
 "cells": [
  {
   "cell_type": "markdown",
   "id": "severe-monitoring",
   "metadata": {},
   "source": [
    "# 프로젝트 : 뉴스 기사 요약"
   ]
  },
  {
   "cell_type": "markdown",
   "id": "arabic-doubt",
   "metadata": {},
   "source": [
    "## Step1. 뉴스기사 데이터 수집 및 확인"
   ]
  },
  {
   "cell_type": "code",
   "execution_count": 1,
   "id": "interim-context",
   "metadata": {},
   "outputs": [],
   "source": [
    "import nltk\n",
    "import numpy as np\n",
    "import pandas as pd\n",
    "import os\n",
    "import re\n",
    "import matplotlib.pyplot as plt\n",
    "from nltk.corpus import stopwords\n",
    "from bs4 import BeautifulSoup \n",
    "from tensorflow.keras.preprocessing.text import Tokenizer \n",
    "from tensorflow.keras.preprocessing.sequence import pad_sequences\n",
    "import urllib.request\n",
    "data = pd.read_csv('news_summary_more.csv', encoding='iso-8859-1')"
   ]
  },
  {
   "cell_type": "code",
   "execution_count": 2,
   "id": "center-berry",
   "metadata": {},
   "outputs": [
    {
     "data": {
      "text/html": [
       "<div>\n",
       "<style scoped>\n",
       "    .dataframe tbody tr th:only-of-type {\n",
       "        vertical-align: middle;\n",
       "    }\n",
       "\n",
       "    .dataframe tbody tr th {\n",
       "        vertical-align: top;\n",
       "    }\n",
       "\n",
       "    .dataframe thead th {\n",
       "        text-align: right;\n",
       "    }\n",
       "</style>\n",
       "<table border=\"1\" class=\"dataframe\">\n",
       "  <thead>\n",
       "    <tr style=\"text-align: right;\">\n",
       "      <th></th>\n",
       "      <th>headlines</th>\n",
       "      <th>text</th>\n",
       "    </tr>\n",
       "  </thead>\n",
       "  <tbody>\n",
       "    <tr>\n",
       "      <th>48242</th>\n",
       "      <td>India hopes to see independent Palestine state...</td>\n",
       "      <td>During his visit to Palestine, PM Narendra Mod...</td>\n",
       "    </tr>\n",
       "    <tr>\n",
       "      <th>49959</th>\n",
       "      <td>BJP backs out from declaration to not contest ...</td>\n",
       "      <td>The BJP has backed out from a joint declaratio...</td>\n",
       "    </tr>\n",
       "    <tr>\n",
       "      <th>53751</th>\n",
       "      <td>64 applications filed for Russian presidency bid</td>\n",
       "      <td>As many as 64 applications have been filed wit...</td>\n",
       "    </tr>\n",
       "    <tr>\n",
       "      <th>39034</th>\n",
       "      <td>Jack Ma's Ant Financial's valuation now twice ...</td>\n",
       "      <td>Jack Ma-led Alibaba's affiliate Ant Financial ...</td>\n",
       "    </tr>\n",
       "    <tr>\n",
       "      <th>39150</th>\n",
       "      <td>15 cases of fire reported across Railways in f...</td>\n",
       "      <td>A letter sent by the Railway Board to zonal Ge...</td>\n",
       "    </tr>\n",
       "    <tr>\n",
       "      <th>28918</th>\n",
       "      <td>What caused Delhi's massive fire &amp; why has it ...</td>\n",
       "      <td>A massive fire broke out at a rubber factory's...</td>\n",
       "    </tr>\n",
       "    <tr>\n",
       "      <th>75311</th>\n",
       "      <td>Independence Day events in UP madrasas to be ...</td>\n",
       "      <td>The hoisting of National Flag, singing of Nati...</td>\n",
       "    </tr>\n",
       "    <tr>\n",
       "      <th>64550</th>\n",
       "      <td>Andhra capital work not started despite its la...</td>\n",
       "      <td>Work on Andhra Pradesh's new capital Amaravati...</td>\n",
       "    </tr>\n",
       "    <tr>\n",
       "      <th>57376</th>\n",
       "      <td>Startup develops urinal that serves ads while ...</td>\n",
       "      <td>Netherlands-based startup Mr. Friendly has dev...</td>\n",
       "    </tr>\n",
       "    <tr>\n",
       "      <th>37595</th>\n",
       "      <td>Russia warns US against deploying 'Space Force'</td>\n",
       "      <td>After US President Donald Trump ordered the De...</td>\n",
       "    </tr>\n",
       "  </tbody>\n",
       "</table>\n",
       "</div>"
      ],
      "text/plain": [
       "                                               headlines  \\\n",
       "48242  India hopes to see independent Palestine state...   \n",
       "49959  BJP backs out from declaration to not contest ...   \n",
       "53751   64 applications filed for Russian presidency bid   \n",
       "39034  Jack Ma's Ant Financial's valuation now twice ...   \n",
       "39150  15 cases of fire reported across Railways in f...   \n",
       "28918  What caused Delhi's massive fire & why has it ...   \n",
       "75311   Independence Day events in UP madrasas to be ...   \n",
       "64550  Andhra capital work not started despite its la...   \n",
       "57376  Startup develops urinal that serves ads while ...   \n",
       "37595    Russia warns US against deploying 'Space Force'   \n",
       "\n",
       "                                                    text  \n",
       "48242  During his visit to Palestine, PM Narendra Mod...  \n",
       "49959  The BJP has backed out from a joint declaratio...  \n",
       "53751  As many as 64 applications have been filed wit...  \n",
       "39034  Jack Ma-led Alibaba's affiliate Ant Financial ...  \n",
       "39150  A letter sent by the Railway Board to zonal Ge...  \n",
       "28918  A massive fire broke out at a rubber factory's...  \n",
       "75311  The hoisting of National Flag, singing of Nati...  \n",
       "64550  Work on Andhra Pradesh's new capital Amaravati...  \n",
       "57376  Netherlands-based startup Mr. Friendly has dev...  \n",
       "37595  After US President Donald Trump ordered the De...  "
      ]
     },
     "execution_count": 2,
     "metadata": {},
     "output_type": "execute_result"
    }
   ],
   "source": [
    "data.sample(10)"
   ]
  },
  {
   "cell_type": "code",
   "execution_count": 3,
   "id": "positive-vietnam",
   "metadata": {},
   "outputs": [
    {
     "name": "stdout",
     "output_type": "stream",
     "text": [
      "text 열 샘플의 수 : 98401\n",
      "headlines 열 샘플의 수 : 98401\n",
      "전체 샘플수 : 98401\n"
     ]
    }
   ],
   "source": [
    "print('text 열 샘플의 수 :', len(data['text']))\n",
    "print('headlines 열 샘플의 수 :', len(data['headlines']))\n",
    "print('전체 샘플수 :',(len(data)))"
   ]
  },
  {
   "cell_type": "code",
   "execution_count": 4,
   "id": "central-enclosure",
   "metadata": {},
   "outputs": [
    {
     "data": {
      "text/html": [
       "<div>\n",
       "<style scoped>\n",
       "    .dataframe tbody tr th:only-of-type {\n",
       "        vertical-align: middle;\n",
       "    }\n",
       "\n",
       "    .dataframe tbody tr th {\n",
       "        vertical-align: top;\n",
       "    }\n",
       "\n",
       "    .dataframe thead th {\n",
       "        text-align: right;\n",
       "    }\n",
       "</style>\n",
       "<table border=\"1\" class=\"dataframe\">\n",
       "  <thead>\n",
       "    <tr style=\"text-align: right;\">\n",
       "      <th></th>\n",
       "      <th>headlines</th>\n",
       "      <th>text</th>\n",
       "    </tr>\n",
       "  </thead>\n",
       "  <tbody>\n",
       "    <tr>\n",
       "      <th>0</th>\n",
       "      <td>upGrad learner switches to career in ML &amp; Al w...</td>\n",
       "      <td>Saurav Kant, an alumnus of upGrad and IIIT-B's...</td>\n",
       "    </tr>\n",
       "    <tr>\n",
       "      <th>1</th>\n",
       "      <td>Delhi techie wins free food from Swiggy for on...</td>\n",
       "      <td>Kunal Shah's credit card bill payment platform...</td>\n",
       "    </tr>\n",
       "    <tr>\n",
       "      <th>2</th>\n",
       "      <td>New Zealand end Rohit Sharma-led India's 12-ma...</td>\n",
       "      <td>New Zealand defeated India by 8 wickets in the...</td>\n",
       "    </tr>\n",
       "    <tr>\n",
       "      <th>3</th>\n",
       "      <td>Aegon life iTerm insurance plan helps customer...</td>\n",
       "      <td>With Aegon Life iTerm Insurance plan, customer...</td>\n",
       "    </tr>\n",
       "    <tr>\n",
       "      <th>4</th>\n",
       "      <td>Have known Hirani for yrs, what if MeToo claim...</td>\n",
       "      <td>Speaking about the sexual harassment allegatio...</td>\n",
       "    </tr>\n",
       "  </tbody>\n",
       "</table>\n",
       "</div>"
      ],
      "text/plain": [
       "                                           headlines  \\\n",
       "0  upGrad learner switches to career in ML & Al w...   \n",
       "1  Delhi techie wins free food from Swiggy for on...   \n",
       "2  New Zealand end Rohit Sharma-led India's 12-ma...   \n",
       "3  Aegon life iTerm insurance plan helps customer...   \n",
       "4  Have known Hirani for yrs, what if MeToo claim...   \n",
       "\n",
       "                                                text  \n",
       "0  Saurav Kant, an alumnus of upGrad and IIIT-B's...  \n",
       "1  Kunal Shah's credit card bill payment platform...  \n",
       "2  New Zealand defeated India by 8 wickets in the...  \n",
       "3  With Aegon Life iTerm Insurance plan, customer...  \n",
       "4  Speaking about the sexual harassment allegatio...  "
      ]
     },
     "execution_count": 4,
     "metadata": {},
     "output_type": "execute_result"
    }
   ],
   "source": [
    "data.head()"
   ]
  },
  {
   "cell_type": "markdown",
   "id": "criminal-worst",
   "metadata": {},
   "source": [
    "## Step2. 데이터 전처리(추상)"
   ]
  },
  {
   "cell_type": "markdown",
   "id": "identical-forestry",
   "metadata": {},
   "source": [
    "#### 중복샘플 유무 확인하기"
   ]
  },
  {
   "cell_type": "code",
   "execution_count": 5,
   "id": "opening-probability",
   "metadata": {
    "scrolled": true
   },
   "outputs": [
    {
     "name": "stdout",
     "output_type": "stream",
     "text": [
      "headlines 열에서 중복을 배제한 유일한 샘플의 수 : 98280\n",
      "text 열에서 중복을 배제한 유일한 샘플의 수 : 98360\n"
     ]
    }
   ],
   "source": [
    "print('headlines 열에서 중복을 배제한 유일한 샘플의 수 :', data['headlines'].nunique())\n",
    "print('text 열에서 중복을 배제한 유일한 샘플의 수 :', data['text'].nunique())"
   ]
  },
  {
   "cell_type": "markdown",
   "id": "verbal-ottawa",
   "metadata": {},
   "source": [
    "#### 중복데이터 제거"
   ]
  },
  {
   "cell_type": "code",
   "execution_count": 6,
   "id": "billion-toolbox",
   "metadata": {},
   "outputs": [
    {
     "name": "stdout",
     "output_type": "stream",
     "text": [
      "전체 샘플수 : 98360\n"
     ]
    }
   ],
   "source": [
    "data.drop_duplicates(subset = ['text'], inplace = True)\n",
    "print('전체 샘플수 :',(len(data)))"
   ]
  },
  {
   "cell_type": "markdown",
   "id": "cleared-franchise",
   "metadata": {},
   "source": [
    "#### 데이터 내부 Null 유무"
   ]
  },
  {
   "cell_type": "code",
   "execution_count": 7,
   "id": "pressing-roads",
   "metadata": {},
   "outputs": [
    {
     "name": "stdout",
     "output_type": "stream",
     "text": [
      "headlines    0\n",
      "text         0\n",
      "dtype: int64\n"
     ]
    }
   ],
   "source": [
    "print(data.isnull().sum())"
   ]
  },
  {
   "cell_type": "code",
   "execution_count": 8,
   "id": "olympic-services",
   "metadata": {},
   "outputs": [
    {
     "name": "stdout",
     "output_type": "stream",
     "text": [
      "전체 샘플수 : 98360\n"
     ]
    }
   ],
   "source": [
    "data.dropna(axis = 0, inplace = True)\n",
    "print('전체 샘플수 :',(len(data)))"
   ]
  },
  {
   "cell_type": "code",
   "execution_count": 9,
   "id": "pending-opera",
   "metadata": {},
   "outputs": [
    {
     "name": "stdout",
     "output_type": "stream",
     "text": [
      "정규화 사전의 수:  120\n"
     ]
    }
   ],
   "source": [
    "contractions = {\"ain't\": \"is not\", \"aren't\": \"are not\",\"can't\": \"cannot\", \"'cause\": \"because\", \"could've\": \"could have\", \"couldn't\": \"could not\",\n",
    "                           \"didn't\": \"did not\",  \"doesn't\": \"does not\", \"don't\": \"do not\", \"hadn't\": \"had not\", \"hasn't\": \"has not\", \"haven't\": \"have not\",\n",
    "                           \"he'd\": \"he would\",\"he'll\": \"he will\", \"he's\": \"he is\", \"how'd\": \"how did\", \"how'd'y\": \"how do you\", \"how'll\": \"how will\", \"how's\": \"how is\",\n",
    "                           \"I'd\": \"I would\", \"I'd've\": \"I would have\", \"I'll\": \"I will\", \"I'll've\": \"I will have\",\"I'm\": \"I am\", \"I've\": \"I have\", \"i'd\": \"i would\",\n",
    "                           \"i'd've\": \"i would have\", \"i'll\": \"i will\",  \"i'll've\": \"i will have\",\"i'm\": \"i am\", \"i've\": \"i have\", \"isn't\": \"is not\", \"it'd\": \"it would\",\n",
    "                           \"it'd've\": \"it would have\", \"it'll\": \"it will\", \"it'll've\": \"it will have\",\"it's\": \"it is\", \"let's\": \"let us\", \"ma'am\": \"madam\",\n",
    "                           \"mayn't\": \"may not\", \"might've\": \"might have\",\"mightn't\": \"might not\",\"mightn't've\": \"might not have\", \"must've\": \"must have\",\n",
    "                           \"mustn't\": \"must not\", \"mustn't've\": \"must not have\", \"needn't\": \"need not\", \"needn't've\": \"need not have\",\"o'clock\": \"of the clock\",\n",
    "                           \"oughtn't\": \"ought not\", \"oughtn't've\": \"ought not have\", \"shan't\": \"shall not\", \"sha'n't\": \"shall not\", \"shan't've\": \"shall not have\",\n",
    "                           \"she'd\": \"she would\", \"she'd've\": \"she would have\", \"she'll\": \"she will\", \"she'll've\": \"she will have\", \"she's\": \"she is\",\n",
    "                           \"should've\": \"should have\", \"shouldn't\": \"should not\", \"shouldn't've\": \"should not have\", \"so've\": \"so have\",\"so's\": \"so as\",\n",
    "                           \"this's\": \"this is\",\"that'd\": \"that would\", \"that'd've\": \"that would have\", \"that's\": \"that is\", \"there'd\": \"there would\",\n",
    "                           \"there'd've\": \"there would have\", \"there's\": \"there is\", \"here's\": \"here is\",\"they'd\": \"they would\", \"they'd've\": \"they would have\",\n",
    "                           \"they'll\": \"they will\", \"they'll've\": \"they will have\", \"they're\": \"they are\", \"they've\": \"they have\", \"to've\": \"to have\",\n",
    "                           \"wasn't\": \"was not\", \"we'd\": \"we would\", \"we'd've\": \"we would have\", \"we'll\": \"we will\", \"we'll've\": \"we will have\", \"we're\": \"we are\",\n",
    "                           \"we've\": \"we have\", \"weren't\": \"were not\", \"what'll\": \"what will\", \"what'll've\": \"what will have\", \"what're\": \"what are\",\n",
    "                           \"what's\": \"what is\", \"what've\": \"what have\", \"when's\": \"when is\", \"when've\": \"when have\", \"where'd\": \"where did\", \"where's\": \"where is\",\n",
    "                           \"where've\": \"where have\", \"who'll\": \"who will\", \"who'll've\": \"who will have\", \"who's\": \"who is\", \"who've\": \"who have\",\n",
    "                           \"why's\": \"why is\", \"why've\": \"why have\", \"will've\": \"will have\", \"won't\": \"will not\", \"won't've\": \"will not have\",\n",
    "                           \"would've\": \"would have\", \"wouldn't\": \"would not\", \"wouldn't've\": \"would not have\", \"y'all\": \"you all\",\n",
    "                           \"y'all'd\": \"you all would\",\"y'all'd've\": \"you all would have\",\"y'all're\": \"you all are\",\"y'all've\": \"you all have\",\n",
    "                           \"you'd\": \"you would\", \"you'd've\": \"you would have\", \"you'll\": \"you will\", \"you'll've\": \"you will have\",\n",
    "                           \"you're\": \"you are\", \"you've\": \"you have\"}\n",
    "\n",
    "print(\"정규화 사전의 수: \",len(contractions))"
   ]
  },
  {
   "cell_type": "code",
   "execution_count": 10,
   "id": "aboriginal-arthur",
   "metadata": {},
   "outputs": [
    {
     "name": "stdout",
     "output_type": "stream",
     "text": [
      "불용어 개수 : 179\n",
      "['i', 'me', 'my', 'myself', 'we', 'our', 'ours', 'ourselves', 'you', \"you're\", \"you've\", \"you'll\", \"you'd\", 'your', 'yours', 'yourself', 'yourselves', 'he', 'him', 'his', 'himself', 'she', \"she's\", 'her', 'hers', 'herself', 'it', \"it's\", 'its', 'itself', 'they', 'them', 'their', 'theirs', 'themselves', 'what', 'which', 'who', 'whom', 'this', 'that', \"that'll\", 'these', 'those', 'am', 'is', 'are', 'was', 'were', 'be', 'been', 'being', 'have', 'has', 'had', 'having', 'do', 'does', 'did', 'doing', 'a', 'an', 'the', 'and', 'but', 'if', 'or', 'because', 'as', 'until', 'while', 'of', 'at', 'by', 'for', 'with', 'about', 'against', 'between', 'into', 'through', 'during', 'before', 'after', 'above', 'below', 'to', 'from', 'up', 'down', 'in', 'out', 'on', 'off', 'over', 'under', 'again', 'further', 'then', 'once', 'here', 'there', 'when', 'where', 'why', 'how', 'all', 'any', 'both', 'each', 'few', 'more', 'most', 'other', 'some', 'such', 'no', 'nor', 'not', 'only', 'own', 'same', 'so', 'than', 'too', 'very', 's', 't', 'can', 'will', 'just', 'don', \"don't\", 'should', \"should've\", 'now', 'd', 'll', 'm', 'o', 're', 've', 'y', 'ain', 'aren', \"aren't\", 'couldn', \"couldn't\", 'didn', \"didn't\", 'doesn', \"doesn't\", 'hadn', \"hadn't\", 'hasn', \"hasn't\", 'haven', \"haven't\", 'isn', \"isn't\", 'ma', 'mightn', \"mightn't\", 'mustn', \"mustn't\", 'needn', \"needn't\", 'shan', \"shan't\", 'shouldn', \"shouldn't\", 'wasn', \"wasn't\", 'weren', \"weren't\", 'won', \"won't\", 'wouldn', \"wouldn't\"]\n"
     ]
    }
   ],
   "source": [
    "print('불용어 개수 :', len(stopwords.words('english') ))\n",
    "print(stopwords.words('english'))"
   ]
  },
  {
   "cell_type": "code",
   "execution_count": 11,
   "id": "rolled-baker",
   "metadata": {},
   "outputs": [],
   "source": [
    "#데이터 전처리 함수\n",
    "def preprocess_sentence(sentence, remove_stopwords=True):\n",
    "    sentence = sentence.lower() # 텍스트 소문자화\n",
    "    sentence = BeautifulSoup(sentence, \"lxml\").text # <br />, <a href = ...> 등의 html 태그 제거\n",
    "    sentence = re.sub(r'\\([^)]*\\)', '', sentence) # 괄호로 닫힌 문자열 (...) 제거 Ex) my husband (and myself!) for => my husband for\n",
    "    sentence = re.sub('\"','', sentence) # 쌍따옴표 \" 제거\n",
    "    sentence = ' '.join([contractions[t] if t in contractions else t for t in sentence.split(\" \")]) # 약어 정규화\n",
    "    sentence = re.sub(r\"'s\\b\",\"\",sentence) # 소유격 제거. Ex) roland's -> roland\n",
    "    sentence = re.sub(\"[^a-zA-Z]\", \" \", sentence) # 영어 외 문자(숫자, 특수문자 등) 공백으로 변환\n",
    "    sentence = re.sub('[m]{2,}', 'mm', sentence) # m이 3개 이상이면 2개로 변경. Ex) ummmmmmm yeah -> umm yeah\n",
    "    \n",
    "    # 불용어 제거 (Text)\n",
    "    if remove_stopwords:\n",
    "        tokens = ' '.join(word for word in sentence.split() if not word in stopwords.words('english') if len(word) > 1)\n",
    "    # 불용어 미제거 (Summary)\n",
    "    else:\n",
    "        tokens = ' '.join(word for word in sentence.split() if len(word) > 1)\n",
    "    return tokens"
   ]
  },
  {
   "cell_type": "markdown",
   "id": "behavioral-bryan",
   "metadata": {},
   "source": [
    "#### 데이터 전후 확인 해보기"
   ]
  },
  {
   "cell_type": "code",
   "execution_count": 12,
   "id": "saving-announcement",
   "metadata": {},
   "outputs": [
    {
     "name": "stdout",
     "output_type": "stream",
     "text": [
      "everything bought great infact ordered twice third ordered wasfor mother father\n",
      "great way to start the day\n"
     ]
    }
   ],
   "source": [
    "temp_text = 'Everything I bought was great, infact I ordered twice and the third ordered was<br />for my mother and father.'\n",
    "temp_headlines = 'Great way to start (or finish) the day!!!'\n",
    "\n",
    "print(preprocess_sentence(temp_text))\n",
    "print(preprocess_sentence(temp_headlines, False))  # 불용어를 제거하지 않습니다."
   ]
  },
  {
   "cell_type": "code",
   "execution_count": 13,
   "id": "immediate-lebanon",
   "metadata": {},
   "outputs": [
    {
     "data": {
      "text/plain": [
       "['saurav kant alumnus upgrad iiit pg program machine learning artificial intelligence sr systems engineer infosys almost years work experience program upgrad degree career support helped transition data scientist tech mahindra salary hike upgrad online power learning powered lakh careers',\n",
       " 'kunal shah credit card bill payment platform cred gave users chance win free food swiggy one year pranav kaushik delhi techie bagged reward spending cred coins users get one cred coin per rupee bill paid used avail rewards brands like ixigo bookmyshow ubereats cult fit',\n",
       " 'new zealand defeated india wickets fourth odi hamilton thursday win first match five match odi series india lost international match rohit sharma captaincy consecutive victories dating back march match witnessed india getting seventh lowest total odi cricket history',\n",
       " 'aegon life iterm insurance plan customers enjoy tax benefits premiums paid save taxes plan provides life cover age years also customers options insure critical illnesses disability accidental death benefit rider life cover age years',\n",
       " 'speaking sexual harassment allegations rajkumar hirani sonam kapoor said known hirani many years true metoo movement get derailed metoo movement always believe woman case need reserve judgment added hirani accused assistant worked sanju']"
      ]
     },
     "execution_count": 13,
     "metadata": {},
     "output_type": "execute_result"
    }
   ],
   "source": [
    "clean_text = []\n",
    "\n",
    "# 전체 Text 데이터에 대한 전처리 : 10분 이상 시간이 걸릴 수 있습니다. \n",
    "for s in data['text']:\n",
    "    clean_text.append(preprocess_sentence(s))\n",
    "\n",
    "# 전처리 후 출력\n",
    "clean_text[:5]"
   ]
  },
  {
   "cell_type": "code",
   "execution_count": 14,
   "id": "compound-joyce",
   "metadata": {},
   "outputs": [
    {
     "data": {
      "text/plain": [
       "['upgrad learner switches to career in ml al with salary hike',\n",
       " 'delhi techie wins free food from swiggy for one year on cred',\n",
       " 'new zealand end rohit sharma led india match winning streak',\n",
       " 'aegon life iterm insurance plan helps customers save tax',\n",
       " 'have known hirani for yrs what if metoo claims are not true sonam']"
      ]
     },
     "execution_count": 14,
     "metadata": {},
     "output_type": "execute_result"
    }
   ],
   "source": [
    "clean_headlines = []\n",
    "\n",
    "# 전체 headlines 데이터에 대한 전처리 : 5분 이상 시간이 걸릴 수 있습니다. \n",
    "for s in data['headlines']:\n",
    "    clean_headlines.append(preprocess_sentence(s, False))\n",
    "\n",
    "clean_headlines[:5]"
   ]
  },
  {
   "cell_type": "code",
   "execution_count": 15,
   "id": "cordless-diamond",
   "metadata": {},
   "outputs": [],
   "source": [
    "data['text'] = clean_text\n",
    "data['headlines'] = clean_headlines\n",
    "\n",
    "# 빈 값을 Null 값으로 변환\n",
    "data.replace('', np.nan, inplace=True)"
   ]
  },
  {
   "cell_type": "code",
   "execution_count": 16,
   "id": "authentic-controversy",
   "metadata": {},
   "outputs": [
    {
     "data": {
      "text/plain": [
       "headlines    0\n",
       "text         0\n",
       "dtype: int64"
      ]
     },
     "execution_count": 16,
     "metadata": {},
     "output_type": "execute_result"
    }
   ],
   "source": [
    "data.isnull().sum()"
   ]
  },
  {
   "cell_type": "code",
   "execution_count": null,
   "id": "handmade-chase",
   "metadata": {},
   "outputs": [],
   "source": [
    "# data.dropna(axis=0, inplace=True)\n",
    "# print('전체 샘플수 :',(len(data)))#데이터 전처리 함수"
   ]
  },
  {
   "cell_type": "markdown",
   "id": "ordered-tolerance",
   "metadata": {},
   "source": [
    "#### 샘플의 길이 조정 및 시각화"
   ]
  },
  {
   "cell_type": "code",
   "execution_count": 18,
   "id": "designing-breeding",
   "metadata": {},
   "outputs": [
    {
     "name": "stdout",
     "output_type": "stream",
     "text": [
      "텍스트의 최소 길이 : 1\n",
      "텍스트의 최대 길이 : 60\n",
      "텍스트의 평균 길이 : 35.09968483123221\n",
      "요약의 최소 길이 : 1\n",
      "요약의 최대 길이 : 16\n",
      "요약의 평균 길이 : 9.299532330215534\n"
     ]
    },
    {
     "data": {
      "image/png": "[encoded data removed]",
      "text/plain": [
       "<Figure size 432x288 with 2 Axes>"
      ]
     },
     "metadata": {
      "needs_background": "light"
     },
     "output_type": "display_data"
    },
    {
     "data": {
      "image/png": "[encoded data removed]",
      "text/plain": [
       "<Figure size 432x288 with 1 Axes>"
      ]
     },
     "metadata": {
      "needs_background": "light"
     },
     "output_type": "display_data"
    },
    {
     "data": {
      "image/png": "[encoded data removed]",
      "text/plain": [
       "<Figure size 432x288 with 1 Axes>"
      ]
     },
     "metadata": {
      "needs_background": "light"
     },
     "output_type": "display_data"
    }
   ],
   "source": [
    "# 길이 분포 출력\n",
    "text_len = [len(s.split()) for s in data['text']]\n",
    "headlines_len = [len(s.split()) for s in data['headlines']]\n",
    "\n",
    "print('텍스트의 최소 길이 : {}'.format(np.min(text_len)))\n",
    "print('텍스트의 최대 길이 : {}'.format(np.max(text_len)))\n",
    "print('텍스트의 평균 길이 : {}'.format(np.mean(text_len)))\n",
    "print('요약의 최소 길이 : {}'.format(np.min(headlines_len)))\n",
    "print('요약의 최대 길이 : {}'.format(np.max(headlines_len)))\n",
    "print('요약의 평균 길이 : {}'.format(np.mean(headlines_len)))\n",
    "\n",
    "plt.subplot(1,2,1)\n",
    "plt.boxplot(headlines_len)\n",
    "plt.title('Hedalines')\n",
    "plt.subplot(1,2,2)\n",
    "plt.boxplot(text_len)\n",
    "plt.title('Text')\n",
    "plt.tight_layout()\n",
    "plt.show()\n",
    "\n",
    "plt.title('Headlines')\n",
    "plt.hist(headlines_len, bins = 40)\n",
    "plt.xlabel('length of samples')\n",
    "plt.ylabel('number of samples')\n",
    "plt.show()\n",
    "\n",
    "plt.title('Text')\n",
    "plt.hist(text_len, bins = 40)\n",
    "plt.xlabel('length of samples')\n",
    "plt.ylabel('number of samples')\n",
    "plt.show()"
   ]
  },
  {
   "cell_type": "code",
   "execution_count": 17,
   "id": "victorian-narrative",
   "metadata": {},
   "outputs": [],
   "source": [
    "text_max_len = 59\n",
    "headlines_max_len = 10"
   ]
  },
  {
   "cell_type": "code",
   "execution_count": 19,
   "id": "regulated-roommate",
   "metadata": {},
   "outputs": [],
   "source": [
    "def below_threshold_len(max_len, nested_list):\n",
    "    cnt = 0\n",
    "    for s in nested_list:\n",
    "        if(len(s.split()) <= max_len):\n",
    "            cnt = cnt + 1\n",
    "    print('전체 샘플 중 길이가 %s 이하인 샘플의 비율: %s'%(max_len, (cnt / len(nested_list))))"
   ]
  },
  {
   "cell_type": "code",
   "execution_count": 20,
   "id": "geographic-attribute",
   "metadata": {},
   "outputs": [
    {
     "name": "stdout",
     "output_type": "stream",
     "text": [
      "전체 샘플 중 길이가 59 이하인 샘플의 비율: 0.9999898332655551\n",
      "전체 샘플 중 길이가 10 이하인 샘플의 비율: 0.8162972753151687\n"
     ]
    }
   ],
   "source": [
    "below_threshold_len(text_max_len, data['text'])\n",
    "below_threshold_len(headlines_max_len,  data['headlines'])"
   ]
  },
  {
   "cell_type": "code",
   "execution_count": 21,
   "id": "popular-somewhere",
   "metadata": {},
   "outputs": [
    {
     "name": "stdout",
     "output_type": "stream",
     "text": [
      "전체 샘플수 : 80290\n"
     ]
    }
   ],
   "source": [
    "data = data[data['text'].apply(lambda x: len(x.split()) <= text_max_len)]\n",
    "data = data[data['headlines'].apply(lambda x: len(x.split()) <= headlines_max_len)]\n",
    "print('전체 샘플수 :',(len(data)))"
   ]
  },
  {
   "cell_type": "markdown",
   "id": "confidential-atlantic",
   "metadata": {},
   "source": [
    "#### 시작 토큰과 종료 토큰 추가"
   ]
  },
  {
   "cell_type": "code",
   "execution_count": 22,
   "id": "assigned-founder",
   "metadata": {},
   "outputs": [
    {
     "data": {
      "text/html": [
       "<div>\n",
       "<style scoped>\n",
       "    .dataframe tbody tr th:only-of-type {\n",
       "        vertical-align: middle;\n",
       "    }\n",
       "\n",
       "    .dataframe tbody tr th {\n",
       "        vertical-align: top;\n",
       "    }\n",
       "\n",
       "    .dataframe thead th {\n",
       "        text-align: right;\n",
       "    }\n",
       "</style>\n",
       "<table border=\"1\" class=\"dataframe\">\n",
       "  <thead>\n",
       "    <tr style=\"text-align: right;\">\n",
       "      <th></th>\n",
       "      <th>headlines</th>\n",
       "      <th>text</th>\n",
       "      <th>decoder_input</th>\n",
       "      <th>decoder_target</th>\n",
       "    </tr>\n",
       "  </thead>\n",
       "  <tbody>\n",
       "    <tr>\n",
       "      <th>2</th>\n",
       "      <td>new zealand end rohit sharma led india match w...</td>\n",
       "      <td>new zealand defeated india wickets fourth odi ...</td>\n",
       "      <td>sostoken new zealand end rohit sharma led indi...</td>\n",
       "      <td>new zealand end rohit sharma led india match w...</td>\n",
       "    </tr>\n",
       "    <tr>\n",
       "      <th>3</th>\n",
       "      <td>aegon life iterm insurance plan helps customer...</td>\n",
       "      <td>aegon life iterm insurance plan customers enjo...</td>\n",
       "      <td>sostoken aegon life iterm insurance plan helps...</td>\n",
       "      <td>aegon life iterm insurance plan helps customer...</td>\n",
       "    </tr>\n",
       "    <tr>\n",
       "      <th>5</th>\n",
       "      <td>rahat fateh ali khan denies getting notice for...</td>\n",
       "      <td>pakistani singer rahat fateh ali khan denied r...</td>\n",
       "      <td>sostoken rahat fateh ali khan denies getting n...</td>\n",
       "      <td>rahat fateh ali khan denies getting notice for...</td>\n",
       "    </tr>\n",
       "    <tr>\n",
       "      <th>9</th>\n",
       "      <td>cong wins ramgarh bypoll in rajasthan takes to...</td>\n",
       "      <td>congress candidate shafia zubair ramgarh assem...</td>\n",
       "      <td>sostoken cong wins ramgarh bypoll in rajasthan...</td>\n",
       "      <td>cong wins ramgarh bypoll in rajasthan takes to...</td>\n",
       "    </tr>\n",
       "    <tr>\n",
       "      <th>10</th>\n",
       "      <td>up cousins fed human excreta for friendship wi...</td>\n",
       "      <td>two minor cousins uttar pradesh gorakhpur alle...</td>\n",
       "      <td>sostoken up cousins fed human excreta for frie...</td>\n",
       "      <td>up cousins fed human excreta for friendship wi...</td>\n",
       "    </tr>\n",
       "  </tbody>\n",
       "</table>\n",
       "</div>"
      ],
      "text/plain": [
       "                                            headlines  \\\n",
       "2   new zealand end rohit sharma led india match w...   \n",
       "3   aegon life iterm insurance plan helps customer...   \n",
       "5   rahat fateh ali khan denies getting notice for...   \n",
       "9   cong wins ramgarh bypoll in rajasthan takes to...   \n",
       "10  up cousins fed human excreta for friendship wi...   \n",
       "\n",
       "                                                 text  \\\n",
       "2   new zealand defeated india wickets fourth odi ...   \n",
       "3   aegon life iterm insurance plan customers enjo...   \n",
       "5   pakistani singer rahat fateh ali khan denied r...   \n",
       "9   congress candidate shafia zubair ramgarh assem...   \n",
       "10  two minor cousins uttar pradesh gorakhpur alle...   \n",
       "\n",
       "                                        decoder_input  \\\n",
       "2   sostoken new zealand end rohit sharma led indi...   \n",
       "3   sostoken aegon life iterm insurance plan helps...   \n",
       "5   sostoken rahat fateh ali khan denies getting n...   \n",
       "9   sostoken cong wins ramgarh bypoll in rajasthan...   \n",
       "10  sostoken up cousins fed human excreta for frie...   \n",
       "\n",
       "                                       decoder_target  \n",
       "2   new zealand end rohit sharma led india match w...  \n",
       "3   aegon life iterm insurance plan helps customer...  \n",
       "5   rahat fateh ali khan denies getting notice for...  \n",
       "9   cong wins ramgarh bypoll in rajasthan takes to...  \n",
       "10  up cousins fed human excreta for friendship wi...  "
      ]
     },
     "execution_count": 22,
     "metadata": {},
     "output_type": "execute_result"
    }
   ],
   "source": [
    "#요약 데이터에는 시작 토큰과 종료 토큰을 추가한다.\n",
    "data['decoder_input'] = data['headlines'].apply(lambda x : 'sostoken '+ x)\n",
    "data['decoder_target'] = data['headlines'].apply(lambda x : x + ' eostoken')\n",
    "data.head()"
   ]
  },
  {
   "cell_type": "code",
   "execution_count": 23,
   "id": "random-physiology",
   "metadata": {},
   "outputs": [],
   "source": [
    "encoder_input = np.array(data['text']) # 인코더의 입력\n",
    "decoder_input = np.array(data['decoder_input']) # 디코더의 입력\n",
    "decoder_target = np.array(data['decoder_target']) # 디코더의 레이블"
   ]
  },
  {
   "cell_type": "code",
   "execution_count": 24,
   "id": "joint-beach",
   "metadata": {},
   "outputs": [
    {
     "name": "stdout",
     "output_type": "stream",
     "text": [
      "[18420  7602  3424 ... 39692 27029 42025]\n"
     ]
    }
   ],
   "source": [
    "indices = np.arange(encoder_input.shape[0])\n",
    "np.random.shuffle(indices)\n",
    "print(indices)"
   ]
  },
  {
   "cell_type": "code",
   "execution_count": 25,
   "id": "urban-crest",
   "metadata": {},
   "outputs": [],
   "source": [
    "encoder_input = encoder_input[indices]\n",
    "decoder_input = decoder_input[indices]\n",
    "decoder_target = decoder_target[indices]"
   ]
  },
  {
   "cell_type": "code",
   "execution_count": 26,
   "id": "pharmaceutical-filter",
   "metadata": {},
   "outputs": [
    {
     "name": "stdout",
     "output_type": "stream",
     "text": [
      "테스트 데이터의 수 : 16058\n"
     ]
    }
   ],
   "source": [
    "n_of_val = int(len(encoder_input)*0.2)\n",
    "print('테스트 데이터의 수 :',n_of_val)"
   ]
  },
  {
   "cell_type": "code",
   "execution_count": 27,
   "id": "occupied-participant",
   "metadata": {},
   "outputs": [
    {
     "name": "stdout",
     "output_type": "stream",
     "text": [
      "훈련 데이터의 개수 : 64232\n",
      "훈련 레이블의 개수 : 64232\n",
      "테스트 데이터의 개수 : 16058\n",
      "테스트 레이블의 개수 : 16058\n"
     ]
    }
   ],
   "source": [
    "encoder_input_train = encoder_input[:-n_of_val]\n",
    "decoder_input_train = decoder_input[:-n_of_val]\n",
    "decoder_target_train = decoder_target[:-n_of_val]\n",
    "\n",
    "encoder_input_test = encoder_input[-n_of_val:]\n",
    "decoder_input_test = decoder_input[-n_of_val:]\n",
    "decoder_target_test = decoder_target[-n_of_val:]\n",
    "\n",
    "print('훈련 데이터의 개수 :', len(encoder_input_train))\n",
    "print('훈련 레이블의 개수 :',len(decoder_input_train))\n",
    "print('테스트 데이터의 개수 :',len(encoder_input_test))\n",
    "print('테스트 레이블의 개수 :',len(decoder_input_test))"
   ]
  },
  {
   "cell_type": "markdown",
   "id": "clinical-discount",
   "metadata": {},
   "source": [
    "#### 정수인코딩"
   ]
  },
  {
   "cell_type": "code",
   "execution_count": 28,
   "id": "everyday-slovak",
   "metadata": {},
   "outputs": [],
   "source": [
    "src_tokenizer = Tokenizer() # 토크나이저 정의\n",
    "src_tokenizer.fit_on_texts(encoder_input_train) # 입력된 데이터로부터 단어 집합 생성"
   ]
  },
  {
   "cell_type": "code",
   "execution_count": 29,
   "id": "directed-studio",
   "metadata": {},
   "outputs": [
    {
     "name": "stdout",
     "output_type": "stream",
     "text": [
      "단어 집합(vocabulary)의 크기 : 65101\n",
      "등장 빈도가 6번 이하인 희귀 단어의 수: 44704\n",
      "단어 집합에서 희귀 단어를 제외시킬 경우의 단어 집합의 크기 20397\n",
      "단어 집합에서 희귀 단어의 비율: 68.66868404479195\n",
      "전체 등장 빈도에서 희귀 단어 등장 빈도 비율: 4.003796436257118\n"
     ]
    }
   ],
   "source": [
    "threshold = 7\n",
    "total_cnt = len(src_tokenizer.word_index) # 단어의 수\n",
    "rare_cnt = 0 # 등장 빈도수가 threshold보다 작은 단어의 개수를 카운트\n",
    "total_freq = 0 # 훈련 데이터의 전체 단어 빈도수 총 합\n",
    "rare_freq = 0 # 등장 빈도수가 threshold보다 작은 단어의 등장 빈도수의 총 합\n",
    "\n",
    "# 단어와 빈도수의 쌍(pair)을 key와 value로 받는다.\n",
    "for key, value in src_tokenizer.word_counts.items():\n",
    "    total_freq = total_freq + value\n",
    "\n",
    "    # 단어의 등장 빈도수가 threshold보다 작으면\n",
    "    if(value < threshold):\n",
    "        rare_cnt = rare_cnt + 1\n",
    "        rare_freq = rare_freq + value\n",
    "\n",
    "print('단어 집합(vocabulary)의 크기 :',total_cnt)\n",
    "print('등장 빈도가 %s번 이하인 희귀 단어의 수: %s'%(threshold - 1, rare_cnt))\n",
    "print('단어 집합에서 희귀 단어를 제외시킬 경우의 단어 집합의 크기 %s'%(total_cnt - rare_cnt))\n",
    "print(\"단어 집합에서 희귀 단어의 비율:\", (rare_cnt / total_cnt)*100)\n",
    "print(\"전체 등장 빈도에서 희귀 단어 등장 빈도 비율:\", (rare_freq / total_freq)*100)"
   ]
  },
  {
   "cell_type": "code",
   "execution_count": 30,
   "id": "fourth-liberal",
   "metadata": {},
   "outputs": [],
   "source": [
    "src_vocab = 15000\n",
    "src_tokenizer = Tokenizer(num_words = src_vocab) # 단어 집합의 크기를 15,000으로 제한\n",
    "src_tokenizer.fit_on_texts(encoder_input_train) # 단어 집합 재생성."
   ]
  },
  {
   "cell_type": "code",
   "execution_count": 31,
   "id": "solid-shame",
   "metadata": {},
   "outputs": [
    {
     "name": "stdout",
     "output_type": "stream",
     "text": [
      "[[10944, 2757, 1042, 4855, 3205, 208, 19, 288, 499, 3652, 2881, 1877, 38, 27, 186, 2566, 1621, 1828, 1121, 2589, 264, 318, 4808, 3312, 73, 107, 103, 1251, 702, 549, 3205, 1762, 38], [28, 224, 116, 1347, 11279, 1, 44, 2, 116, 430, 247, 1416, 2209, 1350, 2824, 5526, 189, 99, 1000, 247, 225, 6318, 4762, 3083, 7227, 8465, 4561, 353, 3768, 2166, 2957, 254, 1416, 2209, 1350, 4, 247, 463, 112, 346, 598], [2, 1841, 288, 229, 294, 1731, 471, 859, 1452, 4504, 337, 337, 2, 1841, 288, 229, 415, 294, 3097, 1680, 1452, 2, 288, 229, 99, 294, 238, 337, 2070, 1452, 921]]\n"
     ]
    }
   ],
   "source": [
    "# 텍스트 시퀀스를 정수 시퀀스로 변환\n",
    "encoder_input_train = src_tokenizer.texts_to_sequences(encoder_input_train) \n",
    "encoder_input_test = src_tokenizer.texts_to_sequences(encoder_input_test)\n",
    "\n",
    "#잘 진행되었는지 샘플 출력\n",
    "print(encoder_input_train[:3])"
   ]
  },
  {
   "cell_type": "code",
   "execution_count": 32,
   "id": "accurate-belarus",
   "metadata": {},
   "outputs": [],
   "source": [
    "tar_tokenizer = Tokenizer()\n",
    "tar_tokenizer.fit_on_texts(decoder_input_train)"
   ]
  },
  {
   "cell_type": "code",
   "execution_count": 33,
   "id": "proud-times",
   "metadata": {},
   "outputs": [
    {
     "name": "stdout",
     "output_type": "stream",
     "text": [
      "단어 집합(vocabulary)의 크기 : 28345\n",
      "등장 빈도가 5번 이하인 희귀 단어의 수: 18836\n",
      "단어 집합에서 희귀 단어를 제외시킬 경우의 단어 집합의 크기 9509\n",
      "단어 집합에서 희귀 단어의 비율: 66.45263714940907\n",
      "전체 등장 빈도에서 희귀 단어 등장 빈도 비율: 5.689738709667204\n"
     ]
    }
   ],
   "source": [
    "threshold = 6\n",
    "total_cnt = len(tar_tokenizer.word_index) # 단어의 수\n",
    "rare_cnt = 0 # 등장 빈도수가 threshold보다 작은 단어의 개수를 카운트\n",
    "total_freq = 0 # 훈련 데이터의 전체 단어 빈도수 총 합\n",
    "rare_freq = 0 # 등장 빈도수가 threshold보다 작은 단어의 등장 빈도수의 총 합\n",
    "\n",
    "# 단어와 빈도수의 쌍(pair)을 key와 value로 받는다.\n",
    "for key, value in tar_tokenizer.word_counts.items():\n",
    "    total_freq = total_freq + value\n",
    "\n",
    "    # 단어의 등장 빈도수가 threshold보다 작으면\n",
    "    if(value < threshold):\n",
    "        rare_cnt = rare_cnt + 1\n",
    "        rare_freq = rare_freq + value\n",
    "\n",
    "print('단어 집합(vocabulary)의 크기 :',total_cnt)\n",
    "print('등장 빈도가 %s번 이하인 희귀 단어의 수: %s'%(threshold - 1, rare_cnt))\n",
    "print('단어 집합에서 희귀 단어를 제외시킬 경우의 단어 집합의 크기 %s'%(total_cnt - rare_cnt))\n",
    "print(\"단어 집합에서 희귀 단어의 비율:\", (rare_cnt / total_cnt)*100)\n",
    "print(\"전체 등장 빈도에서 희귀 단어 등장 빈도 비율:\", (rare_freq / total_freq)*100)"
   ]
  },
  {
   "cell_type": "code",
   "execution_count": 34,
   "id": "earned-engineer",
   "metadata": {},
   "outputs": [
    {
     "name": "stdout",
     "output_type": "stream",
     "text": [
      "input\n",
      "input  [[1, 1999, 229, 23, 289, 491, 3560, 9, 129], [1, 108, 33, 917, 113, 688, 6856, 3681, 2752, 1321, 6857], [1, 8, 289, 400, 45, 2035, 11, 18, 816, 1632], [1, 418, 665, 17, 593, 121, 20, 497, 114, 1935], [1, 172, 477, 63, 244, 724, 4, 31, 751, 943]]\n",
      "target\n",
      "decoder  [[1999, 229, 23, 289, 491, 3560, 9, 129, 2], [108, 33, 917, 113, 688, 6856, 3681, 2752, 1321, 6857, 2], [8, 289, 400, 45, 2035, 11, 18, 816, 1632, 2], [418, 665, 17, 593, 121, 20, 497, 114, 1935, 2], [172, 477, 63, 244, 724, 4, 31, 751, 943, 2]]\n"
     ]
    }
   ],
   "source": [
    "tar_vocab = 7000\n",
    "tar_tokenizer = Tokenizer(num_words = tar_vocab) \n",
    "tar_tokenizer.fit_on_texts(decoder_input_train)\n",
    "tar_tokenizer.fit_on_texts(decoder_target_train)\n",
    "\n",
    "# 텍스트 시퀀스를 정수 시퀀스로 변환\n",
    "decoder_input_train = tar_tokenizer.texts_to_sequences(decoder_input_train) \n",
    "decoder_target_train = tar_tokenizer.texts_to_sequences(decoder_target_train)\n",
    "decoder_input_test = tar_tokenizer.texts_to_sequences(decoder_input_test)\n",
    "decoder_target_test = tar_tokenizer.texts_to_sequences(decoder_target_test)\n",
    "\n",
    "#잘 변환되었는지 확인\n",
    "print('input')\n",
    "print('input ',decoder_input_train[:5])\n",
    "print('target')\n",
    "print('decoder ',decoder_target_train[:5])"
   ]
  },
  {
   "cell_type": "code",
   "execution_count": 35,
   "id": "particular-content",
   "metadata": {},
   "outputs": [
    {
     "name": "stdout",
     "output_type": "stream",
     "text": [
      "삭제할 훈련 데이터의 개수 : 1\n",
      "삭제할 테스트 데이터의 개수 : 0\n",
      "훈련 데이터의 개수 : 64231\n",
      "훈련 레이블의 개수 : 64231\n",
      "테스트 데이터의 개수 : 16058\n",
      "테스트 레이블의 개수 : 16058\n"
     ]
    },
    {
     "name": "stderr",
     "output_type": "stream",
     "text": [
      "/home/aiffel-dj12/anaconda3/envs/aiffel/lib/python3.7/site-packages/numpy/core/_asarray.py:83: VisibleDeprecationWarning: Creating an ndarray from ragged nested sequences (which is a list-or-tuple of lists-or-tuples-or ndarrays with different lengths or shapes) is deprecated. If you meant to do this, you must specify 'dtype=object' when creating the ndarray\n",
      "  return array(a, dtype, copy=False, order=order)\n"
     ]
    }
   ],
   "source": [
    "drop_train = [index for index, sentence in enumerate(decoder_input_train) if len(sentence) == 1]\n",
    "drop_test = [index for index, sentence in enumerate(decoder_input_test) if len(sentence) == 1]\n",
    "\n",
    "print('삭제할 훈련 데이터의 개수 :',len(drop_train))\n",
    "print('삭제할 테스트 데이터의 개수 :',len(drop_test))\n",
    "\n",
    "encoder_input_train = np.delete(encoder_input_train, drop_train, axis=0)\n",
    "decoder_input_train = np.delete(decoder_input_train, drop_train, axis=0)\n",
    "decoder_target_train = np.delete(decoder_target_train, drop_train, axis=0)\n",
    "\n",
    "encoder_input_test = np.delete(encoder_input_test, drop_test, axis=0)\n",
    "decoder_input_test = np.delete(decoder_input_test, drop_test, axis=0)\n",
    "decoder_target_test = np.delete(decoder_target_test, drop_test, axis=0)\n",
    "\n",
    "print('훈련 데이터의 개수 :', len(encoder_input_train))\n",
    "print('훈련 레이블의 개수 :',len(decoder_input_train))\n",
    "print('테스트 데이터의 개수 :',len(encoder_input_test))\n",
    "print('테스트 레이블의 개수 :',len(decoder_input_test))"
   ]
  },
  {
   "cell_type": "markdown",
   "id": "willing-rebecca",
   "metadata": {},
   "source": [
    "#### 패딩하기"
   ]
  },
  {
   "cell_type": "code",
   "execution_count": 36,
   "id": "graduate-caution",
   "metadata": {},
   "outputs": [],
   "source": [
    "encoder_input_train = pad_sequences(encoder_input_train, maxlen = text_max_len, padding='post')\n",
    "encoder_input_test = pad_sequences(encoder_input_test, maxlen = text_max_len, padding='post')\n",
    "decoder_input_train = pad_sequences(decoder_input_train, maxlen = headlines_max_len, padding='post')\n",
    "decoder_target_train = pad_sequences(decoder_target_train, maxlen = headlines_max_len, padding='post')\n",
    "decoder_input_test = pad_sequences(decoder_input_test, maxlen = headlines_max_len, padding='post')\n",
    "decoder_target_test = pad_sequences(decoder_target_test, maxlen = headlines_max_len, padding='post')"
   ]
  },
  {
   "cell_type": "markdown",
   "id": "greatest-reform",
   "metadata": {},
   "source": [
    "#### 모델 설계"
   ]
  },
  {
   "cell_type": "code",
   "execution_count": 37,
   "id": "narrow-timothy",
   "metadata": {},
   "outputs": [
    {
     "name": "stdout",
     "output_type": "stream",
     "text": [
      "WARNING:tensorflow:Layer lstm will not use cuDNN kernel since it doesn't meet the cuDNN kernel criteria. It will use generic GPU kernel as fallback when running on GPU\n",
      "WARNING:tensorflow:Layer lstm_1 will not use cuDNN kernel since it doesn't meet the cuDNN kernel criteria. It will use generic GPU kernel as fallback when running on GPU\n",
      "WARNING:tensorflow:Layer lstm_2 will not use cuDNN kernel since it doesn't meet the cuDNN kernel criteria. It will use generic GPU kernel as fallback when running on GPU\n"
     ]
    }
   ],
   "source": [
    "from tensorflow.keras.layers import Input, LSTM, Embedding, Dense, Concatenate\n",
    "from tensorflow.keras.models import Model\n",
    "from tensorflow.keras.callbacks import EarlyStopping, ModelCheckpoint\n",
    "\n",
    "\n",
    "# 인코더 설계 시작\n",
    "embedding_dim = 128\n",
    "hidden_size = 256\n",
    "\n",
    "# 인코더\n",
    "encoder_inputs = Input(shape=(text_max_len,))\n",
    "\n",
    "# 인코더의 임베딩 층\n",
    "enc_emb = Embedding(src_vocab, embedding_dim)(encoder_inputs)\n",
    "\n",
    "# 인코더의 LSTM 1\n",
    "encoder_lstm1 = LSTM(hidden_size, return_sequences=True, return_state=True ,dropout = 0.4, recurrent_dropout = 0.4)\n",
    "encoder_output1, state_h1, state_c1 = encoder_lstm1(enc_emb)\n",
    "\n",
    "# 인코더의 LSTM 2\n",
    "encoder_lstm2 = LSTM(hidden_size, return_sequences=True, return_state=True, dropout=0.4, recurrent_dropout=0.4)\n",
    "encoder_output2, state_h2, state_c2 = encoder_lstm2(encoder_output1)\n",
    "\n",
    "# 인코더의 LSTM 3\n",
    "encoder_lstm3 = LSTM(hidden_size, return_state=True, return_sequences=True, dropout=0.4, recurrent_dropout=0.4)\n",
    "encoder_outputs, state_h, state_c= encoder_lstm3(encoder_output2)"
   ]
  },
  {
   "cell_type": "code",
   "execution_count": 38,
   "id": "relative-walker",
   "metadata": {},
   "outputs": [
    {
     "name": "stdout",
     "output_type": "stream",
     "text": [
      "WARNING:tensorflow:Layer lstm_3 will not use cuDNN kernel since it doesn't meet the cuDNN kernel criteria. It will use generic GPU kernel as fallback when running on GPU\n"
     ]
    }
   ],
   "source": [
    "# 디코더 설계\n",
    "\n",
    "decoder_inputs = Input(shape=(None,))\n",
    "\n",
    "# 디코더의 임베딩 층\n",
    "dec_emb_layer = Embedding(tar_vocab, embedding_dim)\n",
    "dec_emb = dec_emb_layer(decoder_inputs)\n",
    "\n",
    "# 디코더의 LSTM\n",
    "decoder_lstm = LSTM(hidden_size, return_sequences = True, return_state = True, dropout = 0.4, recurrent_dropout=0.2)\n",
    "decoder_outputs, _, _ = decoder_lstm(dec_emb, initial_state = [state_h, state_c])"
   ]
  },
  {
   "cell_type": "code",
   "execution_count": 39,
   "id": "different-stocks",
   "metadata": {},
   "outputs": [
    {
     "name": "stdout",
     "output_type": "stream",
     "text": [
      "Model: \"model\"\n",
      "__________________________________________________________________________________________________\n",
      "Layer (type)                    Output Shape         Param #     Connected to                     \n",
      "==================================================================================================\n",
      "input_1 (InputLayer)            [(None, 59)]         0                                            \n",
      "__________________________________________________________________________________________________\n",
      "embedding (Embedding)           (None, 59, 128)      1920000     input_1[0][0]                    \n",
      "__________________________________________________________________________________________________\n",
      "lstm (LSTM)                     [(None, 59, 256), (N 394240      embedding[0][0]                  \n",
      "__________________________________________________________________________________________________\n",
      "input_2 (InputLayer)            [(None, None)]       0                                            \n",
      "__________________________________________________________________________________________________\n",
      "lstm_1 (LSTM)                   [(None, 59, 256), (N 525312      lstm[0][0]                       \n",
      "__________________________________________________________________________________________________\n",
      "embedding_1 (Embedding)         (None, None, 128)    896000      input_2[0][0]                    \n",
      "__________________________________________________________________________________________________\n",
      "lstm_2 (LSTM)                   [(None, 59, 256), (N 525312      lstm_1[0][0]                     \n",
      "__________________________________________________________________________________________________\n",
      "lstm_3 (LSTM)                   [(None, None, 256),  394240      embedding_1[0][0]                \n",
      "                                                                 lstm_2[0][1]                     \n",
      "                                                                 lstm_2[0][2]                     \n",
      "__________________________________________________________________________________________________\n",
      "dense (Dense)                   (None, None, 7000)   1799000     lstm_3[0][0]                     \n",
      "==================================================================================================\n",
      "Total params: 6,454,104\n",
      "Trainable params: 6,454,104\n",
      "Non-trainable params: 0\n",
      "__________________________________________________________________________________________________\n"
     ]
    }
   ],
   "source": [
    "# 디코더의 출력층\n",
    "decoder_softmax_layer = Dense(tar_vocab, activation = 'softmax')\n",
    "decoder_softmax_outputs = decoder_softmax_layer(decoder_outputs) \n",
    "\n",
    "# 모델 정의\n",
    "model = Model([encoder_inputs, decoder_inputs], decoder_softmax_outputs)\n",
    "model.summary()"
   ]
  },
  {
   "cell_type": "markdown",
   "id": "angry-healing",
   "metadata": {},
   "source": [
    "## Step3. 어텐션 메커니즘 사용(추상)"
   ]
  },
  {
   "cell_type": "code",
   "execution_count": 40,
   "id": "turkish-absorption",
   "metadata": {},
   "outputs": [
    {
     "name": "stdout",
     "output_type": "stream",
     "text": [
      "Model: \"model_1\"\n",
      "__________________________________________________________________________________________________\n",
      "Layer (type)                    Output Shape         Param #     Connected to                     \n",
      "==================================================================================================\n",
      "input_1 (InputLayer)            [(None, 59)]         0                                            \n",
      "__________________________________________________________________________________________________\n",
      "embedding (Embedding)           (None, 59, 128)      1920000     input_1[0][0]                    \n",
      "__________________________________________________________________________________________________\n",
      "lstm (LSTM)                     [(None, 59, 256), (N 394240      embedding[0][0]                  \n",
      "__________________________________________________________________________________________________\n",
      "input_2 (InputLayer)            [(None, None)]       0                                            \n",
      "__________________________________________________________________________________________________\n",
      "lstm_1 (LSTM)                   [(None, 59, 256), (N 525312      lstm[0][0]                       \n",
      "__________________________________________________________________________________________________\n",
      "embedding_1 (Embedding)         (None, None, 128)    896000      input_2[0][0]                    \n",
      "__________________________________________________________________________________________________\n",
      "lstm_2 (LSTM)                   [(None, 59, 256), (N 525312      lstm_1[0][0]                     \n",
      "__________________________________________________________________________________________________\n",
      "lstm_3 (LSTM)                   [(None, None, 256),  394240      embedding_1[0][0]                \n",
      "                                                                 lstm_2[0][1]                     \n",
      "                                                                 lstm_2[0][2]                     \n",
      "__________________________________________________________________________________________________\n",
      "attention_layer (AttentionLayer ((None, None, 256),  131328      lstm_2[0][0]                     \n",
      "                                                                 lstm_3[0][0]                     \n",
      "__________________________________________________________________________________________________\n",
      "concat_layer (Concatenate)      (None, None, 512)    0           lstm_3[0][0]                     \n",
      "                                                                 attention_layer[0][0]            \n",
      "__________________________________________________________________________________________________\n",
      "dense_1 (Dense)                 (None, None, 7000)   3591000     concat_layer[0][0]               \n",
      "==================================================================================================\n",
      "Total params: 8,377,432\n",
      "Trainable params: 8,377,432\n",
      "Non-trainable params: 0\n",
      "__________________________________________________________________________________________________\n"
     ]
    }
   ],
   "source": [
    "from attention import AttentionLayer\n",
    "# 어텐션 층(어텐션 함수)\n",
    "attn_layer = AttentionLayer(name='attention_layer')\n",
    "# 인코더와 디코더의 모든 time step의 hidden state를 어텐션 층에 전달하고 결과를 리턴\n",
    "attn_out, attn_states = attn_layer([encoder_outputs, decoder_outputs])\n",
    "\n",
    "# 어텐션의 결과와 디코더의 hidden state들을 연결\n",
    "decoder_concat_input = Concatenate(axis = -1, name='concat_layer')([decoder_outputs, attn_out])\n",
    "\n",
    "# 디코더의 출력층\n",
    "decoder_softmax_layer = Dense(tar_vocab, activation='softmax')\n",
    "decoder_softmax_outputs = decoder_softmax_layer(decoder_concat_input)\n",
    "\n",
    "# 모델 정의\n",
    "model = Model([encoder_inputs, decoder_inputs], decoder_softmax_outputs)\n",
    "model.summary()"
   ]
  },
  {
   "cell_type": "markdown",
   "id": "forty-spyware",
   "metadata": {},
   "source": [
    "#### 모델 훈련"
   ]
  },
  {
   "cell_type": "code",
   "execution_count": 41,
   "id": "indie-lighting",
   "metadata": {},
   "outputs": [
    {
     "name": "stdout",
     "output_type": "stream",
     "text": [
      "Epoch 1/50\n",
      "251/251 [==============================] - 105s 418ms/step - loss: 6.0169 - val_loss: 5.6393\n",
      "Epoch 2/50\n",
      "251/251 [==============================] - 103s 412ms/step - loss: 5.4768 - val_loss: 5.2202\n",
      "Epoch 3/50\n",
      "251/251 [==============================] - 103s 412ms/step - loss: 5.1223 - val_loss: 4.9355\n",
      "Epoch 4/50\n",
      "251/251 [==============================] - 102s 408ms/step - loss: 4.8368 - val_loss: 4.7262\n",
      "Epoch 5/50\n",
      "251/251 [==============================] - 102s 408ms/step - loss: 4.5998 - val_loss: 4.5568\n",
      "Epoch 6/50\n",
      "251/251 [==============================] - 103s 411ms/step - loss: 4.4107 - val_loss: 4.4690\n",
      "Epoch 7/50\n",
      "251/251 [==============================] - 104s 415ms/step - loss: 4.2442 - val_loss: 4.3252\n",
      "Epoch 8/50\n",
      "251/251 [==============================] - 104s 416ms/step - loss: 4.0995 - val_loss: 4.2608\n",
      "Epoch 9/50\n",
      "251/251 [==============================] - 105s 419ms/step - loss: 3.9688 - val_loss: 4.1839\n",
      "Epoch 10/50\n",
      "251/251 [==============================] - 110s 439ms/step - loss: 3.8533 - val_loss: 4.1212\n",
      "Epoch 11/50\n",
      "251/251 [==============================] - 108s 432ms/step - loss: 3.7465 - val_loss: 4.0628\n",
      "Epoch 12/50\n",
      "251/251 [==============================] - 107s 428ms/step - loss: 3.6524 - val_loss: 4.0245\n",
      "Epoch 13/50\n",
      "251/251 [==============================] - 99s 393ms/step - loss: 3.5660 - val_loss: 3.9890\n",
      "Epoch 14/50\n",
      "251/251 [==============================] - 99s 393ms/step - loss: 3.4843 - val_loss: 3.9638\n",
      "Epoch 15/50\n",
      "251/251 [==============================] - 99s 393ms/step - loss: 3.4104 - val_loss: 3.9427\n",
      "Epoch 16/50\n",
      "251/251 [==============================] - 98s 392ms/step - loss: 3.3391 - val_loss: 3.9181\n",
      "Epoch 17/50\n",
      "251/251 [==============================] - 99s 393ms/step - loss: 3.2763 - val_loss: 3.9032\n",
      "Epoch 18/50\n",
      "251/251 [==============================] - 98s 392ms/step - loss: 3.2130 - val_loss: 3.8866\n",
      "Epoch 19/50\n",
      "251/251 [==============================] - 99s 393ms/step - loss: 3.1562 - val_loss: 3.8784\n",
      "Epoch 20/50\n",
      "251/251 [==============================] - 99s 393ms/step - loss: 3.1022 - val_loss: 3.8660\n",
      "Epoch 21/50\n",
      "251/251 [==============================] - 100s 400ms/step - loss: 3.0512 - val_loss: 3.8499\n",
      "Epoch 22/50\n",
      "251/251 [==============================] - 99s 394ms/step - loss: 3.0040 - val_loss: 3.8404\n",
      "Epoch 23/50\n",
      "251/251 [==============================] - 98s 392ms/step - loss: 2.9607 - val_loss: 3.8469\n",
      "Epoch 24/50\n",
      "251/251 [==============================] - 98s 392ms/step - loss: 2.9164 - val_loss: 3.8378\n",
      "Epoch 25/50\n",
      "251/251 [==============================] - 99s 393ms/step - loss: 2.8756 - val_loss: 3.8330\n",
      "Epoch 26/50\n",
      "251/251 [==============================] - 99s 394ms/step - loss: 2.8372 - val_loss: 3.8446\n",
      "Epoch 27/50\n",
      "251/251 [==============================] - 99s 393ms/step - loss: 2.7998 - val_loss: 3.8353\n",
      "Epoch 00027: early stopping\n"
     ]
    }
   ],
   "source": [
    "model.compile(optimizer='rmsprop', loss='sparse_categorical_crossentropy')\n",
    "es = EarlyStopping(monitor='val_loss', mode='min', verbose=1, patience = 2)\n",
    "history = model.fit(x = [encoder_input_train, decoder_input_train], y = decoder_target_train, \\\n",
    "          validation_data = ([encoder_input_test, decoder_input_test], decoder_target_test),\n",
    "          batch_size = 256, callbacks=[es], epochs = 50)"
   ]
  },
  {
   "cell_type": "code",
   "execution_count": 42,
   "id": "apart-spokesman",
   "metadata": {},
   "outputs": [
    {
     "data": {
      "image/png": "[encoded data removed]",
      "text/plain": [
       "<Figure size 432x288 with 1 Axes>"
      ]
     },
     "metadata": {
      "needs_background": "light"
     },
     "output_type": "display_data"
    }
   ],
   "source": [
    "plt.plot(history.history['loss'], label='train')\n",
    "plt.plot(history.history['val_loss'], label='test')\n",
    "plt.legend()\n",
    "plt.show()"
   ]
  },
  {
   "cell_type": "markdown",
   "id": "secure-favorite",
   "metadata": {},
   "source": [
    "#### 인퍼런스 모델 구현"
   ]
  },
  {
   "cell_type": "code",
   "execution_count": 43,
   "id": "compound-timeline",
   "metadata": {},
   "outputs": [],
   "source": [
    "src_index_to_word = src_tokenizer.index_word # 원문 단어 집합에서 정수 -> 단어를 얻음\n",
    "tar_word_to_index = tar_tokenizer.word_index # 요약 단어 집합에서 단어 -> 정수를 얻음\n",
    "tar_index_to_word = tar_tokenizer.index_word # 요약 단어 집합에서 정수 -> 단어를 얻음"
   ]
  },
  {
   "cell_type": "code",
   "execution_count": 44,
   "id": "unusual-timeline",
   "metadata": {},
   "outputs": [],
   "source": [
    "# 인코더 설계\n",
    "encoder_model = Model(inputs=encoder_inputs, outputs=[encoder_outputs, state_h, state_c])\n",
    "\n",
    "# 이전 시점의 상태들을 저장하는 텐서\n",
    "decoder_state_input_h = Input(shape=(hidden_size,))\n",
    "decoder_state_input_c = Input(shape=(hidden_size,))\n",
    "\n",
    "dec_emb2 = dec_emb_layer(decoder_inputs)\n",
    "# 문장의 다음 단어를 예측하기 위해서 초기 상태(initial_state)를 이전 시점의 상태로 사용. 이는 뒤의 함수 decode_sequence()에 구현\n",
    "# 훈련 과정에서와 달리 LSTM의 리턴하는 은닉 상태와 셀 상태인 state_h와 state_c를 버리지 않음.\n",
    "decoder_outputs2, state_h2, state_c2 = decoder_lstm(dec_emb2, initial_state=[decoder_state_input_h, decoder_state_input_c])"
   ]
  },
  {
   "cell_type": "code",
   "execution_count": 45,
   "id": "dirty-guest",
   "metadata": {},
   "outputs": [],
   "source": [
    "# 어텐션 함수\n",
    "decoder_hidden_state_input = Input(shape=(text_max_len, hidden_size))\n",
    "attn_out_inf, attn_states_inf = attn_layer([decoder_hidden_state_input, decoder_outputs2])\n",
    "decoder_inf_concat = Concatenate(axis=-1, name='concat')([decoder_outputs2, attn_out_inf])\n",
    "\n",
    "# 디코더의 출력층\n",
    "decoder_outputs2 = decoder_softmax_layer(decoder_inf_concat) \n",
    "\n",
    "# 최종 디코더 모델\n",
    "decoder_model = Model(\n",
    "    [decoder_inputs] + [decoder_hidden_state_input,decoder_state_input_h, decoder_state_input_c],\n",
    "    [decoder_outputs2] + [state_h2, state_c2])"
   ]
  },
  {
   "cell_type": "code",
   "execution_count": 122,
   "id": "technical-dynamics",
   "metadata": {},
   "outputs": [],
   "source": [
    "def decode_sequence(input_seq):\n",
    "    # 입력으로부터 인코더의 상태를 얻음\n",
    "    e_out, e_h, e_c = encoder_model.predict(input_seq)\n",
    "\n",
    "     # <SOS>에 해당하는 토큰 생성\n",
    "    target_seq = np.zeros((1,1))\n",
    "    target_seq[0, 0] = tar_word_to_index['sostoken']\n",
    "\n",
    "    stop_condition = False\n",
    "    decoded_sentence = ''\n",
    "    while not stop_condition: # stop_condition이 True가 될 때까지 루프 반복\n",
    "\n",
    "        output_tokens, h, c = decoder_model.predict([target_seq] + [e_out, e_h, e_c])\n",
    "        sampled_token_index = np.argmax(output_tokens[0, -1, :])\n",
    "        sampled_token = tar_index_to_word[sampled_token_index]\n",
    "\n",
    "        if(sampled_token!='eostoken'):\n",
    "            decoded_sentence += ' '+sampled_token\n",
    "\n",
    "        #  <eos>에 도달하거나 최대 길이를 넘으면 중단.\n",
    "        if (sampled_token == 'eostoken'  or len(decoded_sentence.split()) >= (headlines_max_len-1)):\n",
    "            stop_condition = True\n",
    "\n",
    "        # 길이가 1인 타겟 시퀀스를 업데이트\n",
    "        target_seq = np.zeros((1,1))\n",
    "        target_seq[0, 0] = sampled_token_index\n",
    "\n",
    "        # 상태를 업데이트 합니다.\n",
    "        e_h, e_c = h, c\n",
    "\n",
    "    return decoded_sentence"
   ]
  },
  {
   "cell_type": "markdown",
   "id": "forty-fitness",
   "metadata": {},
   "source": [
    "## Step4. 실제 결과와 요약문 비교(추상)"
   ]
  },
  {
   "cell_type": "code",
   "execution_count": 123,
   "id": "stopped-rolling",
   "metadata": {},
   "outputs": [],
   "source": [
    "# 원문의 정수 시퀀스를 텍스트 시퀀스로 변환\n",
    "def seq2text(input_seq):\n",
    "    temp=''\n",
    "    for i in input_seq:\n",
    "        if(i!=0):\n",
    "            temp = temp + src_index_to_word[i]+' '\n",
    "    return temp\n",
    "\n",
    "# 요약문의 정수 시퀀스를 텍스트 시퀀스로 변환\n",
    "def seq2summary(input_seq):\n",
    "    temp=''\n",
    "    for i in input_seq:\n",
    "        if((i!=0 and i!=tar_word_to_index['sostoken']) and i!=tar_word_to_index['eostoken']):\n",
    "            temp = temp + tar_index_to_word[i] + ' '\n",
    "    return temp"
   ]
  },
  {
   "cell_type": "code",
   "execution_count": 124,
   "id": "patent-translator",
   "metadata": {
    "scrolled": true
   },
   "outputs": [
    {
     "name": "stdout",
     "output_type": "stream",
     "text": [
      "원문 : students taken admission three engineering courses offered hindi bhopal atal bihari vajpayee hindi university engineering faculty currently students around four ad teachers permanent engineering teachers madhya pradesh government left university authorities decide courses discontinued \n",
      "실제 요약 : no for hindi engineering courses in bhopal this year \n",
      "예측 요약 :  students get award for students in exams\n",
      "\n",
      "\n",
      "원문 : former cricketer sunil gavaskar turns today almost exchanged birth nurse accidentally placed next hospital gavaskar uncle noticed near ear see child brought matter notice following gavaskar returned parents \n",
      "실제 요약 : gavaskar got at birth with son \n",
      "예측 요약 :  gavaskar reveals he was ill after child surgery\n",
      "\n",
      "\n",
      "원문 : tamil nadu government almost doubled salary mlas state lakh wednesday move comes farmers state protesting loan waiver better crop prices reportedly state government also announced increase mlas local area development fund crore crore \n",
      "실제 요약 : tamil nadu almost doubles mlas salary to over lakh \n",
      "예측 요약 :  tn farmers protest against salary for days\n",
      "\n",
      "\n",
      "원문 : iranian ambassador un monday called saudi arabia world biggest sponsor terrorism referred wikileaks file contained speech us presidential nominee hillary clinton making similar claim us ally saudi arabia us repeatedly accused iran supporting terrorism middle east \n",
      "실제 요약 : saudi arabia world biggest terror iran quotes hillary \n",
      "예측 요약 :  iran to stop terror attack on un papers\n",
      "\n",
      "\n",
      "원문 : calling japan major ally us state department tuesday gave preliminary approval sale crore worth anti ballistic missiles equipment japan counter north korea provocative behaviour comes north korea said weapons aimed exclusively us south korea russia china \n",
      "실제 요약 : us approves crore anti ballistic missile sale to japan \n",
      "예측 요약 :  china pay cr for russian citizens from russia\n",
      "\n",
      "\n",
      "원문 : rishi kapoor currently new york medical treatment shared video anupam kher social media wrote kher free care free avenue colleague old friend anupam afternoon video rishi seen walking streets manhattan along anupam currently shooting new york \n",
      "실제 요약 : kher free rishi meets anupam during us trip for treatment \n",
      "예측 요약 :  rishi kapoor to be called for women in\n",
      "\n",
      "\n",
      "원문 : late hollywood actress personal shooting script film breakfast sold auction london gifted director steven actress sold crore auction fetched total million selling \n",
      "실제 요약 : script for breakfast at sold for cr \n",
      "예측 요약 :  actress buys painting for crore\n",
      "\n",
      "\n",
      "원문 : kfc created box chicken called box comes built bluetooth controller well mount top mount turns chicken box smartphone holder boxes limited ten units available prizes social media contest \n",
      "실제 요약 : kfc makes chicken box that can turn into game \n",
      "예측 요약 :  new zealand company makes its own\n",
      "\n",
      "\n",
      "원문 : wake billion fraud surfaced punjab national bank week reserve bank india said take appropriate action added assessment control systems pnb already undertaken rbi however denied reports pnb asked assume liabilities arising fraud \n",
      "실제 요약 : rbi to take action against fraud hit pnb \n",
      "예측 요약 :  banks are not enough to banks loans pnb\n",
      "\n",
      "\n",
      "원문 : home minister rajnath singh monday said special force called black panther set chhattisgarh police counter maoists bastar last seven months seven camps state central forces established core areas maoists chhattisgarh working excellent coordination added \n",
      "실제 요약 : black panther force to fight maoists in rajnath \n",
      "예측 요약 :  rajnath singh singh singh singh singh\n",
      "\n",
      "\n",
      "원문 : price non subsidised lpg hiked per cylinder delhi friday subsidised lpg price also hiked per cylinder government earlier asked state owned oil companies raise subsidised lpg prices per cylinder every month eliminate subsidies march \n",
      "실제 요약 : non subsidised lpg price hiked by \n",
      "예측 요약 :  non subsidised lpg price cut by non subsidised\n",
      "\n",
      "\n",
      "원문 : many people killed private bus fell tons river shimla district himachal pradesh wednesday bus way uttarakhand carrying passengers rescue team reached spot team doctors way site \n",
      "실제 요약 : killed as bus falls into tons river in himachal pradesh \n",
      "예측 요약 :  killed injured as bus falls into gorge in himachal\n",
      "\n",
      "\n",
      "원문 : actor ishaan khatter speaking nepotism film industry said history different general perception adding proud middle class background house rich culture cinema performing arts interests natural pursue added \n",
      "실제 요약 : am proud of my middle class background ishaan khatter \n",
      "예측 요약 :  have been an film with shahid on nepotism\n",
      "\n",
      "\n",
      "원문 : aam aadmi party tuesday announced names five candidates punjab lok sabha elections sitting mps mann singh contest respective constituencies singh contested punjab assembly elections mohali given ticket sahib seat \n",
      "실제 요약 : aap announces names of punjab candidates for election \n",
      "예측 요약 :  aap to contest lok sabha elections from polls\n",
      "\n",
      "\n",
      "원문 : man arrested allegedly supplying mobile phone inmate jail uttar pradesh accused identified praveen kumar allegedly hid mobile phone box sweets gave inmate kumar later arrested case registered connection police said \n",
      "실제 요약 : up man mobile in box for prisoner arrested \n",
      "예측 요약 :  man arrested for stealing phone with mobile phone\n",
      "\n",
      "\n",
      "원문 : dera sacha sauda chief gurmeet ram rahim singh sentenced two consecutive year jail sentences two rape cases cbi spokesperson abhishek dayal said monday court also imposed fine lakh two cases added earlier reports said self styled godman sentenced years jail \n",
      "실제 요약 : dera chief ram rahim singh sentenced to years in jail \n",
      "예측 요약 :  ram rahim sentenced to death in jail\n",
      "\n",
      "\n",
      "원문 : known survive frozen lakes without oxygen producing alcohol researchers revealed phenomenon mechanism fish contain two sets proteins breakdown food one oxygen one without acid produced oxygen less converted water preventing dangerous acid build ups \n",
      "실제 요약 : can survive without oxygen by making alcohol study \n",
      "예측 요약 :  in pictures of drinking water in\n",
      "\n",
      "\n",
      "원문 : many sikhs hindus among killed targeted suicide bombing afghanistan sunday suicide bomber struck market near provincial governor compound president ashraf ghani holding meetings comes president ghani ordered security forces resume anti taliban operations following day ceasefire \n",
      "실제 요약 : sikhs hindus among killed in afghan suicide bombing \n",
      "예측 요약 :  sri lanka kills suicide in suicide bombing in afghanistan\n",
      "\n",
      "\n",
      "원문 : west indies registered first ever successful chase year odi history defeating pakistan four wickets friday windies previous highest successful chase runs south africa man match jason mohammed made west indies pakistan failing defend total fifth time odis \n",
      "실제 요약 : wi chase for first time in their year odi history \n",
      "예측 요약 :  st ever to take wickets in odis\n",
      "\n",
      "\n",
      "원문 : prime minister narendra modi strategic use humour make twitter per study university michigan study analysed tweets pm modi six year period study found tweets closely around elections mention gandhi post elections \n",
      "실제 요약 : pm and humour made him twitter study \n",
      "예측 요약 :  pm modi tweets user on twitter\n",
      "\n",
      "\n",
      "원문 : neeraj chopra india first commonwealth games gold winner javelin throw led athlete strong indian contingent asian games opening ceremony saturday contingent represent india across sports event scheduled finish september asian games athletes participating across sports gold medal events \n",
      "실제 요약 : india first cwg gold winner leads asiad \n",
      "예측 요약 :  india wins asian games medal at asian games\n",
      "\n",
      "\n",
      "원문 : owner dog named missing gurugram since april launched online campaign saying dogs kidnapped used meat make biryani owner also started hashtag campaign also launched dogs missing city \n",
      "실제 요약 : dogs end up as biryani lost dog owner \n",
      "예측 요약 :  dog finds pet dog from atm store in bengaluru\n",
      "\n",
      "\n",
      "원문 : university washington engineers turned toilet tissue like paper wearable sensor detect eye researchers showed tearing tissue paper loaded electricity conducting carbon paper acts sensor flexible sensor potential applications healthcare entertainment robotics said researchers \n",
      "실제 요약 : us researchers turn toilet paper into wearable \n",
      "예측 요약 :  iit bombay student makes paper paper\n",
      "\n",
      "\n",
      "원문 : elon musk led spacex raising million series funding round value company around billion according filing seen reuters total amount million reportedly raised investors led investments million musk spacex raised million november \n",
      "실제 요약 : musk spacex to raise million at billion valuation \n"
     ]
    },
    {
     "name": "stdout",
     "output_type": "stream",
     "text": [
      "예측 요약 :  musk spacex raises billion funding from softbank\n",
      "\n",
      "\n",
      "원문 : actor ranbir kapoor apologised removal govinda role upcoming film jagga jasoos said irresponsible unfair cast great legend like govinda give justice role ranbir added removing govinda role director anurag basu fault started film without complete script \n",
      "실제 요약 : ranbir apologises for removal of govinda jagga jasoos role \n",
      "예측 요약 :  ranbir kapoor refuses to jagga jasoos with kareena kapoor\n",
      "\n",
      "\n",
      "원문 : india elected un human rights council highest votes india permanent representative un syed akbaruddin said continue work balanced way protect human rights india victory reflection high standing enjoys globally akbaruddin added india secured votes followed fiji secured votes \n",
      "실제 요약 : will work in way to protect human rights india \n",
      "예측 요약 :  india st to un ban on human rights council\n",
      "\n",
      "\n",
      "원문 : facebook ceo mark zuckerberg recently surprised us family visiting house dinner minutes informed arrival mystery guest got know cool guy earth real easy talk said family head earlier zuckerberg challenged visit us states year \n",
      "실제 요약 : zuckerberg surprises us family at their house for dinner \n",
      "예측 요약 :  zuckerberg zuckerberg shares picture with his physical physical\n",
      "\n",
      "\n",
      "원문 : foreign ministry asked antigua arrest pnb scam accused mehul choksi initiate extradition india stating interpol notice mandatory notice required locate accused case antigua confirmed us choksi country officer said extradition request handed antigua july \n",
      "실제 요약 : arrest mehul choksi no interpol notice needed govt to antigua \n",
      "예측 요약 :  interpol seeks passport to mehul choksi passport\n",
      "\n",
      "\n",
      "원문 : year old man shot dead sister brother law case honour killing pakistan police said accused found couple alone house fired pistol killing spot nearly thousand women killed year honour killing cases pakistan according activists \n",
      "실제 요약 : year old kills sister in honour killing in pakistan \n",
      "예측 요약 :  killed in murder case kills wife\n",
      "\n",
      "\n",
      "원문 : pakistan issued first third gender passport transgender activist hailed move step forward marginalised community conservative country activist said new passport would help campaign globally behalf community notably earlier held passport described gender male \n",
      "실제 요약 : pakistan issues its first transgender passport \n",
      "예측 요약 :  pakistan gets its first gender neutral\n",
      "\n",
      "\n",
      "원문 : many indian workers returned saudi arabia facing job related difficulties minister state external affairs vk singh informed lok sabha wednesday singh also said indian workers facing difficulties two major saudi companies saudi saad group process brought back india \n",
      "실제 요약 : indians returned from saudi over job issues govt \n",
      "예측 요약 :  saudi arabia seeks of rti\n",
      "\n",
      "\n",
      "원문 : reliance industries owner world largest complex halted imports iranian crude ahead us sanctions country oil sector mukesh ambani led company said increased purchases middle eastern suppliers make loss reliance significant exposure us financial system operates subsidiaries nn \n",
      "실제 요약 : mukesh ambani reliance industries halts iranian oil imports \n",
      "예측 요약 :  reliance to sell saudi oil supply to saudi arabia\n",
      "\n",
      "\n",
      "원문 : least six central reserve police force personnel injured monday unknown gunmen attacked convoy near chowk jammu kashmir srinagar comes pakistani troops earlier day violated ceasefire along line control poonch district jammu kashmir prompting army retaliate \n",
      "실제 요약 : gunmen attack crpf convoy in six jawans injured \n",
      "예측 요약 :  cops injured in pakistan firing near pakistan border\n",
      "\n",
      "\n",
      "원문 : search giant google added new search navigation tab called finance desktop mobile web tab gives easier access financial information related news based users interests also lets users see performance information stocks users choose follow shows recommendations stocks indices follow \n",
      "실제 요약 : google adds finance to search \n",
      "예측 요약 :  google to buy cryptocurrency based on data\n",
      "\n",
      "\n",
      "원문 : fir registered union minister anant hegde allegedly insulting karnataka cm siddaramaiah calling complaint registered congress workers moved mysuru court directed police take necessary action earlier hegde said karnataka becoming home terrorists \n",
      "실제 요약 : fir against union minister for calling taka cm \n",
      "예측 요약 :  fir against minister for taka cm for taka cm\n",
      "\n",
      "\n",
      "원문 : open match mitchell interrupted multiple times tuesday due couple nearby house loud sex match assumed sound coming spectator phone realising coming apartment nearby jokingly hit tennis ball direction apartment \n",
      "실제 요약 : tennis match by couple having sex \n",
      "예측 요약 :  player who player who is the player\n",
      "\n",
      "\n",
      "원문 : slamming criticised pad man challenge radhika apte said actors social activists job called acting radhika added trying find fault asking us become social workers think really need focus work said film aimed show menstruation \n",
      "실제 요약 : actors are not social activists radhika on pad man challenge \n",
      "예측 요약 :  man who wrote man who wrote man on metoo\n",
      "\n",
      "\n",
      "원문 : indian badminton players training hyderabad based pullela gopichand badminton academy receive premium eggs japanese food processing major foods move aimed enhancing inputs players preparation olympics held japan company use produces eggs high nutrition \n",
      "실제 요약 : japan firm to supply premium eggs for indian \n",
      "예측 요약 :  indian team ceo among indian brand coach\n",
      "\n",
      "\n",
      "원문 : study conducted researchers university uk claimed two beer better providing pain relief researchers stated blood alcohol content approximately causes elevation human pain threshold along reduction pain intensity ratings \n",
      "실제 요약 : beer better than for pain relief study \n",
      "예측 요약 :  study finds why can identify alcohol\n",
      "\n",
      "\n",
      "원문 : congress spokesperson randeep surjewala tweeted purported pm narendra modi visit tamil nadu april observing protest fast claimed pm modi served breakfast lunch onboard flights surjewala added bjp president amit shah scheduled lunch farmers karnataka despite fast \n",
      "실제 요약 : cong shares pm with breakfast lunch on fast day \n",
      "예측 요약 :  pm modi calls people for pm modi\n",
      "\n",
      "\n",
      "원문 : malaysian pm mahathir mohamad announced malaysia reopen embassy north korea year closing amid diplomatic tensions reclusive regime relations two nations deteriorated north korean leader kim jong un half brother kim jong nam assassinated malaysia last year malaysia also banned citizens traveling north korea \n",
      "실제 요약 : malaysia to reopen embassy in north korea \n",
      "예측 요약 :  malaysia malaysia malaysia cancels military cooperation with korea\n",
      "\n",
      "\n",
      "원문 : addressing nri community bahrain congress president rahul gandhi monday said present shining new version party next six months gandhi first foreign visit assuming post party chief indian diaspora lost hard earned money arbitrary decisions like demonetisation added \n",
      "실제 요약 : will give new congress in months rahul in bahrain \n",
      "예측 요약 :  rahul gandhi to be part of in delhi\n",
      "\n",
      "\n",
      "원문 : us president donald trump first formal meeting russian president vladimir putin scheduled minutes summit lasted hours president putin discussing various things think going well good talks trump said meeting \n",
      "실제 요약 : minute trump putin meet to over hours \n",
      "예측 요약 :  putin putin putin putin putin\n",
      "\n",
      "\n",
      "원문 : andhra pradesh bjp unit sunday claimed prime minister narendra modi never promised special category status state accusing tdp leaders including cm chandrababu naidu bjp leaders released cm claimed videos pm modi morphed suit tdp political agenda \n",
      "실제 요약 : pm modi never promised special status to andhra state bjp \n",
      "예측 요약 :  andhra cm naidu calls andhra cm naidu\n",
      "\n",
      "\n",
      "원문 : several mcdonald outlets playing classical music including late hours drunk customers prevent drunken comes amid growing concerns late night violence staff fearing safety previously assaulted intoxicated customers move implemented mcdonald outlets uk australia \n",
      "실제 요약 : mcdonald plays music to drunk customers \n",
      "예측 요약 :  mcdonald recalls people in meal meal in public\n",
      "\n",
      "\n",
      "원문 : year old man named rajesh arrested karnataka district special investigation team connection gauri lankesh murder case tenth arrest sit made connection case senior journalist gauri lankesh shot dead bengaluru last year \n",
      "실제 요약 : suspect arrested in gauri lankesh murder case \n",
      "예측 요약 :  man accused of killing wife in kerala\n",
      "\n",
      "\n",
      "원문 : tibetan spiritual leader dalai lama said indians chinese partly climate said india stable living example people diverse traditions ideas could live together spiritual leader also called india china solve issues dialogue \n",
      "실제 요약 : indians are than the chinese dalai lama \n"
     ]
    },
    {
     "name": "stdout",
     "output_type": "stream",
     "text": [
      "예측 요약 :  dalai lama xi dalai lama to india dalai lama\n",
      "\n",
      "\n",
      "원문 : pm narendra modi saturday announced government cancelled registration one lakh companies gst rolled speaking chartered accountants modi said shell firms identified post demonetisation data showed three lakh registered companies engaged suspected dealings added \n",
      "실제 요약 : registration of lakh companies cancelled before gst modi \n",
      "예측 요약 :  pm modi announces tax on firms to get jobs\n",
      "\n",
      "\n",
      "원문 : india first gst collection hit crore july surpassing target crore finance minister arun jaitley said tuesday said lakh registered taxpayers lakh filed gst returns far late filing penalty day would levied added \n",
      "실제 요약 : gst collection for st month at over crore jaitley \n",
      "예측 요약 :  gst collection of lakh crore in maharashtra\n",
      "\n",
      "\n",
      "원문 : saudi arabia begin issuing tourist visas bid boost tourism head tourism authority prince sultan bin salman bin abdul aziz said first stage rollout visas issued visitors authorised tour operators reports said currently kingdom issues visas pilgrimage business family members residents \n",
      "실제 요약 : saudi arabia to begin tourist visas \n",
      "예측 요약 :  saudi arabia cancels flights from yemen\n",
      "\n",
      "\n"
     ]
    }
   ],
   "source": [
    "\n",
    "for i in range(50, 100):\n",
    "    print(\"원문 :\", seq2text(encoder_input_test[i]))\n",
    "    print(\"실제 요약 :\", seq2summary(decoder_input_test[i]))\n",
    "    print(\"예측 요약 :\", decode_sequence(encoder_input_test[i].reshape(1, text_max_len)))\n",
    "    print(\"\\n\")"
   ]
  },
  {
   "cell_type": "markdown",
   "id": "psychological-knock",
   "metadata": {},
   "source": [
    "## Step5. Summa를 이용해서 추출적 요약"
   ]
  },
  {
   "cell_type": "code",
   "execution_count": 88,
   "id": "casual-recycling",
   "metadata": {},
   "outputs": [
    {
     "data": {
      "text/html": [
       "<div>\n",
       "<style scoped>\n",
       "    .dataframe tbody tr th:only-of-type {\n",
       "        vertical-align: middle;\n",
       "    }\n",
       "\n",
       "    .dataframe tbody tr th {\n",
       "        vertical-align: top;\n",
       "    }\n",
       "\n",
       "    .dataframe thead th {\n",
       "        text-align: right;\n",
       "    }\n",
       "</style>\n",
       "<table border=\"1\" class=\"dataframe\">\n",
       "  <thead>\n",
       "    <tr style=\"text-align: right;\">\n",
       "      <th></th>\n",
       "      <th>headlines</th>\n",
       "      <th>text</th>\n",
       "    </tr>\n",
       "  </thead>\n",
       "  <tbody>\n",
       "    <tr>\n",
       "      <th>23050</th>\n",
       "      <td>India becomes 3rd Asian nation to get STA-1 st...</td>\n",
       "      <td>India has become the third Asian nation after ...</td>\n",
       "    </tr>\n",
       "    <tr>\n",
       "      <th>91825</th>\n",
       "      <td>Zara Founder Amancio Ortega gains Ã¢ÂÂ¹17,300...</td>\n",
       "      <td>Clothing brand Zara's Co-founder Amancio Orteg...</td>\n",
       "    </tr>\n",
       "    <tr>\n",
       "      <th>980</th>\n",
       "      <td>Researchers make camera that shows how birds v...</td>\n",
       "      <td>Researchers in Sweden's Lund University have c...</td>\n",
       "    </tr>\n",
       "    <tr>\n",
       "      <th>95235</th>\n",
       "      <td>RBI clears proposal to introduce Ã¢ÂÂ¹200 not...</td>\n",
       "      <td>The board of the Reserve Bank of India (RBI) h...</td>\n",
       "    </tr>\n",
       "    <tr>\n",
       "      <th>80319</th>\n",
       "      <td>Roger Federer wins record 8th Wimbledon single...</td>\n",
       "      <td>Swiss tennis star Roger Federer won a record 8...</td>\n",
       "    </tr>\n",
       "    <tr>\n",
       "      <th>34464</th>\n",
       "      <td>US gives weapons to terrorist organisations fo...</td>\n",
       "      <td>Turkish President Recep Tayyip ErdoÃÂan has ...</td>\n",
       "    </tr>\n",
       "    <tr>\n",
       "      <th>59761</th>\n",
       "      <td>IPL 2018 to have mid-season transfer window: R...</td>\n",
       "      <td>The next season of the Indian Premier League w...</td>\n",
       "    </tr>\n",
       "    <tr>\n",
       "      <th>71406</th>\n",
       "      <td>France may impose world's 1st ban on oil and g...</td>\n",
       "      <td>The French government has said that it is cons...</td>\n",
       "    </tr>\n",
       "    <tr>\n",
       "      <th>7466</th>\n",
       "      <td>Unfair to give political colour to Bulandshahr...</td>\n",
       "      <td>Calling the violence in Bulandshahr that kille...</td>\n",
       "    </tr>\n",
       "    <tr>\n",
       "      <th>41582</th>\n",
       "      <td>ICICI board backs CEO Chanda Kochhar over Vide...</td>\n",
       "      <td>The board of ICICI Bank has expressed \"full fa...</td>\n",
       "    </tr>\n",
       "  </tbody>\n",
       "</table>\n",
       "</div>"
      ],
      "text/plain": [
       "                                               headlines  \\\n",
       "23050  India becomes 3rd Asian nation to get STA-1 st...   \n",
       "91825  Zara Founder Amancio Ortega gains Ã¢ÂÂ¹17,300...   \n",
       "980    Researchers make camera that shows how birds v...   \n",
       "95235  RBI clears proposal to introduce Ã¢ÂÂ¹200 not...   \n",
       "80319  Roger Federer wins record 8th Wimbledon single...   \n",
       "34464  US gives weapons to terrorist organisations fo...   \n",
       "59761  IPL 2018 to have mid-season transfer window: R...   \n",
       "71406  France may impose world's 1st ban on oil and g...   \n",
       "7466   Unfair to give political colour to Bulandshahr...   \n",
       "41582  ICICI board backs CEO Chanda Kochhar over Vide...   \n",
       "\n",
       "                                                    text  \n",
       "23050  India has become the third Asian nation after ...  \n",
       "91825  Clothing brand Zara's Co-founder Amancio Orteg...  \n",
       "980    Researchers in Sweden's Lund University have c...  \n",
       "95235  The board of the Reserve Bank of India (RBI) h...  \n",
       "80319  Swiss tennis star Roger Federer won a record 8...  \n",
       "34464  Turkish President Recep Tayyip ErdoÃÂan has ...  \n",
       "59761  The next season of the Indian Premier League w...  \n",
       "71406  The French government has said that it is cons...  \n",
       "7466   Calling the violence in Bulandshahr that kille...  \n",
       "41582  The board of ICICI Bank has expressed \"full fa...  "
      ]
     },
     "execution_count": 88,
     "metadata": {},
     "output_type": "execute_result"
    }
   ],
   "source": [
    "import requests\n",
    "from summa.summarizer import summarize\n",
    "data = pd.read_csv('news_summary_more.csv', encoding='iso-8859-1')\n",
    "data.sample(10)"
   ]
  },
  {
   "cell_type": "code",
   "execution_count": 108,
   "id": "worst-serial",
   "metadata": {},
   "outputs": [
    {
     "name": "stdout",
     "output_type": "stream",
     "text": [
      "0        Saurav Kant, an alumnus of upGrad and IIIT-B's...\n",
      "1        Kunal Shah's credit card bill payment platform...\n",
      "2        New Zealand defeated India by 8 wickets in the...\n",
      "3        With Aegon Life iTerm Insurance plan, customer...\n",
      "4        Speaking about the sexual harassment allegatio...\n",
      "                               ...                        \n",
      "98396    A CRPF jawan was on Tuesday axed to death with...\n",
      "98397    'Uff Yeh', the first song from the Sonakshi Si...\n",
      "98398    According to reports, a new version of the 199...\n",
      "98399    A new music video shows rapper Snoop Dogg aimi...\n",
      "98400    Madhesi Morcha, an alliance of seven political...\n",
      "Name: text, Length: 98401, dtype: object\n"
     ]
    }
   ],
   "source": [
    "text = data['text']\n",
    "print(text)"
   ]
  },
  {
   "cell_type": "code",
   "execution_count": 109,
   "id": "acceptable-looking",
   "metadata": {},
   "outputs": [
    {
     "name": "stdout",
     "output_type": "stream",
     "text": [
      "0        upGrad learner switches to career in ML & Al w...\n",
      "1        Delhi techie wins free food from Swiggy for on...\n",
      "2        New Zealand end Rohit Sharma-led India's 12-ma...\n",
      "3        Aegon life iTerm insurance plan helps customer...\n",
      "4        Have known Hirani for yrs, what if MeToo claim...\n",
      "                               ...                        \n",
      "98396    CRPF jawan axed to death by Maoists in Chhatti...\n",
      "98397    First song from Sonakshi Sinha's 'Noor' titled...\n",
      "98398           'The Matrix' film to get a reboot: Reports\n",
      "98399    Snoop Dogg aims gun at clown dressed as Trump ...\n",
      "98400    Madhesi Morcha withdraws support to Nepalese g...\n",
      "Name: headlines, Length: 98401, dtype: object\n"
     ]
    }
   ],
   "source": [
    "news = data['headlines']\n",
    "print(news)"
   ]
  },
  {
   "cell_type": "markdown",
   "id": "exposed-mills",
   "metadata": {},
   "source": [
    "#### 토큰화 (X), 문장비율 줄이기 "
   ]
  },
  {
   "cell_type": "code",
   "execution_count": 115,
   "id": "inclusive-thousand",
   "metadata": {},
   "outputs": [
    {
     "name": "stdout",
     "output_type": "stream",
     "text": [
      "Summary:\n",
      "Madhesi Morcha, an alliance of seven political parties, has withdrawn support to PM Pushpa Kamal Dahal-led Nepal government after it failed to meet a seven-day ultimatum to fulfil their demands including endorsement for the revised Constitution amendment bill.\n"
     ]
    }
   ],
   "source": [
    "print('Summary:')\n",
    "print(summarize(text[98400], ratio=0.5))"
   ]
  },
  {
   "cell_type": "markdown",
   "id": "adaptive-politics",
   "metadata": {},
   "source": [
    "#### 출력 결과 값 리스트로 받기"
   ]
  },
  {
   "cell_type": "code",
   "execution_count": 116,
   "id": "composed-theory",
   "metadata": {},
   "outputs": [
    {
     "name": "stdout",
     "output_type": "stream",
     "text": [
      "Summary:\n",
      "['Madhesi Morcha, an alliance of seven political parties, has withdrawn support to PM Pushpa Kamal Dahal-led Nepal government after it failed to meet a seven-day ultimatum to fulfil their demands including endorsement for the revised Constitution amendment bill.']\n"
     ]
    }
   ],
   "source": [
    "print('Summary:')\n",
    "print(summarize(text[98400], ratio=0.5, split=True)) "
   ]
  },
  {
   "cell_type": "markdown",
   "id": "parliamentary-sapphire",
   "metadata": {},
   "source": [
    "#### 요약문의 크기 조절"
   ]
  },
  {
   "cell_type": "code",
   "execution_count": 118,
   "id": "passing-event",
   "metadata": {},
   "outputs": [
    {
     "name": "stdout",
     "output_type": "stream",
     "text": [
      "Summary:\n",
      "Madhesi Morcha, an alliance of seven political parties, has withdrawn support to PM Pushpa Kamal Dahal-led Nepal government after it failed to meet a seven-day ultimatum to fulfil their demands including endorsement for the revised Constitution amendment bill.\n",
      "The Morcha has 36 seats in the Parliament, but despite the withdrawal of support, there is no immediate threat to the government.\n"
     ]
    }
   ],
   "source": [
    "print('Summary:')\n",
    "print(summarize(text[98400], words=50))"
   ]
  },
  {
   "cell_type": "markdown",
   "id": "novel-emission",
   "metadata": {},
   "source": [
    "#### 요약문 리스트에 담기"
   ]
  },
  {
   "cell_type": "code",
   "execution_count": 113,
   "id": "beneficial-tablet",
   "metadata": {},
   "outputs": [
    {
     "name": "stdout",
     "output_type": "stream",
     "text": [
      "[\"upGrad's Online Power Learning has powered 3 lakh+ careers.\", 'Users get one CRED coin per rupee of bill paid, which can be used to avail rewards from brands like Ixigo, BookMyShow, UberEats, Cult.Fit and more.', 'The match witnessed India getting all out for 92, their seventh lowest total in ODI cricket history.', 'Also, customers have options to insure against Critical Illnesses, Disability and Accidental Death Benefit Rider with a life cover up to the age of 80 years.', 'Speaking about the sexual harassment allegations against Rajkumar Hirani, Sonam Kapoor said, \"I\\'ve known Hirani for many years...What if it\\'s not true, the [#MeToo] movement will get derailed.\" \"In the #MeToo movement, I always believe a woman.', 'Pakistani singer Rahat Fateh Ali Khan has denied receiving any notice from the Enforcement Directorate over allegedly smuggling foreign currency out of India.', \"India's previous lowest ODI total in New Zealand was 108.\", 'Weeks after ex-CBI Director Alok Verma told the Department of Personnel and Training to consider him retired, the Home Ministry asked him to join work on the last day of his fixed tenure as Director on Thursday.', 'Andhra Pradesh CM N Chandrababu Naidu has said, \"When I met then US President Bill Clinton, I addressed him as Mr Clinton, not as \\'sir\\'.', \"Congress candidate Shafia Zubair won the Ramgarh Assembly seat in Rajasthan, by defeating BJP's Sukhwant Singh with a margin of 12,228 votes in the bypoll.\"]\n"
     ]
    }
   ],
   "source": [
    "headlines = []\n",
    "for i in range(len(text)) :\n",
    "    headlines.append(summarize(text[i], ratio=0.5))\n",
    "\n",
    "print(headlines[:10])"
   ]
  },
  {
   "cell_type": "markdown",
   "id": "silver-break",
   "metadata": {},
   "source": [
    "#### 원문과 비교 "
   ]
  },
  {
   "cell_type": "code",
   "execution_count": 114,
   "id": "stuffed-benchmark",
   "metadata": {},
   "outputs": [
    {
     "name": "stdout",
     "output_type": "stream",
     "text": [
      "원문 : Two minor cousins in Uttar Pradesh's Gorakhpur were allegedly repeatedly burnt with tongs and forced to eat human excreta by their family for being friends with two boys from the same school. The cousins revealed their ordeal to the police and Child Welfare Committee after being brought back to Gorakhpur from Nepal, where they had fled to escape the torture.\n",
      "실제 요약 : UP cousins fed human excreta for friendship with boys\n",
      "예측 요약 : Two minor cousins in Uttar Pradesh's Gorakhpur were allegedly repeatedly burnt with tongs and forced to eat human excreta by their family for being friends with two boys from the same school.\n",
      "\n",
      "\n",
      "원문 : Isha Ghosh, an 81-year-old member of Bharat Scouts and Guides (BSG), has been imparting physical and mental training to schoolchildren in Jharkhand for several decades. Chaibasa-based Ghosh reportedly walks seven kilometres daily and spends eight hours conducting physical training, apart from climbing and yoga sessions. She says, \"One should do something for society till one's last breath.\"\n",
      "실제 요약 : 81-yr-old woman conducts physical training in J'khand schools\n",
      "예측 요약 : Isha Ghosh, an 81-year-old member of Bharat Scouts and Guides (BSG), has been imparting physical and mental training to schoolchildren in Jharkhand for several decades.\n",
      "\n",
      "\n",
      "원문 : Urging saints and seers at the Kumbh Mela to quit smoking, Yoga guru Ramdev said, \"We follow Ram and Krishna who never smoked in their life then why should we?\" Making them take a pledge to quit tobacco, he collected chillum (clay pipe) from several sadhus. He said he will deposit the chillums for display at a museum he'll build.\n",
      "실제 요약 : Ram, Krishna didn't smoke, why should we: Ramdev to sadhus at Kumbh\n",
      "예측 요약 : Urging saints and seers at the Kumbh Mela to quit smoking, Yoga guru Ramdev said, \"We follow Ram and Krishna who never smoked in their life then why should we?\" Making them take a pledge to quit tobacco, he collected chillum (clay pipe) from several sadhus.\n",
      "\n",
      "\n",
      "원문 : Former stripper and regional sales director of a pharmaceutical company, Sunrise Lee, gave a doctor a lap dance in a nightclub to persuade him to prescribe an addictive fentanyl spray in 2012, the company's sales representative told a US court. She said she saw Lee \"sitting on [doctor's] lap, kind of bouncing around.\" Lee has been accused of bribing doctors.\n",
      "실제 요약 : Pharma exec gave doctor a lap dance to sell medicine in US: Witness\n",
      "예측 요약 : Former stripper and regional sales director of a pharmaceutical company, Sunrise Lee, gave a doctor a lap dance in a nightclub to persuade him to prescribe an addictive fentanyl spray in 2012, the company's sales representative told a US court.\n",
      "\n",
      "\n",
      "원문 : Reliance Industries' Chairman Mukesh Ambani's daughter Isha Ambani, who got married last month, said she only cried at her 'bidaai' because she felt peer pressure as everyone was crying, especially her parents. \"I was emotional too but everyone around me would cry all the time,\" she added. \"It was a very emotional affair for everyone in my family,\" said Isha.\n",
      "실제 요약 :  I only cried at my 'bidaai' as I felt peer pressure: Isha Ambani\n",
      "예측 요약 : \"It was a very emotional affair for everyone in my family,\" said Isha.\n",
      "\n",
      "\n",
      "원문 : Louis Vuitton owner LVMH, which makes high-end beverages like MoÃÂ«t & Chandon champagne and Hennessy cognac, said it's stockpiling four months' worth of wine and spirits in UK in preparation for Brexit. \"We're ready for worst case scenario if there are difficulties with deliveries,\" the French luxury giant said. The UK is scheduled to leave the EU on March 29.\n",
      "실제 요약 : Louis Vuitton owner to stockpile 4 months of wine, spirits in UK\n",
      "예측 요약 : Louis Vuitton owner LVMH, which makes high-end beverages like MoÃÂ«t & Chandon champagne and Hennessy cognac, said it's stockpiling four months' worth of wine and spirits in UK in preparation for Brexit.\n",
      "\n",
      "\n",
      "원문 : Filmmaker Karan Johar and actress Tabu turned showstoppers for Gaurav Gupta on the opening night of LakmÃÂ© Fashion Week Summer/ Resort 2019. While Johar wore a red sequinned jacket with black pants, Tabu walked the ramp in a grey embellished gown. The fashion show, which began on January 29, will continue till February 3.\n",
      "실제 요약 : Karan Johar, Tabu turn showstoppers on opening night of LFW\n",
      "예측 요약 : Filmmaker Karan Johar and actress Tabu turned showstoppers for Gaurav Gupta on the opening night of LakmÃÂ© Fashion Week Summer/ Resort 2019.\n",
      "\n",
      "\n",
      "원문 : In a jibe at Congress President Rahul Gandhi, PM Narendra Modi on Wednesday said those on \"bail will have to go to jail.\" PM Modi added, \"He is out on bail and his associates too are facing charges...I know they will be convicted one day.\" The PM claimed he'd waged a war on corruption because he's from a common household. \n",
      "실제 요약 : Those on bail will go to jail: PM Modi takes jibe at Rahul\n",
      "예측 요약 : \n",
      "\n",
      "\n",
      "원문 : Days after he threatened to step down from his post if Congress MLAs continue \"crossing the line,\" Karnataka Chief Minister HD Kumaraswamy accused them of taking potshots and asked, \"How many more days can I tolerate such stuff?\" Kumaraswamy, who made the statements after a Congress MLA demanded that Siddaramaiah be made CM again, said, \"Power is ephemeral.\"\n",
      "실제 요약 : How long can I tolerate Congress leaders' potshots: K'taka CM\n",
      "예측 요약 : \n",
      "\n",
      "\n",
      "원문 : Union Minister Dharmendra Pradhan on Wednesday claimed the illegal mining mafia in Odisha operates under the control of CM Naveen Patnaik and state Congress chief Niranjan Patnaik. He added, \"The time has come for the people of Odisha to put a full stop to their activities...The time has come for us to ask for an explanation from this corrupt government.\"\n",
      "실제 요약 : Odisha CM Patnaik controls mining mafia: Union Minister\n",
      "예측 요약 : Union Minister Dharmendra Pradhan on Wednesday claimed the illegal mining mafia in Odisha operates under the control of CM Naveen Patnaik and state Congress chief Niranjan Patnaik.\n",
      "\n",
      "\n",
      "원문 : Claiming there is a dearth of ideas among opposition parties, Prime Minister Narendra Modi on Wednesday said, \"The opposition talks only about Modi the whole day, I suspect they even dream about me.\" PM Modi, who was addressing the New India Youth Conclave inÃ¢ÂÂ Surat, added that the opposition parties have only one agenda which is \"Modi\". \n",
      "실제 요약 : I think the opposition even dreams about me: PM Modi\n",
      "예측 요약 : \n",
      "\n",
      "\n",
      "원문 : The Indian Space Research Organisation on Wednesday unveiled Human Space Flight Centre in Bengaluru for its Ã¢ÂÂ¹10,000-crore manned space mission 'Gaganyaan' scheduled for 2021. ISRO said the centre will be responsible for development of engineering systems for crew survival in space and crew selection and training. It'll also pursue activities for sustained human space flight missions, ISRO added.\n",
      "실제 요약 : ISRO unveils Bengaluru centre for manned space mission \n",
      "예측 요약 : It'll also pursue activities for sustained human space flight missions, ISRO added.\n",
      "\n",
      "\n",
      "원문 : At least 12 people have been killed and 170 others have been injured in Saudi Arabia this week due to flooding from heavy rain. The emergency services rescued 271 people from the flooded areas, more than half of them in Tabuk. Heavy rains hit mainly western and northwestern parts of Saudi Arabia, near its border with Jordan.\n",
      "실제 요약 : 12 killed, 170 injured in Saudi Arabia floods\n",
      "예측 요약 : At least 12 people have been killed and 170 others have been injured in Saudi Arabia this week due to flooding from heavy rain.\n",
      "\n",
      "\n",
      "원문 : Reliance Industries' Chairman Mukesh Ambani's daughter Isha Ambani has featured on the cover of the February edition of Vogue India. She's dressed in a white shirt dress and black ruffled skirt by Australian designer Toni Maticevski, while accessorising her look with a Misho ring. In the cover story on her, Isha has spoken about her work and life after marriage.\n",
      " \n",
      "실제 요약 : Isha Ambani features on February cover of Vogue magazine\n",
      "예측 요약 : Reliance Industries' Chairman Mukesh Ambani's daughter Isha Ambani has featured on the cover of the February edition of Vogue India.\n",
      "\n",
      "\n",
      "원문 : Indian Oil Corporation on Wednesday said it's looking for an annual deal to buy US crude as it seeks to broaden oil purchasing options. This comes amid uncertainties over Iran imports. The US had in November granted a six-month waiver to India from sanctions against Iran and restricted the country's monthly intake of Iranian oil to 3,00,000 barrels per day.\n",
      "\n",
      "\n",
      "실제 요약 : Indian Oil looking for annual deal to buy crude from US\n",
      "예측 요약 : The US had in November granted a six-month waiver to India from sanctions against Iran and restricted the country's monthly intake of Iranian oil to 3,00,000 barrels per day.\n",
      "\n",
      "\n",
      "원문 : Former Windies fast bowler Curtly Ambrose dismissed seven Australian batsmen within a span of 32 balls giving away just one run, in a Test match on January 30, 1993. Ambrose's spell helped his team bowl out Australia for 119 in the first innings, after being 85 for 2 at one point. Ambrose ended with first-innings figures of 18-9-25-7.\n",
      "실제 요약 : Pacer once took 7 wickets for just 1 run in 32 balls in a Test\n",
      "예측 요약 : Ambrose ended with first-innings figures of 18-9-25-7.\n",
      "\n",
      "\n",
      "원문 : A London zoo is offering people to name a cockroach after their exes on Valentine's Day for ÃÂ£1.50 (nearly Ã¢ÂÂ¹140). \"For those that don't quite require revenge, there's another way to make you feel better about getting back at your ex,\" the zoo said in a statement. The names will appear on zoo's 'roach board' on February 14. \n",
      "실제 요약 : UK zoo offers people to name cockroach after their ex on Valentine's\n",
      "예측 요약 : The names will appear on zoo's 'roach board' on February 14.\n",
      "\n",
      "\n",
      "원문 : Stand-in captain Rohit Sharma has become the 14th Indian cricketer to play 200 ODIs, achieving the feat after taking the field against New Zealand in fourth ODI at Hamilton on Thursday. The 31-year-old had made his ODI debut on June 23, 2007, against Ireland in Belfast. Rohit scored 7,799 runs in his first 199 ODIs at an average of 48.14.\n",
      "실제 요약 : Rohit Sharma becomes 14th Indian cricketer to play 200 ODIs\n",
      "예측 요약 : Rohit scored 7,799 runs in his first 199 ODIs at an average of 48.14.\n",
      "\n",
      "\n",
      "원문 : Batsman Shubman Gill has become the 227th cricketer to represent India in ODI cricket, achieving the feat against New Zealand in the fourth ODI at Hamilton on Thursday. The 19-year-old received his maiden ODI cap from former captain MS Dhoni. Notably, Shubman was named Player of the Under-19 World Cup in New Zealand last year.\n",
      "실제 요약 : 19-year-old Shubman Gill becomes India's 227th ODI cricketer\n",
      "예측 요약 : Notably, Shubman was named Player of the Under-19 World Cup in New Zealand last year.\n",
      "\n",
      "\n",
      "원문 : Investigators searching for a lost plane carrying Argentine forward Emiliano Sala found two seat cushions on French coast that \"likely\" belonged to the aircraft. The investigators said they'll now launch an underwater seabed search for aircraft wreckage. The Cardiff City footballer was travelling from France's Nantes to Wales' Cardiff when his plane disappeared over English Channel on January 21.\n",
      "실제 요약 : 2 seat cushions from 'missing plane carrying footballer' found\n",
      "예측 요약 : Investigators searching for a lost plane carrying Argentine forward Emiliano Sala found two seat cushions on French coast that \"likely\" belonged to the aircraft.\n",
      "\n",
      "\n",
      "원문 : Italian third division football side Lucchese's head coach Giancarlo Favarin has been banned for five months for headbutting Alessandria's assistant coach Gaetano Mancino during a brawl following the teams' 2-2 draw on Sunday. Mancino was caught off-balance and knocked to the ground after the headbutt. Earlier in the match, Favarin had told his own player to break an opponent's legs.\n",
      "실제 요약 : Italian coach knocks rival down with headbutt, banned for 5 months\n",
      "예측 요약 : Italian third division football side Lucchese's head coach Giancarlo Favarin has been banned for five months for headbutting Alessandria's assistant coach Gaetano Mancino during a brawl following the teams' 2-2 draw on Sunday.\n",
      "\n",
      "\n",
      "원문 : Cyclists taking part in National Track Cycling Championship in Jaipur opted to sleep on the floor inside the stadium instead of hotels over expensive cycles. The organisers had booked hotels but they didn't have the provision for cyclists to keep their bikes inside. A national gold medallist said their cycles cost between Ã¢ÂÂ¹5-9 lakh and once damaged, they become non-repairable. \n",
      "실제 요약 : Cyclists sleep on stadium floor instead of hotel over costly cycles\n",
      "예측 요약 : Cyclists taking part in National Track Cycling Championship in Jaipur opted to sleep on the floor inside the stadium instead of hotels over expensive cycles.\n",
      "\n",
      "\n",
      "원문 : Silvia Grecco, a 56-year-old Brazilian mother narrates her local football team Palmeiras' matches live to her 12-year-old blind and autistic son Nickollas from the stands. \"I describe details: this player is wearing short sleeves...colour of...football boots, hair colour...Everything I see and feel, I tell him, even when I need to curse the referee!\" Grecco said after a recent match.\n",
      "실제 요약 : Brazilian mother narrates football matches to blind son from stands\n",
      "예측 요약 : Silvia Grecco, a 56-year-old Brazilian mother narrates her local football team Palmeiras' matches live to her 12-year-old blind and autistic son Nickollas from the stands.\n",
      "\n",
      "\n",
      "원문 : A TechCrunch report has claimed that IndiaÃ¢ÂÂs largest bank SBI secured a passwordless server \"overnight\" on being alerted it allowed anyone to access phone numbers, bank balances, and transactions of millions of its customers. The Mumbai-based server was containing two months of data from SBI Quick, an SMS and call-based system used to request basic information about accounts, TechCrunch revealed.\n",
      "실제 요약 : SBI left account data of millions of users unprotected: Report\n",
      "예측 요약 : A TechCrunch report has claimed that IndiaÃ¢ÂÂs largest bank SBI secured a passwordless server \"overnight\" on being alerted it allowed anyone to access phone numbers, bank balances, and transactions of millions of its customers.\n",
      "\n",
      "\n",
      "원문 : Rahul Gandhi has replied to Goa CM Manohar Parrikar's letter, which accused the Congress President of using his \"visit to an ailing man for political gains\". \"He's under immense pressure from the PM after our meeting and needs to demonstrate his loyalty by attacking me,\" Gandhi wrote in his letter. Parrikar had clarified he didn't discuss Rafale deal with Rahul.\n",
      "실제 요약 : CM Parrikar under pressure from PM after our Goa meet: Rahul\n",
      "예측 요약 : Rahul Gandhi has replied to Goa CM Manohar Parrikar's letter, which accused the Congress President of using his \"visit to an ailing man for political gains\".\n",
      "\n",
      "\n",
      "원문 : Twenty-seven-year-old Mohammed Mahuwala was arrested in Indore on Wednesday for allegedly cheating e-commerce giant Amazon of nearly Ã¢ÂÂ¹30 lakh. Mahuwala was a member of a gang who ordered costly gadgets from Amazon. \"[They] used to get refund of the amount paid...by saying the parcel...was empty. In reality, these devices were taken out from parcel and sold...to local shopkeepers,\" said police.\n",
      "실제 요약 : Man arrested for cheating Amazon of Ã¢ÂÂ¹30 lakh by taking refunds\n",
      "예측 요약 : Twenty-seven-year-old Mohammed Mahuwala was arrested in Indore on Wednesday for allegedly cheating e-commerce giant Amazon of nearly Ã¢ÂÂ¹30 lakh.\n",
      "Mahuwala was a member of a gang who ordered costly gadgets from Amazon.\n",
      "\n",
      "\n",
      "원문 : AgustaWestland chopper scam co-accused Rajiv Saxena was extradited to India from UAE on Wednesday. He had been evading the Enforcement Directorate's summons claiming he was suffering from leukaemia but had moved an anti-money laundering court for anticipatory bail in December, stating he had never been summoned at his Dubai address. Saxena's lawyers alleged he had been \"illegally extradited\". \n",
      "실제 요약 : AgustaWestland scam accused Rajiv Saxena extradited to India\n",
      "예측 요약 : AgustaWestland chopper scam co-accused Rajiv Saxena was extradited to India from UAE on Wednesday.\n",
      "\n",
      "\n",
      "원문 : Afghan President Ashraf Ghani has said the \"keys to war\" are in Pakistan's Islamabad, Quetta and Rawalpindi, accusing the country of providing safe havens to militants, including those belonging to the Taliban. Ghani added the \"key to peace was in Afghanistan\". His comments came amid the talks between the US and the Taliban to end the 17-year war in Afghanistan.\n",
      "실제 요약 : Pakistan holds 'keys to war': Afghanistan\n",
      "예측 요약 : Afghan President Ashraf Ghani has said the \"keys to war\" are in Pakistan's Islamabad, Quetta and Rawalpindi, accusing the country of providing safe havens to militants, including those belonging to the Taliban.\n",
      "\n",
      "\n",
      "원문 : A Singapore-based insurance agent has been jailed for two years and five months for threatening to harm his clients unless they paid him in bitcoins. The 36-year-old set up an email account, and signed the messages as 'Lord Voldemort', a fictional character from the Harry Potter series. Ye Lin Myint targeted about 33 people, including those who cancelled insurance policies.\n",
      "실제 요약 : Insurance agent 'Lord Voldemort' jailed for threatening clients\n",
      "예측 요약 : A Singapore-based insurance agent has been jailed for two years and five months for threatening to harm his clients unless they paid him in bitcoins.\n",
      "\n",
      "\n",
      "원문 : Gabrielle Reilly, a 22-year-old US woman, created earrings for her Apple AirPods and put it up for sale online for $20 (about Ã¢ÂÂ¹1,500). \"I absolutely refuse to lose them (AirPods)...So I made earrings,\" she explained. The earrings, which took her over an hour to make, debuted in a video on Twitter that has since garnered over three million views.\n",
      "실제 요약 : Woman turns Apple AirPods into earrings to avoid losing them\n",
      "예측 요약 : \"I absolutely refuse to lose them (AirPods)...So I made earrings,\" she explained.\n",
      "\n",
      "\n",
      "원문 : Ex-ICICI Bank CEO Chanda Kochhar said she's \"utterly disappointed, hurt and shocked\" by the bank's decision to terminate her. Kochhar said she served ICICI for 34 years with utmost honesty and integrity and that ultimately truth will prevail. Adding that she hasn't been given a copy of the independent probe report, Kochhar said none of ICICI's credit decisions are unilateral\n",
      "실제 요약 : Shocked, hurt by ICICI's decision, truth will prevail: Kochhar\n",
      "예측 요약 : Adding that she hasn't been given a copy of the independent probe report, Kochhar said none of ICICI's credit decisions are unilateral\n",
      "\n",
      "\n",
      "원문 : Swedish multinational fast-fashion brand Hennes & Mauritz AB (H&M) has hired Christopher Wylie, the whistleblower who exposed Facebook's Cambridge Analytica data scandal. WylieÃ¢ÂÂs focus will be to help get better insights on customers, products and markets and support work on sustainable and ethical artificial intelligence, H&M spokesperson said. Wylie is a former employee of Cambridge Analytica.\n",
      "실제 요약 : Fashion brand H&M hires Facebook data scandal whistleblower\n",
      "예측 요약 : Swedish multinational fast-fashion brand Hennes & Mauritz AB (H&M) has hired Christopher Wylie, the whistleblower who exposed Facebook's Cambridge Analytica data scandal.\n",
      "\n",
      "\n",
      "원문 : Micro-blogging platform Twitter is testing a new feature on Android to put news on the top of a user's timeline. \"With this update, weÃ¢ÂÂre making it easier for people to see news and stories their followers have been discussing,\" Product Manager Walter Gurzynski said. The feature comes alongside a prompt saying, \"Catch up on what's happened while you were away.\"\n",
      "실제 요약 : Twitter testing news-first timeline feature on Android\n",
      "예측 요약 : Micro-blogging platform Twitter is testing a new feature on Android to put news on the top of a user's timeline.\n",
      "\n",
      "\n",
      "원문 : Samsung has started mass producing its one terabyte 'embedded Universal Flash Storage (eUFS) 2.1' technology for \"use in next-generation mobile applications\", which it claims is the industry's first such eUFS. The company added the new eUFS will let smartphones store 260 10-minute videos shot in 4K UHD format. It'll be sized the same as the previous 512GB version, Samsung said.\n",
      "실제 요약 : Samsung builds world's first 1TB storage chip for smartphones \n",
      "예측 요약 : Samsung has started mass producing its one terabyte 'embedded Universal Flash Storage (eUFS) 2.1' technology for \"use in next-generation mobile applications\", which it claims is the industry's first such eUFS.\n",
      "\n",
      "\n",
      "원문 : Prime Minister Narendra Modi on Wednesday said the people with 'negative mindset' are questioning him and his government for floating pro-poor schemes. He added negative mindset people are raising doubts about schemes such as building toilets and providing free gas connections to the poor. He further said that negative mentality laced with a vested interest still exists in the country.\n",
      "실제 요약 : People with 'negative mindset' quizzing pro-poor schemes: PM\n",
      "예측 요약 : Prime Minister Narendra Modi on Wednesday said the people with 'negative mindset' are questioning him and his government for floating pro-poor schemes.\n",
      "\n",
      "\n",
      "원문 : Union Minister Anantkumar Hegde took a dig at Congress President Rahul Gandhi by calling him a \"hybrid specimen\" who has no clue about religion. \"A father who's...Muslim, a mother who's...Christian and the son is supposed to be...Brahmin. How is that even possible?\" he said. He added such \"hybrid specimen\" cannot be found in any laboratory in the world.\n",
      "실제 요약 : Rahul is hybrid specimen, has no clue about religion: Hegde\n",
      "예측 요약 : Union Minister Anantkumar Hegde took a dig at Congress President Rahul Gandhi by calling him a \"hybrid specimen\" who has no clue about religion.\n",
      "He added such \"hybrid specimen\" cannot be found in any laboratory in the world.\n",
      "\n",
      "\n",
      "원문 : Several parts of the US are set to experience record low temperatures as the polar vortex hit the Upper Midwest, with more than 200 million people expected to experience below-freezing temperatures this week. Temperatures throughout the Upper Midwest are expected to be at least 20-40Ã¢ÂÂ below zero. Government offices and schools have been closed in several areas.\n",
      "실제 요약 : Extreme cold to affect 200 million people as polar vortex hits US\n",
      "예측 요약 : Several parts of the US are set to experience record low temperatures as the polar vortex hit the Upper Midwest, with more than 200 million people expected to experience below-freezing temperatures this week.\n",
      "\n",
      "\n",
      "원문 : The police on Wednesday registered cases against 13 persons, including a woman leader of Hindu Mahasabha, in Aligarh for firing at an effigy of Mahatma Gandhi with an air pistol. \"The incident took place in a house in Naurangabad locality of the city,\" Senior Superintendent of Police said. The video of the event went viral on social media, he added.\n",
      "실제 요약 : 13 booked for firing air shots at Mahatma Gandhi's effigy\n",
      "예측 요약 : The police on Wednesday registered cases against 13 persons, including a woman leader of Hindu Mahasabha, in Aligarh for firing at an effigy of Mahatma Gandhi with an air pistol.\n",
      "\n",
      "\n",
      "원문 : Railway police has rescued a woman travelling on a train in Chennai who got her leg stuck inside the commode of a toilet. After being caught inside the commode hole, she struggled to remove her leg and following failed attempts, she shouted for help, reports said. Railway police used a cutter to pry open the commode and freed her leg.\n",
      "실제 요약 : Railway police rescues woman with leg stuck in train toilet\n",
      "예측 요약 : Railway police has rescued a woman travelling on a train in Chennai who got her leg stuck inside the commode of a toilet.\n",
      "\n",
      "\n",
      "원문 : The US on Tuesday began returning asylum seekers to Mexico, sending back a migrant from a Central American nation and called the move a \"response to the illegal migration crisis\" faced by it. Under its Migrant Protection Protocols policy, the US will return certain migrants who cross into the country illegally back to Mexico while their asylum requests are processed.\n",
      "실제 요약 : US begins sending back asylum seekers to Mexico\n",
      "예측 요약 : The US on Tuesday began returning asylum seekers to Mexico, sending back a migrant from a Central American nation and called the move a \"response to the illegal migration crisis\" faced by it.\n",
      "\n",
      "\n"
     ]
    }
   ],
   "source": [
    "for i in range(10, 50):\n",
    "    print(\"원문 :\", text[i])\n",
    "    print(\"실제 요약 :\", news[i])\n",
    "    print(\"예측 요약 :\", headlines[i])\n",
    "    print(\"\\n\")"
   ]
  },
  {
   "cell_type": "markdown",
   "id": "optimum-evanescence",
   "metadata": {},
   "source": [
    "### 프로젝트를 마치며..."
   ]
  },
  {
   "cell_type": "markdown",
   "id": "thorough-greenhouse",
   "metadata": {},
   "source": [
    "### 노드를 학습하고 나서 데이터 전처리 및 모델들을 불러오고 학습하며 요약 하는데 크게 문제는 없었다. 다만 훈련하는데 시간이 많이 들었다는점을 빼면...?!  그리고 생소한 개념들을 있었고 이해하는데 어려웠다...  익스 노드를 하면서 개념들을 다 이해 하는 날까지 열심히 해야겠다."
   ]
  }
 ],
 "metadata": {
  "kernelspec": {
   "display_name": "aiffel",
   "language": "python",
   "name": "aiffel"
  },
  "language_info": {
   "codemirror_mode": {
    "name": "ipython",
    "version": 3
   },
   "file_extension": ".py",
   "mimetype": "text/x-python",
   "name": "python",
   "nbconvert_exporter": "python",
   "pygments_lexer": "ipython3",
   "version": "3.7.9"
  }
 },
 "nbformat": 4,
 "nbformat_minor": 5
}
