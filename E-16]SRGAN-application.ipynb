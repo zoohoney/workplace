{
 "cells": [
  {
   "cell_type": "markdown",
   "id": "owned-boating",
   "metadata": {},
   "source": [
    "# 프로젝트 : SRGAN 활용"
   ]
  },
  {
   "cell_type": "markdown",
   "id": "dated-yorkshire",
   "metadata": {},
   "source": [
    "## Step 1. 직접 고른 이미지로 SRGAN 실험하기"
   ]
  },
  {
   "cell_type": "markdown",
   "id": "turned-complexity",
   "metadata": {},
   "source": [
    "이제 여러분이 직접 다른 이미지를 사용해 볼 차례입니다.\n",
    "\n",
    "앞서 사용했던 DIV2K 데이터셋은 bicubic interpolation을 이용해 가로 및 세로 픽셀 수를 1/4로 줄인 저해상도 이미지와 원래 고해상도 이미지 사이에서 학습되었습니다. 이 데이터셋으로 학습된 SRGAN를 이용해 좋은 결과를 얻기 위해서는 위와 같은 과정이 동일하게 진행되는 것이 좋습니다.\n",
    "\n",
    "아래와 같이 두 가지 다른 단계를 거쳐서 직접 고른 이미지에 대해 SRGAN을 적용해 봅시다. (모델 학습을 진행하는 건 아닙니다❗) 테스트할 이미지를 고를 때, DIV2K 의 학습 데이터셋과 비슷한 종류의 이미지가 좋습니다. 일반적으로 자연, 동물, 건물 등의 이미지가 학습에 사용되었으며, 이와 달리 애니메이션 등의 이미지는 고해상도로 잘 변환되지 않을 수 있습니다.\n",
    "\n",
    "특정 데이터셋에서만 학습되었기 때문에, 일반적으로 좋지 않은 결과가 나올 가능성이 높습니다. 결과와 상관없이 아래 과정만 잘 수행해봅시다."
   ]
  },
  {
   "cell_type": "markdown",
   "id": "powerful-return",
   "metadata": {},
   "source": [
    "### Step 1-1.\n",
    "\n",
    "(적당히) 높은 해상도를 가진 이미지를 검색해서 한 장 고른 후 저장하고 불러옵니다.\n",
    "불러온 이미지에 bicubic interpolation을 적용해 가로 및 세로 픽셀 수를 1/4로 줄입니다. cv2.resize()를 사용해 봅시다.\n",
    "줄인 저해상도 이미지를 입력으로 SRGAN을 이용해 고해상도 이미지를 생성합니다. 이전에 사용한 apply_srgan 함수를 사용하면 쉽습니다.\n",
    "2.의 이미지에 bicubic interpolation을 적용해 가로 및 세로 픽셀 수를 다시 4배로 늘립니다. 마찬가지로 cv2.resize()를 사용해 봅시다.\n",
    "3개 이미지(4.의 Bicubic의 결과, 3.의 SRGAN의 결과, 1.의 원래 고해상도 이미지)를 나란히 시각화합니다. 각 이미지의 제목에 어떤 방법에 대한 결과인지 표시해 주세요. 이전 시각화에 사용했던 코드를 참고하면 어렵지 않습니다.\n",
    "선택한 이미지를 DIV2K 데이터셋에서 학습된 모델로 Super Resolution했을 때 어떠한 결과가 나왔으며, 왜 이러한 결과가 출력되었는지 설명해 봅시다. (정답은 없습니다)\n"
   ]
  },
  {
   "cell_type": "markdown",
   "id": "incorporated-contents",
   "metadata": {},
   "source": [
    "### Step 1-2.\n",
    "(적당히) 낮은 해상도를 가진 이미지를 검색해서 한 장 고른 후 저장하고 불러옵니다.\n",
    "불러온 이미지를 입력으로 SRGAN을 이용해 고해상도 이미지를 생성합니다. 이전에 사용한 apply_srgan 함수를 사용하면 쉽습니다.\n",
    "1.에서 불러온 이미지에 bicubic interpolation을 적용해 가로 및 세로 픽셀 수를 다시 4배로 늘립니다. cv2.resize()를 사용해 봅시다.\n",
    "2개 이미지(3.의 Bicubic의 결과, 2.의 SRGAN의 결과)를 나란히 시각화합니다. 각 이미지의 제목에 어떤 방법에 대한 결과인지 표시해 주세요. 이전 시각화에 사용했던 코드를 참고하면 어렵지 않습니다.\n",
    "선택한 이미지를 DIV2K 데이터셋에서 학습된 모델로 Super Resolution했을 때 어떠한 결과가 나왔으며, 왜 이러한 결과가 출력되었는지 설명해 봅시다. (정답은 없습니다)\n",
    "\n"
   ]
  },
  {
   "cell_type": "markdown",
   "id": "surprising-universe",
   "metadata": {},
   "source": [
    "## Step 2. SRGAN을 이용해 고해상도 gif 생성하기"
   ]
  },
  {
   "cell_type": "markdown",
   "id": "hairy-average",
   "metadata": {},
   "source": [
    "이전 Super Resolution의 활용 사례에 대해 살펴봤을 때, 단일 이미지가 아닌 영상에 대해 Super Resolution을 적용한 사례가 있었습니다. 이번에는 이미 학습된 SRGAN을 이용해 저해상도 영상을 고해상도 영상으로 바꿔보는 프로젝트를 수행해 봅시다.\n",
    "\n",
    "실제로 동영상의 Super Resolution은 시간 순서에 따른 다수의 프레임 정보를 고려하는 것이 더 좋지만, 처음부터 학습시키기에 많은 시간이 소요됩니다. 여기서는 이전에 사용했던 SRGAN을 이용해 한 프레임씩 고해상도 이미지로 변환 시켜 모든 프레임에 대해 적용하고, 그 프레임들을 합쳐 동영상으로 만들어 봅시다.\n",
    "\n",
    "각 프레임들을 모아 gif 파일을 만드는데 아래 라이브러리의 설치가 필요합니다."
   ]
  },
  {
   "cell_type": "markdown",
   "id": "ordinary-atlas",
   "metadata": {},
   "source": [
    "### Step 2-1."
   ]
  },
  {
   "cell_type": "code",
   "execution_count": null,
   "id": "fleet-stretch",
   "metadata": {},
   "outputs": [],
   "source": []
  },
  {
   "cell_type": "markdown",
   "id": "chinese-istanbul",
   "metadata": {},
   "source": [
    "### Step 2-2."
   ]
  },
  {
   "cell_type": "code",
   "execution_count": null,
   "id": "current-armstrong",
   "metadata": {},
   "outputs": [],
   "source": []
  },
  {
   "cell_type": "markdown",
   "id": "contained-violation",
   "metadata": {},
   "source": [
    "### Step 2-3."
   ]
  },
  {
   "cell_type": "code",
   "execution_count": null,
   "id": "afraid-princeton",
   "metadata": {},
   "outputs": [],
   "source": []
  },
  {
   "cell_type": "markdown",
   "id": "impaired-enterprise",
   "metadata": {},
   "source": [
    "### Step 2-4."
   ]
  },
  {
   "cell_type": "code",
   "execution_count": null,
   "id": "terminal-guatemala",
   "metadata": {},
   "outputs": [],
   "source": []
  }
 ],
 "metadata": {
  "kernelspec": {
   "display_name": "aiffel",
   "language": "python",
   "name": "aiffel"
  },
  "language_info": {
   "codemirror_mode": {
    "name": "ipython",
    "version": 3
   },
   "file_extension": ".py",
   "mimetype": "text/x-python",
   "name": "python",
   "nbconvert_exporter": "python",
   "pygments_lexer": "ipython3",
   "version": "3.7.9"
  },
  "toc": {
   "base_numbering": 1,
   "nav_menu": {},
   "number_sections": true,
   "sideBar": true,
   "skip_h1_title": false,
   "title_cell": "Table of Contents",
   "title_sidebar": "Contents",
   "toc_cell": false,
   "toc_position": {},
   "toc_section_display": true,
   "toc_window_display": false
  }
 },
 "nbformat": 4,
 "nbformat_minor": 5
}
