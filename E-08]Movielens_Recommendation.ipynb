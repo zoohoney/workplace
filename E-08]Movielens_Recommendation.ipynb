{
 "cells": [
  {
   "cell_type": "markdown",
   "id": "harmful-tract",
   "metadata": {},
   "source": [
    "# 프로젝트: Movielens 영화 추천 "
   ]
  },
  {
   "cell_type": "markdown",
   "id": "controversial-venue",
   "metadata": {},
   "source": [
    "### 1) 데이터 준비와 전처리"
   ]
  },
  {
   "cell_type": "markdown",
   "id": "sensitive-healing",
   "metadata": {},
   "source": [
    "Movielens 데이터는 rating.dat 안에 이미 인덱싱까지 완료된 사용자-영화-평점 데이터가 깔끔하게 정리되어 있습니다."
   ]
  },
  {
   "cell_type": "code",
   "execution_count": 1,
   "id": "backed-deposit",
   "metadata": {},
   "outputs": [
    {
     "data": {
      "text/html": [
       "<div>\n",
       "<style scoped>\n",
       "    .dataframe tbody tr th:only-of-type {\n",
       "        vertical-align: middle;\n",
       "    }\n",
       "\n",
       "    .dataframe tbody tr th {\n",
       "        vertical-align: top;\n",
       "    }\n",
       "\n",
       "    .dataframe thead th {\n",
       "        text-align: right;\n",
       "    }\n",
       "</style>\n",
       "<table border=\"1\" class=\"dataframe\">\n",
       "  <thead>\n",
       "    <tr style=\"text-align: right;\">\n",
       "      <th></th>\n",
       "      <th>user_id</th>\n",
       "      <th>movie_id</th>\n",
       "      <th>rating</th>\n",
       "      <th>timestamp</th>\n",
       "    </tr>\n",
       "  </thead>\n",
       "  <tbody>\n",
       "    <tr>\n",
       "      <th>0</th>\n",
       "      <td>1</td>\n",
       "      <td>1193</td>\n",
       "      <td>5</td>\n",
       "      <td>978300760</td>\n",
       "    </tr>\n",
       "    <tr>\n",
       "      <th>1</th>\n",
       "      <td>1</td>\n",
       "      <td>661</td>\n",
       "      <td>3</td>\n",
       "      <td>978302109</td>\n",
       "    </tr>\n",
       "    <tr>\n",
       "      <th>2</th>\n",
       "      <td>1</td>\n",
       "      <td>914</td>\n",
       "      <td>3</td>\n",
       "      <td>978301968</td>\n",
       "    </tr>\n",
       "    <tr>\n",
       "      <th>3</th>\n",
       "      <td>1</td>\n",
       "      <td>3408</td>\n",
       "      <td>4</td>\n",
       "      <td>978300275</td>\n",
       "    </tr>\n",
       "    <tr>\n",
       "      <th>4</th>\n",
       "      <td>1</td>\n",
       "      <td>2355</td>\n",
       "      <td>5</td>\n",
       "      <td>978824291</td>\n",
       "    </tr>\n",
       "  </tbody>\n",
       "</table>\n",
       "</div>"
      ],
      "text/plain": [
       "   user_id  movie_id  rating  timestamp\n",
       "0        1      1193       5  978300760\n",
       "1        1       661       3  978302109\n",
       "2        1       914       3  978301968\n",
       "3        1      3408       4  978300275\n",
       "4        1      2355       5  978824291"
      ]
     },
     "execution_count": 1,
     "metadata": {},
     "output_type": "execute_result"
    }
   ],
   "source": [
    "import pandas as pd\n",
    "import os\n",
    "rating_file_path=os.getenv('HOME') + '/aiffel/recommendata_iu/data/ml-1m/ratings.dat'\n",
    "ratings_cols = ['user_id', 'movie_id', 'rating', 'timestamp']\n",
    "ratings = pd.read_csv(rating_file_path, sep='::', names=ratings_cols, engine='python')\n",
    "orginal_data_size = len(ratings)\n",
    "ratings.head()"
   ]
  },
  {
   "cell_type": "code",
   "execution_count": 2,
   "id": "cardiovascular-huntington",
   "metadata": {},
   "outputs": [
    {
     "name": "stdout",
     "output_type": "stream",
     "text": [
      "orginal_data_size: 1000209, filtered_data_size: 836478\n",
      "Ratio of Remaining Data is 83.63%\n"
     ]
    }
   ],
   "source": [
    "# 3점 이상만 남깁니다.\n",
    "ratings = ratings[ratings['rating']>=3]\n",
    "filtered_data_size = len(ratings)\n",
    "\n",
    "print(f'orginal_data_size: {orginal_data_size}, filtered_data_size: {filtered_data_size}')\n",
    "print(f'Ratio of Remaining Data is {filtered_data_size / orginal_data_size:.2%}')"
   ]
  },
  {
   "cell_type": "code",
   "execution_count": 3,
   "id": "potential-exploration",
   "metadata": {},
   "outputs": [],
   "source": [
    "# rating 컬럼의 이름을 count로 바꿉니다.\n",
    "ratings.rename(columns={'rating':'like'}, inplace=True)"
   ]
  },
  {
   "cell_type": "code",
   "execution_count": 4,
   "id": "disciplinary-cabinet",
   "metadata": {},
   "outputs": [
    {
     "data": {
      "text/plain": [
       "0          5\n",
       "1          3\n",
       "2          3\n",
       "3          4\n",
       "4          5\n",
       "          ..\n",
       "1000203    3\n",
       "1000205    5\n",
       "1000206    5\n",
       "1000207    4\n",
       "1000208    4\n",
       "Name: like, Length: 836478, dtype: int64"
      ]
     },
     "execution_count": 4,
     "metadata": {},
     "output_type": "execute_result"
    }
   ],
   "source": [
    "ratings['like']"
   ]
  },
  {
   "cell_type": "code",
   "execution_count": 5,
   "id": "developed-elder",
   "metadata": {},
   "outputs": [
    {
     "data": {
      "text/html": [
       "<div>\n",
       "<style scoped>\n",
       "    .dataframe tbody tr th:only-of-type {\n",
       "        vertical-align: middle;\n",
       "    }\n",
       "\n",
       "    .dataframe tbody tr th {\n",
       "        vertical-align: top;\n",
       "    }\n",
       "\n",
       "    .dataframe thead th {\n",
       "        text-align: right;\n",
       "    }\n",
       "</style>\n",
       "<table border=\"1\" class=\"dataframe\">\n",
       "  <thead>\n",
       "    <tr style=\"text-align: right;\">\n",
       "      <th></th>\n",
       "      <th>movie_id</th>\n",
       "      <th>title</th>\n",
       "      <th>genre</th>\n",
       "    </tr>\n",
       "  </thead>\n",
       "  <tbody>\n",
       "    <tr>\n",
       "      <th>0</th>\n",
       "      <td>1</td>\n",
       "      <td>Toy Story (1995)</td>\n",
       "      <td>Animation|Children's|Comedy</td>\n",
       "    </tr>\n",
       "    <tr>\n",
       "      <th>1</th>\n",
       "      <td>2</td>\n",
       "      <td>Jumanji (1995)</td>\n",
       "      <td>Adventure|Children's|Fantasy</td>\n",
       "    </tr>\n",
       "    <tr>\n",
       "      <th>2</th>\n",
       "      <td>3</td>\n",
       "      <td>Grumpier Old Men (1995)</td>\n",
       "      <td>Comedy|Romance</td>\n",
       "    </tr>\n",
       "    <tr>\n",
       "      <th>3</th>\n",
       "      <td>4</td>\n",
       "      <td>Waiting to Exhale (1995)</td>\n",
       "      <td>Comedy|Drama</td>\n",
       "    </tr>\n",
       "    <tr>\n",
       "      <th>4</th>\n",
       "      <td>5</td>\n",
       "      <td>Father of the Bride Part II (1995)</td>\n",
       "      <td>Comedy</td>\n",
       "    </tr>\n",
       "  </tbody>\n",
       "</table>\n",
       "</div>"
      ],
      "text/plain": [
       "   movie_id                               title                         genre\n",
       "0         1                    Toy Story (1995)   Animation|Children's|Comedy\n",
       "1         2                      Jumanji (1995)  Adventure|Children's|Fantasy\n",
       "2         3             Grumpier Old Men (1995)                Comedy|Romance\n",
       "3         4            Waiting to Exhale (1995)                  Comedy|Drama\n",
       "4         5  Father of the Bride Part II (1995)                        Comedy"
      ]
     },
     "execution_count": 5,
     "metadata": {},
     "output_type": "execute_result"
    }
   ],
   "source": [
    "# 영화 제목을 보기 위해 메타 데이터를 읽어옵니다.\n",
    "movie_file_path=os.getenv('HOME') + '/aiffel/recommendata_iu/data/ml-1m/movies.dat'\n",
    "cols = ['movie_id', 'title', 'genre'] \n",
    "#movies = pd.read_csv(movie_file_path, sep='::', names=cols, engine='python')\n",
    "movies = pd.read_csv(movie_file_path, sep='::', names=cols, engine='python', encoding = \"ISO-8859-1\")\n",
    "movies.head()"
   ]
  },
  {
   "cell_type": "code",
   "execution_count": 6,
   "id": "stone-contrast",
   "metadata": {},
   "outputs": [
    {
     "data": {
      "text/html": [
       "<div>\n",
       "<style scoped>\n",
       "    .dataframe tbody tr th:only-of-type {\n",
       "        vertical-align: middle;\n",
       "    }\n",
       "\n",
       "    .dataframe tbody tr th {\n",
       "        vertical-align: top;\n",
       "    }\n",
       "\n",
       "    .dataframe thead th {\n",
       "        text-align: right;\n",
       "    }\n",
       "</style>\n",
       "<table border=\"1\" class=\"dataframe\">\n",
       "  <thead>\n",
       "    <tr style=\"text-align: right;\">\n",
       "      <th></th>\n",
       "      <th>movie_id</th>\n",
       "      <th>title</th>\n",
       "      <th>genre</th>\n",
       "    </tr>\n",
       "  </thead>\n",
       "  <tbody>\n",
       "    <tr>\n",
       "      <th>0</th>\n",
       "      <td>1</td>\n",
       "      <td>toy story (1995)</td>\n",
       "      <td>Animation|Children's|Comedy</td>\n",
       "    </tr>\n",
       "    <tr>\n",
       "      <th>1</th>\n",
       "      <td>2</td>\n",
       "      <td>jumanji (1995)</td>\n",
       "      <td>Adventure|Children's|Fantasy</td>\n",
       "    </tr>\n",
       "    <tr>\n",
       "      <th>2</th>\n",
       "      <td>3</td>\n",
       "      <td>grumpier old men (1995)</td>\n",
       "      <td>Comedy|Romance</td>\n",
       "    </tr>\n",
       "    <tr>\n",
       "      <th>3</th>\n",
       "      <td>4</td>\n",
       "      <td>waiting to exhale (1995)</td>\n",
       "      <td>Comedy|Drama</td>\n",
       "    </tr>\n",
       "    <tr>\n",
       "      <th>4</th>\n",
       "      <td>5</td>\n",
       "      <td>father of the bride part ii (1995)</td>\n",
       "      <td>Comedy</td>\n",
       "    </tr>\n",
       "  </tbody>\n",
       "</table>\n",
       "</div>"
      ],
      "text/plain": [
       "   movie_id                               title                         genre\n",
       "0         1                    toy story (1995)   Animation|Children's|Comedy\n",
       "1         2                      jumanji (1995)  Adventure|Children's|Fantasy\n",
       "2         3             grumpier old men (1995)                Comedy|Romance\n",
       "3         4            waiting to exhale (1995)                  Comedy|Drama\n",
       "4         5  father of the bride part ii (1995)                        Comedy"
      ]
     },
     "execution_count": 6,
     "metadata": {},
     "output_type": "execute_result"
    }
   ],
   "source": [
    "# 검색하기 쉽게 하기위해 타이틀 문자열을 소문자로 변경\n",
    "movies['title'] = movies['title'].str.lower()\n",
    "movies.head()"
   ]
  },
  {
   "cell_type": "markdown",
   "id": "modular-reset",
   "metadata": {},
   "source": [
    "#### 여기까지가 전처리입니다. 이후에는 이전 스텝에 소개했던 것과 동일한 방식으로 MF model을 구성하여 내가 좋아할 만한 영화를 추천해 볼 수 있습니다.\n",
    "\n"
   ]
  },
  {
   "cell_type": "markdown",
   "id": "innovative-church",
   "metadata": {},
   "source": [
    "### 2) 분석해 봅시다."
   ]
  },
  {
   "cell_type": "markdown",
   "id": "medical-lightweight",
   "metadata": {},
   "source": [
    "### ratings에 있는 유니크한 영화 개수"
   ]
  },
  {
   "cell_type": "code",
   "execution_count": 7,
   "id": "drawn-drive",
   "metadata": {},
   "outputs": [
    {
     "data": {
      "text/plain": [
       "3628"
      ]
     },
     "execution_count": 7,
     "metadata": {},
     "output_type": "execute_result"
    }
   ],
   "source": [
    "ratings['movie_id'].nunique()"
   ]
  },
  {
   "cell_type": "markdown",
   "id": "finished-guidance",
   "metadata": {},
   "source": [
    "### rating에 있는 유니크한 사용자 수"
   ]
  },
  {
   "cell_type": "code",
   "execution_count": 8,
   "id": "metropolitan-salad",
   "metadata": {},
   "outputs": [
    {
     "data": {
      "text/plain": [
       "6039"
      ]
     },
     "execution_count": 8,
     "metadata": {},
     "output_type": "execute_result"
    }
   ],
   "source": [
    "ratings['user_id'].nunique()"
   ]
  },
  {
   "cell_type": "code",
   "execution_count": 9,
   "id": "representative-layer",
   "metadata": {},
   "outputs": [],
   "source": [
    "#movie_id 를 영화title 변경 하여 가장 인기 있는 영화에 타이틀이 나오게 했다.\n",
    "ratings['movie_id'] = ratings['movie_id'].replace(movies['title'])"
   ]
  },
  {
   "cell_type": "markdown",
   "id": "rolled-headset",
   "metadata": {},
   "source": [
    "### 가장 인기 있는 영화 30개(인기순)"
   ]
  },
  {
   "cell_type": "code",
   "execution_count": 10,
   "id": "cloudy-evans",
   "metadata": {},
   "outputs": [
    {
     "data": {
      "text/plain": [
       "movie_id\n",
       "passion in the desert (1998)                                                         5.000000\n",
       "perils of pauline, the (1947)                                                        5.000000\n",
       "cup, the (phörpa) (1999)                                                             5.000000\n",
       "old lady who walked in the sea, the (vieille qui marchait dans la mer, la) (1991)    5.000000\n",
       "mchale's navy (1997)                                                                 5.000000\n",
       "eraserhead (1977)                                                                    5.000000\n",
       "guess who's coming to dinner (1967)                                                  5.000000\n",
       "grease 2 (1982)                                                                      5.000000\n",
       "kurt & courtney (1998)                                                               5.000000\n",
       "in the company of men (1997)                                                         5.000000\n",
       "bluebeard (1944)                                                                     5.000000\n",
       "fausto (1993)                                                                        5.000000\n",
       "our town (1940)                                                                      5.000000\n",
       "ed's next move (1996)                                                                5.000000\n",
       "single white female (1992)                                                           5.000000\n",
       "beautiful people (1999)                                                              5.000000\n",
       "two family house (2000)                                                              5.000000\n",
       "butterfly kiss (1995)                                                                5.000000\n",
       "american pop (1981)                                                                  5.000000\n",
       "big trees, the (1952)                                                                4.800000\n",
       "whole nine yards, the (2000)                                                         4.750000\n",
       "big green, the (1995)                                                                4.750000\n",
       "butcher's wife, the (1991)                                                           4.666667\n",
       "10 things i hate about you (1999)                                                    4.666667\n",
       "phantom of the opera, the (1943)                                                     4.666667\n",
       "bats (1999)                                                                          4.647059\n",
       "popeye (1980)                                                                        4.629690\n",
       "they bite (1996)                                                                     4.603774\n",
       "kansas city (1996)                                                                   4.598523\n",
       "strawberry and chocolate (fresa y chocolate) (1993)                                  4.596627\n",
       "Name: like, dtype: float64"
      ]
     },
     "execution_count": 10,
     "metadata": {},
     "output_type": "execute_result"
    }
   ],
   "source": [
    "# 인기 많은 영화 30개  평점 순으로 해보았다.\n",
    "movie_count_rating = ratings.groupby('movie_id')['like'].mean()\n",
    "movie_count_rating.sort_values(ascending=False).head(30)"
   ]
  },
  {
   "cell_type": "markdown",
   "id": "generic-orange",
   "metadata": {},
   "source": [
    "### 3) 내가 선호하는 영화를 5가지 골라서 rating에 추가해 줍시다"
   ]
  },
  {
   "cell_type": "code",
   "execution_count": 11,
   "id": "descending-rates",
   "metadata": {},
   "outputs": [],
   "source": [
    "data = ratings[['user_id','movie_id','like']]"
   ]
  },
  {
   "cell_type": "code",
   "execution_count": 12,
   "id": "instant-welsh",
   "metadata": {},
   "outputs": [
    {
     "data": {
      "text/html": [
       "<div>\n",
       "<style scoped>\n",
       "    .dataframe tbody tr th:only-of-type {\n",
       "        vertical-align: middle;\n",
       "    }\n",
       "\n",
       "    .dataframe tbody tr th {\n",
       "        vertical-align: top;\n",
       "    }\n",
       "\n",
       "    .dataframe thead th {\n",
       "        text-align: right;\n",
       "    }\n",
       "</style>\n",
       "<table border=\"1\" class=\"dataframe\">\n",
       "  <thead>\n",
       "    <tr style=\"text-align: right;\">\n",
       "      <th></th>\n",
       "      <th>user_id</th>\n",
       "      <th>movie_id</th>\n",
       "      <th>like</th>\n",
       "    </tr>\n",
       "  </thead>\n",
       "  <tbody>\n",
       "    <tr>\n",
       "      <th>1000203</th>\n",
       "      <td>6040</td>\n",
       "      <td>leopard son, the (1996)</td>\n",
       "      <td>3</td>\n",
       "    </tr>\n",
       "    <tr>\n",
       "      <th>1000205</th>\n",
       "      <td>6040</td>\n",
       "      <td>bird of prey (1996)</td>\n",
       "      <td>5</td>\n",
       "    </tr>\n",
       "    <tr>\n",
       "      <th>1000206</th>\n",
       "      <td>6040</td>\n",
       "      <td>naked in new york (1994)</td>\n",
       "      <td>5</td>\n",
       "    </tr>\n",
       "    <tr>\n",
       "      <th>1000207</th>\n",
       "      <td>6040</td>\n",
       "      <td>palookaville (1996)</td>\n",
       "      <td>4</td>\n",
       "    </tr>\n",
       "    <tr>\n",
       "      <th>1000208</th>\n",
       "      <td>6040</td>\n",
       "      <td>associate, the (1996)</td>\n",
       "      <td>4</td>\n",
       "    </tr>\n",
       "    <tr>\n",
       "      <th>0</th>\n",
       "      <td>zoo</td>\n",
       "      <td>toystroy</td>\n",
       "      <td>5</td>\n",
       "    </tr>\n",
       "    <tr>\n",
       "      <th>1</th>\n",
       "      <td>zoo</td>\n",
       "      <td>popeye</td>\n",
       "      <td>5</td>\n",
       "    </tr>\n",
       "    <tr>\n",
       "      <th>2</th>\n",
       "      <td>zoo</td>\n",
       "      <td>aerican pop</td>\n",
       "      <td>5</td>\n",
       "    </tr>\n",
       "    <tr>\n",
       "      <th>3</th>\n",
       "      <td>zoo</td>\n",
       "      <td>jumanji</td>\n",
       "      <td>5</td>\n",
       "    </tr>\n",
       "    <tr>\n",
       "      <th>4</th>\n",
       "      <td>zoo</td>\n",
       "      <td>kansas city</td>\n",
       "      <td>5</td>\n",
       "    </tr>\n",
       "  </tbody>\n",
       "</table>\n",
       "</div>"
      ],
      "text/plain": [
       "        user_id                  movie_id  like\n",
       "1000203    6040   leopard son, the (1996)     3\n",
       "1000205    6040       bird of prey (1996)     5\n",
       "1000206    6040  naked in new york (1994)     5\n",
       "1000207    6040       palookaville (1996)     4\n",
       "1000208    6040     associate, the (1996)     4\n",
       "0           zoo                  toystroy     5\n",
       "1           zoo                    popeye     5\n",
       "2           zoo               aerican pop     5\n",
       "3           zoo                   jumanji     5\n",
       "4           zoo               kansas city     5"
      ]
     },
     "execution_count": 12,
     "metadata": {},
     "output_type": "execute_result"
    }
   ],
   "source": [
    "# 본인이 좋아하시는 아티스트 데이터로 바꿔서 추가하셔도 됩니다! 단, 이름은 꼭 데이터셋에 있는 것과 동일하게 맞춰주세요. \n",
    "my_favorite = ['toystroy' , 'popeye' ,'aerican pop' ,'jumanji' ,'kansas city']\n",
    "\n",
    "# 'zimin'이라는 user_id가 위 아티스트의 노래를 30회씩 들었다고 가정하겠습니다.\n",
    "my_playlist = pd.DataFrame({'user_id': ['zoo']*5, 'movie_id': my_favorite, 'like':[5]*5})\n",
    "\n",
    "if not data.isin({'user_id':['zoo']})['user_id'].any():  # user_id에 'zoo'이라는 데이터가 없다면\n",
    "    data = data.append(my_playlist)                           # 위에 임의로 만든 my_favorite 데이터를 추가해 줍니다. \n",
    "\n",
    "data.tail(10)       # 잘 추가되었는지 확인해 봅시다."
   ]
  },
  {
   "cell_type": "code",
   "execution_count": 13,
   "id": "upset-average",
   "metadata": {},
   "outputs": [],
   "source": [
    "# 고유한 유저, 영화를 찾아내는 코드\n",
    "user_unique = data['user_id'].unique()\n",
    "movie_unique = data['movie_id'].unique()\n",
    "\n",
    "# 유저, 영화 indexing 하는 코드 idx는 index의 약자입니다.\n",
    "user_to_idx = {v:k for k,v in enumerate(user_unique)}\n",
    "movie_to_idx = {v:k for k,v in enumerate(movie_unique)}"
   ]
  },
  {
   "cell_type": "code",
   "execution_count": 14,
   "id": "charming-composer",
   "metadata": {},
   "outputs": [
    {
     "name": "stdout",
     "output_type": "stream",
     "text": [
      "6039\n",
      "3628\n"
     ]
    }
   ],
   "source": [
    "# 인덱싱이 잘 되었는지 확인해 봅니다. \n",
    "print(user_to_idx['zoo'])     \n",
    "print(movie_to_idx['toystroy'])"
   ]
  },
  {
   "cell_type": "code",
   "execution_count": 15,
   "id": "favorite-westminster",
   "metadata": {},
   "outputs": [
    {
     "name": "stdout",
     "output_type": "stream",
     "text": [
      "user_id column indexing OK!!\n",
      "movie column indexing OK!!\n"
     ]
    },
    {
     "data": {
      "text/html": [
       "<div>\n",
       "<style scoped>\n",
       "    .dataframe tbody tr th:only-of-type {\n",
       "        vertical-align: middle;\n",
       "    }\n",
       "\n",
       "    .dataframe tbody tr th {\n",
       "        vertical-align: top;\n",
       "    }\n",
       "\n",
       "    .dataframe thead th {\n",
       "        text-align: right;\n",
       "    }\n",
       "</style>\n",
       "<table border=\"1\" class=\"dataframe\">\n",
       "  <thead>\n",
       "    <tr style=\"text-align: right;\">\n",
       "      <th></th>\n",
       "      <th>user_id</th>\n",
       "      <th>movie_id</th>\n",
       "      <th>like</th>\n",
       "    </tr>\n",
       "  </thead>\n",
       "  <tbody>\n",
       "    <tr>\n",
       "      <th>0</th>\n",
       "      <td>0</td>\n",
       "      <td>0</td>\n",
       "      <td>5</td>\n",
       "    </tr>\n",
       "    <tr>\n",
       "      <th>1</th>\n",
       "      <td>0</td>\n",
       "      <td>1</td>\n",
       "      <td>3</td>\n",
       "    </tr>\n",
       "    <tr>\n",
       "      <th>2</th>\n",
       "      <td>0</td>\n",
       "      <td>2</td>\n",
       "      <td>3</td>\n",
       "    </tr>\n",
       "    <tr>\n",
       "      <th>3</th>\n",
       "      <td>0</td>\n",
       "      <td>3</td>\n",
       "      <td>4</td>\n",
       "    </tr>\n",
       "    <tr>\n",
       "      <th>4</th>\n",
       "      <td>0</td>\n",
       "      <td>4</td>\n",
       "      <td>5</td>\n",
       "    </tr>\n",
       "    <tr>\n",
       "      <th>...</th>\n",
       "      <td>...</td>\n",
       "      <td>...</td>\n",
       "      <td>...</td>\n",
       "    </tr>\n",
       "    <tr>\n",
       "      <th>0</th>\n",
       "      <td>6039</td>\n",
       "      <td>3628</td>\n",
       "      <td>5</td>\n",
       "    </tr>\n",
       "    <tr>\n",
       "      <th>1</th>\n",
       "      <td>6039</td>\n",
       "      <td>3629</td>\n",
       "      <td>5</td>\n",
       "    </tr>\n",
       "    <tr>\n",
       "      <th>2</th>\n",
       "      <td>6039</td>\n",
       "      <td>3630</td>\n",
       "      <td>5</td>\n",
       "    </tr>\n",
       "    <tr>\n",
       "      <th>3</th>\n",
       "      <td>6039</td>\n",
       "      <td>3631</td>\n",
       "      <td>5</td>\n",
       "    </tr>\n",
       "    <tr>\n",
       "      <th>4</th>\n",
       "      <td>6039</td>\n",
       "      <td>3632</td>\n",
       "      <td>5</td>\n",
       "    </tr>\n",
       "  </tbody>\n",
       "</table>\n",
       "<p>836483 rows × 3 columns</p>\n",
       "</div>"
      ],
      "text/plain": [
       "    user_id  movie_id  like\n",
       "0         0         0     5\n",
       "1         0         1     3\n",
       "2         0         2     3\n",
       "3         0         3     4\n",
       "4         0         4     5\n",
       "..      ...       ...   ...\n",
       "0      6039      3628     5\n",
       "1      6039      3629     5\n",
       "2      6039      3630     5\n",
       "3      6039      3631     5\n",
       "4      6039      3632     5\n",
       "\n",
       "[836483 rows x 3 columns]"
      ]
     },
     "execution_count": 15,
     "metadata": {},
     "output_type": "execute_result"
    }
   ],
   "source": [
    "# indexing을 통해 데이터 컬럼 내 값을 바꾸는 코드\n",
    "# dictionary 자료형의 get 함수는 https://wikidocs.net/16 을 참고하세요.\n",
    "\n",
    "# user_to_idx.get을 통해 user_id 컬럼의 모든 값을 인덱싱한 Series를 구해 봅시다. \n",
    "# 혹시 정상적으로 인덱싱되지 않은 row가 있다면 인덱스가 NaN이 될 테니 dropna()로 제거합니다. \n",
    "temp_user_data = data['user_id'].map(user_to_idx.get).dropna()\n",
    "if len(temp_user_data) == len(data):   # 모든 row가 정상적으로 인덱싱되었다면\n",
    "    print('user_id column indexing OK!!')\n",
    "    data['user_id'] = temp_user_data   # data['user_id']을 인덱싱된 Series로 교체해 줍니다. \n",
    "else:\n",
    "    print('user_id column indexing Fail!!')\n",
    "\n",
    "# movie_to_idx을 통해 artist 컬럼도 동일한 방식으로 인덱싱해 줍니다. \n",
    "temp_movie_data = data['movie_id'].map(movie_to_idx.get).dropna()\n",
    "if len(temp_movie_data) == len(data):\n",
    "    print('movie column indexing OK!!')\n",
    "    data['movie_id'] = temp_movie_data\n",
    "else:\n",
    "    print('movie column indexing Fail!!')\n",
    "\n",
    "data"
   ]
  },
  {
   "cell_type": "markdown",
   "id": "developed-patio",
   "metadata": {},
   "source": [
    "### 4) CSR matrix를 직접 만들어 봅시다."
   ]
  },
  {
   "cell_type": "code",
   "execution_count": 16,
   "id": "concerned-dealing",
   "metadata": {},
   "outputs": [
    {
     "data": {
      "text/plain": [
       "<6040x3633 sparse matrix of type '<class 'numpy.int64'>'\n",
       "\twith 836483 stored elements in Compressed Sparse Row format>"
      ]
     },
     "execution_count": 16,
     "metadata": {},
     "output_type": "execute_result"
    }
   ],
   "source": [
    "# 실습 위에 설명보고 이해해서 만들어보기\n",
    "from scipy.sparse import csr_matrix\n",
    "\n",
    "num_user = data['user_id'].nunique()\n",
    "num_movie = data['movie_id'].nunique()\n",
    "\n",
    "csr_data = csr_matrix((data.like, (data.user_id, data.movie_id)), shape= (num_user, num_movie))\n",
    "csr_data"
   ]
  },
  {
   "cell_type": "markdown",
   "id": "forward-humor",
   "metadata": {},
   "source": [
    "### 5) als_model = AlternatingLeastSquares 모델을 직접 구성하여 훈련시켜 봅시다."
   ]
  },
  {
   "cell_type": "code",
   "execution_count": 17,
   "id": "toxic-civilian",
   "metadata": {},
   "outputs": [],
   "source": [
    "from implicit.als import AlternatingLeastSquares\n",
    "import os\n",
    "import numpy as np\n",
    "\n",
    "os.environ['OPENBLAS_NUM_THREADS']='1'\n",
    "os.environ['KMP_DUPLICATE_LIB_OK']='True'\n",
    "os.environ['MKL_NUM_THREADS']='1'"
   ]
  },
  {
   "cell_type": "code",
   "execution_count": 18,
   "id": "incorporated-litigation",
   "metadata": {},
   "outputs": [],
   "source": [
    "# Implicit AlternatingLeastSquares 모델의 선언\n",
    "als_model = AlternatingLeastSquares(factors=500, regularization=0.01, iterations=20, dtype=np.float32)"
   ]
  },
  {
   "cell_type": "code",
   "execution_count": 19,
   "id": "taken-repository",
   "metadata": {},
   "outputs": [
    {
     "data": {
      "text/plain": [
       "<3633x6040 sparse matrix of type '<class 'numpy.int64'>'\n",
       "\twith 836483 stored elements in Compressed Sparse Column format>"
      ]
     },
     "execution_count": 19,
     "metadata": {},
     "output_type": "execute_result"
    }
   ],
   "source": [
    "# als 모델은 input으로 (item X user 꼴의 matrix를 받기 때문에 Transpose해줍니다.)\n",
    "csr_data_transpose = csr_data.T\n",
    "csr_data_transpose"
   ]
  },
  {
   "cell_type": "code",
   "execution_count": 20,
   "id": "pointed-training",
   "metadata": {},
   "outputs": [
    {
     "data": {
      "application/vnd.jupyter.widget-view+json": {
       "model_id": "accf2f8a7b804472acc0bd42a97faaca",
       "version_major": 2,
       "version_minor": 0
      },
      "text/plain": [
       "  0%|          | 0/20 [00:00<?, ?it/s]"
      ]
     },
     "metadata": {},
     "output_type": "display_data"
    }
   ],
   "source": [
    "# 모델 훈련\n",
    "als_model.fit(csr_data_transpose)"
   ]
  },
  {
   "cell_type": "markdown",
   "id": "governing-venice",
   "metadata": {},
   "source": [
    "### 6) 내가 선호하는 5가지 영화 중 하나와 그 외의 영화 하나를 골라 훈련된 모델이 예측한 나의 선호도를 파악해 보세요."
   ]
  },
  {
   "cell_type": "code",
   "execution_count": 21,
   "id": "adjustable-adams",
   "metadata": {},
   "outputs": [],
   "source": [
    "zoo, toystroy = user_to_idx['zoo'], movie_to_idx['toystroy']\n",
    "zoo_vector, toystroy_vector = als_model.user_factors[zoo], als_model.item_factors[toystroy]\n"
   ]
  },
  {
   "cell_type": "code",
   "execution_count": 22,
   "id": "indonesian-jurisdiction",
   "metadata": {
    "scrolled": true
   },
   "outputs": [
    {
     "data": {
      "text/plain": [
       "array([-1.00055775e-02,  3.30425464e-02,  4.84537631e-02,  3.54891159e-02,\n",
       "       -7.79318511e-02,  3.45491432e-02,  2.01229863e-02,  9.04862061e-02,\n",
       "        9.71890390e-02, -8.97653326e-02,  1.34921027e-02, -3.75794582e-02,\n",
       "        7.65581280e-02,  7.42955953e-02,  9.47581884e-03, -3.80961969e-02,\n",
       "       -8.13019462e-03, -5.16437218e-02,  1.38025172e-03,  5.05908839e-02,\n",
       "        4.94531505e-02,  5.45191690e-02, -5.05679287e-02, -7.62317330e-02,\n",
       "       -1.03169814e-01, -1.29668964e-02,  3.92061695e-02, -5.68940490e-03,\n",
       "       -5.55710867e-02,  8.13654512e-02, -2.09841356e-02,  4.89810482e-02,\n",
       "       -1.16881952e-01,  1.38062105e-01, -2.39697602e-02, -5.99178486e-02,\n",
       "        3.75517718e-02,  1.89830884e-02, -1.27234552e-02,  1.36025503e-01,\n",
       "        2.05538645e-02,  4.94926376e-03, -1.71212345e-01,  1.51520111e-02,\n",
       "       -2.40954235e-02,  1.13207430e-01,  6.86866418e-02,  9.97573957e-02,\n",
       "        4.20662425e-02, -4.99061383e-02,  9.18352082e-02,  1.28624991e-01,\n",
       "        1.49312261e-02,  1.36858895e-02,  1.04420967e-02,  1.36870546e-02,\n",
       "       -1.87655352e-02,  1.11534437e-02, -1.63983956e-01, -1.32082194e-01,\n",
       "       -3.10233068e-02,  3.52608413e-02,  3.36579569e-02, -9.53554884e-02,\n",
       "       -2.87737716e-02, -7.77772740e-02,  7.59643763e-02,  9.14619789e-02,\n",
       "        1.18547887e-01, -1.02662891e-01,  3.50262113e-02,  3.45069841e-02,\n",
       "       -8.13125148e-02, -1.98325776e-02, -7.60292113e-02,  1.43996514e-02,\n",
       "        1.66268468e-01,  5.77692129e-02,  4.67062183e-02, -1.42987007e-02,\n",
       "       -3.17027010e-02, -4.51827236e-02,  1.01566263e-01, -1.86008643e-02,\n",
       "       -3.71760055e-02,  5.79427667e-02,  6.98226467e-02, -5.89599200e-02,\n",
       "       -8.30707550e-02, -4.07456867e-02,  6.79387078e-02,  2.05678474e-02,\n",
       "        6.78125098e-02,  4.72295620e-02,  5.98327629e-02,  4.75932211e-02,\n",
       "       -2.29356065e-02, -6.60568196e-03,  5.24203554e-02,  2.71779429e-02,\n",
       "        6.92093894e-02, -1.57753695e-02, -1.04475850e-02,  8.41773078e-02,\n",
       "       -4.35179435e-02, -9.59737301e-02, -1.52301207e-01, -4.35560010e-02,\n",
       "       -8.92205071e-03, -6.58610985e-02,  2.36635618e-02,  2.89882142e-02,\n",
       "        9.74597335e-02,  1.59148183e-02, -6.76608458e-02, -6.34678379e-02,\n",
       "        4.72002253e-02, -5.61622307e-02, -4.42643650e-02,  7.72317033e-03,\n",
       "       -4.18629944e-02, -2.99822427e-02,  1.03367165e-01,  1.15322307e-01,\n",
       "        6.30805865e-02,  1.47681069e-02,  3.72331813e-02, -3.23961973e-02,\n",
       "       -3.60884666e-02,  4.02604416e-02,  7.97903165e-02,  4.06180099e-02,\n",
       "        4.21670303e-02, -6.91825747e-02,  1.63905155e-02, -6.19682595e-02,\n",
       "       -9.53997672e-02, -4.48173322e-02, -1.06433034e-02, -5.10747880e-02,\n",
       "        1.71555430e-02, -3.44784446e-02,  4.79937308e-02, -1.95937362e-02,\n",
       "        3.37167010e-02,  5.86281233e-02,  1.50485694e-01,  8.72907117e-02,\n",
       "       -8.91879648e-02, -1.57366455e-01,  9.13700089e-03, -8.54968652e-02,\n",
       "       -2.62773782e-02, -4.23597395e-02, -1.89011022e-02,  9.26071703e-02,\n",
       "       -1.13327973e-01, -2.52810083e-02,  1.05610117e-01,  5.00624115e-03,\n",
       "       -8.71957392e-02, -5.87467328e-02, -1.82474598e-01,  6.52622283e-02,\n",
       "        1.00490272e-01, -9.93334502e-02, -1.22929797e-01,  5.22330031e-02,\n",
       "        9.45869908e-02, -7.18643218e-02, -1.11473620e-01,  3.88794839e-02,\n",
       "       -4.25529703e-02, -5.36527410e-02, -7.24302679e-02,  5.07939719e-02,\n",
       "        1.13174796e-01, -9.11617745e-03, -5.01795765e-03,  4.21494246e-02,\n",
       "       -1.82291940e-02,  3.59161012e-02,  9.75273103e-02, -8.05732086e-02,\n",
       "        7.66142458e-02,  9.89329070e-03, -1.10897645e-01, -7.67059550e-02,\n",
       "        1.26810476e-01,  1.09370939e-01, -7.81110078e-02,  1.72060113e-02,\n",
       "       -8.77276435e-03,  2.00000987e-03,  4.98024188e-02, -1.92349404e-03,\n",
       "       -3.61484624e-02, -9.27870870e-02,  1.03788622e-01,  4.96390648e-02,\n",
       "       -4.17733938e-02, -5.71328215e-02,  1.28938034e-01, -2.46644318e-02,\n",
       "        4.56399806e-02, -1.37884216e-02,  4.83194850e-02, -1.50512502e-01,\n",
       "       -6.46338286e-03, -6.92767128e-02, -6.08905591e-02,  4.08629924e-02,\n",
       "       -9.09340456e-02,  4.49727327e-02, -6.59741908e-02, -3.57509591e-02,\n",
       "        2.21459311e-04,  1.18273720e-01, -1.18667319e-01, -4.32061851e-02,\n",
       "        8.03903341e-02, -1.33664563e-01, -4.54616845e-02,  9.46389139e-02,\n",
       "        2.63872724e-02, -5.04355952e-02, -2.45291106e-02, -6.30296990e-02,\n",
       "        5.48876859e-02, -7.10467668e-03, -8.37902278e-02, -3.84963080e-02,\n",
       "       -8.58152360e-02,  1.04975753e-01,  1.20085225e-01,  6.62314221e-02,\n",
       "        7.56764710e-02,  1.76521223e-02, -2.55945977e-02, -1.33353010e-01,\n",
       "       -1.73799302e-02, -5.32178953e-03,  5.11294827e-02, -1.39484763e-01,\n",
       "        8.31443742e-02,  1.78546850e-02,  1.29767912e-04, -4.57981937e-02,\n",
       "        6.02914914e-02,  1.25724971e-01, -4.18274812e-02, -1.07987501e-01,\n",
       "       -1.87679511e-02, -1.39689748e-03,  4.75109369e-02,  2.68565398e-02,\n",
       "       -3.80070098e-02,  7.00211711e-03, -9.86362714e-03,  1.38888927e-02,\n",
       "       -2.99564134e-02, -5.15445322e-02,  6.24276549e-02,  9.42230821e-02,\n",
       "       -8.88337046e-02,  4.15357091e-02, -2.52020545e-02,  6.60384893e-02,\n",
       "       -1.10664673e-01,  9.93067920e-02, -1.27145171e-01, -6.02100976e-02,\n",
       "        1.14048868e-01, -5.58303893e-02, -1.07424811e-01,  5.43829426e-02,\n",
       "        2.35296506e-02, -1.72447011e-01, -1.15176126e-01, -5.67438565e-02,\n",
       "       -9.60647911e-02,  1.12582184e-01, -5.90426624e-02, -2.35264860e-02,\n",
       "       -3.79475509e-03,  9.14899819e-03,  8.22702050e-02,  4.68312874e-02,\n",
       "        9.59191918e-02,  1.64259281e-02,  7.12895468e-02,  4.38882895e-02,\n",
       "       -1.46291610e-02,  6.12009838e-02, -6.48118835e-03, -5.90523966e-02,\n",
       "        4.87656109e-02, -4.49601598e-02, -2.90128943e-02,  2.57698148e-02,\n",
       "        2.51819137e-02, -4.43235002e-02, -6.31333962e-02, -5.39433502e-04,\n",
       "        3.59416977e-02, -8.50147381e-03,  5.68812825e-02,  2.41729710e-02,\n",
       "        7.14504421e-02,  2.42271759e-02, -4.66746502e-02, -4.31091851e-03,\n",
       "        9.70872864e-02, -7.28256032e-02, -3.46098915e-02,  7.39086941e-02,\n",
       "       -9.18278247e-02, -5.91223277e-02,  6.76790625e-02,  6.45990968e-02,\n",
       "       -3.19016911e-02,  7.78430998e-02,  9.95089933e-02,  1.17177539e-01,\n",
       "        1.06239252e-01,  1.58478811e-01,  2.18949746e-02, -4.12761420e-02,\n",
       "        4.18722630e-02, -1.49371982e-01, -1.33417308e-01,  1.48970738e-01,\n",
       "       -5.45749627e-02, -1.28673375e-01,  4.29002233e-02,  5.70591725e-02,\n",
       "        1.21482729e-03,  5.36141321e-02,  3.18293869e-02,  2.95991581e-02,\n",
       "       -1.39996514e-01, -1.02762818e-01,  8.37588683e-03, -3.19614671e-02,\n",
       "        1.05078541e-01, -1.43486885e-02, -1.11804372e-02,  8.98070410e-02,\n",
       "       -7.85798505e-02,  7.31428573e-03,  8.28352794e-02, -1.30409122e-01,\n",
       "        1.70000136e-01,  8.71045608e-03, -3.15683964e-03,  2.40320683e-01,\n",
       "        1.22723885e-01, -4.23195846e-02, -3.00978944e-02, -3.42032425e-02,\n",
       "       -1.67397231e-01, -1.65366028e-02, -1.29673705e-01, -2.83108046e-03,\n",
       "       -6.91852272e-02,  2.63121016e-02, -6.22712448e-02, -1.01037294e-01,\n",
       "       -1.00181557e-01,  7.61426091e-02,  1.04928492e-02,  2.75387913e-02,\n",
       "       -1.15636259e-01, -7.62816370e-02,  1.62710212e-02,  1.47302328e-02,\n",
       "       -3.27320471e-02, -4.22272272e-03,  3.88251767e-02,  7.72860739e-03,\n",
       "        6.54145479e-02,  9.25509259e-02, -1.10160001e-01, -5.57738394e-02,\n",
       "       -1.07822970e-01, -6.39695823e-02, -3.36490087e-02,  2.01827772e-02,\n",
       "       -2.74134316e-02,  3.98616306e-02, -1.11459069e-01, -2.48994790e-02,\n",
       "        1.80659946e-02,  4.64080460e-03,  2.97048464e-02,  3.14615108e-02,\n",
       "        7.36979917e-02, -1.01805754e-01,  6.19590376e-03,  5.69017828e-02,\n",
       "        1.28601834e-01, -8.73379186e-02, -1.66181713e-01,  8.24810043e-02,\n",
       "        1.06358752e-02,  1.25863522e-01, -1.07609384e-01, -1.77831780e-02,\n",
       "       -9.43645760e-02, -7.15839192e-02, -5.87125570e-02,  6.32352056e-03,\n",
       "        2.72501428e-02,  5.26918285e-02,  8.25441536e-03,  1.10683911e-01,\n",
       "       -2.37805825e-02,  1.39070332e-01,  1.45322129e-01,  3.99093665e-02,\n",
       "        3.59749980e-02,  3.00790332e-02, -8.08735043e-02,  2.34934166e-02,\n",
       "       -8.02620426e-02,  8.49345773e-02, -1.68468636e-02,  6.97986828e-03,\n",
       "       -1.20310709e-01, -7.09718913e-02,  7.82296956e-02,  6.97721094e-02,\n",
       "       -2.45397072e-02,  2.98057944e-02, -4.27273773e-02, -3.15885246e-02,\n",
       "        1.46921175e-02,  1.13073833e-01, -1.31666183e-01, -4.10067849e-02,\n",
       "        7.71537349e-02,  4.64637056e-02, -6.25912696e-02, -1.25109935e-02,\n",
       "        7.83103555e-02, -4.63209376e-02, -1.13130212e-01,  4.95464988e-02,\n",
       "       -3.84073593e-02, -7.02142268e-02,  2.73373667e-02, -1.14248633e-01,\n",
       "        8.83939210e-03, -9.21048969e-03, -1.69656929e-02, -1.04082003e-01,\n",
       "        1.46676809e-01,  3.03739086e-02, -1.58033282e-01,  6.80293292e-02,\n",
       "       -7.72052929e-02,  1.84053984e-02, -2.58766152e-02,  1.60386190e-02,\n",
       "        9.41662788e-02, -4.09813374e-02,  1.70870200e-02,  1.18795887e-03,\n",
       "        2.34720972e-03,  3.02852318e-02,  1.11506693e-01,  7.90959299e-02,\n",
       "       -2.52565295e-02, -6.22856617e-02,  8.93732533e-02,  1.15059420e-01,\n",
       "        1.31103516e-04,  2.58739814e-02,  2.60372069e-02, -7.13046417e-02,\n",
       "        4.58675958e-02, -1.19754419e-01, -5.67964166e-02,  1.54716978e-02,\n",
       "       -5.14785610e-02, -9.71665233e-02, -9.63109806e-02,  3.67554128e-02,\n",
       "       -3.66601497e-02, -5.98681085e-02, -1.61068350e-01, -4.28293012e-02,\n",
       "       -4.64789057e-03, -6.57621697e-02, -3.65216136e-02,  6.13405406e-02,\n",
       "       -4.27235104e-02, -3.30144092e-02, -5.50239198e-02,  9.50925946e-02],\n",
       "      dtype=float32)"
      ]
     },
     "execution_count": 22,
     "metadata": {},
     "output_type": "execute_result"
    }
   ],
   "source": [
    "zoo_vector"
   ]
  },
  {
   "cell_type": "code",
   "execution_count": 23,
   "id": "matched-enhancement",
   "metadata": {},
   "outputs": [
    {
     "data": {
      "text/plain": [
       "array([0.00509867, 0.00534324, 0.00568539, 0.00437975, 0.00404919,\n",
       "       0.00467329, 0.00440965, 0.00589443, 0.00649453, 0.00317433,\n",
       "       0.00498681, 0.00361062, 0.00525026, 0.00552714, 0.00554699,\n",
       "       0.00498408, 0.00456329, 0.00401604, 0.00446073, 0.00563225,\n",
       "       0.00559914, 0.00551298, 0.00469253, 0.00401748, 0.00285344,\n",
       "       0.00470557, 0.0054926 , 0.00520207, 0.00446531, 0.00597684,\n",
       "       0.00462907, 0.00556042, 0.00298261, 0.00705054, 0.00513531,\n",
       "       0.00455692, 0.00496604, 0.00550711, 0.0051003 , 0.00691549,\n",
       "       0.00425135, 0.0047346 , 0.00338179, 0.00426134, 0.00439399,\n",
       "       0.00680801, 0.006507  , 0.00625531, 0.00618271, 0.00485265,\n",
       "       0.00640265, 0.00613465, 0.00439619, 0.00500374, 0.00543562,\n",
       "       0.00502907, 0.0043051 , 0.00493025, 0.00264361, 0.0022515 ,\n",
       "       0.00431479, 0.00637502, 0.00527489, 0.00287782, 0.00479724,\n",
       "       0.00370139, 0.00510424, 0.00599343, 0.00689529, 0.00369477,\n",
       "       0.00545213, 0.00508746, 0.00442505, 0.00404705, 0.00425619,\n",
       "       0.00504919, 0.0066577 , 0.00559862, 0.00472792, 0.00463245,\n",
       "       0.0051497 , 0.00479263, 0.00668492, 0.0038276 , 0.00479028,\n",
       "       0.00428894, 0.00635348, 0.00411436, 0.00332061, 0.00394747,\n",
       "       0.00505183, 0.00559554, 0.00590347, 0.00506711, 0.00549766,\n",
       "       0.00710142, 0.00468656, 0.00409098, 0.00418897, 0.00538906,\n",
       "       0.00589667, 0.00356846, 0.00403252, 0.00648476, 0.00452222,\n",
       "       0.00359963, 0.00264839, 0.00370498, 0.00411387, 0.00373001,\n",
       "       0.0055273 , 0.00476755, 0.00529276, 0.00445619, 0.00450993,\n",
       "       0.00361128, 0.00583411, 0.00473408, 0.00442775, 0.00530159,\n",
       "       0.00361743, 0.00395542, 0.0056744 , 0.00627314, 0.00602973,\n",
       "       0.00401154, 0.00526511, 0.00491646, 0.00334264, 0.00513964,\n",
       "       0.00594162, 0.00456067, 0.00560348, 0.00404378, 0.00458754,\n",
       "       0.00309506, 0.0036549 , 0.00399421, 0.0049457 , 0.00492528,\n",
       "       0.00384419, 0.00388732, 0.00469181, 0.00450857, 0.00570424,\n",
       "       0.00522351, 0.00783832, 0.00571892, 0.00391481, 0.00179956,\n",
       "       0.0048559 , 0.0035273 , 0.00417555, 0.00429767, 0.00520431,\n",
       "       0.00470106, 0.00391976, 0.0052708 , 0.00587454, 0.0047213 ,\n",
       "       0.00400712, 0.0047719 , 0.00239538, 0.00542854, 0.00702465,\n",
       "       0.00306816, 0.00421197, 0.00473201, 0.00576111, 0.00391041,\n",
       "       0.003789  , 0.00610081, 0.00382956, 0.00394302, 0.00360845,\n",
       "       0.00578858, 0.00573355, 0.00439584, 0.0046321 , 0.00551034,\n",
       "       0.00449182, 0.00549795, 0.00712625, 0.00373322, 0.00606196,\n",
       "       0.00541977, 0.00214387, 0.00470349, 0.00665611, 0.00709482,\n",
       "       0.00447511, 0.00452452, 0.004318  , 0.00592652, 0.00653154,\n",
       "       0.00479148, 0.00437539, 0.00379418, 0.00556972, 0.00557514,\n",
       "       0.00399747, 0.00364539, 0.00587651, 0.00371772, 0.00510703,\n",
       "       0.00459236, 0.00538812, 0.00209352, 0.00460928, 0.00331987,\n",
       "       0.00483376, 0.00609306, 0.00308523, 0.00537421, 0.00401478,\n",
       "       0.00381086, 0.00463838, 0.00661963, 0.00361128, 0.00480009,\n",
       "       0.00608983, 0.00359779, 0.00537827, 0.00673077, 0.00437628,\n",
       "       0.00383915, 0.00479305, 0.00413358, 0.00492884, 0.00413754,\n",
       "       0.00284459, 0.00481786, 0.00371461, 0.00556579, 0.00651999,\n",
       "       0.00420952, 0.00603092, 0.00533299, 0.00454678, 0.00230101,\n",
       "       0.0038869 , 0.00546006, 0.00489353, 0.00388552, 0.00581811,\n",
       "       0.0051677 , 0.0054256 , 0.00426223, 0.0043951 , 0.00759743,\n",
       "       0.00519564, 0.00294171, 0.00507182, 0.00421168, 0.00620638,\n",
       "       0.00558736, 0.00387884, 0.00624454, 0.00505981, 0.00471534,\n",
       "       0.00417947, 0.00298626, 0.00524431, 0.00649391, 0.00443992,\n",
       "       0.00655829, 0.00406018, 0.00544625, 0.00359666, 0.00598419,\n",
       "       0.00357101, 0.00439711, 0.00636034, 0.00455656, 0.00283525,\n",
       "       0.00488576, 0.0053127 , 0.00263892, 0.0026238 , 0.00427239,\n",
       "       0.00383211, 0.00681193, 0.00392453, 0.0043555 , 0.00478799,\n",
       "       0.00481779, 0.00648973, 0.00516589, 0.00692065, 0.00490599,\n",
       "       0.00395453, 0.00546089, 0.00376357, 0.00521677, 0.00470911,\n",
       "       0.00349446, 0.00600544, 0.00421571, 0.00406961, 0.00508486,\n",
       "       0.00510816, 0.00306327, 0.00411993, 0.003946  , 0.00503638,\n",
       "       0.00518988, 0.00592149, 0.00601404, 0.00493573, 0.00522538,\n",
       "       0.00454971, 0.00559828, 0.00522079, 0.0045851 , 0.00451763,\n",
       "       0.00647413, 0.00382513, 0.00549123, 0.00469324, 0.00661021,\n",
       "       0.00331407, 0.00572741, 0.00616756, 0.0062765 , 0.00591835,\n",
       "       0.00622061, 0.00484976, 0.00436289, 0.00576309, 0.00199039,\n",
       "       0.00362697, 0.00635745, 0.00404252, 0.00339504, 0.00600694,\n",
       "       0.00507694, 0.00488099, 0.00510907, 0.00497525, 0.00495782,\n",
       "       0.00308342, 0.00349448, 0.00491097, 0.00483502, 0.0068167 ,\n",
       "       0.00434266, 0.00476834, 0.00591881, 0.00293504, 0.00499882,\n",
       "       0.00551616, 0.00411816, 0.00692159, 0.00507303, 0.00493841,\n",
       "       0.00769522, 0.00695843, 0.00394357, 0.00515475, 0.00363722,\n",
       "       0.00362683, 0.00538342, 0.00368702, 0.00488679, 0.00347055,\n",
       "       0.00519229, 0.00443926, 0.00297998, 0.00261895, 0.00599858,\n",
       "       0.00582957, 0.00450685, 0.00357074, 0.00367   , 0.00395652,\n",
       "       0.00437201, 0.00341176, 0.00433709, 0.00523486, 0.00401092,\n",
       "       0.00511812, 0.00605282, 0.0034981 , 0.00393612, 0.00362577,\n",
       "       0.00436102, 0.00455315, 0.00550434, 0.00398839, 0.00532843,\n",
       "       0.00376092, 0.00452774, 0.00558376, 0.00469997, 0.00557586,\n",
       "       0.00627143, 0.00648861, 0.00312843, 0.0051999 , 0.00564164,\n",
       "       0.00704875, 0.00276717, 0.00281069, 0.00669267, 0.00413774,\n",
       "       0.00605762, 0.0041367 , 0.00539369, 0.00321826, 0.00376454,\n",
       "       0.0038504 , 0.00483342, 0.00538882, 0.00546896, 0.00523314,\n",
       "       0.00661624, 0.00407334, 0.0058668 , 0.00681972, 0.00425211,\n",
       "       0.00581178, 0.00464956, 0.00279724, 0.00562621, 0.00342014,\n",
       "       0.00645628, 0.00519271, 0.00455865, 0.00289753, 0.00471602,\n",
       "       0.00570443, 0.00588315, 0.00478438, 0.00495717, 0.00540888,\n",
       "       0.00407358, 0.00647117, 0.00560195, 0.00348001, 0.00414984,\n",
       "       0.0058722 , 0.00552346, 0.00344432, 0.00594126, 0.0056623 ,\n",
       "       0.00352696, 0.00305715, 0.00581513, 0.00448661, 0.00384363,\n",
       "       0.00459822, 0.00324533, 0.00480964, 0.00487694, 0.00479911,\n",
       "       0.00351558, 0.00665146, 0.00596987, 0.00312533, 0.00503639,\n",
       "       0.00358538, 0.00537571, 0.00540273, 0.00457753, 0.00607339,\n",
       "       0.00425638, 0.00532824, 0.0049009 , 0.00552986, 0.00527912,\n",
       "       0.0059596 , 0.00632261, 0.00430993, 0.00376011, 0.00514538,\n",
       "       0.00654821, 0.00378169, 0.00512772, 0.00480386, 0.00367731,\n",
       "       0.00537453, 0.00319278, 0.00285761, 0.00508206, 0.00538859,\n",
       "       0.00298738, 0.00418649, 0.0051429 , 0.00407817, 0.0039738 ,\n",
       "       0.00296559, 0.00419465, 0.00570991, 0.0044699 , 0.00467822,\n",
       "       0.00514682, 0.0039571 , 0.00318166, 0.00415732, 0.0063644 ],\n",
       "      dtype=float32)"
      ]
     },
     "execution_count": 23,
     "metadata": {},
     "output_type": "execute_result"
    }
   ],
   "source": [
    "toystroy_vector"
   ]
  },
  {
   "cell_type": "code",
   "execution_count": 24,
   "id": "comparative-vinyl",
   "metadata": {},
   "outputs": [
    {
     "data": {
      "text/plain": [
       "0.030502481"
      ]
     },
     "execution_count": 24,
     "metadata": {},
     "output_type": "execute_result"
    }
   ],
   "source": [
    "np.dot(zoo_vector, toystroy_vector)"
   ]
  },
  {
   "cell_type": "code",
   "execution_count": 25,
   "id": "instructional-mathematics",
   "metadata": {},
   "outputs": [
    {
     "data": {
      "text/plain": [
       "0.030502481"
      ]
     },
     "execution_count": 25,
     "metadata": {},
     "output_type": "execute_result"
    }
   ],
   "source": [
    "toystroy = movie_to_idx['toystroy']\n",
    "movie_vector = als_model.item_factors[toystroy]\n",
    "np.dot(zoo_vector, toystroy_vector)"
   ]
  },
  {
   "cell_type": "markdown",
   "id": "occasional-master",
   "metadata": {},
   "source": [
    "### 7) 내가 좋아하는 영화와 비슷한 영화를 추천받아 봅시다."
   ]
  },
  {
   "cell_type": "code",
   "execution_count": 26,
   "id": "baking-pride",
   "metadata": {},
   "outputs": [
    {
     "data": {
      "text/plain": [
       "[(3628, 1.0000001),\n",
       " (3631, 0.9999929),\n",
       " (3629, 0.9999928),\n",
       " (3632, 0.9999924),\n",
       " (3630, 0.9999915),\n",
       " (3615, 0.99928516),\n",
       " (3531, 0.9988539),\n",
       " (3549, 0.9988487),\n",
       " (3035, 0.998755),\n",
       " (3589, 0.9985748),\n",
       " (3570, 0.99854547),\n",
       " (3591, 0.99850225),\n",
       " (3088, 0.99837846),\n",
       " (3053, 0.9983739),\n",
       " (3534, 0.9982943)]"
      ]
     },
     "execution_count": 26,
     "metadata": {},
     "output_type": "execute_result"
    }
   ],
   "source": [
    "favorite_movie = 'toystroy'\n",
    "movie_id = movie_to_idx[favorite_movie]\n",
    "similar_movie = als_model.similar_items(movie_id, N=15)\n",
    "similar_movie"
   ]
  },
  {
   "cell_type": "code",
   "execution_count": 27,
   "id": "cooked-cooler",
   "metadata": {},
   "outputs": [
    {
     "data": {
      "text/plain": [
       "['toystroy',\n",
       " 'jumanji',\n",
       " 'popeye',\n",
       " 'kansas city',\n",
       " 'aerican pop',\n",
       " 'she-devil (1989)',\n",
       " 'sweet nothing (1995)',\n",
       " 'beautiful (2000)',\n",
       " 'kicked in the head (1997)',\n",
       " 'breaking away (1979)',\n",
       " 'perfect candidate, a (1996)',\n",
       " 'dear jesse (1997)',\n",
       " 'federal hill (1994)',\n",
       " 'bananas (1971)',\n",
       " 'spiral staircase, the (1946)']"
      ]
     },
     "execution_count": 27,
     "metadata": {},
     "output_type": "execute_result"
    }
   ],
   "source": [
    "#artist_to_idx 를 뒤집어, index로부터 artist 이름을 얻는 dict를 생성합니다. \n",
    "idx_to_movie = {v:k for k,v in movie_to_idx.items()}\n",
    "[idx_to_movie[i[0]] for i in similar_movie]"
   ]
  },
  {
   "cell_type": "code",
   "execution_count": 28,
   "id": "placed-office",
   "metadata": {},
   "outputs": [],
   "source": [
    "def get_similar_movie(movie_name: str):\n",
    "    movie_id = movie_to_idx[movie_name]\n",
    "    similar_movie = als_model.similar_items(movie_id)\n",
    "    similar_movie = [idx_to_movie[i[0]] for i in similar_movie]\n",
    "    return similar_movie"
   ]
  },
  {
   "cell_type": "code",
   "execution_count": 29,
   "id": "convenient-timothy",
   "metadata": {},
   "outputs": [
    {
     "data": {
      "text/plain": [
       "['toystroy',\n",
       " 'jumanji',\n",
       " 'popeye',\n",
       " 'kansas city',\n",
       " 'aerican pop',\n",
       " 'she-devil (1989)',\n",
       " 'sweet nothing (1995)',\n",
       " 'beautiful (2000)',\n",
       " 'kicked in the head (1997)',\n",
       " 'breaking away (1979)']"
      ]
     },
     "execution_count": 29,
     "metadata": {},
     "output_type": "execute_result"
    }
   ],
   "source": [
    "get_similar_movie('toystroy')"
   ]
  },
  {
   "cell_type": "markdown",
   "id": "greater-surface",
   "metadata": {},
   "source": [
    "### 8) 내가 가장 좋아할 만한 영화들을 추천받아 봅시다."
   ]
  },
  {
   "cell_type": "code",
   "execution_count": 30,
   "id": "fresh-parks",
   "metadata": {},
   "outputs": [
    {
     "data": {
      "text/plain": [
       "[(1959, 0.03358883),\n",
       " (1135, 0.032080594),\n",
       " (3540, 0.031101359),\n",
       " (3549, 0.03097365),\n",
       " (570, 0.030823864),\n",
       " (3242, 0.030808963),\n",
       " (682, 0.030781887),\n",
       " (3296, 0.030674584),\n",
       " (3591, 0.030449357),\n",
       " (3569, 0.030373149),\n",
       " (2459, 0.03027369),\n",
       " (3611, 0.030256577),\n",
       " (3332, 0.0301555),\n",
       " (3353, 0.030139249),\n",
       " (3364, 0.029978737),\n",
       " (3616, 0.02995363),\n",
       " (3168, 0.029894285),\n",
       " (3589, 0.029866945),\n",
       " (2303, 0.029845105),\n",
       " (2160, 0.029809294)]"
      ]
     },
     "execution_count": 30,
     "metadata": {},
     "output_type": "execute_result"
    }
   ],
   "source": [
    "user = user_to_idx['zoo']\n",
    "# recommend에서는 user*item CSR Matrix를 받습니다.\n",
    "movie_recommended = als_model.recommend(user, csr_data, N=20, filter_already_liked_items=True)\n",
    "movie_recommended"
   ]
  },
  {
   "cell_type": "code",
   "execution_count": 31,
   "id": "median-provider",
   "metadata": {},
   "outputs": [
    {
     "data": {
      "text/plain": [
       "['creature (1999)',\n",
       " 'carriers are waiting, the (les convoyeurs attendent) (1999)',\n",
       " 'lethal weapon 4 (1998)',\n",
       " 'beautiful (2000)',\n",
       " 'attack of the killer tomatoes! (1980)',\n",
       " 'echte kerle (1996)',\n",
       " 'surviving the game (1994)',\n",
       " 'great day in harlem, a (1994)',\n",
       " 'dear jesse (1997)',\n",
       " 'benji (1974)',\n",
       " 'puppet master ii (1990)',\n",
       " 'beauty and the beast (1991)',\n",
       " 'titanic (1953)',\n",
       " 'frogs for snakes (1998)',\n",
       " 'madeline (1998)',\n",
       " \"guess who's coming to dinner (1967)\",\n",
       " 'pagemaster, the (1994)',\n",
       " 'breaking away (1979)',\n",
       " 'prince valiant (1997)',\n",
       " 'jefferson in paris (1995)']"
      ]
     },
     "execution_count": 31,
     "metadata": {},
     "output_type": "execute_result"
    }
   ],
   "source": [
    "[idx_to_movie[i[0]] for i in movie_recommended]"
   ]
  },
  {
   "cell_type": "markdown",
   "id": "neither-category",
   "metadata": {},
   "source": [
    "### 9) 선호도 및 유사도 기여도 확인하기"
   ]
  },
  {
   "cell_type": "code",
   "execution_count": 32,
   "id": "greatest-abraham",
   "metadata": {},
   "outputs": [],
   "source": [
    "madeline = movie_to_idx['madeline (1998)']\n",
    "explain = als_model.explain(user, csr_data, itemid=madeline)"
   ]
  },
  {
   "cell_type": "code",
   "execution_count": 33,
   "id": "warming-equivalent",
   "metadata": {},
   "outputs": [
    {
     "data": {
      "text/plain": [
       "[('popeye', 0.005983627868543219),\n",
       " ('toystroy', 0.005971718205774279),\n",
       " ('aerican pop', 0.005936797529632529),\n",
       " ('jumanji', 0.005884568480362697),\n",
       " ('kansas city', 0.005645492898351744)]"
      ]
     },
     "execution_count": 33,
     "metadata": {},
     "output_type": "execute_result"
    }
   ],
   "source": [
    "[(idx_to_movie[i[0]], i[1]) for i in explain[1]]"
   ]
  },
  {
   "cell_type": "markdown",
   "id": "varied-printing",
   "metadata": {},
   "source": [
    "# 프로젝트를 마치며... "
   ]
  },
  {
   "cell_type": "markdown",
   "id": "professional-occupation",
   "metadata": {},
   "source": [
    "### 데이터 전처리 부분 아직 많이 미숙한것같다 개념들은 알아가는데 항상 사용하려구 하면 헷갈리고 어렵다.... 활용하고 응용 하기까지 더 많이 검색해보고 사용해 봐야 할것같다. \n",
    "### 데이터 전처리 이후는 크게 어려운 부분이 없었다. 이번 노드는 잘 읽으면서 따라가면서 하기 충분하였다. "
   ]
  }
 ],
 "metadata": {
  "kernelspec": {
   "display_name": "aiffel",
   "language": "python",
   "name": "aiffel"
  },
  "language_info": {
   "codemirror_mode": {
    "name": "ipython",
    "version": 3
   },
   "file_extension": ".py",
   "mimetype": "text/x-python",
   "name": "python",
   "nbconvert_exporter": "python",
   "pygments_lexer": "ipython3",
   "version": "3.7.9"
  }
 },
 "nbformat": 4,
 "nbformat_minor": 5
}
