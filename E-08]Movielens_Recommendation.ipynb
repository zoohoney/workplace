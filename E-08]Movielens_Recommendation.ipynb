{
 "cells": [
  {
   "cell_type": "markdown",
   "id": "harmful-tract",
   "metadata": {},
   "source": [
    "# 프로젝트: Movielens 영화 추천 "
   ]
  },
  {
   "cell_type": "markdown",
   "id": "controversial-venue",
   "metadata": {},
   "source": [
    "### 1) 데이터 준비와 전처리"
   ]
  },
  {
   "cell_type": "markdown",
   "id": "sensitive-healing",
   "metadata": {},
   "source": [
    "Movielens 데이터는 rating.dat 안에 이미 인덱싱까지 완료된 사용자-영화-평점 데이터가 깔끔하게 정리되어 있습니다."
   ]
  },
  {
   "cell_type": "code",
   "execution_count": 1,
   "id": "backed-deposit",
   "metadata": {},
   "outputs": [
    {
     "data": {
      "text/html": [
       "<div>\n",
       "<style scoped>\n",
       "    .dataframe tbody tr th:only-of-type {\n",
       "        vertical-align: middle;\n",
       "    }\n",
       "\n",
       "    .dataframe tbody tr th {\n",
       "        vertical-align: top;\n",
       "    }\n",
       "\n",
       "    .dataframe thead th {\n",
       "        text-align: right;\n",
       "    }\n",
       "</style>\n",
       "<table border=\"1\" class=\"dataframe\">\n",
       "  <thead>\n",
       "    <tr style=\"text-align: right;\">\n",
       "      <th></th>\n",
       "      <th>user_id</th>\n",
       "      <th>movie_id</th>\n",
       "      <th>rating</th>\n",
       "      <th>timestamp</th>\n",
       "    </tr>\n",
       "  </thead>\n",
       "  <tbody>\n",
       "    <tr>\n",
       "      <th>0</th>\n",
       "      <td>1</td>\n",
       "      <td>1193</td>\n",
       "      <td>5</td>\n",
       "      <td>978300760</td>\n",
       "    </tr>\n",
       "    <tr>\n",
       "      <th>1</th>\n",
       "      <td>1</td>\n",
       "      <td>661</td>\n",
       "      <td>3</td>\n",
       "      <td>978302109</td>\n",
       "    </tr>\n",
       "    <tr>\n",
       "      <th>2</th>\n",
       "      <td>1</td>\n",
       "      <td>914</td>\n",
       "      <td>3</td>\n",
       "      <td>978301968</td>\n",
       "    </tr>\n",
       "    <tr>\n",
       "      <th>3</th>\n",
       "      <td>1</td>\n",
       "      <td>3408</td>\n",
       "      <td>4</td>\n",
       "      <td>978300275</td>\n",
       "    </tr>\n",
       "    <tr>\n",
       "      <th>4</th>\n",
       "      <td>1</td>\n",
       "      <td>2355</td>\n",
       "      <td>5</td>\n",
       "      <td>978824291</td>\n",
       "    </tr>\n",
       "  </tbody>\n",
       "</table>\n",
       "</div>"
      ],
      "text/plain": [
       "   user_id  movie_id  rating  timestamp\n",
       "0        1      1193       5  978300760\n",
       "1        1       661       3  978302109\n",
       "2        1       914       3  978301968\n",
       "3        1      3408       4  978300275\n",
       "4        1      2355       5  978824291"
      ]
     },
     "execution_count": 1,
     "metadata": {},
     "output_type": "execute_result"
    }
   ],
   "source": [
    "import pandas as pd\n",
    "import os\n",
    "rating_file_path=os.getenv('HOME') + '/aiffel/recommendata_iu/data/ml-1m/ratings.dat'\n",
    "ratings_cols = ['user_id', 'movie_id', 'rating', 'timestamp']\n",
    "ratings = pd.read_csv(rating_file_path, sep='::', names=ratings_cols, engine='python')\n",
    "orginal_data_size = len(ratings)\n",
    "ratings.head()"
   ]
  },
  {
   "cell_type": "code",
   "execution_count": 2,
   "id": "cardiovascular-huntington",
   "metadata": {},
   "outputs": [
    {
     "name": "stdout",
     "output_type": "stream",
     "text": [
      "orginal_data_size: 1000209, filtered_data_size: 836478\n",
      "Ratio of Remaining Data is 83.63%\n"
     ]
    }
   ],
   "source": [
    "# 3점 이상만 남깁니다.\n",
    "ratings = ratings[ratings['rating']>=3]\n",
    "filtered_data_size = len(ratings)\n",
    "\n",
    "print(f'orginal_data_size: {orginal_data_size}, filtered_data_size: {filtered_data_size}')\n",
    "print(f'Ratio of Remaining Data is {filtered_data_size / orginal_data_size:.2%}')"
   ]
  },
  {
   "cell_type": "code",
   "execution_count": 3,
   "id": "potential-exploration",
   "metadata": {},
   "outputs": [],
   "source": [
    "# rating 컬럼의 이름을 like로 바꿉니다.\n",
    "ratings.rename(columns={'rating':'like'}, inplace=True)"
   ]
  },
  {
   "cell_type": "code",
   "execution_count": 4,
   "id": "disciplinary-cabinet",
   "metadata": {},
   "outputs": [
    {
     "data": {
      "text/plain": [
       "0          5\n",
       "1          3\n",
       "2          3\n",
       "3          4\n",
       "4          5\n",
       "          ..\n",
       "1000203    3\n",
       "1000205    5\n",
       "1000206    5\n",
       "1000207    4\n",
       "1000208    4\n",
       "Name: like, Length: 836478, dtype: int64"
      ]
     },
     "execution_count": 4,
     "metadata": {},
     "output_type": "execute_result"
    }
   ],
   "source": [
    "ratings['like']"
   ]
  },
  {
   "cell_type": "code",
   "execution_count": 5,
   "id": "developed-elder",
   "metadata": {},
   "outputs": [
    {
     "data": {
      "text/html": [
       "<div>\n",
       "<style scoped>\n",
       "    .dataframe tbody tr th:only-of-type {\n",
       "        vertical-align: middle;\n",
       "    }\n",
       "\n",
       "    .dataframe tbody tr th {\n",
       "        vertical-align: top;\n",
       "    }\n",
       "\n",
       "    .dataframe thead th {\n",
       "        text-align: right;\n",
       "    }\n",
       "</style>\n",
       "<table border=\"1\" class=\"dataframe\">\n",
       "  <thead>\n",
       "    <tr style=\"text-align: right;\">\n",
       "      <th></th>\n",
       "      <th>movie_id</th>\n",
       "      <th>title</th>\n",
       "      <th>genre</th>\n",
       "    </tr>\n",
       "  </thead>\n",
       "  <tbody>\n",
       "    <tr>\n",
       "      <th>0</th>\n",
       "      <td>1</td>\n",
       "      <td>Toy Story (1995)</td>\n",
       "      <td>Animation|Children's|Comedy</td>\n",
       "    </tr>\n",
       "    <tr>\n",
       "      <th>1</th>\n",
       "      <td>2</td>\n",
       "      <td>Jumanji (1995)</td>\n",
       "      <td>Adventure|Children's|Fantasy</td>\n",
       "    </tr>\n",
       "    <tr>\n",
       "      <th>2</th>\n",
       "      <td>3</td>\n",
       "      <td>Grumpier Old Men (1995)</td>\n",
       "      <td>Comedy|Romance</td>\n",
       "    </tr>\n",
       "    <tr>\n",
       "      <th>3</th>\n",
       "      <td>4</td>\n",
       "      <td>Waiting to Exhale (1995)</td>\n",
       "      <td>Comedy|Drama</td>\n",
       "    </tr>\n",
       "    <tr>\n",
       "      <th>4</th>\n",
       "      <td>5</td>\n",
       "      <td>Father of the Bride Part II (1995)</td>\n",
       "      <td>Comedy</td>\n",
       "    </tr>\n",
       "  </tbody>\n",
       "</table>\n",
       "</div>"
      ],
      "text/plain": [
       "   movie_id                               title                         genre\n",
       "0         1                    Toy Story (1995)   Animation|Children's|Comedy\n",
       "1         2                      Jumanji (1995)  Adventure|Children's|Fantasy\n",
       "2         3             Grumpier Old Men (1995)                Comedy|Romance\n",
       "3         4            Waiting to Exhale (1995)                  Comedy|Drama\n",
       "4         5  Father of the Bride Part II (1995)                        Comedy"
      ]
     },
     "execution_count": 5,
     "metadata": {},
     "output_type": "execute_result"
    }
   ],
   "source": [
    "# 영화 제목을 보기 위해 메타 데이터를 읽어옵니다.\n",
    "movie_file_path=os.getenv('HOME') + '/aiffel/recommendata_iu/data/ml-1m/movies.dat'\n",
    "cols = ['movie_id', 'title', 'genre'] \n",
    "#movies = pd.read_csv(movie_file_path, sep='::', names=cols, engine='python')\n",
    "movies = pd.read_csv(movie_file_path, sep='::', names=cols, engine='python', encoding = \"ISO-8859-1\")\n",
    "movies.head()"
   ]
  },
  {
   "cell_type": "code",
   "execution_count": 6,
   "id": "stone-contrast",
   "metadata": {},
   "outputs": [
    {
     "data": {
      "text/html": [
       "<div>\n",
       "<style scoped>\n",
       "    .dataframe tbody tr th:only-of-type {\n",
       "        vertical-align: middle;\n",
       "    }\n",
       "\n",
       "    .dataframe tbody tr th {\n",
       "        vertical-align: top;\n",
       "    }\n",
       "\n",
       "    .dataframe thead th {\n",
       "        text-align: right;\n",
       "    }\n",
       "</style>\n",
       "<table border=\"1\" class=\"dataframe\">\n",
       "  <thead>\n",
       "    <tr style=\"text-align: right;\">\n",
       "      <th></th>\n",
       "      <th>movie_id</th>\n",
       "      <th>title</th>\n",
       "      <th>genre</th>\n",
       "    </tr>\n",
       "  </thead>\n",
       "  <tbody>\n",
       "    <tr>\n",
       "      <th>0</th>\n",
       "      <td>1</td>\n",
       "      <td>toy story (1995)</td>\n",
       "      <td>Animation|Children's|Comedy</td>\n",
       "    </tr>\n",
       "    <tr>\n",
       "      <th>1</th>\n",
       "      <td>2</td>\n",
       "      <td>jumanji (1995)</td>\n",
       "      <td>Adventure|Children's|Fantasy</td>\n",
       "    </tr>\n",
       "    <tr>\n",
       "      <th>2</th>\n",
       "      <td>3</td>\n",
       "      <td>grumpier old men (1995)</td>\n",
       "      <td>Comedy|Romance</td>\n",
       "    </tr>\n",
       "    <tr>\n",
       "      <th>3</th>\n",
       "      <td>4</td>\n",
       "      <td>waiting to exhale (1995)</td>\n",
       "      <td>Comedy|Drama</td>\n",
       "    </tr>\n",
       "    <tr>\n",
       "      <th>4</th>\n",
       "      <td>5</td>\n",
       "      <td>father of the bride part ii (1995)</td>\n",
       "      <td>Comedy</td>\n",
       "    </tr>\n",
       "  </tbody>\n",
       "</table>\n",
       "</div>"
      ],
      "text/plain": [
       "   movie_id                               title                         genre\n",
       "0         1                    toy story (1995)   Animation|Children's|Comedy\n",
       "1         2                      jumanji (1995)  Adventure|Children's|Fantasy\n",
       "2         3             grumpier old men (1995)                Comedy|Romance\n",
       "3         4            waiting to exhale (1995)                  Comedy|Drama\n",
       "4         5  father of the bride part ii (1995)                        Comedy"
      ]
     },
     "execution_count": 6,
     "metadata": {},
     "output_type": "execute_result"
    }
   ],
   "source": [
    "# 검색하기 쉽게 하기위해 타이틀 문자열을 소문자로 변경\n",
    "movies['title'] = movies['title'].str.lower()\n",
    "movies.head()"
   ]
  },
  {
   "cell_type": "markdown",
   "id": "modular-reset",
   "metadata": {},
   "source": [
    "#### 여기까지가 전처리입니다. 이후에는 이전 스텝에 소개했던 것과 동일한 방식으로 MF model을 구성하여 내가 좋아할 만한 영화를 추천해 볼 수 있습니다.\n",
    "\n"
   ]
  },
  {
   "cell_type": "markdown",
   "id": "innovative-church",
   "metadata": {},
   "source": [
    "### 2) 분석해 봅시다."
   ]
  },
  {
   "cell_type": "markdown",
   "id": "medical-lightweight",
   "metadata": {},
   "source": [
    "### ratings에 있는 유니크한 영화 개수"
   ]
  },
  {
   "cell_type": "code",
   "execution_count": 7,
   "id": "drawn-drive",
   "metadata": {},
   "outputs": [
    {
     "data": {
      "text/plain": [
       "3628"
      ]
     },
     "execution_count": 7,
     "metadata": {},
     "output_type": "execute_result"
    }
   ],
   "source": [
    "ratings['movie_id'].nunique()"
   ]
  },
  {
   "cell_type": "markdown",
   "id": "finished-guidance",
   "metadata": {},
   "source": [
    "### rating에 있는 유니크한 사용자 수"
   ]
  },
  {
   "cell_type": "code",
   "execution_count": 8,
   "id": "metropolitan-salad",
   "metadata": {},
   "outputs": [
    {
     "data": {
      "text/plain": [
       "6039"
      ]
     },
     "execution_count": 8,
     "metadata": {},
     "output_type": "execute_result"
    }
   ],
   "source": [
    "ratings['user_id'].nunique()"
   ]
  },
  {
   "cell_type": "code",
   "execution_count": 9,
   "id": "representative-layer",
   "metadata": {},
   "outputs": [],
   "source": [
    "#movie_id 를 영화title 변경 하여 가장 인기 있는 영화에 타이틀이 나오게 했다.\n",
    "ratings['movie_id'] = ratings['movie_id'].replace(movies['title'])"
   ]
  },
  {
   "cell_type": "markdown",
   "id": "rolled-headset",
   "metadata": {},
   "source": [
    "### 가장 인기 있는 영화 30개(인기순)"
   ]
  },
  {
   "cell_type": "code",
   "execution_count": 10,
   "id": "cloudy-evans",
   "metadata": {},
   "outputs": [
    {
     "data": {
      "text/plain": [
       "movie_id\n",
       "passion in the desert (1998)                                                         5.000000\n",
       "perils of pauline, the (1947)                                                        5.000000\n",
       "cup, the (phörpa) (1999)                                                             5.000000\n",
       "old lady who walked in the sea, the (vieille qui marchait dans la mer, la) (1991)    5.000000\n",
       "mchale's navy (1997)                                                                 5.000000\n",
       "eraserhead (1977)                                                                    5.000000\n",
       "guess who's coming to dinner (1967)                                                  5.000000\n",
       "grease 2 (1982)                                                                      5.000000\n",
       "kurt & courtney (1998)                                                               5.000000\n",
       "in the company of men (1997)                                                         5.000000\n",
       "bluebeard (1944)                                                                     5.000000\n",
       "fausto (1993)                                                                        5.000000\n",
       "our town (1940)                                                                      5.000000\n",
       "ed's next move (1996)                                                                5.000000\n",
       "single white female (1992)                                                           5.000000\n",
       "beautiful people (1999)                                                              5.000000\n",
       "two family house (2000)                                                              5.000000\n",
       "butterfly kiss (1995)                                                                5.000000\n",
       "american pop (1981)                                                                  5.000000\n",
       "big trees, the (1952)                                                                4.800000\n",
       "whole nine yards, the (2000)                                                         4.750000\n",
       "big green, the (1995)                                                                4.750000\n",
       "butcher's wife, the (1991)                                                           4.666667\n",
       "10 things i hate about you (1999)                                                    4.666667\n",
       "phantom of the opera, the (1943)                                                     4.666667\n",
       "bats (1999)                                                                          4.647059\n",
       "popeye (1980)                                                                        4.629690\n",
       "they bite (1996)                                                                     4.603774\n",
       "kansas city (1996)                                                                   4.598523\n",
       "strawberry and chocolate (fresa y chocolate) (1993)                                  4.596627\n",
       "Name: like, dtype: float64"
      ]
     },
     "execution_count": 10,
     "metadata": {},
     "output_type": "execute_result"
    }
   ],
   "source": [
    "# 인기 많은 영화 30개  평점 순으로 해보았다.\n",
    "movie_count_rating = ratings.groupby('movie_id')['like'].mean()\n",
    "movie_count_rating.sort_values(ascending=False).head(30)"
   ]
  },
  {
   "cell_type": "markdown",
   "id": "generic-orange",
   "metadata": {},
   "source": [
    "### 3) 내가 선호하는 영화를 5가지 골라서 rating에 추가해 줍시다"
   ]
  },
  {
   "cell_type": "code",
   "execution_count": 11,
   "id": "descending-rates",
   "metadata": {},
   "outputs": [],
   "source": [
    "data = ratings[['user_id','movie_id','like']]"
   ]
  },
  {
   "cell_type": "code",
   "execution_count": 12,
   "id": "instant-welsh",
   "metadata": {},
   "outputs": [
    {
     "data": {
      "text/html": [
       "<div>\n",
       "<style scoped>\n",
       "    .dataframe tbody tr th:only-of-type {\n",
       "        vertical-align: middle;\n",
       "    }\n",
       "\n",
       "    .dataframe tbody tr th {\n",
       "        vertical-align: top;\n",
       "    }\n",
       "\n",
       "    .dataframe thead th {\n",
       "        text-align: right;\n",
       "    }\n",
       "</style>\n",
       "<table border=\"1\" class=\"dataframe\">\n",
       "  <thead>\n",
       "    <tr style=\"text-align: right;\">\n",
       "      <th></th>\n",
       "      <th>user_id</th>\n",
       "      <th>movie_id</th>\n",
       "      <th>like</th>\n",
       "    </tr>\n",
       "  </thead>\n",
       "  <tbody>\n",
       "    <tr>\n",
       "      <th>1000203</th>\n",
       "      <td>6040</td>\n",
       "      <td>leopard son, the (1996)</td>\n",
       "      <td>3</td>\n",
       "    </tr>\n",
       "    <tr>\n",
       "      <th>1000205</th>\n",
       "      <td>6040</td>\n",
       "      <td>bird of prey (1996)</td>\n",
       "      <td>5</td>\n",
       "    </tr>\n",
       "    <tr>\n",
       "      <th>1000206</th>\n",
       "      <td>6040</td>\n",
       "      <td>naked in new york (1994)</td>\n",
       "      <td>5</td>\n",
       "    </tr>\n",
       "    <tr>\n",
       "      <th>1000207</th>\n",
       "      <td>6040</td>\n",
       "      <td>palookaville (1996)</td>\n",
       "      <td>4</td>\n",
       "    </tr>\n",
       "    <tr>\n",
       "      <th>1000208</th>\n",
       "      <td>6040</td>\n",
       "      <td>associate, the (1996)</td>\n",
       "      <td>4</td>\n",
       "    </tr>\n",
       "    <tr>\n",
       "      <th>0</th>\n",
       "      <td>zoo</td>\n",
       "      <td>toystroy (1995)</td>\n",
       "      <td>5</td>\n",
       "    </tr>\n",
       "    <tr>\n",
       "      <th>1</th>\n",
       "      <td>zoo</td>\n",
       "      <td>popeye (1980)</td>\n",
       "      <td>5</td>\n",
       "    </tr>\n",
       "    <tr>\n",
       "      <th>2</th>\n",
       "      <td>zoo</td>\n",
       "      <td>aerican pop (1981)</td>\n",
       "      <td>5</td>\n",
       "    </tr>\n",
       "    <tr>\n",
       "      <th>3</th>\n",
       "      <td>zoo</td>\n",
       "      <td>jumanji (1995)</td>\n",
       "      <td>5</td>\n",
       "    </tr>\n",
       "    <tr>\n",
       "      <th>4</th>\n",
       "      <td>zoo</td>\n",
       "      <td>kansas city (1996)</td>\n",
       "      <td>5</td>\n",
       "    </tr>\n",
       "  </tbody>\n",
       "</table>\n",
       "</div>"
      ],
      "text/plain": [
       "        user_id                  movie_id  like\n",
       "1000203    6040   leopard son, the (1996)     3\n",
       "1000205    6040       bird of prey (1996)     5\n",
       "1000206    6040  naked in new york (1994)     5\n",
       "1000207    6040       palookaville (1996)     4\n",
       "1000208    6040     associate, the (1996)     4\n",
       "0           zoo           toystroy (1995)     5\n",
       "1           zoo             popeye (1980)     5\n",
       "2           zoo        aerican pop (1981)     5\n",
       "3           zoo            jumanji (1995)     5\n",
       "4           zoo        kansas city (1996)     5"
      ]
     },
     "execution_count": 12,
     "metadata": {},
     "output_type": "execute_result"
    }
   ],
   "source": [
    "# 본인이 좋아하시는 아티스트 데이터로 바꿔서 추가하셔도 됩니다! 단, 이름은 꼭 데이터셋에 있는 것과 동일하게 맞춰주세요. \n",
    "my_favorite = ['toystroy (1995)' , 'popeye (1980)'  ,'aerican pop (1981)' ,'jumanji (1995)' ,'kansas city (1996)']\n",
    "\n",
    "# 'zimin'이라는 user_id가 위 아티스트의 노래를 30회씩 들었다고 가정하겠습니다.\n",
    "my_playlist = pd.DataFrame({'user_id': ['zoo']*5, 'movie_id': my_favorite, 'like':[5]*5})\n",
    "\n",
    "if not data.isin({'user_id':['zoo']})['user_id'].any():  # user_id에 'zoo'이라는 데이터가 없다면\n",
    "    data = data.append(my_playlist)                           # 위에 임의로 만든 my_favorite 데이터를 추가해 줍니다. \n",
    "\n",
    "data.tail(10)       # 잘 추가되었는지 확인해 봅시다."
   ]
  },
  {
   "cell_type": "code",
   "execution_count": 13,
   "id": "upset-average",
   "metadata": {},
   "outputs": [],
   "source": [
    "# 고유한 유저, 영화를 찾아내는 코드\n",
    "user_unique = data['user_id'].unique()\n",
    "movie_unique = data['movie_id'].unique()\n",
    "\n",
    "# 유저, 영화 indexing 하는 코드 idx는 index의 약자입니다.\n",
    "user_to_idx = {v:k for k,v in enumerate(user_unique)}\n",
    "movie_to_idx = {v:k for k,v in enumerate(movie_unique)}"
   ]
  },
  {
   "cell_type": "code",
   "execution_count": 14,
   "id": "charming-composer",
   "metadata": {},
   "outputs": [
    {
     "name": "stdout",
     "output_type": "stream",
     "text": [
      "6039\n",
      "980\n"
     ]
    }
   ],
   "source": [
    "# 인덱싱이 잘 되었는지 확인해 봅니다. \n",
    "print(user_to_idx['zoo'])     \n",
    "print(movie_to_idx['popeye (1980)'])"
   ]
  },
  {
   "cell_type": "code",
   "execution_count": 15,
   "id": "favorite-westminster",
   "metadata": {},
   "outputs": [
    {
     "name": "stdout",
     "output_type": "stream",
     "text": [
      "user_id column indexing OK!!\n",
      "movie column indexing OK!!\n"
     ]
    },
    {
     "data": {
      "text/html": [
       "<div>\n",
       "<style scoped>\n",
       "    .dataframe tbody tr th:only-of-type {\n",
       "        vertical-align: middle;\n",
       "    }\n",
       "\n",
       "    .dataframe tbody tr th {\n",
       "        vertical-align: top;\n",
       "    }\n",
       "\n",
       "    .dataframe thead th {\n",
       "        text-align: right;\n",
       "    }\n",
       "</style>\n",
       "<table border=\"1\" class=\"dataframe\">\n",
       "  <thead>\n",
       "    <tr style=\"text-align: right;\">\n",
       "      <th></th>\n",
       "      <th>user_id</th>\n",
       "      <th>movie_id</th>\n",
       "      <th>like</th>\n",
       "    </tr>\n",
       "  </thead>\n",
       "  <tbody>\n",
       "    <tr>\n",
       "      <th>0</th>\n",
       "      <td>0</td>\n",
       "      <td>0</td>\n",
       "      <td>5</td>\n",
       "    </tr>\n",
       "    <tr>\n",
       "      <th>1</th>\n",
       "      <td>0</td>\n",
       "      <td>1</td>\n",
       "      <td>3</td>\n",
       "    </tr>\n",
       "    <tr>\n",
       "      <th>2</th>\n",
       "      <td>0</td>\n",
       "      <td>2</td>\n",
       "      <td>3</td>\n",
       "    </tr>\n",
       "    <tr>\n",
       "      <th>3</th>\n",
       "      <td>0</td>\n",
       "      <td>3</td>\n",
       "      <td>4</td>\n",
       "    </tr>\n",
       "    <tr>\n",
       "      <th>4</th>\n",
       "      <td>0</td>\n",
       "      <td>4</td>\n",
       "      <td>5</td>\n",
       "    </tr>\n",
       "    <tr>\n",
       "      <th>...</th>\n",
       "      <td>...</td>\n",
       "      <td>...</td>\n",
       "      <td>...</td>\n",
       "    </tr>\n",
       "    <tr>\n",
       "      <th>0</th>\n",
       "      <td>6039</td>\n",
       "      <td>3628</td>\n",
       "      <td>5</td>\n",
       "    </tr>\n",
       "    <tr>\n",
       "      <th>1</th>\n",
       "      <td>6039</td>\n",
       "      <td>980</td>\n",
       "      <td>5</td>\n",
       "    </tr>\n",
       "    <tr>\n",
       "      <th>2</th>\n",
       "      <td>6039</td>\n",
       "      <td>3629</td>\n",
       "      <td>5</td>\n",
       "    </tr>\n",
       "    <tr>\n",
       "      <th>3</th>\n",
       "      <td>6039</td>\n",
       "      <td>40</td>\n",
       "      <td>5</td>\n",
       "    </tr>\n",
       "    <tr>\n",
       "      <th>4</th>\n",
       "      <td>6039</td>\n",
       "      <td>607</td>\n",
       "      <td>5</td>\n",
       "    </tr>\n",
       "  </tbody>\n",
       "</table>\n",
       "<p>836483 rows × 3 columns</p>\n",
       "</div>"
      ],
      "text/plain": [
       "    user_id  movie_id  like\n",
       "0         0         0     5\n",
       "1         0         1     3\n",
       "2         0         2     3\n",
       "3         0         3     4\n",
       "4         0         4     5\n",
       "..      ...       ...   ...\n",
       "0      6039      3628     5\n",
       "1      6039       980     5\n",
       "2      6039      3629     5\n",
       "3      6039        40     5\n",
       "4      6039       607     5\n",
       "\n",
       "[836483 rows x 3 columns]"
      ]
     },
     "execution_count": 15,
     "metadata": {},
     "output_type": "execute_result"
    }
   ],
   "source": [
    "# indexing을 통해 데이터 컬럼 내 값을 바꾸는 코드\n",
    "# dictionary 자료형의 get 함수는 https://wikidocs.net/16 을 참고하세요.\n",
    "\n",
    "# user_to_idx.get을 통해 user_id 컬럼의 모든 값을 인덱싱한 Series를 구해 봅시다. \n",
    "# 혹시 정상적으로 인덱싱되지 않은 row가 있다면 인덱스가 NaN이 될 테니 dropna()로 제거합니다. \n",
    "temp_user_data = data['user_id'].map(user_to_idx.get).dropna()\n",
    "if len(temp_user_data) == len(data):   # 모든 row가 정상적으로 인덱싱되었다면\n",
    "    print('user_id column indexing OK!!')\n",
    "    data['user_id'] = temp_user_data   # data['user_id']을 인덱싱된 Series로 교체해 줍니다. \n",
    "else:\n",
    "    print('user_id column indexing Fail!!')\n",
    "\n",
    "# movie_to_idx을 통해 artist 컬럼도 동일한 방식으로 인덱싱해 줍니다. \n",
    "temp_movie_data = data['movie_id'].map(movie_to_idx.get).dropna()\n",
    "if len(temp_movie_data) == len(data):\n",
    "    print('movie column indexing OK!!')\n",
    "    data['movie_id'] = temp_movie_data\n",
    "else:\n",
    "    print('movie column indexing Fail!!')\n",
    "\n",
    "data"
   ]
  },
  {
   "cell_type": "markdown",
   "id": "developed-patio",
   "metadata": {},
   "source": [
    "### 4) CSR matrix를 직접 만들어 봅시다."
   ]
  },
  {
   "cell_type": "code",
   "execution_count": 16,
   "id": "concerned-dealing",
   "metadata": {},
   "outputs": [
    {
     "data": {
      "text/plain": [
       "<6040x3630 sparse matrix of type '<class 'numpy.int64'>'\n",
       "\twith 836483 stored elements in Compressed Sparse Row format>"
      ]
     },
     "execution_count": 16,
     "metadata": {},
     "output_type": "execute_result"
    }
   ],
   "source": [
    "# 실습 위에 설명보고 이해해서 만들어보기\n",
    "from scipy.sparse import csr_matrix\n",
    "\n",
    "num_user = data['user_id'].nunique()\n",
    "num_movie = data['movie_id'].nunique()\n",
    "\n",
    "csr_data = csr_matrix((data.like, (data.user_id, data.movie_id)), shape= (num_user, num_movie))\n",
    "csr_data"
   ]
  },
  {
   "cell_type": "markdown",
   "id": "forward-humor",
   "metadata": {},
   "source": [
    "### 5) als_model = AlternatingLeastSquares 모델을 직접 구성하여 훈련시켜 봅시다."
   ]
  },
  {
   "cell_type": "code",
   "execution_count": 17,
   "id": "toxic-civilian",
   "metadata": {},
   "outputs": [],
   "source": [
    "from implicit.als import AlternatingLeastSquares\n",
    "import os\n",
    "import numpy as np\n",
    "\n",
    "os.environ['OPENBLAS_NUM_THREADS']='1'\n",
    "os.environ['KMP_DUPLICATE_LIB_OK']='True'\n",
    "os.environ['MKL_NUM_THREADS']='1'"
   ]
  },
  {
   "cell_type": "code",
   "execution_count": 18,
   "id": "incorporated-litigation",
   "metadata": {},
   "outputs": [],
   "source": [
    "# Implicit AlternatingLeastSquares 모델의 선언\n",
    "als_model = AlternatingLeastSquares(factors=500, regularization=0.01, iterations=20, dtype=np.float32)"
   ]
  },
  {
   "cell_type": "code",
   "execution_count": 19,
   "id": "taken-repository",
   "metadata": {},
   "outputs": [
    {
     "data": {
      "text/plain": [
       "<3630x6040 sparse matrix of type '<class 'numpy.int64'>'\n",
       "\twith 836483 stored elements in Compressed Sparse Column format>"
      ]
     },
     "execution_count": 19,
     "metadata": {},
     "output_type": "execute_result"
    }
   ],
   "source": [
    "# als 모델은 input으로 (item X user 꼴의 matrix를 받기 때문에 Transpose해줍니다.)\n",
    "csr_data_transpose = csr_data.T\n",
    "csr_data_transpose"
   ]
  },
  {
   "cell_type": "code",
   "execution_count": 20,
   "id": "pointed-training",
   "metadata": {},
   "outputs": [
    {
     "data": {
      "application/vnd.jupyter.widget-view+json": {
       "model_id": "0b581f15274b4f6aafeb749dbffe1943",
       "version_major": 2,
       "version_minor": 0
      },
      "text/plain": [
       "  0%|          | 0/20 [00:00<?, ?it/s]"
      ]
     },
     "metadata": {},
     "output_type": "display_data"
    }
   ],
   "source": [
    "# 모델 훈련\n",
    "als_model.fit(csr_data_transpose)"
   ]
  },
  {
   "cell_type": "markdown",
   "id": "governing-venice",
   "metadata": {},
   "source": [
    "### 6) 내가 선호하는 5가지 영화 중 하나와 그 외의 영화 하나를 골라 훈련된 모델이 예측한 나의 선호도를 파악해 보세요."
   ]
  },
  {
   "cell_type": "code",
   "execution_count": 21,
   "id": "adjustable-adams",
   "metadata": {},
   "outputs": [],
   "source": [
    "zoo, toystroy = user_to_idx['zoo'], movie_to_idx['popeye (1980)']\n",
    "zoo_vector, popeye_vector = als_model.user_factors[zoo], als_model.item_factors[toystroy]\n"
   ]
  },
  {
   "cell_type": "code",
   "execution_count": 22,
   "id": "indonesian-jurisdiction",
   "metadata": {
    "scrolled": true
   },
   "outputs": [
    {
     "data": {
      "text/plain": [
       "array([-0.1624903 ,  0.2068286 ,  0.515655  , -0.30343875,  0.14021339,\n",
       "       -0.28354266,  0.08410589,  0.12780634, -0.1306502 ,  0.04630427,\n",
       "       -0.4342489 , -0.03890776,  0.3012268 , -0.01329238, -0.17067392,\n",
       "       -0.05629938,  0.07339306, -0.6370355 , -0.09480707,  0.5261815 ,\n",
       "       -0.16875806,  0.13598412,  0.2776705 , -0.24824409, -0.03178801,\n",
       "       -0.25981733, -0.150441  ,  0.2298823 , -0.17018387, -0.0335166 ,\n",
       "        0.19251317, -0.6048115 ,  0.15780841, -0.08985134,  0.07896076,\n",
       "       -0.14293824, -0.13133883,  0.25602728, -0.5487447 , -0.30372277,\n",
       "        0.38988346,  0.65920156,  0.46160015, -0.25222856,  0.11270072,\n",
       "       -0.07093859, -0.04705682,  0.19798517, -0.10463718,  0.09657033,\n",
       "        0.19424312, -0.12686141, -0.37005022,  0.3544454 ,  0.17213494,\n",
       "        0.09639302,  0.19088727,  0.15863846, -0.20772046,  0.03542969,\n",
       "        0.11869504, -0.09007472, -0.08703193, -0.22531757,  0.19546503,\n",
       "        0.09334365,  0.06637633,  0.13096534,  0.05801593, -0.32317734,\n",
       "       -0.14779265, -0.20337504,  0.04179283, -0.07353209, -0.20273037,\n",
       "        0.03891654, -0.18037194,  0.28618637, -0.06192473, -0.03001496,\n",
       "       -0.3144672 ,  0.26495945, -0.12009701, -0.3882546 ,  0.36633936,\n",
       "        0.20465364,  0.28500536,  0.15970547,  0.320558  , -0.41250712,\n",
       "       -0.09901264, -0.37954018, -0.02115663, -0.150975  ,  0.04967371,\n",
       "        0.1238546 , -0.040171  ,  0.14564748, -0.3729479 , -0.39144284,\n",
       "       -0.35719907,  0.52295786, -0.07374961, -0.01784954,  0.11415217,\n",
       "        0.26245347,  0.01675409, -0.12382514,  0.1692508 ,  0.12028784,\n",
       "        0.15932225, -0.40585673,  0.2564738 , -0.01043753,  0.00098487,\n",
       "        0.24793537,  0.17670868,  0.1006273 ,  0.05955851,  0.14839154,\n",
       "        0.13205642,  0.06372568,  0.338795  , -0.02522877, -0.31292883,\n",
       "        0.13613528,  0.09400985, -0.05106982,  0.32469374, -0.12366592,\n",
       "        0.19840916,  0.03128684, -0.29953375, -0.19003737,  0.5054113 ,\n",
       "       -0.09400579,  0.18786184, -0.0140043 ,  0.28920418, -0.00667816,\n",
       "        0.208715  ,  0.03930541,  0.06564178,  0.21689051,  0.08875863,\n",
       "       -0.23876803,  0.24577002,  0.10603835, -0.15050136,  0.48393843,\n",
       "        0.11443368, -0.3432931 , -0.02312212,  0.11959666, -0.17855972,\n",
       "       -0.36071628, -0.35928455,  0.20689099,  0.07140632, -0.07484165,\n",
       "        0.02037974, -0.10102984, -0.10490803, -0.3280004 , -0.05013017,\n",
       "        0.01746541, -0.19989349,  0.2713303 , -0.1115596 ,  0.09169725,\n",
       "       -0.35256854, -0.0614263 ,  0.10338411,  0.03805094,  0.2600897 ,\n",
       "        0.26697737, -0.23294896,  0.29879767,  0.06432573,  0.20478411,\n",
       "        0.08207733, -0.3233055 ,  0.03515945, -0.10841291, -0.17492618,\n",
       "       -0.25340155, -0.2100543 ,  0.21549389,  0.12638186, -0.14036953,\n",
       "        0.10066357,  0.00681651, -0.40696985, -0.08226252, -0.00328694,\n",
       "       -0.3424256 ,  0.16020173, -0.11536066, -0.02245774,  0.12535752,\n",
       "       -0.2061865 ,  0.15215851,  0.14899823, -0.48005342,  0.00928483,\n",
       "        0.28690478, -0.43557712, -0.26086298, -0.43165138, -0.02380299,\n",
       "        0.12399603, -0.18207964,  0.4697706 , -0.18497063, -0.89446896,\n",
       "        0.19328426,  0.579799  , -0.60343874, -0.22313732, -0.06089548,\n",
       "       -0.21469545,  0.30371153,  0.01593272,  0.01860825, -0.4215839 ,\n",
       "        0.2696549 , -0.00698595, -0.06815193, -0.30223867,  0.05083161,\n",
       "        0.20510156, -0.10697073, -0.25195238, -0.10938054, -0.2050333 ,\n",
       "       -0.08386277, -0.67324567,  0.01580233,  0.11755078, -0.00824465,\n",
       "        0.04737176, -0.15777726,  0.06802025, -0.3094815 , -0.21009636,\n",
       "        0.24815848, -0.46965477, -0.01096368,  0.32200477, -0.11782033,\n",
       "       -0.5174102 ,  0.02058698,  0.14434361, -0.00463552, -0.11206324,\n",
       "       -0.31834912, -0.63922745, -0.3075461 , -0.15355298, -0.32813513,\n",
       "       -0.06914646, -0.04460182,  0.01657202,  0.09296077, -0.03502188,\n",
       "        0.13439411, -0.2599747 , -0.43348947, -0.25673577,  0.292595  ,\n",
       "       -0.3679143 , -0.09576038,  0.22315231,  0.26897088, -0.22868444,\n",
       "       -0.20798627, -0.30667707, -0.10990822,  0.36064944,  0.5271642 ,\n",
       "        0.07797899, -0.2556424 ,  0.11340896, -0.04886119, -0.53053564,\n",
       "       -0.04881838,  0.0118167 , -0.44528446,  0.12573785, -0.47720698,\n",
       "        0.2178113 , -0.18899515,  0.09989379,  0.09306426, -0.362075  ,\n",
       "       -0.2828234 ,  0.21192797,  0.24974652, -0.0617443 , -0.07402131,\n",
       "       -0.65599173,  0.06581033,  0.1722467 , -0.07517056,  0.18451126,\n",
       "        0.3070632 ,  0.36715916, -0.04354021, -0.2874071 , -0.5263536 ,\n",
       "       -0.19926135,  0.06481492,  0.3352416 ,  0.22109908, -0.30117965,\n",
       "       -0.04590722,  0.20505269, -0.02802337, -0.08177528,  0.1462853 ,\n",
       "       -0.08078238, -0.13620614,  0.25737923,  0.22018653,  0.03121033,\n",
       "       -0.20027274,  0.19415753,  0.22517943,  0.33401862,  0.11914729,\n",
       "        0.26158908,  0.00413714,  0.05971314, -0.32363945,  0.03143381,\n",
       "       -0.09471712,  0.07820601, -0.1624291 ,  0.24410236, -0.1749392 ,\n",
       "       -0.08371126,  0.17725292, -0.09395906, -0.35225746,  0.09759261,\n",
       "        0.34777075,  0.5145687 , -0.30837944,  0.02284071,  0.3678337 ,\n",
       "       -0.20242374,  0.32045725,  0.27330604, -0.07226595, -0.0581179 ,\n",
       "       -0.02751112, -0.39932454, -0.00746871,  0.10456585, -0.18066928,\n",
       "       -0.1943254 ,  0.02456045, -0.24976142, -0.17273614, -0.0780725 ,\n",
       "       -0.23035704, -0.12224533,  0.19264542, -0.28620037,  0.473652  ,\n",
       "       -0.01912223,  0.18453084, -0.01845408,  0.05000135,  0.08949661,\n",
       "        0.22328345, -0.23311529, -0.15757753,  0.09733608, -0.18843769,\n",
       "       -0.07120349,  0.0515169 ,  0.18262438, -0.09249768,  0.20832288,\n",
       "       -0.01796491, -0.21922068,  0.14678639,  0.01033922,  0.39929754,\n",
       "        0.4801346 ,  0.11893088, -0.34451473, -0.00847202,  0.1326874 ,\n",
       "        0.11764367,  0.04770399,  0.03685067, -0.16374417,  0.02964256,\n",
       "       -0.19196759,  0.0876592 , -0.49484694, -0.05754143,  0.5194214 ,\n",
       "        0.10126872, -0.27556935,  0.07466832, -0.13394895, -0.25471643,\n",
       "        0.2880443 , -0.01960091, -0.03574018,  0.19092369, -0.4146545 ,\n",
       "        0.37829533, -0.09923176,  0.20153569, -0.03583655,  0.05716996,\n",
       "        0.17519006,  0.11245111,  0.01528408,  0.06406818,  0.01823695,\n",
       "        0.20609352,  0.19653952, -0.16867392,  0.37779024,  0.14558867,\n",
       "        0.0195152 ,  0.27887356,  0.29739702,  0.3448301 ,  0.2716302 ,\n",
       "        0.34119436,  0.5269214 , -0.16412383, -0.21698567, -0.3601696 ,\n",
       "        0.05996615,  0.2336661 ,  0.31091452,  0.09889148, -0.21575221,\n",
       "        0.0525628 , -0.31909692,  0.06166518,  0.6082621 , -0.00908904,\n",
       "       -0.084003  , -0.16782193,  0.6278451 ,  0.14081672, -0.34126902,\n",
       "       -0.08246256,  0.67823505, -0.3160315 , -0.5583953 , -0.15885311,\n",
       "       -0.08625217, -0.19362904,  0.31422654,  0.41780865, -0.15457897,\n",
       "        0.31806692,  0.32076564,  0.05789941, -0.11349607,  0.07885365,\n",
       "        0.02319075,  0.16328952,  0.05567506,  0.1408356 , -0.003809  ,\n",
       "        0.00137766, -0.14513361,  0.17630537,  0.16279568,  0.07309653,\n",
       "        0.30589154,  0.19292314,  0.4480081 , -0.1230197 ,  0.38556448,\n",
       "        0.26595235,  0.22640954,  0.04466839,  0.391551  , -0.10342918,\n",
       "       -0.48313698,  0.00661488,  0.03700666,  0.14717628,  0.05433318,\n",
       "        0.27613193,  0.25451407, -0.2285859 , -0.14716394, -0.11378071],\n",
       "      dtype=float32)"
      ]
     },
     "execution_count": 22,
     "metadata": {},
     "output_type": "execute_result"
    }
   ],
   "source": [
    "zoo_vector"
   ]
  },
  {
   "cell_type": "code",
   "execution_count": 23,
   "id": "matched-enhancement",
   "metadata": {},
   "outputs": [
    {
     "data": {
      "text/plain": [
       "array([ 1.26245916e-02,  9.44816321e-03,  2.60582808e-02,  2.84195296e-04,\n",
       "        2.76325922e-03, -1.30607025e-03, -6.01564161e-03,  4.44279332e-03,\n",
       "       -1.41951232e-03,  4.25372133e-03, -1.21268677e-02,  2.07383325e-03,\n",
       "        1.81192122e-02,  1.99036658e-04, -8.86714645e-03, -4.81862947e-03,\n",
       "        9.85904131e-04, -7.30320485e-03, -1.76338051e-02,  1.99086796e-02,\n",
       "        2.23438945e-02,  8.06891825e-03,  1.24615300e-02,  2.11990792e-02,\n",
       "        9.11583565e-03,  7.41563737e-03, -1.50703397e-02,  1.37928315e-02,\n",
       "        7.71318749e-03, -8.71295109e-04,  1.17193218e-02, -1.22775361e-02,\n",
       "        7.45368144e-03, -1.94814126e-03,  1.70266267e-03, -4.63552168e-03,\n",
       "       -1.46834217e-02,  1.24850925e-02, -1.83635075e-02,  1.56001886e-03,\n",
       "        1.93505809e-02,  1.61063280e-02,  1.55267362e-02,  1.09147867e-02,\n",
       "        9.66860820e-03,  9.90726147e-03,  2.86998926e-03, -6.43747440e-03,\n",
       "        3.43841547e-03,  1.07385376e-02, -2.21275142e-03, -6.92544179e-03,\n",
       "       -5.29399933e-03,  5.88569744e-03,  4.57043760e-03,  2.04262063e-02,\n",
       "        1.56615693e-02,  4.62672766e-03, -6.82651764e-03,  4.05970030e-03,\n",
       "       -2.65168445e-03, -1.09598236e-02,  2.16516722e-02, -3.27349640e-03,\n",
       "        1.01891598e-02,  2.19723713e-02,  5.38459281e-03,  1.38742793e-02,\n",
       "        2.31275614e-02, -4.22537187e-03,  1.68747026e-02,  5.47783799e-04,\n",
       "       -7.88865238e-03,  3.31688975e-03, -1.12098744e-02,  2.81096008e-02,\n",
       "       -1.01456791e-02,  1.42945396e-02, -9.49212536e-03,  9.85882059e-03,\n",
       "       -7.52611272e-03,  4.97800577e-03, -1.41958622e-02, -2.00013723e-03,\n",
       "        1.15803070e-02,  1.47139011e-02,  1.86759848e-02, -7.45756039e-03,\n",
       "        2.27220450e-02, -9.36269702e-04, -1.16910469e-02, -1.63247325e-02,\n",
       "        1.48024457e-02,  7.58375914e-04, -1.36885457e-02, -3.66969383e-03,\n",
       "        2.16725580e-02,  7.83841778e-03, -8.51530582e-03,  1.15776137e-02,\n",
       "       -8.90464801e-03,  1.43934097e-02, -1.12470388e-02,  1.94472552e-03,\n",
       "        3.80667089e-03,  1.80025417e-02,  8.85986537e-03,  1.70127749e-02,\n",
       "        8.13182816e-03,  1.02421064e-02,  2.49492773e-03, -3.11828800e-03,\n",
       "        2.49965508e-02,  8.48190021e-03,  1.24653699e-02,  9.00144782e-03,\n",
       "        1.59044433e-02,  2.77488353e-03,  1.54984957e-02,  1.21645359e-02,\n",
       "        7.75214098e-03,  4.94053680e-03,  3.02072172e-03,  2.39941082e-03,\n",
       "       -1.46807637e-03,  6.63319975e-03,  2.10362300e-02,  5.54637332e-03,\n",
       "        6.61440613e-03,  8.42365250e-03,  3.53175541e-03, -2.72673235e-04,\n",
       "        1.11914324e-02,  3.86731874e-04,  3.36946771e-02, -6.46075420e-03,\n",
       "        1.23470894e-03,  1.45770586e-03,  1.60000212e-02, -6.51205564e-03,\n",
       "        3.34443571e-03,  1.74018908e-02,  5.46492822e-03,  2.82857642e-02,\n",
       "        4.23089648e-03,  4.27701185e-03,  1.80769525e-02,  2.07916871e-02,\n",
       "        1.41474325e-03,  1.25975814e-02,  2.82702390e-02, -6.49950700e-03,\n",
       "       -3.35188140e-03,  4.30973573e-03, -1.69991085e-03, -1.50660705e-02,\n",
       "        2.03651213e-03, -5.00073982e-03,  5.43361157e-03,  1.41116092e-03,\n",
       "        1.28825260e-02,  1.53091634e-02, -5.65010495e-03, -4.49159741e-03,\n",
       "        1.65721346e-02,  1.46409664e-02, -6.23961119e-03,  1.33284526e-02,\n",
       "       -1.82248687e-03,  1.74099468e-02,  4.60392941e-04, -8.97941831e-03,\n",
       "        4.70943842e-03, -4.79624746e-03,  1.68990362e-02,  1.28512671e-02,\n",
       "       -1.57946930e-03,  1.50608988e-02,  1.58721954e-02,  2.86681205e-03,\n",
       "        1.46865668e-02,  3.86692863e-03,  1.69003755e-03, -1.01964567e-02,\n",
       "        6.81361463e-03, -4.72122198e-03, -7.65804388e-03,  1.50213428e-02,\n",
       "        4.84223291e-03, -1.31271975e-02, -2.97341379e-03,  1.96715761e-02,\n",
       "        5.76100918e-03,  4.35443176e-03,  5.64199407e-03, -1.26522761e-02,\n",
       "        5.89420041e-03, -7.44289812e-03, -6.05710223e-03,  1.39582204e-02,\n",
       "        5.54493302e-03, -3.92108486e-04,  1.21955248e-02, -4.54356009e-03,\n",
       "        7.46359676e-03,  1.30734397e-02, -9.16696154e-03, -5.19544556e-05,\n",
       "        4.92967432e-03,  1.85438879e-02,  1.53250359e-02,  7.16436747e-03,\n",
       "        2.49072444e-02, -4.89484146e-03, -2.35549826e-02,  1.50566036e-02,\n",
       "        1.16419801e-02, -2.80050648e-04, -1.54949818e-02, -4.04375745e-03,\n",
       "        1.41912326e-03,  1.40727842e-02,  2.02309154e-02, -5.75702870e-03,\n",
       "        5.80792548e-04,  6.69638859e-04,  1.09566189e-02,  5.93640096e-03,\n",
       "       -1.50544737e-02,  2.33279523e-02,  2.13658791e-02,  1.50741506e-02,\n",
       "        6.51360862e-03,  1.77375861e-02, -1.41483708e-03, -5.16541116e-03,\n",
       "       -1.19430730e-02,  3.10920342e-03,  2.08582468e-02, -1.29253240e-02,\n",
       "        1.92201380e-02, -1.68989238e-04,  2.46424656e-02,  5.43486234e-03,\n",
       "       -7.98563939e-03,  1.46806231e-02, -2.05522180e-02,  2.45249942e-02,\n",
       "        1.17447535e-02,  4.64402791e-03, -1.52116921e-02, -4.35225852e-03,\n",
       "        4.21548355e-03, -7.19149783e-03,  4.58921306e-03,  4.08427417e-03,\n",
       "       -1.45497313e-02,  3.40825575e-03,  1.12483334e-02, -1.05741695e-02,\n",
       "        1.27888583e-02,  1.06779588e-02,  2.13086978e-03,  1.42486403e-02,\n",
       "        1.96146662e-03,  1.52243078e-02, -9.77703929e-03, -1.63602419e-02,\n",
       "       -1.46721043e-02,  1.80678512e-03, -1.20438021e-02,  8.59037414e-03,\n",
       "        2.47340985e-02,  1.71399827e-03, -8.33179988e-03,  1.56175447e-04,\n",
       "        4.65920754e-03, -1.98331033e-03,  2.01172028e-02,  1.99470706e-02,\n",
       "        9.73511022e-03, -2.28875829e-03,  4.71704639e-03, -6.00317400e-03,\n",
       "       -1.13941059e-02,  1.04818773e-02,  2.73299665e-04,  1.18905278e-02,\n",
       "        1.14318328e-02, -1.18553918e-03,  1.80231966e-02,  2.56084814e-03,\n",
       "        5.90252224e-03,  1.35812536e-02, -4.05496219e-03, -7.55096320e-03,\n",
       "        1.49763636e-02, -6.75045466e-03,  7.40149058e-03,  9.55710839e-03,\n",
       "       -2.82985363e-02, -3.34313535e-03,  1.93852857e-02,  9.67106037e-03,\n",
       "        2.13150419e-02,  1.40132746e-02,  1.16885630e-02, -3.35824350e-03,\n",
       "        7.15956558e-03, -1.91453937e-02,  1.74970813e-02,  1.50099155e-02,\n",
       "        1.57506540e-02,  2.03991719e-02,  5.39055374e-03, -2.18715891e-03,\n",
       "        2.15805154e-02,  1.81138664e-02, -1.76139548e-02,  1.61208734e-02,\n",
       "        5.04679745e-03, -1.45864235e-02,  4.49683098e-03,  1.36283720e-02,\n",
       "        2.17167437e-02, -2.21370836e-03, -4.61633597e-03,  1.38488822e-02,\n",
       "        1.24715560e-03,  6.35324558e-03,  4.51441575e-03,  1.85884330e-02,\n",
       "        2.04062276e-03,  1.64392591e-02,  1.01237474e-02,  7.17254402e-03,\n",
       "        1.32559631e-02,  8.86182953e-03, -5.67873335e-03,  9.81776416e-03,\n",
       "        1.43471789e-02, -1.29697088e-03,  4.62515425e-04, -8.34004302e-03,\n",
       "        7.97646865e-03,  5.03946189e-03,  8.35931674e-03,  7.03433668e-03,\n",
       "        1.03002498e-02,  1.89988520e-02,  3.18348617e-03,  1.91888232e-02,\n",
       "        2.37590144e-03,  4.31622984e-03,  1.14905667e-02,  1.61600374e-02,\n",
       "        1.80612020e-02, -7.39996647e-03,  5.18024759e-03,  8.60475097e-03,\n",
       "       -7.18742236e-03,  8.13737046e-03,  6.86341804e-03,  9.92474612e-03,\n",
       "        6.41193066e-04, -8.94964673e-03,  1.53259598e-02,  6.24983199e-03,\n",
       "       -2.14235149e-02,  1.52503913e-02, -4.80665173e-03,  1.57462452e-02,\n",
       "        9.48394742e-03, -4.27015685e-03,  1.85163524e-02,  1.44513967e-02,\n",
       "        9.30260029e-03,  4.34741098e-03, -3.09678214e-03,  1.92323467e-03,\n",
       "       -1.62727118e-03,  1.61656924e-02,  1.41140562e-03,  9.75895673e-03,\n",
       "        1.61543638e-02, -6.63693715e-03, -1.39660202e-02,  1.33929551e-02,\n",
       "        4.99205105e-03,  2.10357420e-02,  2.70175841e-02,  1.05821509e-02,\n",
       "        1.09509602e-02, -5.09864185e-03,  4.89578722e-03,  2.76471931e-03,\n",
       "       -8.21728026e-04, -3.66348377e-03,  1.08985938e-02, -2.63354974e-04,\n",
       "        2.85097910e-03,  8.70297663e-03, -6.56831497e-03,  1.18092855e-03,\n",
       "        2.61693429e-02, -2.95751495e-03, -1.51820446e-03,  2.07156744e-02,\n",
       "        2.27147574e-03, -7.01204129e-03,  1.25705088e-02,  8.20834376e-03,\n",
       "        1.32917296e-02,  4.80151689e-03,  7.81423692e-03,  9.96748637e-03,\n",
       "       -1.29610440e-02,  1.55598968e-02,  1.74136441e-02, -9.28478874e-03,\n",
       "        1.91250201e-02,  5.50823472e-03,  1.32355038e-02,  5.93626080e-03,\n",
       "        5.51652536e-03,  1.77913588e-02,  7.04353256e-03,  8.87586456e-03,\n",
       "       -3.80349252e-03,  1.08658411e-02,  1.31413266e-02,  2.01279726e-02,\n",
       "        1.11137182e-02,  2.42617689e-02,  2.27309223e-02,  1.60592441e-02,\n",
       "        1.01943621e-02, -1.04342122e-02,  1.47440024e-02, -3.38723208e-03,\n",
       "       -7.15726288e-03,  1.59997344e-02,  2.13953070e-02,  6.97019463e-03,\n",
       "       -9.32491105e-03, -4.72184829e-03,  8.83626007e-03,  9.52327251e-03,\n",
       "        1.06114456e-02, -7.73666566e-03,  7.34569924e-03, -2.90300837e-03,\n",
       "        2.63187625e-02,  1.44578712e-02, -2.57781288e-03,  6.23307016e-04,\n",
       "        3.23259793e-02, -5.79468999e-03, -8.54725577e-03,  1.12731894e-02,\n",
       "       -1.55203724e-02, -1.64418835e-02,  1.15278671e-02,  3.02478690e-02,\n",
       "        5.09337988e-03, -2.42841034e-03,  8.05615913e-03,  7.46838190e-03,\n",
       "       -9.83000267e-03,  2.38714943e-04, -8.74543749e-03,  6.49897242e-03,\n",
       "        7.00477744e-03,  5.88757591e-03,  1.62189417e-02,  1.40757523e-02,\n",
       "       -1.10363553e-03, -3.89102148e-03,  3.72122508e-03,  5.89295151e-03,\n",
       "        5.40712848e-03,  6.40140520e-03,  1.60555802e-02, -1.41031584e-02,\n",
       "        2.18625460e-02,  1.18125267e-02,  8.32680333e-03, -3.32546537e-03,\n",
       "        9.80526488e-03, -7.30270799e-03, -1.20327212e-02,  4.04021004e-03,\n",
       "        9.33010038e-03,  5.10450499e-03,  7.00140651e-03,  1.40562691e-02,\n",
       "        1.57987997e-02, -2.48889532e-02, -1.82908741e-04,  7.27719162e-03],\n",
       "      dtype=float32)"
      ]
     },
     "execution_count": 23,
     "metadata": {},
     "output_type": "execute_result"
    }
   ],
   "source": [
    "popeye_vector"
   ]
  },
  {
   "cell_type": "code",
   "execution_count": 24,
   "id": "comparative-vinyl",
   "metadata": {},
   "outputs": [
    {
     "data": {
      "text/plain": [
       "0.7612913"
      ]
     },
     "execution_count": 24,
     "metadata": {},
     "output_type": "execute_result"
    }
   ],
   "source": [
    "np.dot(zoo_vector, popeye_vector)"
   ]
  },
  {
   "cell_type": "code",
   "execution_count": 25,
   "id": "instructional-mathematics",
   "metadata": {},
   "outputs": [
    {
     "data": {
      "text/plain": [
       "0.7612913"
      ]
     },
     "execution_count": 25,
     "metadata": {},
     "output_type": "execute_result"
    }
   ],
   "source": [
    "toystroy = movie_to_idx['popeye (1980)']\n",
    "movie_vector = als_model.item_factors[toystroy]\n",
    "np.dot(zoo_vector, popeye_vector)"
   ]
  },
  {
   "cell_type": "markdown",
   "id": "occasional-master",
   "metadata": {},
   "source": [
    "### 7) 내가 좋아하는 영화와 비슷한 영화를 추천받아 봅시다."
   ]
  },
  {
   "cell_type": "code",
   "execution_count": 26,
   "id": "baking-pride",
   "metadata": {},
   "outputs": [
    {
     "data": {
      "text/plain": [
       "[(980, 1.0000001),\n",
       " (2430, 0.4555578),\n",
       " (70, 0.44469607),\n",
       " (1460, 0.44446233),\n",
       " (2511, 0.4423599),\n",
       " (69, 0.4366845),\n",
       " (3629, 0.43331015),\n",
       " (3165, 0.43324494),\n",
       " (3628, 0.4316699),\n",
       " (3285, 0.4284082),\n",
       " (3556, 0.42822716),\n",
       " (3504, 0.42759442),\n",
       " (3499, 0.42624053),\n",
       " (2699, 0.42551404),\n",
       " (3619, 0.42529556)]"
      ]
     },
     "execution_count": 26,
     "metadata": {},
     "output_type": "execute_result"
    }
   ],
   "source": [
    "favorite_movie = 'popeye (1980)'\n",
    "movie_id = movie_to_idx[favorite_movie]\n",
    "similar_movie = als_model.similar_items(movie_id, N=15)\n",
    "similar_movie"
   ]
  },
  {
   "cell_type": "code",
   "execution_count": 27,
   "id": "cooked-cooler",
   "metadata": {},
   "outputs": [
    {
     "data": {
      "text/plain": [
       "['popeye (1980)',\n",
       " 'bats (1999)',\n",
       " 'trust (1990)',\n",
       " 'magnolia (1999)',\n",
       " 'never been kissed (1999)',\n",
       " 'shampoo (1975)',\n",
       " 'aerican pop (1981)',\n",
       " 'life of émile zola, the (1937)',\n",
       " 'toystroy (1995)',\n",
       " 'wilde (1997)',\n",
       " 'walking and talking (1996)',\n",
       " 'g. i. blues (1960)',\n",
       " 'someone to watch over me (1987)',\n",
       " 'when the cats away (chacun cherche son chat) (1996)',\n",
       " 'anchors aweigh (1945)']"
      ]
     },
     "execution_count": 27,
     "metadata": {},
     "output_type": "execute_result"
    }
   ],
   "source": [
    "#artist_to_idx 를 뒤집어, index로부터 artist 이름을 얻는 dict를 생성합니다. \n",
    "idx_to_movie = {v:k for k,v in movie_to_idx.items()}\n",
    "[idx_to_movie[i[0]] for i in similar_movie]"
   ]
  },
  {
   "cell_type": "code",
   "execution_count": 28,
   "id": "placed-office",
   "metadata": {},
   "outputs": [],
   "source": [
    "def get_similar_movie(movie_name: str):\n",
    "    movie_id = movie_to_idx[movie_name]\n",
    "    similar_movie = als_model.similar_items(movie_id)\n",
    "    similar_movie = [idx_to_movie[i[0]] for i in similar_movie]\n",
    "    return similar_movie"
   ]
  },
  {
   "cell_type": "code",
   "execution_count": 29,
   "id": "convenient-timothy",
   "metadata": {},
   "outputs": [
    {
     "data": {
      "text/plain": [
       "['popeye (1980)',\n",
       " 'bats (1999)',\n",
       " 'trust (1990)',\n",
       " 'magnolia (1999)',\n",
       " 'never been kissed (1999)',\n",
       " 'shampoo (1975)',\n",
       " 'aerican pop (1981)',\n",
       " 'life of émile zola, the (1937)',\n",
       " 'toystroy (1995)',\n",
       " 'wilde (1997)']"
      ]
     },
     "execution_count": 29,
     "metadata": {},
     "output_type": "execute_result"
    }
   ],
   "source": [
    "get_similar_movie('popeye (1980)')"
   ]
  },
  {
   "cell_type": "markdown",
   "id": "greater-surface",
   "metadata": {},
   "source": [
    "### 8) 내가 가장 좋아할 만한 영화들을 추천받아 봅시다."
   ]
  },
  {
   "cell_type": "code",
   "execution_count": 30,
   "id": "fresh-parks",
   "metadata": {},
   "outputs": [
    {
     "data": {
      "text/plain": [
       "[(380, 0.2662406),\n",
       " (70, 0.17931929),\n",
       " (1292, 0.10423398),\n",
       " (6, 0.1023923),\n",
       " (50, 0.09874652),\n",
       " (1428, 0.094304256),\n",
       " (604, 0.08853073),\n",
       " (1460, 0.087914914),\n",
       " (88, 0.08530977),\n",
       " (149, 0.08390893),\n",
       " (69, 0.083607435),\n",
       " (1590, 0.081752256),\n",
       " (2200, 0.08084732),\n",
       " (197, 0.08010453),\n",
       " (487, 0.0775172),\n",
       " (273, 0.076525174),\n",
       " (778, 0.07612009),\n",
       " (8, 0.075766794),\n",
       " (793, 0.07552196),\n",
       " (817, 0.0754364)]"
      ]
     },
     "execution_count": 30,
     "metadata": {},
     "output_type": "execute_result"
    }
   ],
   "source": [
    "user = user_to_idx['zoo']\n",
    "# recommend에서는 user*item CSR Matrix를 받습니다.\n",
    "movie_recommended = als_model.recommend(user, csr_data, N=20, filter_already_liked_items=True)\n",
    "movie_recommended"
   ]
  },
  {
   "cell_type": "code",
   "execution_count": 31,
   "id": "median-provider",
   "metadata": {},
   "outputs": [
    {
     "data": {
      "text/plain": [
       "['braindead (1992)',\n",
       " 'trust (1990)',\n",
       " 'better off dead... (1985)',\n",
       " 'when harry met sally... (1989)',\n",
       " 'third miracle, the (1999)',\n",
       " 'fried green tomatoes (1991)',\n",
       " 'gigi (1958)',\n",
       " 'magnolia (1999)',\n",
       " 'pope of greenwich village, the (1984)',\n",
       " 'alley cats, the (1968)',\n",
       " 'shampoo (1975)',\n",
       " 'beyond the poseidon adventure (1979)',\n",
       " 'unforgettable (1996)',\n",
       " 'evening star, the (1996)',\n",
       " 'day the earth stood still, the (1951)',\n",
       " 'taming of the shrew, the (1967)',\n",
       " 'lay of the land, the (1997)',\n",
       " 'window to paris (1994)',\n",
       " 'head on (1998)',\n",
       " 'message to love: the isle of wight festival (1996)']"
      ]
     },
     "execution_count": 31,
     "metadata": {},
     "output_type": "execute_result"
    }
   ],
   "source": [
    "[idx_to_movie[i[0]] for i in movie_recommended]"
   ]
  },
  {
   "cell_type": "markdown",
   "id": "neither-category",
   "metadata": {},
   "source": [
    "### 9) 선호도 및 유사도 기여도 확인하기"
   ]
  },
  {
   "cell_type": "code",
   "execution_count": 32,
   "id": "greatest-abraham",
   "metadata": {},
   "outputs": [],
   "source": [
    "aericapop = movie_to_idx['aerican pop (1981)']\n",
    "explain = als_model.explain(user, csr_data, itemid=aericapop)"
   ]
  },
  {
   "cell_type": "code",
   "execution_count": 33,
   "id": "warming-equivalent",
   "metadata": {},
   "outputs": [
    {
     "data": {
      "text/plain": [
       "[('jumanji (1995)', 0.00633760800456497),\n",
       " ('popeye (1980)', 0.006009951106942892),\n",
       " ('toystroy (1995)', 0.005997003583669949),\n",
       " ('aerican pop (1981)', 0.005453884839198935),\n",
       " ('kansas city (1996)', 0.005125776866741257)]"
      ]
     },
     "execution_count": 33,
     "metadata": {},
     "output_type": "execute_result"
    }
   ],
   "source": [
    "[(idx_to_movie[i[0]], i[1]) for i in explain[1]]"
   ]
  },
  {
   "cell_type": "markdown",
   "id": "varied-printing",
   "metadata": {},
   "source": [
    "# 프로젝트를 마치며... "
   ]
  },
  {
   "cell_type": "markdown",
   "id": "professional-occupation",
   "metadata": {},
   "source": [
    "### 데이터 전처리 부분 아직 많이 미숙한것같다 개념들은 알아가는데 항상 사용하려구 하면 헷갈리고 어렵다.... 활용하고 응용 하기까지 더 많이 검색해보고 사용해 봐야 할것같다. \n",
    "### 데이터 전처리 이후는 크게 어려운 부분이 없었다. 이번 노드는 잘 읽으면서 따라가면서 하기 충분하였다. "
   ]
  }
 ],
 "metadata": {
  "kernelspec": {
   "display_name": "aiffel",
   "language": "python",
   "name": "aiffel"
  },
  "language_info": {
   "codemirror_mode": {
    "name": "ipython",
    "version": 3
   },
   "file_extension": ".py",
   "mimetype": "text/x-python",
   "name": "python",
   "nbconvert_exporter": "python",
   "pygments_lexer": "ipython3",
   "version": "3.7.9"
  }
 },
 "nbformat": 4,
 "nbformat_minor": 5
}
