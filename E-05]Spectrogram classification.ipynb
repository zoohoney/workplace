{
 "cells": [
  {
   "cell_type": "markdown",
   "metadata": {},
   "source": [
    "# 프로젝트: Spectrogrm classification 모델"
   ]
  },
  {
   "cell_type": "markdown",
   "metadata": {},
   "source": [
    "### 오늘 실습에서 1차원 Waveform 데이터를 입력받아 Text 라벨을 출력하는 모델을 기본 버전과 Skip-connection 버전으로 나누어 학습시켜 보았습니다. 이번에는 2차원 Spectrogram 데이터를 입력받아 위 모델과 동일한 역할을 수행하는 모델을 아래 제시된 단계와 같이 수행해 보시기 바랍니다. 이번에도 마찬가지로 기본 버전과 Skip-connection 버전으로 나누어 각각 진행해 보시기 바랍니다. 모델 구조를 제외하고는 실습에서 제시된 것과 거의 동일하게 진행될 것입니다"
   ]
  },
  {
   "cell_type": "markdown",
   "metadata": {},
   "source": [
    "## 0. 데이터 불러오기 !"
   ]
  },
  {
   "cell_type": "code",
   "execution_count": 1,
   "metadata": {},
   "outputs": [
    {
     "name": "stdout",
     "output_type": "stream",
     "text": [
      "✅\n"
     ]
    }
   ],
   "source": [
    "import numpy as np\n",
    "import os\n",
    "\n",
    "data_path = os.getenv(\"HOME\")+'/aiffel/speech_recognition/data/speech_wav_8000.npz'\n",
    "speech_data = np.load(data_path)\n",
    "\n",
    "print(\"✅\")"
   ]
  },
  {
   "cell_type": "code",
   "execution_count": 2,
   "metadata": {},
   "outputs": [
    {
     "name": "stdout",
     "output_type": "stream",
     "text": [
      "✅\n"
     ]
    }
   ],
   "source": [
    "import librosa\n",
    "\n",
    "def wav2spec(wav, fft_size=258): # spectrogram shape을 맞추기위해서 size 변형\n",
    "    D = np.abs(librosa.stft(wav, n_fft=fft_size))\n",
    "    return D\n",
    "print(\"✅\")"
   ]
  },
  {
   "cell_type": "code",
   "execution_count": 3,
   "metadata": {},
   "outputs": [],
   "source": [
    "# 위에서 뽑았던 sample data\n",
    "spec = []\n",
    "for wav in speech_data[\"wav_vals\"]:\n",
    "    spec.append(wav2spec(wav))\n",
    "spec = np.array(spec)"
   ]
  },
  {
   "cell_type": "code",
   "execution_count": 4,
   "metadata": {},
   "outputs": [
    {
     "name": "stdout",
     "output_type": "stream",
     "text": [
      "Waveform shape :  (50620, 8000)\n",
      "Spectrogram shape :  (50620, 130, 126)\n"
     ]
    }
   ],
   "source": [
    "print(\"Waveform shape : \",speech_data[\"wav_vals\"].shape)\n",
    "print(\"Spectrogram shape : \",spec.shape)"
   ]
  },
  {
   "cell_type": "code",
   "execution_count": 5,
   "metadata": {},
   "outputs": [],
   "source": [
    "## Spectrogram 으로 변환 !"
   ]
  },
  {
   "cell_type": "code",
   "execution_count": 6,
   "metadata": {},
   "outputs": [
    {
     "name": "stdout",
     "output_type": "stream",
     "text": [
      "rand num :  13196\n",
      "Wave data shape :  (8000,)\n",
      "label :  ['right']\n"
     ]
    },
    {
     "data": {
      "text/html": [
       "\n",
       "                <audio  controls=\"controls\" >\n",
       "                    <source src=\"data:audio/wav;base64,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\" type=\"audio/wav\" />\n",
       "                    Your browser does not support the audio element.\n",
       "                </audio>\n",
       "              "
      ],
      "text/plain": [
       "<IPython.lib.display.Audio object>"
      ]
     },
     "execution_count": 6,
     "metadata": {},
     "output_type": "execute_result"
    }
   ],
   "source": [
    "import IPython.display as ipd ## 데이터가 맞는지 확인하기!\n",
    "import random\n",
    "\n",
    "# 데이터 선택 (랜덤하게 선택하고 있으니, 여러번 실행해 보세요)\n",
    "rand = random.randint(0, len(speech_data[\"wav_vals\"]))\n",
    "print(\"rand num : \", rand)\n",
    "\n",
    "sr = 8000 # 1초동안 재생되는 샘플의 갯수\n",
    "data = speech_data[\"wav_vals\"][rand]\n",
    "print(\"Wave data shape : \", data.shape)\n",
    "print(\"label : \", speech_data[\"label_vals\"][rand])\n",
    "\n",
    "ipd.Audio(data, rate=sr) "
   ]
  },
  {
   "cell_type": "markdown",
   "metadata": {},
   "source": [
    "## 1. 데이터 처리와 분류"
   ]
  },
  {
   "cell_type": "markdown",
   "metadata": {},
   "source": [
    "### - 라벨 데이터 처리하기"
   ]
  },
  {
   "cell_type": "code",
   "execution_count": 7,
   "metadata": {},
   "outputs": [
    {
     "name": "stdout",
     "output_type": "stream",
     "text": [
      "LABEL :  ['yes', 'no', 'up', 'down', 'left', 'right', 'on', 'off', 'stop', 'go', 'unknown', 'silence']\n",
      "Indexed LABEL :  {'yes': 0, 'no': 1, 'up': 2, 'down': 3, 'left': 4, 'right': 5, 'on': 6, 'off': 7, 'stop': 8, 'go': 9, 'unknown': 10, 'silence': 11}\n"
     ]
    }
   ],
   "source": [
    "target_list = ['yes', 'no', 'up', 'down', 'left', 'right', 'on', 'off', 'stop', 'go']\n",
    "\n",
    "label_value = target_list\n",
    "label_value.append('unknown')\n",
    "label_value.append('silence')\n",
    "\n",
    "print('LABEL : ', label_value)\n",
    "\n",
    "new_label_value = dict()\n",
    "for i, l in enumerate(label_value):\n",
    "    new_label_value[l] = i\n",
    "label_value = new_label_value\n",
    "\n",
    "print('Indexed LABEL : ', new_label_value)"
   ]
  },
  {
   "cell_type": "code",
   "execution_count": 8,
   "metadata": {},
   "outputs": [
    {
     "data": {
      "text/plain": [
       "array([ 3,  3,  3, ..., 11, 11, 11])"
      ]
     },
     "execution_count": 8,
     "metadata": {},
     "output_type": "execute_result"
    }
   ],
   "source": [
    "temp = [] \n",
    "for v in speech_data[\"label_vals\"]:\n",
    "    temp.append(label_value[v[0]])\n",
    "label_data = np.array(temp)\n",
    "\n",
    "label_data"
   ]
  },
  {
   "cell_type": "code",
   "execution_count": 9,
   "metadata": {},
   "outputs": [],
   "source": [
    "# Text로 이루어진 라벨 데이터를 학습에 사용하기 위해 index 형태로 변환"
   ]
  },
  {
   "cell_type": "markdown",
   "metadata": {},
   "source": [
    "### - sklearn의 train_test_split함수를 이용하여 train, test 분리"
   ]
  },
  {
   "cell_type": "code",
   "execution_count": 10,
   "metadata": {},
   "outputs": [
    {
     "name": "stdout",
     "output_type": "stream",
     "text": [
      "[[[2.0094678e-02 8.9830840e-03 1.7142865e-03 ... 2.6799546e-04\n",
      "   1.9452425e-03 6.5677855e-03]\n",
      "  [2.4236267e-02 1.2035743e-02 2.5152902e-03 ... 3.0103549e-03\n",
      "   5.1366119e-03 6.5334761e-03]\n",
      "  [3.0824188e-02 1.7855115e-02 3.4057829e-03 ... 7.7932440e-03\n",
      "   3.2631224e-03 6.1808764e-03]\n",
      "  ...\n",
      "  [4.0481216e-03 1.7460239e-03 5.5177836e-04 ... 5.8769871e-04\n",
      "   2.4102803e-03 4.4118767e-03]\n",
      "  [3.9796731e-03 2.1453821e-03 7.2943541e-05 ... 1.9987840e-04\n",
      "   2.5438287e-03 4.7259801e-03]\n",
      "  [4.0695826e-03 2.0019137e-03 4.7747297e-05 ... 6.1459104e-05\n",
      "   2.2882158e-03 4.6141762e-03]]\n",
      "\n",
      " [[6.1523337e-02 2.1242203e-02 2.2213278e-02 ... 7.4587807e-02\n",
      "   9.6397139e-02 4.3026574e-02]\n",
      "  [1.2102966e-01 7.9019725e-02 8.0798067e-02 ... 9.8431237e-02\n",
      "   8.5878693e-02 2.6347847e-03]\n",
      "  [1.9121540e-01 1.3377683e-01 7.5925484e-02 ... 1.7420796e-01\n",
      "   1.5357125e-01 7.5176142e-02]\n",
      "  ...\n",
      "  [6.5018008e-03 3.0771201e-03 5.9713941e-04 ... 7.8595878e-04\n",
      "   4.8435692e-04 1.0462347e-03]\n",
      "  [6.0369312e-03 3.0784740e-03 6.8769943e-05 ... 1.7944236e-04\n",
      "   5.7279959e-04 9.1931288e-04]\n",
      "  [6.0150512e-03 3.0390220e-03 1.0038218e-05 ... 2.1121923e-05\n",
      "   5.5783108e-04 1.0726119e-03]]\n",
      "\n",
      " [[4.5370357e-04 5.2793144e-04 3.1231693e-04 ... 3.1821831e-04\n",
      "   6.9681875e-05 2.0151694e-05]\n",
      "  [8.2800339e-05 5.1639107e-04 3.1657249e-04 ... 4.2087099e-04\n",
      "   1.8746246e-04 1.1240309e-04]\n",
      "  [3.7790500e-04 5.8096595e-04 2.9305663e-04 ... 4.4243623e-04\n",
      "   3.1178392e-04 3.1113115e-04]\n",
      "  ...\n",
      "  [4.2842476e-06 4.1956860e-06 3.7183731e-06 ... 9.1850216e-06\n",
      "   9.3786848e-06 3.0146682e-06]\n",
      "  [2.4864719e-06 1.4680652e-06 1.4161541e-06 ... 3.6398767e-06\n",
      "   2.9471519e-06 3.7998655e-07]\n",
      "  [2.9152375e-06 2.4060671e-06 1.7079248e-07 ... 7.8048600e-07\n",
      "   7.7764338e-07 2.4396509e-06]]\n",
      "\n",
      " ...\n",
      "\n",
      " [[3.1535797e-02 3.3431761e-02 5.6854833e-02 ... 6.3637872e-03\n",
      "   3.5606481e-02 9.5896877e-02]\n",
      "  [5.0862007e-02 7.1941376e-02 7.6086514e-02 ... 3.9338153e-02\n",
      "   6.6102318e-02 9.1857202e-02]\n",
      "  [2.1140911e-02 5.6652799e-02 6.8466581e-02 ... 6.8426527e-02\n",
      "   5.9572306e-02 4.2225566e-02]\n",
      "  ...\n",
      "  [5.1012426e-03 2.2469549e-03 5.9928879e-04 ... 5.4170407e-04\n",
      "   2.5484043e-03 4.7556036e-03]\n",
      "  [5.0314548e-03 2.6799529e-03 5.8624468e-05 ... 1.6765314e-04\n",
      "   2.6894074e-03 5.0306353e-03]\n",
      "  [5.1281415e-03 2.5475714e-03 4.1304851e-05 ... 5.6665474e-05\n",
      "   2.4681680e-03 4.9254554e-03]]\n",
      "\n",
      " [[2.2543589e-02 3.0570224e-02 6.8307087e-02 ... 3.1332053e-02\n",
      "   1.2093793e-02 1.5271359e-02]\n",
      "  [9.7276503e-03 1.1903875e-02 4.4130065e-02 ... 4.3786105e-02\n",
      "   2.0043069e-02 3.2696534e-02]\n",
      "  [3.6633608e-03 5.2644103e-03 2.2396335e-02 ... 4.2831447e-02\n",
      "   4.6081889e-02 3.9172627e-02]\n",
      "  ...\n",
      "  [2.9633890e-04 2.5925122e-04 1.3955274e-04 ... 7.6982418e-05\n",
      "   5.4737501e-04 1.1843239e-03]\n",
      "  [3.4939928e-04 1.5004640e-04 1.3460141e-05 ... 4.4691402e-05\n",
      "   4.8475352e-04 9.4372203e-04]\n",
      "  [3.1634248e-04 1.6495488e-04 8.2234969e-08 ... 1.0394320e-05\n",
      "   4.7437951e-04 9.3358738e-04]]\n",
      "\n",
      " [[3.1406540e-02 7.8911491e-02 1.5606596e-01 ... 3.4972474e-02\n",
      "   1.3249706e-03 5.9085902e-02]\n",
      "  [1.1252024e-01 1.8514042e-01 3.2600579e-01 ... 7.2347566e-02\n",
      "   6.4766929e-02 7.0954509e-02]\n",
      "  [1.9238465e-01 2.0054150e-01 2.7293229e-01 ... 6.0304765e-02\n",
      "   2.2734743e-02 9.4487734e-02]\n",
      "  ...\n",
      "  [1.7679434e-03 9.0891111e-04 2.9059258e-05 ... 1.1610000e-04\n",
      "   1.5327700e-04 3.7727359e-04]\n",
      "  [1.6820695e-03 8.3873764e-04 3.0096142e-05 ... 1.7359971e-05\n",
      "   1.4619800e-04 2.6230889e-04]\n",
      "  [1.6400894e-03 8.2252524e-04 5.1976082e-07 ... 1.1035964e-05\n",
      "   1.3722818e-04 2.6668078e-04]]]\n",
      "✅\n"
     ]
    }
   ],
   "source": [
    "from sklearn.model_selection import train_test_split\n",
    "\n",
    "sr = 8000\n",
    "train_wav, test_wav, train_label, test_label = train_test_split(spec, \n",
    "                                                                label_data, \n",
    "                                                                test_size=0.1,\n",
    "                                                                shuffle=True)\n",
    "print(train_wav)\n",
    "\n",
    "#train_wav = train_wav.reshape([-1, sr, 1]) # add channel for CNN\n",
    "#test_wav = test_wav.reshape([-1, sr, 1])\n",
    "print(\"✅\")"
   ]
  },
  {
   "cell_type": "code",
   "execution_count": 11,
   "metadata": {},
   "outputs": [
    {
     "name": "stdout",
     "output_type": "stream",
     "text": [
      "train data :  (45558, 130, 126)\n",
      "train labels :  (45558,)\n",
      "test data :  (5062, 130, 126)\n",
      "test labels :  (5062,)\n",
      "✅\n"
     ]
    }
   ],
   "source": [
    "print(\"train data : \", train_wav.shape)\n",
    "print(\"train labels : \", train_label.shape)\n",
    "print(\"test data : \", test_wav.shape)\n",
    "print(\"test labels : \", test_label.shape)\n",
    "print(\"✅\")"
   ]
  },
  {
   "cell_type": "markdown",
   "metadata": {},
   "source": [
    "## 2. 학습을 위한 하이퍼파라미터 설정"
   ]
  },
  {
   "cell_type": "code",
   "execution_count": 12,
   "metadata": {},
   "outputs": [
    {
     "data": {
      "text/plain": [
       "'/home/aiffel-dj12/aiffel/speech_recognition/models/wav'"
      ]
     },
     "execution_count": 12,
     "metadata": {},
     "output_type": "execute_result"
    }
   ],
   "source": [
    "batch_size = 12\n",
    "max_epochs = 5\n",
    "\n",
    "# the save point\n",
    "checkpoint_dir = os.getenv('HOME')+'/aiffel/speech_recognition/models/wav'\n",
    "\n",
    "checkpoint_dir"
   ]
  },
  {
   "cell_type": "markdown",
   "metadata": {},
   "source": [
    "## 3. 데이터셋 구성"
   ]
  },
  {
   "cell_type": "markdown",
   "metadata": {},
   "source": [
    "### - tf.data.Dataset을 이용"
   ]
  },
  {
   "cell_type": "markdown",
   "metadata": {},
   "source": [
    "### - from_tensor_slices 함수에 return 받길 원하는 데이터를 튜플 (data, label) 형태로 넣어서 사용"
   ]
  },
  {
   "cell_type": "markdown",
   "metadata": {},
   "source": [
    "### - map과 batch를 이용한 데이터 전처리"
   ]
  },
  {
   "cell_type": "code",
   "execution_count": 13,
   "metadata": {},
   "outputs": [
    {
     "name": "stdout",
     "output_type": "stream",
     "text": [
      "✅\n"
     ]
    }
   ],
   "source": [
    "def one_hot_label(wav, label):\n",
    "    label = tf.one_hot(label, depth=12)\n",
    "    return wav, label\n",
    "print(\"✅\")"
   ]
  },
  {
   "cell_type": "code",
   "execution_count": 14,
   "metadata": {},
   "outputs": [
    {
     "name": "stdout",
     "output_type": "stream",
     "text": [
      "<BatchDataset shapes: ((None, 130, 126), (None, 12)), types: (tf.float32, tf.float32)>\n",
      "<BatchDataset shapes: ((None, 130, 126), (None, 12)), types: (tf.float32, tf.float32)>\n",
      "✅\n"
     ]
    }
   ],
   "source": [
    "import tensorflow as tf\n",
    "\n",
    "# for train\n",
    "train_dataset = tf.data.Dataset.from_tensor_slices((train_wav, train_label))\n",
    "train_dataset = train_dataset.map(one_hot_label)\n",
    "train_dataset = train_dataset.repeat().batch(batch_size=batch_size)\n",
    "print(train_dataset)\n",
    "\n",
    "# for test\n",
    "test_dataset = tf.data.Dataset.from_tensor_slices((test_wav, test_label))\n",
    "test_dataset = test_dataset.map(one_hot_label)\n",
    "test_dataset = test_dataset.batch(batch_size=batch_size)\n",
    "print(test_dataset)\n",
    "print(\"✅\")"
   ]
  },
  {
   "cell_type": "markdown",
   "metadata": {},
   "source": [
    "### - 주의 : waveform을 spectrogram으로 변환하기 위해 추가로 사용하는 메모리 때문에 이후 메모리 부족 현상을 겪게 될수도 있습니다. tf.data.Dataset이 생성된 이후, 아래 예시와 같이 wav 데이터나 spectrogram 데이터를 담아둔 메모리 버퍼를 비워 주면 도움이 됩니다.\n",
    "#### del speech_data / del spec_data 데이터 or 메모리 버퍼 비우기"
   ]
  },
  {
   "cell_type": "markdown",
   "metadata": {},
   "source": [
    "## 4. 2차원 Spectrogram 데이터를 처리하는 모델 구성"
   ]
  },
  {
   "cell_type": "markdown",
   "metadata": {},
   "source": [
    "### - 2차원 Spectrogram 데이터의 시간축 방향으로 Conv1D layer를 적용, 혹은 Conv2D layer를 적용 가능"
   ]
  },
  {
   "cell_type": "markdown",
   "metadata": {},
   "source": [
    "### - batchnorm, dropout, dense layer 등을 이용"
   ]
  },
  {
   "cell_type": "code",
   "execution_count": 15,
   "metadata": {},
   "outputs": [
    {
     "name": "stdout",
     "output_type": "stream",
     "text": [
      "Model: \"model\"\n",
      "__________________________________________________________________________________________________\n",
      "Layer (type)                    Output Shape         Param #     Connected to                     \n",
      "==================================================================================================\n",
      "input_1 (InputLayer)            [(None, 130, 126, 1) 0                                            \n",
      "__________________________________________________________________________________________________\n",
      "conv2d (Conv2D)                 (None, 130, 126, 32) 320         input_1[0][0]                    \n",
      "__________________________________________________________________________________________________\n",
      "conv2d_1 (Conv2D)               (None, 130, 126, 32) 9248        conv2d[0][0]                     \n",
      "__________________________________________________________________________________________________\n",
      "max_pooling2d (MaxPooling2D)    (None, 65, 63, 32)   0           conv2d_1[0][0]                   \n",
      "__________________________________________________________________________________________________\n",
      "conv2d_2 (Conv2D)               (None, 65, 63, 64)   18496       max_pooling2d[0][0]              \n",
      "__________________________________________________________________________________________________\n",
      "conv2d_3 (Conv2D)               (None, 65, 63, 64)   36928       conv2d_2[0][0]                   \n",
      "__________________________________________________________________________________________________\n",
      "tf_op_layer_concat (TensorFlowO [(None, 65, 63, 96)] 0           conv2d_3[0][0]                   \n",
      "                                                                 max_pooling2d[0][0]              \n",
      "__________________________________________________________________________________________________\n",
      "max_pooling2d_1 (MaxPooling2D)  (None, 32, 31, 96)   0           tf_op_layer_concat[0][0]         \n",
      "__________________________________________________________________________________________________\n",
      "conv2d_4 (Conv2D)               (None, 32, 31, 128)  110720      max_pooling2d_1[0][0]            \n",
      "__________________________________________________________________________________________________\n",
      "conv2d_5 (Conv2D)               (None, 32, 31, 128)  147584      conv2d_4[0][0]                   \n",
      "__________________________________________________________________________________________________\n",
      "conv2d_6 (Conv2D)               (None, 32, 31, 128)  147584      conv2d_5[0][0]                   \n",
      "__________________________________________________________________________________________________\n",
      "tf_op_layer_concat_1 (TensorFlo [(None, 32, 31, 224) 0           conv2d_6[0][0]                   \n",
      "                                                                 max_pooling2d_1[0][0]            \n",
      "__________________________________________________________________________________________________\n",
      "max_pooling2d_2 (MaxPooling2D)  (None, 16, 15, 224)  0           tf_op_layer_concat_1[0][0]       \n",
      "__________________________________________________________________________________________________\n",
      "conv2d_7 (Conv2D)               (None, 16, 15, 256)  516352      max_pooling2d_2[0][0]            \n",
      "__________________________________________________________________________________________________\n",
      "conv2d_8 (Conv2D)               (None, 16, 15, 256)  590080      conv2d_7[0][0]                   \n",
      "__________________________________________________________________________________________________\n",
      "conv2d_9 (Conv2D)               (None, 16, 15, 256)  590080      conv2d_8[0][0]                   \n",
      "__________________________________________________________________________________________________\n",
      "tf_op_layer_concat_2 (TensorFlo [(None, 16, 15, 480) 0           conv2d_9[0][0]                   \n",
      "                                                                 max_pooling2d_2[0][0]            \n",
      "__________________________________________________________________________________________________\n",
      "max_pooling2d_3 (MaxPooling2D)  (None, 8, 7, 480)    0           tf_op_layer_concat_2[0][0]       \n",
      "__________________________________________________________________________________________________\n",
      "dropout (Dropout)               (None, 8, 7, 480)    0           max_pooling2d_3[0][0]            \n",
      "__________________________________________________________________________________________________\n",
      "flatten (Flatten)               (None, 26880)        0           dropout[0][0]                    \n",
      "__________________________________________________________________________________________________\n",
      "dense (Dense)                   (None, 256)          6881536     flatten[0][0]                    \n",
      "__________________________________________________________________________________________________\n",
      "batch_normalization (BatchNorma (None, 256)          1024        dense[0][0]                      \n",
      "__________________________________________________________________________________________________\n",
      "activation (Activation)         (None, 256)          0           batch_normalization[0][0]        \n",
      "__________________________________________________________________________________________________\n",
      "dense_1 (Dense)                 (None, 12)           3084        activation[0][0]                 \n",
      "==================================================================================================\n",
      "Total params: 9,053,036\n",
      "Trainable params: 9,052,524\n",
      "Non-trainable params: 512\n",
      "__________________________________________________________________________________________________\n"
     ]
    }
   ],
   "source": [
    "from tensorflow.keras import layers\n",
    "input_tensor = layers.Input(shape=(130, 126, 1))\n",
    "\n",
    "x = layers.Conv2D(32, (3,3), padding='same', activation='relu')(input_tensor)\n",
    "x = layers.Conv2D(32, (3,3), padding='same', activation='relu')(x)\n",
    "skip_1 = layers.MaxPool2D(2,2)(x)\n",
    "\n",
    "x = layers.Conv2D(64, (3,3), padding='same', activation='relu')(skip_1)\n",
    "x = layers.Conv2D(64, (3,3), padding='same', activation='relu')(x)\n",
    "x = tf.concat([x, skip_1], -1)\n",
    "skip_2 = layers.MaxPool2D(2,2)(x)\n",
    "\n",
    "x = layers.Conv2D(128, (3,3), padding='same', activation='relu')(skip_2)\n",
    "x = layers.Conv2D(128, (3,3), padding='same', activation='relu')(x)\n",
    "x = layers.Conv2D(128, (3,3), padding='same', activation='relu')(x)\n",
    "x = tf.concat([x, skip_2], -1)\n",
    "skip_3 = layers.MaxPool2D(2,2)(x)\n",
    "\n",
    "x = layers.Conv2D(256, (3,3), padding='same', activation='relu')(skip_3)\n",
    "x = layers.Conv2D(256, (3,3), padding='same', activation='relu')(x)\n",
    "x = layers.Conv2D(256, (3,3), padding='same', activation='relu')(x)\n",
    "x = tf.concat([x, skip_3], -1)\n",
    "x = layers.MaxPool2D(2,2)(x)\n",
    "x = layers.Dropout(0.3)(x)\n",
    "\n",
    "x = layers.Flatten()(x)\n",
    "x = layers.Dense(256)(x)\n",
    "x = layers.BatchNormalization()(x)\n",
    "x = layers.Activation('relu')(x)\n",
    "\n",
    "output_tensor = layers.Dense(12)(x)\n",
    "\n",
    "model_wav_skip = tf.keras.Model(input_tensor, output_tensor)\n",
    "\n",
    "model_wav_skip.summary()"
   ]
  },
  {
   "cell_type": "markdown",
   "metadata": {},
   "source": [
    "### - 12개의 단어 class를 구분하는 loss를 사용하고 Adam optimizer를 사용"
   ]
  },
  {
   "cell_type": "code",
   "execution_count": 16,
   "metadata": {},
   "outputs": [
    {
     "name": "stdout",
     "output_type": "stream",
     "text": [
      "✅\n"
     ]
    }
   ],
   "source": [
    "optimizer=tf.keras.optimizers.Adam(1e-4)\n",
    "model_wav_skip.compile(loss=tf.keras.losses.CategoricalCrossentropy(from_logits=True),\n",
    "             optimizer=optimizer,\n",
    "             metrics=['accuracy'])\n",
    "print(\"✅\")"
   ]
  },
  {
   "cell_type": "markdown",
   "metadata": {},
   "source": [
    "### - 모델 가중치를 저장하는 checkpoint callback 함수 추가"
   ]
  },
  {
   "cell_type": "code",
   "execution_count": 17,
   "metadata": {},
   "outputs": [
    {
     "name": "stdout",
     "output_type": "stream",
     "text": [
      "✅\n"
     ]
    }
   ],
   "source": [
    "# the save point\n",
    "checkpoint_dir = os.getenv('HOME')+'/aiffel/speech_recognition/models/wav_skip'\n",
    "\n",
    "cp_callback = tf.keras.callbacks.ModelCheckpoint(checkpoint_dir,\n",
    "                                                 save_weights_only=True,\n",
    "                                                 monitor='val_loss',\n",
    "                                                 mode='auto',\n",
    "                                                 save_best_only=True,\n",
    "                                                 verbose=1)\n",
    "print(\"✅\")"
   ]
  },
  {
   "cell_type": "markdown",
   "metadata": {},
   "source": [
    "### - 다양한 모델의 실험을 진행해 보시기 바랍니다."
   ]
  },
  {
   "cell_type": "code",
   "execution_count": 18,
   "metadata": {},
   "outputs": [
    {
     "name": "stdout",
     "output_type": "stream",
     "text": [
      "Epoch 1/5\n",
      "3796/3796 [==============================] - ETA: 0s - loss: 0.7693 - accuracy: 0.7546\n",
      "Epoch 00001: val_loss improved from inf to 0.30989, saving model to /home/aiffel-dj12/aiffel/speech_recognition/models/wav_skip\n",
      "3796/3796 [==============================] - 86s 23ms/step - loss: 0.7693 - accuracy: 0.7546 - val_loss: 0.3099 - val_accuracy: 0.9084\n",
      "Epoch 2/5\n",
      "3795/3796 [============================>.] - ETA: 0s - loss: 0.2788 - accuracy: 0.9151\n",
      "Epoch 00002: val_loss improved from 0.30989 to 0.17432, saving model to /home/aiffel-dj12/aiffel/speech_recognition/models/wav_skip\n",
      "3796/3796 [==============================] - 84s 22ms/step - loss: 0.2787 - accuracy: 0.9151 - val_loss: 0.1743 - val_accuracy: 0.9458\n",
      "Epoch 3/5\n",
      "3794/3796 [============================>.] - ETA: 0s - loss: 0.1794 - accuracy: 0.9454\n",
      "Epoch 00003: val_loss improved from 0.17432 to 0.13436, saving model to /home/aiffel-dj12/aiffel/speech_recognition/models/wav_skip\n",
      "3796/3796 [==============================] - 88s 23ms/step - loss: 0.1794 - accuracy: 0.9454 - val_loss: 0.1344 - val_accuracy: 0.9570\n",
      "Epoch 4/5\n",
      "3796/3796 [==============================] - ETA: 0s - loss: 0.1232 - accuracy: 0.9630\n",
      "Epoch 00004: val_loss improved from 0.13436 to 0.12045, saving model to /home/aiffel-dj12/aiffel/speech_recognition/models/wav_skip\n",
      "3796/3796 [==============================] - 86s 23ms/step - loss: 0.1232 - accuracy: 0.9630 - val_loss: 0.1205 - val_accuracy: 0.9578\n",
      "Epoch 5/5\n",
      "3796/3796 [==============================] - ETA: 0s - loss: 0.0921 - accuracy: 0.9727\n",
      "Epoch 00005: val_loss did not improve from 0.12045\n",
      "3796/3796 [==============================] - 86s 23ms/step - loss: 0.0921 - accuracy: 0.9727 - val_loss: 0.1406 - val_accuracy: 0.9517\n",
      "✅\n"
     ]
    }
   ],
   "source": [
    "#30분 내외 소요\n",
    "x = len(train_wav) // batch_size\n",
    "del train_wav\n",
    "history_wav_skip = model_wav_skip.fit(train_dataset, epochs=max_epochs,\n",
    "                    steps_per_epoch=x,\n",
    "                    validation_data=test_dataset,\n",
    "                    validation_steps=len(test_wav) // batch_size,\n",
    "                    callbacks=[cp_callback]\n",
    "                    )\n",
    "print(\"✅\")"
   ]
  },
  {
   "cell_type": "code",
   "execution_count": 19,
   "metadata": {
    "scrolled": true
   },
   "outputs": [],
   "source": [
    "del spec\n",
    "del speech_data\n",
    "#del train_wav "
   ]
  },
  {
   "cell_type": "markdown",
   "metadata": {},
   "source": [
    "## 5. 학습 후, 학습이 어떻게 진행됐는지 그래프로 출력"
   ]
  },
  {
   "cell_type": "markdown",
   "metadata": {},
   "source": [
    "### - loss, accuracy를 그래프로 표현"
   ]
  },
  {
   "cell_type": "code",
   "execution_count": 20,
   "metadata": {},
   "outputs": [
    {
     "data": {
      "image/png": "[encoded data removed]",
      "text/plain": [
       "<Figure size 576x576 with 2 Axes>"
      ]
     },
     "metadata": {
      "needs_background": "light"
     },
     "output_type": "display_data"
    },
    {
     "name": "stdout",
     "output_type": "stream",
     "text": [
      "✅\n"
     ]
    }
   ],
   "source": [
    "import matplotlib.pyplot as plt\n",
    "\n",
    "acc = history_wav_skip.history['accuracy']\n",
    "val_acc = history_wav_skip.history['val_accuracy']\n",
    "\n",
    "loss=history_wav_skip.history['loss']\n",
    "val_loss=history_wav_skip.history['val_loss']\n",
    "\n",
    "epochs_range = range(len(acc))\n",
    "\n",
    "plt.figure(figsize=(8, 8))\n",
    "plt.subplot(1, 2, 1)\n",
    "plt.plot(epochs_range, acc, label='Training Accuracy')\n",
    "plt.plot(epochs_range, val_acc, label='Validation Accuracy')\n",
    "plt.legend(loc='lower right')\n",
    "plt.title('Training and Validation Accuracy')\n",
    "\n",
    "plt.subplot(1, 2, 2)\n",
    "plt.plot(epochs_range, loss, label='Training Loss')\n",
    "plt.plot(epochs_range, val_loss, label='Validation Loss')\n",
    "plt.legend(loc='upper right')\n",
    "plt.title('Training and Validation Loss')\n",
    "plt.show()\n",
    "print(\"✅\")"
   ]
  },
  {
   "cell_type": "markdown",
   "metadata": {},
   "source": [
    "## 6. Test dataset을 이용해서 모델의 성능을 평가"
   ]
  },
  {
   "cell_type": "markdown",
   "metadata": {},
   "source": [
    "### - 저장한 weight 불러오기"
   ]
  },
  {
   "cell_type": "code",
   "execution_count": 21,
   "metadata": {},
   "outputs": [
    {
     "name": "stdout",
     "output_type": "stream",
     "text": [
      "422/422 [==============================] - 36s 84ms/step - loss: 0.1203 - accuracy: 0.9579\n",
      "loss value: 0.120\n",
      "accuracy value: 95.7922%\n",
      "✅\n"
     ]
    }
   ],
   "source": [
    "# Evaluation \n",
    "\n",
    "model_wav_skip.load_weights(checkpoint_dir)\n",
    "results = model_wav_skip.evaluate(test_dataset)\n",
    "\n",
    "# loss\n",
    "print(\"loss value: {:.3f}\".format(results[0]))\n",
    "# accuracy\n",
    "print(\"accuracy value: {:.4f}%\".format(results[1]*100))\n",
    "print(\"✅\")"
   ]
  },
  {
   "cell_type": "code",
   "execution_count": null,
   "metadata": {},
   "outputs": [],
   "source": []
  },
  {
   "cell_type": "markdown",
   "metadata": {},
   "source": [
    "### - 모델의 예측값과 정답값이 얼마나 일치하는지 확인"
   ]
  },
  {
   "cell_type": "code",
   "execution_count": 25,
   "metadata": {},
   "outputs": [
    {
     "name": "stdout",
     "output_type": "stream",
     "text": [
      "label :  on\n"
     ]
    },
    {
     "data": {
      "text/html": [
       "\n",
       "                <audio  controls=\"controls\" >\n",
       "                    <source src=\"data:audio/wav;base64,UklGRhyAAABXQVZFZm10IBAAAAABAIIAQB8AAAC9HwAEARAAZGF0Yfh/AAAGAAIAAAAEAAIAAgAFAAUAAgAAAAAAAAAAAAAAAQAAAAIAAgAAAAEAAAADAAQABwAGAAAAAwACAAQACAADAAAAAAADAAMAAgACAAEAAgAEAAIAAAAAAAAAAAAAAAAAAAABAAEAAAAAAAAAAAAAAAAAAAABAAEAAAAAAAAAAAAAAAEAAAAAAAAAAAABAAEAAAAAAAAAAQAAAAEAAAAAAAAAAgACAAEAAAAAAAEAAAAAAAAAAAAAAAAAAQACAAIAAAAAAAAAAAAAAAEAAQAAAAEAAQAAAAEAAAAAAAAAAgACAAAAAAAAAAEAAgABAAAAAAAAAAAAAAAAAAAAAAAAAAAAAAAAAAUAAwACAAUABQACAAIABAABAAEAAAAAAAAAAAABAAIAAgABAAIAAgACAAEAAgADAAYAAwACAAIABwAJAAIAAgABAAEAAgAAAAEAAgADAAIAAQABAAAAAAAAAAAAAQABAAAAAQAAAAAAAAAAAAAAAAAAAAEAAQABAAEAAAABAAIAAQAAAAAAAAAAAAAAAAAAAAAAAAABAAEAAQABAAEAAAABAAIAAQAAAAAAAQAAAAAAAQAAAAAAAQABAAEAAQABAAAAAAAAAAAAAQABAAEAAQAAAAAAAQABAAEAAQABAAEAAQAAAAAAAQABAAEAAAAAAAAAAAAAAAAAAAAAAAAAAAAAAAAAAwACAAIABQAFAAMAAwABAAEAAQABAAAAAAAAAAEAAgABAAAAAgABAAEAAQABAAIAAgADAAEAAwAJAAkABQADAAEAAQACAAEAAAABAAEAAAAAAAAAAAAAAAAAAQABAAAAAAABAAEAAAAAAAAAAAAAAAAAAQAAAAAAAgADAAMAAQACAAEAAAAAAAAAAAAAAAAAAAAAAAAAAQABAAEAAAAAAAAAAQAAAAEAAQAAAAAAAQABAAAAAAAAAAEAAAAAAAEAAAAAAAAAAAAAAAEAAQAAAAEAAAAAAAEAAQAAAAEAAAABAAAAAAAAAAAAAQAAAAAAAAAAAAAAAAAAAAAAAAAAAAAAAAACAAAAAgACAAEAAQACAAMAAwABAAEAAgABAAAAAAABAAAAAAABAAEAAQABAAEAAgABAAMABQAIAAgAAgADAAEAAQABAAEAAQAAAAAAAAAAAAAAAQABAAEAAAABAAAAAAAAAAEAAAAAAAAAAAAAAAAAAQABAAEAAgADAAMAAwABAAIAAQAAAAAAAAAAAAAAAAAAAAAAAAAAAAAAAAAAAAAAAQADAAMAAgABAAAAAQABAAAAAAAAAAAAAAAAAAEAAQAAAAAAAAABAAEAAAABAAEAAQABAAAAAQABAAAAAQABAAEAAQAAAAAAAQACAAEAAAAAAAAAAAAAAAAAAAAAAAAAAAAAAAQABAADAAEAAgABAAMABAADAAIAAgABAAIAAQABAAIAAQACAAEAAQAAAAEAAQABAAMAAgADAAUABAAEAAMAAgABAAEAAAABAAAAAAAAAAAAAAABAAEAAQABAAEAAQAAAAAAAAAAAAAAAQABAAEAAQACAAIAAQABAAEAAAABAAEAAQAAAAAAAQABAAAAAAAAAAAAAAAAAAAAAAAAAAAAAQADAAYABAACAAEAAAAAAAEAAAAAAAAAAAAAAAEAAAABAAEAAQAAAAEAAQAAAAIAAgABAAEAAQAAAAEAAAAAAAEAAQABAAEAAQABAAEAAQAAAAAAAAAAAAAAAAAAAAAAAAAAAAAAAwAFAAUABAADAAEAAwADAAAAAgABAAEAAgACAAEAAwADAAAAAgACAAMAAQACAAEAAQADAAQAAwADAAQAAgADAAEAAAAAAAAAAQAAAAAAAAAAAAAAAQAAAAAAAQACAAAAAAAAAAAAAQABAAEAAQABAAEAAQAAAAAAAAAAAAAAAAABAAEAAAABAAEAAAAAAAEAAQAAAAAAAAAAAAAAAAAAAAQABQACAAAAAAAAAAAAAAAAAAAAAAAAAAAAAAABAAEAAAAAAAAAAAAAAAAAAQACAAEAAQAAAAAAAQABAAEAAAAAAAEAAQACAAEAAAAAAAAAAAAAAAAAAAAAAAAAAAAAAAAAAAAAAAMAAgABAAMAAwADAAEAAQACAAAAAQACAAEABAACAAIAAgAEAAYABAABAAIAAQACAAMAAQADAAQAAwACAAIAAQAAAAAAAAAAAAAAAQAAAAAAAAABAAIAAgADAAEAAAAAAAAAAAABAAAAAAAAAAAAAAABAAEAAQABAAAAAQABAAIAAQAAAAAAAQABAAEAAQABAAAAAAAAAAAAAAABAAEAAgADAAEAAQABAAAAAAABAAAAAQABAAEAAAAAAAEAAAAAAAAAAAAAAAAAAAAAAAEAAAAAAAAAAAABAAIAAQAAAAAAAQAAAAEAAgABAAAAAQABAAAAAAAAAAAAAAAAAAAAAAAAAAEAAwACAAAAAgACAAEAAgABAAIAAQABAAMABQAGAAIAAQACAAQABAAEAAIAAQABAAIAAQAAAAAAAgACAAEAAQABAAEAAQABAAEAAQABAAAAAAAAAAAAAgAEAAEAAAAAAAAAAAAAAAAAAAABAAEAAQABAAEAAgACAAEAAQABAAAAAQABAAAAAAABAAEAAgABAAEAAQAAAAEAAQAAAAEAAAAAAAEAAQABAAIAAgABAAAAAAAAAAEAAAAAAAEAAQAAAAEAAAABAAAAAAAAAAEAAQABAAAAAAAAAAEAAQAAAAAAAQABAAEAAQADAAEAAAABAAMAAgABAAAAAAAAAAAAAAAAAAAABAACAAAAAgABAAIAAwACAAAAAQACAAIAAwAEAAUABAACAAEAAQAAAAAAAQACAAMAAwABAAEAAQACAAIAAQAAAAAAAAABAAEAAQACAAAAAAAAAAAAAAACAAMAAQAAAAAAAAAAAAAAAQABAAEAAQAAAAAAAAAAAAIAAAABAAEAAAAAAAAAAQACAAIAAwADAAAAAAABAAIAAwADAAMAAgAAAAEAAQAAAAAAAQADAAEAAAAAAAAAAQAAAAAAAAAAAAIAAQABAAEAAAAAAAAAAAAAAAAAAQAAAAEAAAAAAAAAAQABAAAAAAACAAMAAgABAAIAAgADAAEAAAAAAAAAAAAAAAAAAAAEAAIAAAACAAEAAwAEAAIAAAABAAEAAQABAAAAAQABAAEAAAAAAAEAAAACAAEAAgACAAEAAQAAAAEAAQACAAEAAAABAAIAAQACAAIAAAAAAAAAAAABAAEAAQABAAAAAAAAAAEAAAABAAIAAAAAAAEAAAAAAAAAAQABAAAAAQABAAEAAQABAAIAAQACAAIAAAAAAAAAAQAEAAEAAwADAAIAAgABAAEAAQABAAMAAwACAAIAAQACAAEAAAAAAAEAAgAAAAAAAAAAAAAAAAAAAAEAAgADAAIAAAAAAAEAAQABAAEAAQABAAIAAQABAAEAAQAAAAIAAQAAAAAAAAAAAAAAAAAAAAMAAQABAAIAAwABAAIAAgAAAAEAAgACAAEAAAAAAAAAAAAAAAAAAAABAAIAAgABAAAAAAABAAEAAQACAAQABAABAAEAAgAAAAIAAQAAAAAAAQACAAIAAQABAAEAAAABAAAAAQAAAAEAAgABAAAAAQABAAAAAQABAAEAAQABAAAAAQACAAAAAQABAAIAAgAAAAEAAAACAAMAAQABAAIAAgABAAAAAQABAAAAAQABAAMAAQACAAIAAQAAAAAAAQABAAEAAAAAAAAAAQAAAAAAAQADAAQAAgAAAAEAAgADAAEAAQACAAIAAAABAAAAAAAAAAAAAQABAAAAAAAAAAAAAAAAAAAAAgAAAAAAAwACAAAAAgACAAEAAQACAAAAAQABAAEAAAAAAAAAAAAAAAAAAgACAAAAAAABAAEAAQABAAMABgAGAAQAAQABAAEAAQABAAAAAAABAAIAAQABAAAAAQABAAAAAAABAAAAAAACAAEAAgACAAAAAQABAAEAAQACAAEAAAABAAEAAQABAAAAAQABAAAAAQABAAIAAwABAAEAAQAAAAAAAQADAAMAAQACAAMABAACAAEAAQACAAEAAQABAAIAAAABAAEAAAABAAEAAAAAAAEAAgACAAEAAAACAAIAAAABAAIAAQABAAEAAQABAAAAAAAAAAAAAAAAAAAAAAAAAAAAAAADAAIAAgACAAIAAQABAAEAAQACAAIAAQABAAAAAQACAAAAAAAAAAAAAQACAAEAAAABAAAAAQABAAAAAwAEAAIABAABAAAAAAAAAAEAAQABAAIAAgAAAAAAAAABAAAAAAAAAAAAAAABAAEAAAACAAQAAwABAAEAAwADAAIAAgABAAAAAQABAAIAAgAAAAAAAAACAAIAAgADAAEAAAABAAEAAQADAAUABQAAAAMABAAEAAIAAgACAAMAAQACAAMAAgABAAAAAQABAAEAAQABAAEAAAAAAAAAAAAAAAEAAQAAAAEAAgABAAEAAAAAAAAAAAAAAAAAAAAAAAAAAAAAAAAAAAAAAAUAAwABAAEAAQABAAEAAQABAAEAAQAAAAAAAQABAAIAAgABAAEAAQABAAEAAAAAAAIAAgABAAEAAQADAAUABAADAAAAAAAAAAEAAQAAAAIAAwABAAAAAQABAAEAAAAAAAAAAAAAAAEAAQAAAAEAAwADAAIAAgADAAIAAAACAAIAAQABAAIAAgACAAEAAAABAAIAAgAAAAIAAQABAAEAAAABAAIABAAEAAQABAAAAAIAAAABAAEAAgABAAIAAgAAAAEAAQACAAAAAAABAAEAAQABAAAAAAAAAAEAAQABAAAAAAABAAEAAQABAAAAAAAAAAAAAAAAAAAAAAAAAAAAAAAAAAAABAABAAEAAQAAAAEAAgACAAEAAQACAAAAAQABAAAAAgACAAAAAQABAAAAAAAAAAEAAgABAAAAAQACAAIAAwADAAIAAQAAAAEAAQABAAAAAAABAAEAAAABAAIAAQABAAEAAQAAAAAAAQABAAAAAQACAAEAAgABAAEAAAABAAIAAQAAAAEAAAAAAAAAAAABAAIAAAABAAEAAQABAAEAAAABAAAAAAABAAEAAwAFAAMAAgABAAEAAQACAAIAAAABAAAAAQACAAEAAAAAAAAAAAABAAEAAQABAAEAAgADAAEAAAABAAEAAAAAAAEAAQAAAAAAAAAAAAAAAAAAAAAAAAAAAAAAAAADAAIAAgADAAIAAQACAAIAAAADAAMAAAABAAAAAQABAAAAAQABAAAAAgABAAAAAQABAAAAAAAAAAAAAQACAAIAAAABAAEAAAABAAEAAAAAAAEAAAAAAAAAAQABAAIAAQAAAAAAAAABAAEAAAAAAAEAAQABAAAAAAAAAAAAAAAAAAAAAQABAAEAAAAAAAEAAQABAAEAAAABAAEAAQABAAEAAAAAAAAAAQADAAMAAQABAAEAAAAAAAEAAQABAAAAAAAAAAIAAgABAAAAAAAAAAAAAAABAAIAAAACAAMAAQAAAAAAAQABAAAAAQABAAEAAAAAAAAAAAAAAAAAAAAAAAAAAAAAAAEAAgAAAAQABAABAAEAAgACAAQABAACAAIAAQABAAEAAQACAAIAAQACAAIAAAACAAIAAQABAAAAAAABAAIAAQABAAEAAQABAAAAAAAAAAAAAAAAAAAAAQAAAAAAAAAAAAAAAAAAAAEAAQAAAAAAAAAAAAAAAAAAAAAAAAAAAAAAAAAAAAAAAAAAAAAAAAAAAAAAAAAAAAAAAAAAAAEAAQAAAAAAAQAAAAEAAQAAAAAAAQABAAAAAAAAAAAAAQABAAEAAQABAAEAAQAAAAAAAAAAAAAAAQACAAIAAQAAAAAAAAABAAAAAQAAAAAAAAABAAEAAAAAAAAAAAAAAAAAAAAAAAAAAAABAAIABQAEAAEABAACAAIAAAACAAIAAQABAAAAAAABAAIAAQAAAAIAAQACAAEAAQAAAAIAAAAAAAEAAQABAAIAAQABAAIAAQAAAAAAAAAAAAAAAAABAAEAAAAAAAAAAAAAAAAAAQABAAAAAAAAAAAAAAABAAAAAAAAAAAAAAAAAAAAAAAAAAAAAAAAAAAAAAAAAAAAAAAAAAAAAAAAAAAAAQABAAEAAAAAAAAAAAAAAAAAAQAAAAAAAAAAAAEAAAAAAAAAAAAAAAAAAAABAAAAAAAAAAEAAAABAAEAAAAAAAEAAQABAAAAAAAAAAAAAQAAAAAAAAAAAAAAAAAAAAAAAAAAAAEAAAADAAQAAwAFAAUAAgACAAEAAAAAAAAAAAABAAAAAAAAAAEAAgABAAIAAgACAAMAAwABAAAAAQABAAIAAgABAAAAAQABAAEAAQAAAAAAAQABAAEAAAAAAAEAAAAAAAEAAAAAAAEAAQABAAAAAAAAAAEAAQAAAAAAAAAAAAAAAAABAAEAAAAAAAAAAQABAAAAAAAAAAAAAAAAAAAAAAAAAAEAAAAAAAAAAAAAAAAAAAAAAAAAAAAAAAAAAQAAAAAAAAAAAAAAAAABAAEAAQABAAEAAAAAAAEAAQAAAAAAAQACAAEAAQABAAEAAAAAAAEAAAAAAAAAAAAAAAAAAAAAAAAAAQADAAQAAgABAAQABAAAAAIAAgABAAAAAAAAAAEAAQAAAAAAAQADAAIAAgAEAAEAAgADAAIAAgACAAIAAQAAAAAAAQACAAEAAQABAAEAAAABAAEAAAAAAAAAAQAAAAAAAAABAAAAAQACAAEAAAAAAAAAAQABAAAAAAAAAAEAAAAAAAEAAQAAAAEAAQACAAEAAAAAAAAAAAAAAAAAAAABAAEAAQABAAAAAAAAAAEAAAAAAAAAAAAAAAAAAAAAAAAAAAABAAEAAAAAAAEAAQAAAAAAAAAAAAEAAAAAAAAAAAACAAEAAAABAAEAAQAAAAAAAAAAAAAAAAAAAAAAAAAAAAAAAAAAAAIABAADAAEABAAFAAIAAAABAAAAAAAAAAAAAQABAAAAAQABAAIABQAFAAIAAAABAAEAAAACAAIAAAABAAEAAQABAAEAAQABAAEAAgAAAAEAAAABAAEAAQAAAAAAAAAAAAAAAQACAAIAAQAAAAAAAQABAAAAAQAAAAEAAQABAAEAAAABAAEAAQABAAEAAAAAAAAAAAAAAAEAAQABAAAAAAABAAEAAAAAAAEAAQABAAEAAAAAAAAAAAAAAAAAAAAAAAEAAQAAAAAAAAABAAAAAAAAAAEAAQAAAAAAAAAAAAEAAgABAAAAAAAAAAAAAAAAAAAAAAAAAAAAAAAAAAAAAAACAAIAAQAEAAMAAgAEAAQAAQABAAEAAAAAAAAAAAACAAIAAQAAAAIAAwAEAAYAAgABAAAAAQAAAAEAAgABAAAAAQABAAAAAAAAAAEAAgACAAEAAQABAAIAAwADAAEAAAAAAAAAAAAAAAEAAAABAAAAAAAAAAAAAQABAAEAAQABAAAAAAABAAAAAQABAAEAAAAAAAAAAAAAAAAAAAAAAAAAAAABAAEAAAAAAAAAAAABAAEAAAAAAAAAAQAAAAAAAAAAAAAAAAACAAEAAAABAAEAAQAAAAAAAQABAAAAAAAAAAAAAQAAAAEAAAAAAAAAAAAAAAAAAAAAAAAAAAAAAAAAAAAAAAIAAgAEAAUAAQAAAAMAAwAAAAEAAQAAAAAAAAABAAEAAQAAAAEAAwADAAMABwADAAEAAQAAAAAAAAABAAEAAAABAAIAAQABAAEAAAACAAAAAAABAAIAAAADAAMAAAAAAAAAAAAAAAAAAAAAAAAAAAAAAAAAAAAAAAAAAAAAAAEAAQABAAAAAAABAAEAAAAAAAAAAQAAAAAAAAAAAAAAAAAAAAEAAQAAAAAAAAAAAAAAAAAAAAAAAAABAAEAAQAAAAAAAQABAAIAAgABAAAAAQAAAAAAAAAAAAAAAQABAAAAAAAAAAAAAAAAAAAAAAAAAAAAAAAAAAAAAAAAAAAAAAAAAAAAAAAAAAMABAACAAIABAACAAAAAQABAAEAAQABAAEAAQABAAEAAwADAAEABQAFAAIAAQABAAEAAAAAAAAAAAAAAAEAAQAAAAAAAQABAAAAAQABAAEAAQABAAIAAgABAAEAAQAAAAAAAAAAAAAAAAAAAAAAAAAAAAAAAAABAAEAAQABAAEAAAAAAAEAAQAAAAAAAAAAAAEAAAAAAAAAAQAAAAAAAAAAAAAAAAAAAAAAAAAAAAAAAAAAAAAAAQABAAAAAQACAAIAAQADAAIAAAAAAAAAAAAAAAAAAAAAAAEAAQAAAAAAAQAAAAEAAQAAAAAAAAABAAAAAAAAAAAAAAAAAAAAAAADAAMAAgACAAAAAgADAAMAAQABAAEAAAABAAEAAAAAAAEAAgACAAEAAQAEAAMAAQACAAEAAAAAAAAAAQAAAAEAAAAAAAEAAAABAAIAAQABAAIAAQAAAAEAAQAAAAEAAQABAAAAAAAAAAAAAAAAAAAAAAABAAEAAQABAAEAAQAAAAAAAAABAAEAAQABAAEAAQABAAEAAQAAAAAAAAAAAAEAAQAAAAAAAAAAAAAAAAAAAAAAAAAAAAEAAAABAAEAAAABAAIAAQABAAIAAQAAAAAAAAAAAAAAAAAAAAAAAAABAAAAAQACAAIAAAABAAAAAAAAAAAAAQAAAAAAAAAAAAAAAAAAAAQAAwACAAIAAwACAAIABAACAAAAAQAAAAAAAAAAAAAAAQAAAAAAAQABAAIAAgABAAEAAQAAAAAAAAABAAIAAQAAAAAAAAABAAEAAQAAAAEAAQAAAAEAAAABAAEAAAAAAAAAAAAAAAAAAAAAAAAAAQACAAIAAgABAAAAAQAAAAAAAAAAAAEAAQAAAAAAAQACAAEAAAAAAAAAAAAAAAAAAQACAAEAAAAAAAAAAAAAAAAAAAAAAAAAAQAAAAAAAQABAAAAAQABAAEAAgAAAAAAAAABAAAAAAABAAEAAAAAAAEAAQAAAAEAAQAAAAEAAQAAAAAAAAAAAAAAAAAAAAAAAAAAAAAAAQACAAAAAwABAAIABQAEAAAAAQABAAIAAQAAAAAAAAABAAEAAgACAAIAAgABAAEAAAAAAAAAAAAAAAEAAgABAAAAAQABAAEAAQABAAIAAQABAAEAAAAAAAEAAQAAAAAAAAAAAAAAAAAAAAAAAQACAAEAAAABAAAAAQABAAAAAAABAAEAAAABAAEAAQABAAAAAQABAAAAAAAAAAAAAAAAAAEAAQAAAAAAAAAAAAAAAQABAAEAAQABAAAAAQAAAAEAAQACAAEAAAABAAAAAAAAAAAAAAAAAAAAAAABAAAAAQABAAAAAAAAAAAAAAAAAAEAAQABAAAAAAAAAAAAAAAAAAAAAAABAAEAAQADAAIAAAAEAAQAAQAAAAEAAgADAAIAAQABAAAAAwACAAEAAQACAAMAAgAAAAAAAAAAAAAAAAABAAEAAAABAAAAAAABAAEAAgABAAAAAAAAAAAAAAABAAEAAAAAAAAAAQAAAAAAAAAAAAEAAgABAAAAAAAAAAEAAAAAAAIAAQAAAAAAAQABAAAAAQABAAAAAAAAAAAAAQAAAAAAAQAAAAAAAAAAAAAAAAABAAIAAAABAAEAAAAAAAAAAQABAAEAAAABAAAAAQABAAEAAAAAAAEAAQABAAAAAAABAAEAAQAAAAAAAAAAAAAAAQAAAAEAAAAAAAAAAAAAAAAAAAAAAAQAAQAAAAMAAwACAAQABAABAAEAAgAEAAQAAQABAAEAAQADAAQAAgACAAAAAgACAAAAAAAAAAAAAAAAAAEAAQABAAAAAAABAAAAAAAAAAEAAAAAAAAAAAAAAAEAAQAAAAAAAAAAAAEAAQABAAEAAQABAAEAAAAAAAAAAAAAAAEAAQABAAEAAQABAAAAAAAAAAAAAQABAAEAAAABAAAAAAABAAEAAAABAAEAAAAAAAAAAQABAAEAAQAAAAAAAAAAAAAAAAAAAAAAAQABAAEAAQAAAAAAAQAAAAEAAQABAAAAAAACAAIAAQAAAAAAAAAAAAAAAQABAAAAAQAAAAAAAAAAAAAABwAFAAIABAADAAEABAADAAEAAwADAAIAAwABAAEAAQABAAIAAwAEAAMAAQABAAEAAAAAAAAAAAABAAEAAQABAAAAAAAAAAAAAAAAAAAAAAAAAAAAAAAAAAAAAQABAAEAAAAAAAAAAAAAAAAAAQABAAAAAAABAAEAAQAAAAAAAQABAAAAAAABAAEAAAAAAAAAAAAAAAEAAQABAAEAAAAAAAEAAQABAAEAAQAAAAAAAAAAAAEAAQAAAAAAAAAAAAAAAQACAAIAAAABAAAAAAABAAEAAQABAAAAAAAAAAAAAAAAAAAAAgACAAAAAAAAAAAAAAAAAAAAAAABAAAAAAAAAAAAAAAGAAUAAQADAAIAAQACAAIAAAACAAIAAgACAAEAAQABAAEAAQABAAIAAgABAAAAAQABAAEAAAABAAEAAAAAAAAAAQABAAEAAAAAAAAAAQABAAEAAAAAAAAAAQADAAIAAQAAAAAAAQABAAAAAAAAAAAAAAABAAEAAAAAAAAAAAAAAAEAAQABAAEAAQABAAAAAAAAAAAAAAABAAAAAAAAAAEAAQAAAAAAAAAAAAAAAAAAAAAAAAAAAAAAAAABAAEAAAAAAAEAAwACAAAAAAABAAAAAQACAAEAAAAAAAAAAQAAAAAAAQACAAEAAAAAAAAAAAAAAAAAAAAAAAAAAAAAAAAAAAAAAAEAAgACAAMAAgAAAAEAAQAAAAEAAQABAAAAAQABAAAAAAABAAEAAAAAAAEAAQAAAAEAAgACAAEAAQAAAAAAAQABAAIAAgAAAAAAAAABAAUABQABAAIAAgADAAYAAwACAAMABAADAAEAAQABAAEAAQAAAAAAAQABAAAAAAAAAAEAAQABAAAAAQAAAAEAAQABAAEAAAAAAAAAAAAAAAAAAQABAAAAAAAAAAEAAQAAAAAAAQABAAAAAAAAAAAAAQABAAIAAwAEAAMAAQACAAIAAgAAAAIAAAABAAEAAQAAAAEAAQAAAAEAAgABAAEAAQAAAAAAAAAAAAAAAAAAAAAAAAAAAAAAAgABAAEAAwACAAEAAQACAAEAAAAAAAAAAQABAAEAAAABAAEAAQAAAAAAAAABAAEAAQACAAEAAAAAAAAAAQAAAAIAAgABAAAAAgADAAUABgAXABoAFAALAA0AEQALAAoADAADAAUABQACAAEABAADAAIAAgACAAEAAAAAAAEAAQAAAAEAAAABAAIAAQABAAEAAAAAAAAAAAAAAAAAAAAAAAEAAQAAAAAAAwAGAAUABQAHAAQAAQAAAAAAAAABAAQABwAFAAcACwAGAAYABwACAAEAAwACAAIAAQAAAAIAAwACAAIABAAFAAIAAQACAAIAAgABAAAAAAAAAAAAAAAAAAAAAAADAAIAAAABAAEAAQACAAMAAQAAAAAAAAAAAAAAAAABAAEAAQAAAAAAAAABAAAAAQABAAAAAAABAAEAAAABAAEAAgABAAEAAAAEAAUACgAgAD4APQAmABoAEQAOABMAFgATAAsABgAFAAUABAAEAAIAAQABAAEAAQAAAAAAAQABAAEAAQABAAEAAQAAAAEAAQAAAAEAAQAAAAAAAAAAAAAAAQACAAIAAgAFAAkADAAOAA0ABwABAAAAAAAAAAEAAgAIAAoACwAOAA4ACwAHAAQAAwACAAIAAQABAAEAAgAEAAUABQAFAAYABAACAAMAAgABAAAAAAABAAAAAAAAAAAAAAAAAAMAAQABAAEAAAABAAIAAgABAAAAAAAAAAAAAAAAAAAAAAAAAAAAAAABAAEAAAABAAAAAAAAAAAAAQAAAAAAAAACAAMAAwACAAcAEQAdAEUAUgApABEAEAAGAAIACQALAA4ACAACAAEABAADAAIAAgABAAAAAAAAAAAAAAABAAAAAQAAAAEAAAABAAAAAAABAAEAAAABAAEAAQAAAAAAAAABAAMAAgABAAYABAAHAAwABwAHAAIAAgABAAEAAQACAAYABQAEAAYACQAGAAIABAACAAMAAwADAAEAAAABAAAABAADAAEAAwADAAAAAgABAAAAAAAAAAAAAAAAAAAAAAAAAAAAAgABAAEAAQABAAEAAwACAAEAAQAAAAAAAAAAAAAAAAABAAAAAAABAAAAAQAAAAAAAAABAAAAAAABAAAAAQABAAIAAgACAAQABQAZAC4AOgAyABIABQAEAAEAAgADAAIAAgAEAAIAAQACAAIAAgABAAAAAQAAAAAAAAAAAAAAAAAAAAAAAAAAAAEAAAAAAAEAAQAAAAAAAgACAAAAAAAAAAEAAgACAAIAAwADAAQABgACAAQABAACAAEAAAABAAAAAwAEAAIAAQACAAIABAAEAAMAAwADAAMAAQAAAAAAAgADAAEAAQACAAEAAQABAAAAAAABAAAAAAAAAAAAAAAAAAAAAAACAAAAAAAAAAEAAQADAAMAAAABAAEAAQAAAAAAAAAAAAEAAAAAAAEAAQABAAAAAAAAAAAAAAAAAAEAAQABAAEAAQABAAIABQAKABEAEwAIABUACgADAAMAAAABAAMABAADAAEAAgABAAEAAAABAAIAAAAAAAAAAQABAAAAAAAAAAAAAAAAAAAAAQAAAAEAAQAAAAAAAQABAAEAAQAAAAAAAAAAAAEAAQABAAEAAQAEAAIAAQACAAAAAQABAAAAAgADAAEAAgAAAAIAAQADAAUAAgAAAAAAAQAAAAEAAQAAAAEAAgABAAAAAAAAAAAAAAAAAAAAAAAAAAAAAAAAAAAAAAAAAAQAAwABAAEAAQABAAEAAgAAAAEAAQAAAAEAAQAAAAAAAAAAAAAAAQABAAEAAAAAAAAAAAAAAAEAAAABAAAAAQACAAEAAgADAAMAAwACAAwADQAGAAMAAQABAAEABAAEAAMAAgACAAEAAQAAAAAAAQAAAAAAAAAAAAEAAQAAAAAAAAABAAAAAAABAAEAAAAAAAAAAAAAAAEAAAAAAAAAAAAAAAEAAAABAAIAAAABAAEAAQAAAAAAAQABAAEAAQACAAEAAQACAAEAAQACAAAAAgACAAEAAQABAAEAAAAAAAEAAQAAAAAAAAAAAAAAAAAAAAAAAAAAAAAAAAAAAAAAAAAAAAAAAwADAAEAAgACAAIAAwABAAAAAAAAAAEAAgACAAEAAAAAAAAAAQACAAEAAQAAAAAAAAAAAAAAAQABAAEAAgABAAIAAgACAAEAAQABAAMADAAJAAAAAQABAAEAAQACAAIAAQADAAAAAAAAAAAAAQABAAEAAQAAAAAAAQABAAAAAQABAAEAAQABAAAAAQAAAAAAAQABAAAAAQABAAAAAAAAAAAAAQABAAEAAQAAAAEAAAAAAAAAAAAAAAAAAAABAAAAAAABAAMAAgABAAEAAAABAAIAAAAAAAAAAQABAAAAAQAAAAAAAAAAAAAAAAAAAAAAAAAAAAAAAAAAAAAAAAAAAAAAAAABAAAAAgADAAEAAgADAAEAAAAAAAAAAQACAAEAAAAAAAEAAQADAAIAAQABAAAAAAABAAAAAAABAAIAAgABAAAAAAABAAEAAwADAAMABAANAAoAAQABAAAAAQABAAEAAAACAAIAAQABAAAAAAAAAAEAAQAAAAAAAQAAAAAAAAAAAAAAAAABAAEAAQAAAAAAAAAAAAAAAAAAAAAAAAAAAAAAAAAAAAEAAAABAAAAAAAAAAAAAAAAAAAAAAAAAAAAAQABAAIAAgABAAEAAAAAAAEAAQAAAAAAAAABAAEAAAABAAEAAAABAAEAAgABAAEAAAAAAAAAAAAAAAAAAAAAAAAAAAAAAAEAAQACAAQAAwABAAIAAwABAAEAAQABAAAAAQAAAAEAAAACAAIAAAAAAAAAAQACAAIAAQAAAAAAAQABAAAAAAABAAEAAQABAAEAAwAFAAsADAAFAAMAAQAAAAEAAQABAAEAAQAAAAEAAAAAAAAAAQAAAAAAAQAAAAAAAQAAAAAAAAAAAAAAAAABAAAAAAAAAAAAAQABAAEAAQABAAAAAAAAAAAAAQABAAEAAAAAAAAAAAAAAAAAAAAAAAAAAQAAAAEAAwACAAEAAAAAAAAAAQABAAAAAQAAAAAAAAAAAAEAAAABAAAAAAABAAIAAQABAAAAAAAAAAAAAAAAAAAAAAAAAAAAAAABAAAAAwACAAIABAADAAEAAgABAAAAAAABAAEAAQACAAIAAgABAAAAAAABAAMAAgAAAAEAAAABAAEAAQAAAAEAAQAAAAEAAgAEAAQACAAKAAkABAABAAEAAgAAAAEAAAAAAAAAAAAAAAAAAQABAAAAAQABAAAAAAABAAEAAAAAAAEAAAAAAAEAAQAAAAAAAQABAAEAAgACAAEAAAAAAAAAAAAAAAEAAAAAAAAAAAAAAAEAAQAAAAAAAQAAAAAAAQACAAIAAQAAAAAAAQABAAEAAQABAAAAAAAAAAAAAAAAAAEAAQAAAAAAAQABAAEAAQAAAAAAAAAAAAAAAAAAAAAAAAAAAAEAAgAEAAIAAQADAAMAAAABAAEAAQABAAEAAQABAAEAAAAAAAEAAAABAAIAAQACAAEAAAABAAEAAQAAAAEAAgAAAAEAAgADAAgADAAGAAUABQADAAEAAQABAAEAAQABAAAAAAAAAAEAAQABAAEAAgACAAEAAAAAAAAAAQAAAAEAAAAAAAAAAAABAAAAAAAAAAAAAAABAAIAAAAAAAAAAAAAAAAAAAAAAAAAAAAAAAAAAAAAAAEAAAAAAAAAAAAAAAEAAQAAAAAAAAAAAAAAAAAAAAAAAAAAAAAAAAABAAEAAgACAAEAAAAAAAAAAQABAAAAAAAAAAAAAAAAAAAAAAAAAAEAAQAAAAMABAADAAUABQACAAEAAQAAAAEAAAABAAEAAQAAAAEAAQABAAAAAgACAAMAAgABAAEAAAABAAEAAQACAAEAAwACAAIAAwAMAAoABAACAAEAAAAAAAAAAQAAAAEAAQAAAAAAAAABAAEAAQACAAEAAQABAAAAAAAAAAAAAQAAAAEAAQAAAAAAAAAAAAAAAQAAAAEAAQAAAAAAAAAAAAAAAQAAAAAAAAAAAAAAAAAAAAAAAQABAAAAAQABAAAAAAAAAAAAAAAAAAAAAAAAAAAAAAABAAAAAAABAAEAAAABAAEAAgABAAAAAAAAAAAAAAAAAAAAAAAAAAAAAAAAAAAAAgABAAAAAwAAAAMABAAEAAIAAQABAAEAAAAAAAAAAAAAAAEAAgAAAAAAAAACAAMAAgACAAAAAgABAAEAAQABAAEAAQACAAIABAAGAA0ACQAAAAEAAQABAAEAAQAAAAEAAQAAAAEAAAAAAAAAAQABAAEAAQABAAAAAQAAAAAAAQABAAAAAQABAAAAAAAAAAAAAAAAAAEAAQAAAAAAAAAAAAAAAAABAAAAAAAAAAAAAAAAAAAAAQABAAAAAAACAAIAAQAAAAAAAAAAAAAAAAAAAAAAAAAAAAAAAAAAAAEAAQAAAAEAAQABAAAAAAAAAAAAAAAAAAAAAAAAAAAAAAAAAAAAAAABAAEAAgAEAAMAAgACAAMAAQAEAAIAAAABAAAAAAAAAAEAAgABAAAAAAAAAAEAAQAAAAEAAgADAAAAAgABAAAAAAAAAAAAAAACAAgACQAGAAUAAwADAAIAAAACAAIAAQABAAEAAQAAAAAAAAABAAEAAQAAAAEAAQABAAAAAAAAAAAAAAABAAAAAAAAAAAAAAAAAAEAAQAAAAAAAAAAAAAAAAAAAAAAAAAAAAAAAQAAAAAAAQABAAAAAQABAAAAAwACAAAAAAABAAAAAAAAAAAAAAAAAAAAAAAAAAAAAAABAAAAAQABAAAAAQABAAAAAAAAAAAAAAAAAAAAAAAAAAAAAAAAAAAAAAACAAUAAwACAAUAAQAEAAgABgABAAEAAQAAAAAAAAABAAIAAQABAAIAAQABAAEAAAADAAMAAAACAAEAAAAAAAAAAQABAAIAAwADAAEABQAEAAMAAwADAAIAAQABAAEAAQABAAEAAQABAAAAAQABAAEAAQABAAAAAAAAAAAAAAAAAAAAAAAAAAAAAAAAAAAAAAAAAAAAAAABAAAAAAAAAAAAAAABAAAAAQABAAAAAAABAAEAAQAAAAEAAgADAAIAAQAAAAEAAAAAAAAAAAABAAEAAAAAAAAAAQABAAEAAAAAAAEAAAABAAEAAAAAAAAAAAAAAAAAAAAAAAAAAAAAAAAAAAACAAIABAAFAAEACgAKAAIADQAMAAIAAAAEAAMAAQACAAMAAQAFAAQABAAEAAEAAAABAAEABAAFAAMAAgABAAAAAQACAAMABAACAAMAAgAEAAEAAAAAAAIAAQACAAAAAQAAAAAAAQABAAEAAQABAAAAAQAAAAAAAAAAAAEAAAAAAAAAAAAAAAAAAAAAAAAAAAAAAAAAAAABAAAAAAAAAAAAAQAAAAEAAAAAAAAAAAAAAAAAAAAAAAAAAAACAAAAAQABAAEAAAAAAAAAAAAAAAEAAQAAAAAAAAAAAAAAAQAAAAAAAAAAAAEAAAABAAAAAAAAAAAAAAAAAAAAAAAAAAAAAAAYABIAAQAXAB8AMwBnAIMAdAB9AKQApQC0AMsA9AAOAS4BQQE+AT8BOwEJAcoAlwBqAFYAXABmAFgAWQBwAIYAgwBxAFEAMAANABwAKAAlAB4AEQAIAAcACAAFAAAABgAIAAYABAAEAAIAAAABAAIAAQABAAEAAQACAAEAAgACAAEAAgABAAAAAQAAAAAAAAACAAMAAwAFAAYACgAMAA0ADQALAAkACQAHAAQABAAEAAQABQAGAAcABwAHAAkACQAHAAMABQAJAAgABQAEAAQAAwAGAAcACAAJAAkABwAJAAoACQAKAAoACAADAAUABgAGAAQAAgACAAIAAQAAAAAAAAAAAC4ALQAZAHwAbQG+AuMDVAPDACcCgAPbAcABHgTlBJgGHAmACLEDewNXB5EGOwNlAfUAmQChAToCmQILA04D0wK3AQsB9gCoAGAAawCQAIAARAAaAAkAEQAVAAgACwAXAB0AFgAPAAwACAACAAMABAAAAAQABQADAAMAAgABAAYACgALAAcABAACAAEAAAACAAIABAALABAAEwAcADAARQBPAEgANgAfAAwAFAAaABUABwAEAAwAGQAmACUAFAAWABgABgAOACEAIAAaABoAFAAVACcAOAA5ACwAHAANABYAKgAtACUAGwAUAAwACAAVABoAFQAPAAwABwADAAEAAAAAAAAAAQAtAEMAjwDJA30JkQt8BuYE3gmMDiELBQZWBcELygapGjIaQQgQCw8ashSaBvsFqwFlApIFaAQvA+sFMQMaBc0BZAGbAOgAjQCnAO0AQABtADYATQBOACEAGQAbAEcALAAdACEAFgAkABcAFQAIAAcADQAQAAgACgAGAAYADgAdAAwAEgAWAAwADAANAAwADwAZACcAFwA7AC0AbQALAMEAfgBlAJEAXAA7ACsAUAA1ACcANAAjAGAAgABCADMALQBmAH8AbAAeADgAJwBuAGIABwCLAJIAJABZADoALgAlAEkAEgAgAAYAHQAcADIAJQALABcADAAKAAIAAQAAAAAAAAAaABQAcwCLAfAHDBGIDKUFKQWTFgUe4w5SBUMK9xv3J20q7is1K/Y2nUr4KoQM/gkvBnsDWwcHENISrg2xBhUF2AS+AuIAagDoAJcBbAGRAEQAiwDHAIQAHQBQAJoAzwCXAEcAFgBdAG0APwARAB8AJgAlABQACwAeABoACgAQADgASABJADUAEwAIAB0AJgAeADkAgAC1ALMASADLAJ0BXQLgAf8AEQFaARgBxQBCAHcAzgC/AFIAnwA5ARcBnQBHAOAAmgFsAbcAFACtAFgBQAHNAMgAwgDcANoAaQBKAGQAdgAqACIAMwAzADoANQAzACcAGwAIAAoAAgABAAAAAAAAAC0ATQA1AHcCqQ28E3wGrQFSDUQkQSH4B7cGihn3LbUhwh8UCRZX/3+/YVknsQMkDLADRwJyBScZHSFfEw8JQQPdB7sEhADlAEABHQIyAbAA1wAaAfMANgBIAJkADwHYAIUAuQClAK0AYQBBADQARgA+AAcAJAAoADwAJwAOAAoAPABiAEsAPAAOAAMAFwA/ADMAWQCiAKYANQE3AbUBUwI6AyoDGQFmAUYBKQFRAdAAmADgAIMBMwF5AT8B2AB/AQEBWQFRAS4C3gEMAeAAwAEgAo4A4QBmADEBcgGPAHoAmgCwAF4AVQBNAAsAQAATADQAJQAeABEABQABAAAAAAAAAAAAJAA9AOQApgI8EQQUaAR/AxcWeijmFLQG0gsbJxIlgQdWDEc422ThX+w+vgolGsQM7wFIA7QLnRgIF1YP3QbgDqgJpwOJAa0BDwLXAEgBeAHqAR4BaQCjALAA1gBcANIAuQD2AI0AiwBRADYAQwA2AEsAMgAiACIAUgAuABkAJQBcAGAAIgBIAC0ALwBIAGIAEgCOAMoAuAAMAQoBoAL1AIMCNwIAAqMBYABmAAgBkwGxAM8AygAHAt4BugB4AOABsAJhAeoAlgCqAn0CFQEYAcYBXgKiAaAABgGNASoBIQBfAGQAnwBYADYAUABEAD4AKQAGAA8ACAADAAAAAAAAAAAAAAA6AEEAdQAyBVgUaxPxA2oGex/5I84JbQNTFKwkxhHTDawbcUWqJzQYrBbJKH8h9QoUA1sICg1fB44IFQtWGJgQsgMKAnEA4gA5ATUBzgFHAk8BtQDEAAABewBpAMMALQEpAXkAOABZAGoACgA5ADEARwAtAA4ANABrAEYADwAyAHwAdgAoADUAWQBgAFcASACEAMkAnQDgAIIB9AFjAu0BxAJzAXoBggBcAWwBlAH6AOcAXwFmAYsBlAD5AMIArwHpATkCugGVAWgBtQJjAyQC3wGyAa8COQF7ALMAIwHrAHIAQABSAHIASgA2ABwAFwAjAAoACAACAAEAAAAAAAAAAAAAAKQAQwDLAIMGhhYREpUAdgbMIfMf2wR1BOIYIB5JBrkBLTHsSZsXCQ1MGAA9PifYAMwGCQwnCIMBvwZuGrwfdglcAy4CxAGbAEgArgAGAhoBhQCoAFkBxAApAGcAJAERAV8AgwB6AJkALgAoAGQAegAkACYARwCAAHIAHQAXAC0AXgBCADIAQAAoACkAQQBFAJMAZQBtAPYAygGGAc4BNwEqA4cC9gDRAJIBiQG5AL4AFQG0AWwBuwD6AEoBzACTAFoAaAF2Ae8ARgGYAv0CMwKhAqsCywPuAV4AXABdAO4AxwCGAIwAbQA4AD4AKQAsABwABwACAAQAAAAAAAAAAAAAAAAAEQGUALMAVAgqGGwSZgEECLkhRx+aBl4FZxzwHtEEhwrHQa9imzLcF1Y8C1IDJakCPAcZDKMFHgNbDuAn3SEYBvQBBwUDA4YANwA7AZcBlQBDAEMBpQGyAEoAngAHAZUADgBtAO4AqQA0ADgApgCUADkACwBeAH0AVwAQAA4ABwApADQAQgBPABgAEgA4AIoAbQBCAIkAlQFGAXYAEgC7AsADJQH0AOkAzQHCAHAAxwCAAZ0A8gDxAJoBUgEgAIoAPwGaAXsAjgBSAgADiwCbAKcCpgSvAqEBxgCuAJEAdgA2AIcAdwBGADoAZABbACQAGAAeAA8ABQABAAAAAAAAAAAAAADfAIwAvAABCXIYqxDHAXsJvh8rGmMGVAk3HpwdYwZkFNBTul/gF8UJwU20VcgT9ghVB60JfwOvASsShCsHHXoFogSdBzME6wAbAbABUwFKAK0AjwFfAVUAwgD8ALcAVACXAM4A2wAaAKAAwADUAFMANwBJAFYAAQBYACoAIQAiABIAMgBqAFcADgAQAEUAZQBaALMATAF8AYsAHwGvASYDSAI2AikCGgL2AOAATwEaAYsAGwGIAW4B2gAaAdkAywAHATMBQwFyAUACnwHvAUIC9wKSAmcC3AHkAYMAYgBYABQALgA1AB0AUgBBADYAOwAzACgADwAEAAEAAAAAAAAAAAAAAAcAPwCiAPcIPBheD3QCrAUKHL4V7gI6Ah8aECEBDN0MX0KaX6QoeikSTGRMsByLBz4CJQdUCfcFmgzVJCIdjQaUBN4FHAUQAj4ADgHyAUsB2gDHADgB6wCaAEwA6wAdAcYAWgClAMwAzgBKAJ8AnABNABcAOwBdAHAANgAjAA8AKgA0ADMAUAA5ACAAOABWAHQAzwCFACABNAFuAakA1QJJAswC3QEjAWkBhwFQAU4AagD7AGEBoQAfAHAAvwAnALMAugCwAQMAoQEOATwCPwL/AJ8A1gJ4AysBiwBWAGAAPQAhACoAWwA2ABcAFQAyADIAFwAGAAEAAAABAAAAAAAAAAAAfwA2AKAAgAiaGKoRAQK+BU4bJhvGBp4B6ReJKKkPAwPZLP1hWjLwF+8foCjXKFoJaASzCgoOQQUEA7QY/iW7Dy8D7gC8A40CGgBnAP4BugE1ADcA3QBlAYMAGAC2AGUBzgAwADUA6gDKACIAVACCAG8AMAADAEcAgQA4ABwAJABBACkAFgAWAE8AUAASACsAvADhAGwAXABXAdIBhwFrAe4C0QNUAtQArACPAVoBiQBCAHMA7gAvADsAPQByALYAgQAGAbgBLQKnAV0AggK/ApUBhQDWAiQE1QEXAUwAiwBdABEALABCAE0ALwAdABgAEgAGAAMAAQAAAAEAAAAAAAAAAACJADEAqADxB7kYJRJnAs8D2xv1HzoIdAHlFu4s3RUHBRIjqV6sQyEMDQnVGC4oLAx6BIMILhD3CMcDLw+lJnIaPwS/ADYDEwOvAFMAuwGuAlABWAClAIkBAQEmAGUAIgERAT8AHAC/AAsBcgA6ABMAcABXABEAMQB6AFsAEAA0AGEAPQAEABMAOwBHACsAAgCGAEwBBwGNAE8AkgH9AQ4B6wBIAk8DeAFgAHkALgHZAB8ATQDwAPUAfgBaAKQAQQHXAIAA0QAwAigC/gACAbADCAQoAmIBowP6A6wBIACuAGYAMwAaACYAIgArAAoABwAGAAUAAQABAAAAAAAAAAAAAAAAAGIATACbAE4HTBh6EmMCOQSpHWEkFQqQAAQXUDGSGBQETRyPXvpGJgPTDWIr1C7WDbYB0QNTDhYJvACrCN8h+iBeB7QA7wLuA1MBXACDAXgD/QFTACMApAGYAV8AFAC8AEMBaQA2AIkAOwHHAA4ALABfAF0AHQAbAGMAWQARAD8AOwBiADIAFgA3AAoAIgAbAFIABgGjAbcAIwArAQID3AFHACYB2QIsAoIAYgD9ADMBZABRALsAQgHFAJAA2wAHAk0CPAFCAIgBjQK0ADQAvwIzBoIDUQGWAfcD3gL7AEYAOwBCADUALwBBAF8ARQAlAAYACAAKAAYAAgAAAAAAAAAAAAAApwBdAPEArgZYGOcSTQJuBL8exykFDqsBMxkXN7gcCQLyHUZa1k0RErkKTio4MsYQeQHuBMYN/AqwAnwELBjvI0gNtgJjAw0FMwMHAUEB2QMDAwQB9gD1AU8CxgBYAIEAogE5AUgAPwA4ASsBQwAqACMAUQAlABAAQgBrAGoASAAuAHIAjQBaACcAKwBFAG0ATgC+AKsBTwE9ADEBdAOWA3gBQADxAVYCQAFNAPEA7ADtAKkALQAYAZQB7gBPAIABBwPvAYMApwHiAtcCnAGZAj4GQAfBA9QApAKYApwBeQBRADEAFQAYAFcAXgCFAFcAHgALABIAFgAKAAMAAgABAAAAAAAGAU8AyADiBj0ZvxT/A8sBUR1sLTgSpwBjGKM66SVRCaYRPEbUSAMTmwNjGtstKxO8ANgCegumDMoEqAI0Dn8iExdHBrkA5wWvBRMBWACbAz0EiAF3ACgByAK5AYMAzQAVArQBdwBHADsBfAGfAC0AMgBWAC8AIgAaAEkAdgA1ADQASgDJAGUAGQAHAFcAgwB7ADgATAHzAfUAWACCAsMEyAIeAbUANwHCAdwAlAA8ANoAcgBnANAASAHuAHUAUACFAggDkgHqAEUBrQRcBMsCjgFxB60HTgOiAQcA2wFeAYkAVgA/AEEANgAbAI0AkAA/ACIAJQAlABcACgAEAAEAAAAAALIASADNAJUG/RnaFnkDVQOuHPctSRIcBJURuTcjKD0CzAsNK0o8nQuhDt0cSCBNEY4AmAAbCVUKvAGCA4YMZxrPE/sD/QPKBhUIUANuAU4CTAQIAnsABgF7AggCagARAa4BtgFBAIwAugBGAboAOABBAEgAUABHAEQAJwBfADoAPACEANkAnAAlAAsAQABwADkAogAiAf4BewHCAGgCqwMJA6IALQHdAH0BwQCwAIcAlgB9ADsAVgB2AIgAZwACAdYBPgKuARMBKALuA0kF/wGCA28GCwhOBAsBtQE7AYQBagCiAF8ANwAdAFQAfQByABUAGwAeABIAEwAKAAMAAAAAAAAACAAxAAkBpwUFGn0YEAXdAOIZ6C3HFOsBwgvlMegtdw9KBuQbtDNYIXAX3w58C6QMTAPCAVsH5AfUAhcDiwPGDs8MQAO1AgsDyQnSBKoAUAIxBDQCXgBJAKUBHwLfAIcA3ADFAe0AEwAbANAA1gBUACIAMwB3AHYAVwBJAGwAPAArADkAjQCaAC4ACwAWAG0AnQCVAA8AZwEDAq8BxgGDABADfQI6AXoAVQGRAb8AHgBIAKMAmwBRABQADACtADEBzgDwABkC1wGWAWwBywVBBuQEmQF/BFAFyQJ3AZgAmgFhAXgARAA9AHwANgBMAF8AGQARAA8ABAAEAAIAAgAAAAAAAABMAEsAngBhBXEasxnIBDcCqRjOLfAW+gJ4CJUuDi3nA8sPXRasJJsNNRB0CX4FhAZNAnoAKwSIBkwCmwB+AuYJ5AhBAWkDpwUgC+8HxgKGAdwD0QEqACgA8gD5AQQB5wDMAHEBNgFPAFIAcgCRACMAIgAeAGkARgBAAGMAOgBDADcAIwBHAGgAGwATAAwAXwB4ACUAjgDDAH4BhwCIAcgBAAIFAjgA+QDCADEB8ABQAD8ASwCRAFoACQBBAL8AQQDWAPYAPAH5AFMBvwK2A8EEFgHvApUDDwIHAjwARwHzAE0B8ADKALcAaQBNAE8AOwAoAB4AFQAFAAQAAgABAAAAAAAAAHkAIwDaAMMFRhuFGyYGsAGJFQYtqBcvAYoJZC+YMM8NYgr3B70bJRWsCBgEBwFLBFQBPwC8Aq8FeAPmAFcDugbCBkkD6AEuAXUJKg16BawBpAJ/A0EBnQDYAEQCsgGOABAAzgBoAWMAQQAsAIwAXgAPAA8AVQCFAFUADwAxAE4AVAALABkARwBGACMAFgBPAIMAhwBgAGoAzgBmAYMBrQBRAFwBLwFhADgAwwBmAdkASAAhAH4AOwAeAEwAsgDqANYAQwBDAI4BYQKAAHsAlQKAA88CzAH9AFsBSgGXAEMAvwCMATMBXQAvAA8AIQANAAkADwATAAoAAwABAAAAAAAAAAAAiQA1AP8ASQUgG0wbywUMARMWAi3WFrcBxgqGMz0wAAkMA6AQtBx6EGkDigG5A8MDvgBBAL8BXgTCAqkABwOLAeICbwLrAIgCzAgKDNAH0gIdBCEGGwN9AFcB6gJ6Aa4AvABZAa4BnAAlAFUA8QCYABgAEwBaAJUANAAwAFkAZwAqAC4AJwBZAH4APgAsACUAUQBWACcAhQAbANQA4AAKAJcAigBAAZMAUgCfAIgBqgBbAHIAtABmAEEAXADKACcBTAB+AJ0ACwIIAi8BEQHRAmUDCgF+AIkAYAEKAQQAQQCdADwBjgBvAEcAQAAfACQAEgAGAAcABgABAAAAAAAAAAAAAACIAHwAhQBLBREbDBspBTQCDBhyLz4WXgKmDj85VTJrBjAFVA4sF5cKSAGDA1oG4wNkAHEAmgEWA3YB5gC0AS8CxQHoAHYAZQIGBtEEywPRAjsF1ggeBHgAEwKlA+sBkADgAEEC4AGHAJ0AKQGUAdYARgBlAJYAlgBIADYAOQBbAC0ANQAHAH4AfAA7ADUARABTAC4AEQBrAMQAZQBcANIA/QAgAUUBogCDAG0BPgI3AbcAkQAEAaUAUADtAIABTgGqAGEAcgGyApwBRAGrABgCYwL9AFIAVwD4AO4AOQBTAPwADQFxAGEANgBmAF4ASQAiAAYAAQADAAAAAAABAAEAAAAAADAAUQB2Aa4FMRyCG/kFZgOtHl4z9BYaBCsaLj5ILEAK3QwvEEMKsgmEAvEDmwabA3AA4QCaAJkCtAHEALYBuAG3AGEAYADjAVMCeQGdAMIDDAosCuoCOgIdBFUDowBSAOIATAKSASkAOwHmAVIBmwBiAHIAVwBJAGoAhQCFAEIADABpAKEApAAnAA0ABgBeAFcAGQAGAHQAuABwAG8ANQBWAWEBJgAdAdIB5AInAhoBngFfAW0AggB9AAsBjQE9AI0B4AFfAY0BlgJXAt8BggGYADUB9gDIAHEAYQDNAAsBEgFqALYAlQBcACcARwA8ACAADAAEAAEAAgADAAMAAQAAAAAAdAAVADYA4wcEHe0ZJwYSBcYnKjbjD3oJ8yKlLlIbJAwIEncP5AfIBagCkgFzBRgDmQDIALoBuwLbAasAhALhAdsArgAkAasAzAAlAS0CKgaQCXUHmQMJA+kDkwLLAIsAOQHBAQ4BfAAwAV0BjAASADYAVQAUABMAHQCWALEAWwAxALMAKwG7AEEATgBYAHYAagBDAGEArAB8AA8AbACgAP4AOwG5AJEA8gGkAlgBLACLAacBfABEAEgAOwAPAbcBPQLmAcEA3ABrAVABogERAXIAdADpAHAAHwA1ALMA9wCtAEUAYQCnAHYAMwAlAA0ACAAKAAYABQAHAAUAAgABAAAAAADSAEIAFwEFB58bfhYiAs8KdzI8Oy0QTQfIHDAcywfPCxkLcBALC/gDvgGfA04EnwF9AMwA7AAKAkMBQwEVA8ICDAGgAHEBHwE2AKgAeAKRBH8DQgInAWcB7QHRAP0AyADXALkAZAA1AL0AzwAZAHgAlgBtACcAPABBAIoAcQAkAHEAHAEIAW0AMwCEAFMARQAvAJsAzQCBAEsAHACFAHIAOgCwAOoAxADHANIA2wFkAQ0CWQFlAFQAYwBJAMEANwFiAesASgA8AKMAbABXAHsAQwBAAIQAbgA/AC8AagBHADsAMAAxAFMANAAoABIABgAFAAgACQANAAsAAwABAAAAAAAAALcANQDqAMEGMxqoFfIE0weANKZBMxZeAjAS7SLtE58E4AWXCEkERgMFApUCfgOSAE8AywDWAKkB5AAQAf0CFQJGADgAkgFdAngBPQE4AvEBfgCFAHkAIwECAXsARwA0AAcAKQAIABsAYAB/AHIANQDDAHwAIAAgAIoAaAAqAC8AbAAfAYwAFwBUAJsAZAA3AD8AqAC7AB8ALABUAHQALQAVAG0A6QB+ACAARwCoAaYCZQGDAGoAmgBSABsARwApAFEARwBOAHcAywCOADsAQQAsAFsAPwAsAH8AawAbACAAMgAxABIAHQAMAAoAAgAEAAMACgANAAcACQAFAAEAAAAAAAAAWwAzAIwA4AaXGXMUsQOnBcQxN0KUE8wCPhEOJAMS3gDhAVwE5gHdAEcCTgTgA+AAcwBPACQBeAHWAHEAkALzAVEApABKAmUDXgGDAMkAMAKUAcYAYgDYAKkANABXAGwAdQBLACkAHAA2ABoAZQB+AOAAtwArACcAlACgAF0ARACkADEBrQApAGAApgBtACUAPQBgALAAUwAUACQAagBQABMAOACSAJUANQANAIMBggLcAJwAmADCAGMADwAHADIAQQAnAFAAoACiAEAAMQAwAEIAIwAtAC8AfgBZABkAIwAmACcAEgAMAAMADgAMAAgABQAJAAcAAQADAAYAAgAAAAAAAABgAFIApgDCBvkYFBS1A3sF7TA7QZ0UUgEQEbYjORE7AfwAoAPmAakAlgB2A1gEnAExAEAAoADNADcA3ABsAmQCmABrAPwBkQOvAT0ATAErAsQArwAEAOMA5gA/ACAAWgDdAKIASAAaADsAQwA+AE4AqgDEACwAHQB3AKYAJwBGAGAAGAHoAFgAJwB6AK8AVAAnAFIAfwBgACoAJwBoAGcAKQAiAH4ArgA+AEcANQFNAo4BdgA6AKEArgA4ABcAGAA7ACIAOAAmAHcAMgAUABUAQgA4ACkAHABmAGcAKAALAAcAGAASAAQACgAPABQACgAEAAIABgAFAAUABQABAAAAAAAAAGIATACsALYGihjrE3QCdQUlMIpAvRObAo0QMySeE2wAmwLZBNECfQDHAJoCcQNXAUUAOwBmAD4AxgBKAMwBjwIAATwAqgFeA9QBTwD+ABICmQHRACgA1AAmAZEARwCMAAIBfgA3ADYATQA9ACQAHQBvALsAWQATAEYAmQBQAB0ARgDQAMEAGQBGAJoA5gBhADEADwBBAC8AEwAtAEMAbQArADQAeADUAFEAZABDALMBaQFAAGIAsgDkAFcAGQAfADgAKwAgAEgAmgCEACoAHABGAGwASwAbAEwAeABFAA0ABAAMAA8ACgAHAAUADgALAAYABQAGAAcAAwADAAEAAAAAAAAAYQB4ANoAWwYTGGcUZQOjBDwv9T9OFQsBlg9HJE4VdAEZA7oFAQNBAE8BjgCGAkkBKQA+AMoABAG3AHAA5wE3ArgAgQBsAT8DhQGRADcAzwE4Ag0BVQCYAPcAlwBdAGYAHAGoAC0APAAzADgAMgAYAGgAqgAzADIAZwDKAGkARAAFAJsAlwAwAEQAZQD1AJgAPAAnAA8AGwAWAB4APgBjAFYARgCSAPAApgB8ANAAYQEFAWwARAB9AOwAawAtADUALwAaAA0AOAChALEAMgAWACAAVQBKAC8AIQBkADIAEgAHAA0ABgAHAAUABwAPAAgABAAGAAIABgADAAIAAAAAAAAAAAB7AMMAkwCeBuwXHRT+AewE9S3GPfkTDwKmDzIithSxAcECIQWHAqcAdAFjAuEC+gBhAGEA/wA0AXMAVQAAAhACawBSAO4BLwPTAWgA6gDeARQBywAmAEQArAAhACoAtABOAbAAFwAQAAcAEwANABwAeQCuAEQAFQCVAPYAqAA2ACsAhwCNAD4ATQC3AN0AMgA4ABMAEgAZAA8AJABMAC8AIQAkAKIA4wAdAG4AfgDhAFwAJwBaANAA2QAwACcADAAZAAQAFwAEAHcAqABDAB0AOAAsABEAFwA6AFgALgAMABIAEgAOAAUABwAUABcACAAFAAUABgAFAAIAAgAAAAAAAAAAAEMApgCdAGkGmRdqFB8CcAMEKkA7yRSBA6ALthz9EgIBNwGxA+cCFQFWAOwCcANtAUoALwCeAMAAWwBxACECZALLAGsAnAGPAiUBPwCvAJABMgH2AI0AgQCPAH0APwCnACoB4gBFACsAJAAGABcAFwB5AK4ATwAoAGwApwB5AAIAGQBxAHsAJAAjAHsAuwBwACcACAAJACIAHgAHAC4ANwAgABoAZgDOAKkAUAA4AHUAfQBYAD4AsgC7AEgADwAPACsANgApACQAjgCFABUAFQAsADYAKgAfACgAMQA+ABIAGgAFABYADwAKAAwAGgASAAcAAAAEAAMAAAABAAAAAAAAAAAAEABQAMUArgUHF54UnQIKAwom8jZnFKACQghEF8QQrQHuAHIDkQMiAf0ARQKyAvEAOQAUAFEAKABDAHYA/AEBAqQAOwDxAIQB6gBmAJwAqwB/AWABtwBPACAAagB2ACQAyAB9AFoAQwAuACsAKgA+AGIAhAAwADAAHQBGAF0AEgAwAE0APgAiAAkAOwBhAFYAJwALAA8AHwAVAAoAGwAkABIAEQBCAIsAcABaAD4AcgDBAHQAKQBoAIIAGAAuACUAJgBHAFoAaABuAGAAJQAHAA4AJQAhACMAKQAuADsAJwAcABsAGQASAAcACAASABEABwACAAEAAQAAAAEAAAAAAAAAAABHAFsAxQD1BH4WJhVsA1oC+B+IMp8SyQKWBtMSBQ94AXYAowOWAyYBBgHOANEB3wApAB4AVwBfAEAAfwBSAWIBfwBuAK4AmABZAFYARwBrAOMAmwBrABAAJABjAEgASwB9AIYAawAuACUAKAAHAC0AGQBIAEkAHgAbADUAaQBHACwADgAZAA4ANQAUACsAFwAMAAgAEwAXAAcACAAOABcAJwA4AA8ANwA6AEQANwBsAJ8AWgAFADAAVgA6AEAAKQARACcAMABSAA4APgAHABkAEAAaABYAGwAsACwAGgAMAAkADwAJAAkAAAAGAAYACAADAAIAAQAAAAAAAQAAAAAAAAAAAG8ArQBxAD8FtxV9FQsFCAGZGdIvohjnA28BoA7ZDl4E/gBiAqgCDwKbAZ8ABwEAAVgAKgBfAI0AXwCNAJQAdAAlAb0A4wCiAEYARQBaAIMA2AB6AJ0AcACCAF4AHAAhAB0AjgCaAGUAMQAsAEsAXQBPAA8AMQAjACYALgCNAIMAMgAYACsAUQBaADwAFQANABEAFgAKAA4AFAAXABcAHAA8AEQAMQAgACcAeQCIAIwAPAAsADEALwBNACAAOQAqAAYAFAAnAE8ASQAmAB0AHgASABAADQAVABIADgANAAcACQAEAAEAAgAFAAcABgABAAQABAADAAEAAAABAAAAAAAAAAAAawCKAOQAFATyE/AStgFABZEYqydFEnoH/gZJCkEK9APsAW4CVgEYAe4BHgG3AGQAagAqAF4AWQA8AFoAYACGAMkAFAE8AfMAYgAIAHQA/gAMAW4AiwDCAIkALwATACUAOgBQAEcAOQA5AC4ATQBdAFkAQQAfAA8ANABeAIkAZAAbAB0ARABbAD0AKAARAAwABgATABwAFwABAB4AIgARAB8ALgAdACEAQQBUAHQAaQA3ACAALgBGAFIAQwAVABMAFQATACAAPQAvAAkACwAUABEAFQAZABQAEQATAA8ABAAFAAMAAQAAAAMACQALAAcAAgACAAIAAQAAAAAAAAAAAAAAAAAVAIoAbAARAyQShRQsB3oDDA7OHTEPdwUsA3oCfQafAY8B7wGCAV4AmwFTAUAAIQAnAEEAdABwAEEAIAAYAFEAFAB6AHUAuABIACQAWAC9ALcAUABtAFwARgAaABMAGAAYAA0ACgAGABQADwAhABIAIgAqABIAGQAfACQARAAoABQADwAoAC0ADQAOAAMADgAQABIAFQATABEAGAAaAAwAAQANABMAIgAlAAgAGwAjAAsACQARABkAIAAlABUADAANAAQAAgAgABoABQADAAkAAgAZABoABgAGAAoADgAFAAAABAADAAEAAgAFAAgABgACAAIAAAABAAAAAAAAAAAAAAAAABsALwCjAAkCsRBrFRgGlAEUBw8V8RK7A9sAVwNUBu0D1QAHAWYAEQEtAeAAYABJABsAHwA5AHMAagA/AD8APwBMAFkARgBIAFkARAAXAGMAbwAkAGMAQQAyAC8AGgAKAA8ADwALAAkACwAVABIACgAHABQACgAKAA4AGwAhAA0AFgAVAAkAEwAYAAgABQAPAAkABQACAAcABAAHAA4AEAAMAAUAEQAZABAAGAARABUADQAMABEADQAKABAABgAAAAoACwANABkAHQAPAAYABQAQABUACgAIAAUACAAGAAcABgAFAAEAAgAEAAIABQAEAAIAAwACAAIAAQAAAAAAAAAAAAAABQAxAB8AzwHIDgcUBAflAMgB9AwfED4E7wBDAuIFzAOLAF0BMQFMAV8AUABuAEAAMQAmACUAJQBJABgANQA7ADQAbQBBAAwAOAAqAC4AMwBIAEAAMAArAC0AJgAYAAgAEQASAAwACAABAA0ACwAGABAAFQAKAAsAAwATABYAFAARAA0ADQAPABAABgAJAAsABgAFAAUABQADAAEABgAFAAgACQANAA0AAwANABsAEgAGAAQAFAAfABgADAAEAAUAAgAIAAAADwAPABMACwAHAAoADwADAAIACwALAAQAAwAGAAYAAwABAAMABAABAAUABgACAAIAAgABAAAAAAAAAAAAAAAmAC4AVgAWAZ0M0RFdBpEAtwC2CZ4NdQSBAJcBJQUsBO4A3gBSAQMBggAPAEEAJAAkACQAEQAWACMAKAAWAEcASQBBACgAHQAhAA0AGwAbAC4ACwALAAcACQAMAAgACgATABIACQAHAAIADQATAA0ABAAUABEACAAMAA0AAwAEAAUAAQAEAAIACQAHAAsACgAEAAUAAAAFAAYAAgAFAAQAAgADAAYADgAJAA8AEQAFAAYABAAPAB8AEAAEAAYABQADAAUACQAGAAEACQAQAAsACwAOAAYAAgAHAAsABAABAAEAAgABAAAAAAADAAQABQAFAAQAAgABAAAAAAAAAAAAAAAAADsAHQBCAP4AFwtfD8sEAAFzAXkJ6gtiA6wA4wGjBKUDsgBUAKkAPgCSACMAOwA8AAMAHQAUABsABgAWACQASwAsACIAPQAtABAABQAeADoAPgAjAA8ADAAPAA8AEAAIABsAHQAPAAUAAgAKABEADwANAAwABwADAAgACgACAAQAAQABAAQAAwAEAAgABgALAAgAAgADAAcABwADAAQABwAEAAQACQAJAAcACQAGAAcAAwAIABEAEQAOAAYAAQAEAAMABAAGAAEAAwAGAAoABgAKAAsABwADAAYACAAFAAEAAAABAAAAAQABAAMABAACAAEAAgAAAAEAAQAAAAAAAAAAAAAALAAsAEgA8ADuCdgNjQQ+AJ8ArAgmC+ICZwAaArkCUwK+ADcAqQC6AIMAMgAsAC0AJwAdAB4AIgAaAAkAOgBSABkAHgAqAEAAGAAZAAYALgAuABMAEAAJAA8AAQATABoAGQARAAcABgAAAAYABgAFAAcABAABAAEABgAKAAgABAABAAAAAwAEAAUAAwACAAcABAAEAAUABAADAAQABQAGAAQAAAAGAAcABQAEAAMABAACAAcACgABAAgABwACAAEABQAFAAUABwAGAAUAAwABAAMABAABAAEAAwACAAIAAgACAAUABAAAAAEAAgAAAAIAAQAAAAAAAAAAAAAAAAAAAAAAAAA6AEsAIwAMARoJNwwJBLMAMwL0CQULEAPDAE0BMgAGAaoAIwCcAG8AYAATAB0ADQAfAA0ACQAVABcAEAAzAFkAMwAcACgARgAzAAgAHgA2AB0AAQAQABIADAADABMADgAIAAUAAQADAAcABgAGAAkABwABAAAAAAADAAYABQADAAEAAAACAAIABQAFAAQABgACAAIAAwABAAAAAgABAAMAAQABAAMACQAEAAMABAAAAAIAAwAEAAQABQAEAAEABAAFAAIAAgAIAAYAAQABAAEAAgACAAEAAQABAAEAAAABAAUACAAGAAIAAQADAAIAAQAAAAAAAAAAAAAAAAAAAAAAAAAAACQANwAbACQBRQgGCrsCVwCJBEUMuwk+AcQAaAC9AKcAFACYALAAVQBRABEAEwAZAA0ACAAEAAQABQAMACoATQBBAAkALgAnACYAJgAoACwALAAdAB4ACgAPABcAHQANAAEAAwADAAUABQAEAAgADAAHAAIAAAABAAAAAgACAAIAAQAAAAEAAAACAAUABQAEAAIAAAABAAAAAAACAAMAAgABAAEABAAIAAYAAwAEAAMAAQAAAAAAAAACAAQAAwADAAQAAQAAAAYABgABAAIAAgACAAEAAAAAAAEAAQAAAAEAAwAFAAMAAgACAAIAAgAAAAAAAAABAAAAAAAAAAAAAAAAAAAABAAfACIAOQEfB0wIEQJDAD0FoQvRBxkBQQBCALgAlgA0AMUA3wCPAFMAFAANABEAAwAEAAEAAQACAA8AHAAYACsAJAAcACcAMQAzAAcACQAbACgAKAANABEAJQAjABEAAwABAAUAAwAAAAEABQAHAAUAAAADAAMAAgACAAIAAQACAAIAAwABAAIAAgACAAAAAgACAAAAAQABAAEAAwADAAEAAgABAAcABAAAAAIABgADAAEAAQACAAIAAQABAAEAAgAAAAEABAAGAAMAAAABAAAAAQAAAAAAAAAAAAAAAQAAAAIAAQABAAEAAQABAAAAAAABAAEAAAAAAAAAAAAAAAAAAAAPAA8ALAAKAUoF8wa7AsMAbAQwCEAFTwGdAGQA/QDCAGQArACZABoAWwAPAAkADwAPAAYABQAHAAoAAgALAA0AEgAVAAgAJwA7ACsAEwAPAA8ADAAgABsAGAAXAA4AEQAIAAUABAABAAAAAwAEAAEAAgADAAQABAABAAEAAAABAAEAAwADAAEAAQABAAEAAAACAAIAAQABAAEAAQADAAIAAgADAAQABQAFAAMABQAHAAQAAQABAAIAAQAAAAAAAgADAAIAAAADAAMAAwACAAIAAQACAAEAAAAAAAAAAAABAAEAAQAAAAEAAQACAAAAAAAAAAEAAQAAAAAAAAAAAAAAAAAAABQABwAgAKwATQMvBHcC4gCnA1wEPgFsAYMAogDjAI4AJgBtAGUARQBkAEwAMwAlAA0ABQANAA0ABQAGAA0ADQACAAQAFwAXABgAGgAFABwAGAAIAA8ADwAIAAoABAAHAAMAAwADAAAAAgABAAIAAgABAAEAAgACAAIAAQACAAMAAQABAAEAAAAAAAIAAQABAAIAAwAAAAEAAAABAAIAAQACAAQAAgABAAIAAgADAAMAAgABAAEAAQAAAAEAAQABAAMAAAACAAIAAQABAAIAAAABAAIAAgABAAEAAAAAAAIAAQAAAAEAAQAAAAIAAQAAAAEAAQAAAAAAAAAAAAAAAAAAAAAACgAJABkAXwDmAYQBmwBfAPgC1wOGAVwAHwBCAFUAPgAbAFUAPAAuAFIARgBPACgAAwAMAAwABwADAAUACwADAAcABAATABgAFQANAAwAGQAaAAoABQAHAAcABAAAAAUABAAAAAIAAwACAAEAAQAAAAEAAQABAAEAAQABAAMABAACAAEAAAAAAAAAAQABAAAAAwACAAEAAQABAAAAAQABAAEAAgACAAEAAgACAAEAAQAAAAAAAAAAAAEAAgABAAEAAgADAAIAAQACAAAAAgABAAAAAgABAAIAAQAAAAEAAgAAAAEAAQABAAAAAgACAAEAAQAAAAAAAAAAAAAAAAAAAAAAAAADAAsABgA9AEgBfgGRADwAmgI8BOoBEQAVACoAGwAPADMANwAQADYALgAWADsAIQAHAAkABgABAAMABAAKAAgABwAGAAsAGQATAAQAAgAMABYACgADAAAABgAEAAMABwAFAAIAAwACAAIAAgAAAAEAAQAAAAEAAQAAAAAAAgACAAEAAQABAAAAAAABAAAAAQADAAIAAAABAAAAAAABAAAAAAABAAEAAQACAAIAAwACAAEAAAABAAEAAAABAAIAAgABAAQAAwABAAEAAgADAAIAAAABAAIAAgACAAEAAQACAAEAAQABAAAAAQACAAIAAQAAAAAAAAAAAAAAAAAAAAAAAAAAAAgABgAZAA4AFgFmAVwANQBoAuoDsgESAA4AIAAQABUAMgAkAAwAHwAsAAoAOAAaAAUABwACAAUAAgAEAAgACQAEAAIACQAPAAUABQABAAQADAAMAAQAAgAFAAYABgAFAAMAAAACAAIAAgABAAAAAQABAAAAAQACAAIAAgABAAAAAAAAAAAAAAABAAEAAAACAAMAAQAAAAEAAQABAAIAAQABAAIAAQABAAIAAQADAAIAAQAAAAAAAQAAAAAAAQABAAMAAgADAAIAAQABAAIAAAACAAIAAgABAAIAAQABAAIAAAABAAEAAQACAAIAAQAAAAEAAQAAAAAAAAAAAAAAAAAAAAAADQAKAAkAOQARATwBTQApABMCUwM+ASsABAAfABkADQAeABkABwAOACUAPgBFABoABwAHAAYABAABAAMAAAAFAAMABAALAAsAAwABAAEAAgADAAcAAwACAAIAAwADAAEAAQAAAAEAAQACAAIAAQACAAEAAAACAAEAAgADAAAAAAAAAAEAAQACAAEAAAABAAIAAgABAAAAAAABAAIAAAACAAIAAgACAAIAAQACAAMAAgABAAAAAAAAAAAAAAABAAEAAwACAAIAAgACAAEAAQABAAIAAgAAAAAAAAAAAAAAAQACAAIAAQABAAEAAQABAAAAAQABAAAAAAAAAAAAAAAAAAAAAAAOAAQACwAjAN8ALwFuAAoAqAHEAmcBTAA+AEIAHwALAAcAEgAKAAsACwA3AEYAIQAGAAIABAABAAEAAQAEAAUAAwAEAAcABwADAAEAAQADAAMABgACAAMAAwAEAAMAAgABAAAAAQABAAEAAAABAAEAAAAAAAIAAwADAAIAAQABAAEAAgACAAEAAQAAAAAAAQACAAAAAAAAAAEAAQABAAEAAAABAAEAAgACAAIAAQABAAEAAQAAAAAAAAAAAAEAAwAEAAIAAQAAAAEAAAAAAAAAAgACAAEAAQAAAAAAAAABAAAAAgABAAAAAgACAAEAAAAAAAAAAAAAAAAAAAAAAAAAAAAAABAABQABACAAkQDaAIkAegAhAccBKAGHAFIAPAAkAA0ABQAKAAgACAAMABwAKAAUAAcAAQABAAEAAAABAAMABAACAAEAAQACAAEAAQAAAAIABQAGAAQAAQACAAIAAQABAAEAAAABAAIAAgABAAAAAQAAAAEAAgADAAEAAQAAAAEAAgADAAEAAQABAAAAAQACAAIAAAAAAAAAAAAAAAEAAQAAAAAAAAABAAEAAAAAAAAAAAABAAEAAAABAAAAAQABAAIAAQAAAAAAAAABAAEAAQABAAAAAQABAAAAAQAAAAEAAgACAAAAAQACAAEAAAAAAAAAAAAAAAAAAAAAAAAAAAAAAAAACgAKAA0ABQBPAGcAEAAhAFwAyQBXACAAGgASAA4ADAAEAAMAAQAFAAUADgASAAQAAQADAAEAAAAAAAAAAQAAAAEAAQABAAAAAgACAAAAAgACAAIAAwABAAAAAAAAAAAAAAAAAAEAAQACAAEAAAABAAAAAAAAAAIAAQAAAAEAAgAAAAMAAgAAAAEAAQAAAAIAAQAAAAAAAQABAAAAAAAAAAAAAAAAAAAAAAAAAAAAAAAAAAAAAAAAAAEAAgABAAEAAgAAAAAAAAABAAAAAAABAAEAAQABAAAAAAAAAAEAAQACAAEAAQACAAAAAQABAAEAAQAAAAAAAAAAAAAAAAAAAAAAAAACAAMACQAGADIARwAWAA4ARABbAC4AFwAIAAYABQADAAYAAwACAAMABQANAA4AAwAEAAEAAgABAAEAAQABAAEAAgACAAEAAgAEAAIAAQABAAEAAQACAAIAAQAAAAEAAAABAAAAAAABAAIAAAAAAAEAAAAAAAEAAQABAAEAAQABAAEAAgADAAEAAAABAAEAAQABAAAAAAABAAEAAAAAAAAAAAAAAAAAAAAAAAEAAAAAAAAAAAAAAAEAAQACAAEAAQACAAEAAAAAAAEAAAAAAAAAAAAAAAAAAAAAAAAAAAAAAAAAAAAAAAEAAQACAAIAAgAAAAAAAAAAAAAAAAAAAAAAAAAAAAIABAADAAYALAA9ABoADAAeAC4ACAAHAAoABgABAAIABAADAAIAAAABAAUACwAKAAUAAgADAAIAAQACAAEAAAABAAIAAQABAAMAAgAAAAEAAAABAAEAAAABAAEAAQACAAIAAQABAAIAAQABAAIAAgABAAAAAQABAAAAAQAAAAEAAAABAAIAAQAAAAAAAQAAAAEAAQABAAAAAQABAAAAAAAAAAAAAAAAAAAAAAAAAAAAAAAAAAAAAAAAAAEAAQABAAEAAQAAAAAAAQAAAAAAAAAAAAAAAAAAAAAAAAAAAAEAAQABAAAAAQABAAAAAQABAAAAAAAAAAAAAAAAAAAAAAAAAAAAAAADAAIABwAoAC4ACgAHABgAKQAOAAIAAgAEAAMAAgACAAEAAAABAAIAAAAGAAYABAABAAIAAgAAAAEAAgABAAIAAgABAAAAAgABAAAAAgABAAAAAAAAAAEAAQACAAMAAgAAAAIAAQAAAAEAAwACAAAAAAAAAAEAAgACAAIAAQAAAAAAAQABAAAAAAAAAAAAAQAAAAEAAQABAAEAAQABAAEAAAAAAAEAAQAAAAAAAAAAAAAAAAAAAAAAAQABAAIAAQABAAAAAQAAAAAAAQACAAEAAAAAAAAAAAABAAEAAQABAAAAAAAAAAAAAAAAAAAAAQAAAAAAAAAAAAAAAAAAAAAAAAABAAEAAgAEACEAIQAKAAYAFQA0ABsABQAAAAEABAACAAIAAgABAAIAAwADAAIAAQAAAAEAAQABAAEAAQACAAIAAgABAAAAAQACAAEAAQACAAEAAAABAAEAAgABAAEAAgABAAEAAQAAAAAAAAABAAEAAQAAAAAAAAABAAEAAQAAAAAAAAAAAAEAAAAAAAAAAAABAAEAAQAAAAAAAQABAAAAAQAAAAEAAgACAAAAAAAAAAAAAAAAAAAAAAAAAAEAAgABAAAAAAABAAEAAAACAAIAAQAAAAAAAAAAAAEAAAABAAEAAQAAAAEAAAAAAAAAAAAAAAAAAAAAAAAAAAAAAAAAAAAAAAIAAQAAAAcAHgAcAAYABQAgAEYALgAGAAEAAQABAAIAAwADAAEAAgADAAEABAACAAEAAAAAAAAAAgACAAAAAAABAAEAAAABAAEAAAAAAAEAAgAAAAEAAQABAAEAAAABAAIAAQABAAAAAAAAAAEAAQABAAAAAAAAAAAAAAAAAAEAAAAAAAAAAQABAAAAAAAAAAEAAQAAAAAAAAAAAAAAAAABAAEAAQABAAEAAAAAAAAAAQABAAEAAQAAAAAAAQABAAAAAAAAAAEAAQAAAAEAAAAAAAEAAAAAAAAAAAABAAEAAQABAAEAAQAAAAAAAAAAAAAAAAAAAAAAAAAAAAAAAAAAAAAABAACAAAABwAXAB4ACwACACEAUwA7AAkAAQAAAAAAAAADAAEAAQADAAUABAADAAMAAQAAAAAAAQACAAIAAAABAAEAAQABAAAAAAAAAAAAAQABAAEAAQAAAAEAAQABAAIAAQAAAAAAAAAAAAAAAAABAAEAAAABAAEAAAAAAAEAAgABAAAAAAABAAIAAQAAAAAAAQABAAAAAQABAAAAAAABAAEAAAAAAAAAAAAAAAEAAAABAAAAAQABAAAAAAABAAAAAAABAAIAAQABAAAAAQAAAAAAAQABAAAAAAAAAAAAAAAAAAAAAAAAAAEAAAAAAAAAAAAAAAAAAAAAAAAAAAAAAAAAAAAFAAIAAQAEAAoAGgANAAUAIQBJADQADAABAAAAAQABAAIAAwADAAQABAACAAAAAgACAAEAAQABAAAAAQABAAAAAQAAAAAAAAAAAAAAAAABAAEAAQABAAAAAQAAAAAAAQABAAAAAAAAAAAAAAAAAAEAAQABAAEAAQAAAAAAAQABAAAAAAAAAAAAAQACAAAAAAAAAAAAAAAAAAEAAAAAAAIAAQAAAAAAAAAAAAAAAAABAAEAAAAAAAEAAAABAAEAAAAAAAIAAgABAAEAAQABAAEAAAAAAAEAAQAAAAEAAQAAAAAAAAAAAAEAAQAAAAAAAAABAAAAAAAAAAAAAAAAAAAAAAAAAAMABAACAAUADgAUABIABQAZACoAHgADAAYAAgAAAAIAAQADAAEAAAACAAIAAQACAAIAAQAAAAEAAQABAAAAAQABAAAAAAABAAEAAAAAAAEAAQABAAAAAQABAAEAAAAAAAAAAQAAAAAAAAABAAEAAAABAAEAAAABAAAAAAAAAAEAAAAAAAAAAAAAAAEAAQAAAAAAAAAAAAEAAQABAAAAAQABAAEAAAAAAAAAAAAAAAEAAQAAAAAAAAAAAAEAAQAAAAAAAQABAAEAAQAAAAEAAAAAAAAAAAABAAAAAQAAAAAAAAAAAAAAAAABAAEAAQABAAEAAAAAAAAAAAAAAAAAAAAAAAAAAwAEAAIABwANAAUACwAMAAkADAAOAAgABAAFAAMABAAEAAIAAAAAAAEAAgACAAIAAAABAAAAAQACAAEAAQAAAAEAAQAAAAEAAgABAAEAAQAAAAAAAAAAAAAAAgABAAEAAAAAAAAAAAABAAEAAAAAAAEAAAAAAAAAAQAAAAAAAQAAAAAAAAAAAAAAAQAAAAAAAAABAAAAAQABAAAAAQABAAEAAAAAAAAAAAAAAAAAAAAAAAAAAAAAAAAAAAABAAAAAAAAAAAAAAAAAAAAAAAAAAAAAAAAAAAAAAAAAAAAAAAAAAAAAAAAAAAAAAABAAEAAAAAAAAAAAAAAAAAAAAAAAAAAAAEAAQABAAGAAUADwALAAMABAADAAcABQADAAQAAgAFAAMAAQACAAIAAwABAAIAAQACAAIAAQAAAAIAAAABAAEAAQAAAAEAAgACAAAAAQAAAAEAAQAAAAAAAQACAAEAAAABAAAAAAAAAAEAAAAAAAAAAAABAAEAAAAAAAEAAAABAAAAAQABAAAAAAAAAAAAAAAAAAEAAAAAAAAAAAAAAAAAAAAAAAAAAAAAAAAAAAAAAAAAAAAAAAAAAAAAAAAAAAAAAAAAAAAAAAAAAAAAAAAAAAAAAAAAAAAAAAAAAAAAAAAAAAAAAAAAAAAAAAAAAAAAAAAAAAAAAAAAAAAAAAAAAAAAAAEAAQAGAAkAEAAUAAcAAQAEAAgABwAFAAMAAgADAAQAAQACAAIAAgADAAIAAQABAAIAAgAAAAEAAwADAAEAAQABAAEAAAABAAEAAQACAAIAAQABAAAAAAABAAAAAQAAAAEAAAABAAEAAAAAAAAAAAABAAAAAQABAAAAAQABAAEAAAABAAEAAQABAAEAAAAAAAAAAAAAAAAAAAAAAAAAAAAAAAAAAAAAAAAAAAAAAAAAAAAAAAEAAQAAAAAAAAAAAAAAAAAAAAAAAAAAAAAAAAAAAAAAAAAAAAAAAAAAAAAAAAAAAAAAAAAAAAAAAAAAAAAAAAAAAAAAAAAAAAAAAAAAAAAAAQACAAMAAQARABcACAADAAMABwADAAIAAQAAAAMAAwABAAIAAgACAAIAAQABAAIAAgADAAEAAgADAAMAAgABAAIAAgACAAEAAAACAAIAAAACAAAAAAABAAEAAQAAAAAAAQAAAAAAAQABAAAAAAAAAAAAAAAAAAEAAQABAAEAAAAAAAAAAAAAAAEAAAAAAAAAAAAAAAAAAAABAAEAAAAAAAAAAAAAAAAAAAAAAAAAAAAAAAAAAQAAAAAAAAAAAAAAAAAAAAAAAAAAAAAAAAAAAAAAAAAAAAAAAAAAAAAAAAAAAAAAAAAAAAAAAAAAAAAAAAAAAAAAAAAAAAAAAAAAAAAAAAAAAAEAAgADABIAFAAKAAUABQAFAAAABAAEAAMAAwABAAAAAQACAAIAAgACAAMAAgAAAAIAAQABAAEAAAABAAIAAAABAAEAAAABAAEAAQABAAIAAQABAAEAAQABAAEAAQABAAAAAAAAAAAAAAAAAAAAAAAAAAAAAAABAAEAAAAAAAAAAAAAAAAAAAAAAAAAAAAAAAAAAAAAAAAAAAAAAAAAAAAAAAAAAAAAAAAAAAAAAAAAAAABAAAAAAAAAAAAAAAAAAAAAAAAAAAAAAAAAAAAAAAAAAAAAAAAAAAAAAAAAAAAAAAAAAAAAAAAAAAAAAAAAAAAAAAAAAAAAAAAAAAAAAAAAAAAAQAFAAoAEwAOAAYABwADAAcABgAFAAQAAwADAAAAAQABAAIAAQABAAAAAQACAAEAAAACAAEAAAABAAEAAAABAAEAAQAAAAAAAAAAAAEAAgABAAEAAAAAAAAAAQABAAAAAAAAAAAAAAAAAAEAAQAAAAAAAAAAAAEAAAAAAAAAAAAAAAAAAAAAAAAAAAAAAAAAAAAAAAAAAAAAAAAAAAAAAAAAAAAAAAAAAAAAAAAAAAAAAAEAAAAAAAAAAAAAAAAAAAAAAAAAAAAAAAAAAAAAAAAAAAAAAAAAAAAAAAAAAAAAAAAAAAAAAAAAAAAAAAAAAAAAAAAAAAAAAAAAAAAAAAAAAgACAAUABQAJABIADwAGAAUABQADAAIAAAAAAAIAAwADAAMAAQACAAEAAAABAAAAAQABAAIAAgAAAAEAAgABAAAAAAAAAAAAAAAAAAAAAAABAAIAAgABAAEAAAABAAEAAAAAAAAAAAAAAAEAAQABAAAAAAAAAAAAAAAAAAAAAAAAAAAAAAAAAAAAAAAAAAAAAAAAAAAAAAAAAAAAAAAAAAAAAAAAAAAAAAAAAAAAAAAAAAAAAAAAAAAAAAAAAAAAAAAAAAAAAAAAAAAAAAAAAAAAAAAAAAAAAAAAAAAAAAAAAAAAAAAAAAAAAAAAAAAAAAAAAAAAAAAAAAAAAAAAAAAAAAAFAAYABAACAAcACQALAAkABgABAAEAAQABAAAAAQACAAIAAwABAAIAAQABAAEAAQABAAAAAQABAAAAAAABAAIAAQACAAIAAgABAAIAAQAAAAAAAQACAAEAAQABAAAAAAABAAAAAAAAAAAAAQAAAAEAAAAAAAEAAAAAAAAAAAAAAAAAAAAAAAAAAAAAAAAAAAAAAAAAAAAAAAAAAAAAAAAAAAAAAAEAAQAAAAAAAAAAAAAAAAAAAAAAAAAAAAAAAAAAAAAAAAAAAAAAAAAAAAAAAAAAAAAAAAAAAAAAAAAAAAAAAAAAAAAAAAAAAAAAAAAAAAAAAAAAAAAAAAAAAAAAAAAAAAIABQAFAAYABwAGAAoAEAAIAAQAAwACAAAAAQABAAEAAgABAAIAAwAAAAEAAAABAAEAAgABAAAAAAAAAAEAAQABAAAAAgADAAIAAwADAAIAAQABAAIAAQABAAEAAAAAAAAAAQABAAIAAgACAAEAAQAAAAAAAQAAAAAAAAAAAAAAAAAAAAEAAQABAAAAAAAAAAAAAAAAAAAAAQABAAAAAAAAAAAAAQABAAAAAAAAAAAAAAAAAAAAAAAAAAAAAAAAAAAAAAAAAAAAAAAAAAAAAQAAAAAAAAAAAAAAAQABAAEAAQAAAAAAAAAAAAEAAAAAAAAAAAAAAAAAAAAAAAAAAAAAAAAAAQACAAEABAADAAEAEAATAAcABAAGAAMAAgABAAAAAAACAAMAAwABAAIAAgABAAAAAAACAAEAAQAAAAEAAQAAAAEAAQACAAIAAAABAAMAAgAAAAEAAQAAAAAAAQAAAAAAAAABAAEAAgADAAIAAAAAAAAAAAAAAAAAAAABAAAAAAAAAAAAAQAAAAEAAQAAAAAAAAAAAAAAAAABAAIAAAAAAAAAAAAAAAAAAAAAAAAAAAAAAAAAAQAAAAEAAQABAAAAAAAAAAAAAQAAAAAAAAAAAAAAAAAAAAAAAAAAAAAAAAAAAAAAAAAAAAAAAQABAAEAAAAAAAAAAAAAAAAAAAAAAAAAAAABAAIAAwAEAAIABgARAA8ABQAFAAYAAQAEAAIAAQABAAIAAQABAAEAAgACAAAAAAABAAEAAQAAAAAAAQABAAEAAQAAAAEAAQAAAAEAAAABAAEAAQAAAAAAAAABAAAAAAABAAEAAAABAAAAAQACAAAAAAAAAAAAAQAAAAEAAQAAAAEAAAABAAIAAQAAAAEAAAAAAAAAAAAAAAEAAQAAAAAAAAABAAAAAAAAAAAAAQAAAAAAAQABAAEAAQAAAAEAAAAAAAEAAQAAAAAAAQAAAAAAAAAAAAAAAAAAAAAAAAAAAAAAAQABAAEAAQABAAAAAAAAAAAAAAAAAAAAAAAAAAAAAAAAAAQAAgACAAIAAwAKAA4ABQAEAAYABQADAAYABAABAAIAAAABAAEAAQABAAIAAgABAAIAAQABAAEAAQAAAAEAAQACAAEAAQABAAEAAAAAAAAAAQACAAIAAAAAAAEAAAAAAAAAAAABAAEAAAABAAIAAgABAAEAAQABAAEAAAAAAAAAAAAAAAEAAgACAAEAAAABAAEAAQABAAAAAAAAAAAAAQAAAAEAAQAAAAAAAAAAAAAAAAAAAAEAAQABAAEAAAABAAEAAAAAAAEAAQABAAEAAAAAAAAAAAAAAAAAAAAAAAAAAQABAAEAAgABAAEAAAAAAAAAAAAAAAAAAAAAAAAAAAAAAAAABgAEAAEAAQACAAYACAADAAUABgABAAIACAAJAAUAAgAAAAAAAQACAAEAAAACAAMAAgAAAAAAAAAAAAAAAQACAAMAAQACAAIAAAAAAAEAAAABAAMAAgAAAAAAAQABAAEAAAAAAAEAAAAAAAAAAQABAAIAAAAAAAEAAQAAAAAAAAAAAAAAAAAAAAIAAQAAAAEAAAABAAEAAAAAAAAAAQABAAEAAgACAAAAAAAAAAEAAQAAAAAAAAAAAAEAAgABAAAAAAAAAAAAAAAAAAEAAAAAAAEAAAAAAAAAAAAAAAAAAAABAAAAAAABAAAAAAAAAAAAAAAAAAAAAAAAAAAAAAAAAAAAAAAFAAMAAQADAAMAAAAEAAQABwAHAAEAAgAKAAcABQADAAAAAAABAAMAAwABAAEAAgACAAAAAAAAAAEAAQABAAIAAwABAAIAAgABAAEAAQAAAAEAAgAAAAAAAAABAAEAAAABAAEAAAABAAAAAAAAAAEAAQABAAEAAQABAAEAAAAAAAAAAAAAAAEAAQABAAAAAQABAAEAAQAAAAAAAAABAAAAAAABAAEAAQAAAAEAAAABAAAAAAAAAAAAAQACAAEAAQAAAAAAAAAAAAAAAQAAAAAAAQAAAAAAAAAAAAAAAQABAAEAAAAAAAAAAAAAAAAAAAAAAAAAAAAAAAAAAAAAAAAAAAAAAAQAAQACAAUAAgABAAMABAAFAAcABwAHAAkABQADAAQAAwABAAEABAADAAEAAAAAAAEAAQAAAAEAAQACAAIAAQACAAIAAQABAAAAAQABAAAAAQABAAEAAQAAAAAAAQABAAEAAQAAAAEAAAAAAAAAAAAAAAAAAgABAAEAAQABAAAAAAABAAIAAgABAAAAAQAAAAAAAQABAAAAAAAAAAAAAQAAAAEAAQABAAAAAAAAAAAAAAAAAAAAAQAAAAEAAAACAAEAAQAAAAAAAAAAAAAAAAAAAAEAAQAAAAAAAAAAAAEAAAAAAAAAAAAAAAAAAAAAAAAAAAAAAAAAAAAAAAAAAAAAAAAABQADAAQABQACAAEAAAACAAEAAAAKAAwAAwAFAAMAAgAEAAIAAAADAAIAAAAAAAEAAAAAAAAAAQAAAAIAAQAAAAEAAAAAAAAAAAABAAAAAAAAAAAAAQABAAAAAAABAAIAAQAAAAEAAAAAAAAAAAAAAAAAAQADAAIAAQAAAAAAAQABAAAAAgABAAAAAQABAAAAAQABAAAAAQAAAAAAAAABAAEAAgACAAEAAAAAAAAAAAAAAAAAAQABAAAAAQACAAMAAwABAAAAAAAAAAAAAAAAAAAAAQABAAAAAAAAAAAAAQAAAAAAAAAAAAAAAAAAAAAAAAAAAAAAAAAAAAAAAAAAAAAAAAA=\" type=\"audio/wav\" />\n",
       "                    Your browser does not support the audio element.\n",
       "                </audio>\n",
       "              "
      ],
      "text/plain": [
       "<IPython.lib.display.Audio object>"
      ]
     },
     "execution_count": 25,
     "metadata": {},
     "output_type": "execute_result"
    }
   ],
   "source": [
    "#Test \n",
    "\n",
    "inv_label_value = {v: k for k, v in label_value.items()}\n",
    "batch_index = np.random.choice(len(test_wav), size=1, replace=False)\n",
    "batch_xs = test_wav[batch_index]\n",
    "batch_ys = test_label[batch_index]\n",
    "y_pred_ = model_wav_skip(batch_xs, training=False)\n",
    "#a= librosa.istft(batch_xs.reshape(130,126))\n",
    "\n",
    "print(\"label : \", str(inv_label_value[batch_ys[0]]))\n",
    "\n",
    "ipd.Audio(batch_xs.reshape(130, 126), rate=8000)\n",
    "#ipd.Audio(a, rate=8000)"
   ]
  },
  {
   "cell_type": "code",
   "execution_count": null,
   "metadata": {},
   "outputs": [],
   "source": []
  },
  {
   "cell_type": "code",
   "execution_count": 26,
   "metadata": {},
   "outputs": [
    {
     "name": "stdout",
     "output_type": "stream",
     "text": [
      "y_pred: on(Correct!)\n",
      "✅\n"
     ]
    }
   ],
   "source": [
    "if np.argmax(y_pred_) == batch_ys[0]:\n",
    "    print(\"y_pred: \" + str(inv_label_value[np.argmax(y_pred_)]) + '(Correct!)')\n",
    "else:\n",
    "    print(\"y_pred: \" + str(inv_label_value[np.argmax(y_pred_)]) + '(Incorrect!)')\n",
    "print(\"✅\")"
   ]
  },
  {
   "cell_type": "code",
   "execution_count": null,
   "metadata": {},
   "outputs": [],
   "source": []
  },
  {
   "cell_type": "code",
   "execution_count": 27,
   "metadata": {},
   "outputs": [
    {
     "data": {
      "image/png": "[encoded data removed]",
      "text/plain": [
       "<Figure size 432x288 with 2 Axes>"
      ]
     },
     "metadata": {
      "needs_background": "light"
     },
     "output_type": "display_data"
    }
   ],
   "source": [
    "import librosa.display\n",
    "\n",
    "librosa.display.specshow(librosa.amplitude_to_db(batch_xs.reshape(130,126), ref=np.max), x_axis='time')\n",
    "plt.title('Power spectrogram')\n",
    "plt.colorbar(format='%+2.0f dB')\n",
    "plt.xticks(range(0, 1))\n",
    "plt.tight_layout()\n",
    "plt.show()"
   ]
  },
  {
   "cell_type": "markdown",
   "metadata": {},
   "source": []
  },
  {
   "cell_type": "markdown",
   "metadata": {},
   "source": []
  }
 ],
 "metadata": {
  "kernelspec": {
   "display_name": "aiffel",
   "language": "python",
   "name": "aiffel"
  },
  "language_info": {
   "codemirror_mode": {
    "name": "ipython",
    "version": 3
   },
   "file_extension": ".py",
   "mimetype": "text/x-python",
   "name": "python",
   "nbconvert_exporter": "python",
   "pygments_lexer": "ipython3",
   "version": "3.7.9"
  }
 },
 "nbformat": 4,
 "nbformat_minor": 4
}
