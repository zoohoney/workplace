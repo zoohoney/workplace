{
 "cells": [
  {
   "cell_type": "code",
   "execution_count": null,
   "id": "configured-shakespeare",
   "metadata": {},
   "outputs": [],
   "source": [
    "#이제 시작 할꺼에요"
   ]
  }
 ],
 "metadata": {
  "kernelspec": {
   "display_name": "aiffel",
   "language": "python",
   "name": "aiffel"
  },
  "language_info": {
   "codemirror_mode": {
    "name": "ipython",
    "version": 3
   },
   "file_extension": ".py",
   "mimetype": "text/x-python",
   "name": "python",
   "nbconvert_exporter": "python",
   "pygments_lexer": "ipython3",
   "version": "3.7.9"
  }
 },
 "nbformat": 4,
 "nbformat_minor": 5
}
